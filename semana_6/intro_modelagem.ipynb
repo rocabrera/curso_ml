{
 "cells": [
  {
   "cell_type": "markdown",
   "metadata": {},
   "source": [
    "# Machine Learning - Introdução"
   ]
  },
  {
   "cell_type": "markdown",
   "metadata": {},
   "source": [
    "A partir desta aula, iniciaremos nossos estudos em Machine Learning.\n",
    "\n",
    "Antes de começarmos, vamos dar uma olhada novamente em alguns conceitos, e no que vamos aprender neste bloco!\n",
    "\n",
    "_______________"
   ]
  },
  {
   "cell_type": "markdown",
   "metadata": {},
   "source": [
    "<img src=\"https://www.abgconsultoria.com.br/blog/wp-content/uploads/img33-768x242.png\" width=700>"
   ]
  },
  {
   "cell_type": "markdown",
   "metadata": {},
   "source": [
    "## O que é \"modelagem\"?\n",
    "\n",
    "O que é a \"modelagem\"? Ou melhor, **o que queremos alcançar ao construir um modelo?** Ou ainda, **o que um modelo representa?**\n",
    "\n",
    "Em linhas gerais, construímos um modelo com o objetivo de **representar a realidade**.\n",
    "\n",
    "Em particular, nos interessa **descobrir relações** em nosso universo de interesse, como, por exemplo, como as variáveis **se relacionam** ou **como elas estão estruturadas**.\n",
    "\n",
    "> É possível descobrir essas relações e estruturas partindo de uma **teoria**, em uma abordagem que chama-se **theory-driven**. Neste caso, partimos de **princípios fundamentais** para explicar o universo de interesse.\n",
    "\n",
    "> Como a abordagem acima é quase sempre extremamente complexa ou inpraticável, partimos para a aboragem **data-driven**, na qual **coletamos amostras do universo de interesse**, e essa amostra é utilzada para que tiremos conclusões, descubramos relações, etc.\n",
    "\n",
    "Observação: muitas vezes, **ambas as abordagens são utilizadas simultaneamente!** Elas não são excludentes!\n",
    "\n",
    "Ambas as abordagens resultam em **um modelo** para descrever a realidade.\n",
    "\n",
    "Mas, a segunda abordagem é **muito mais dependente da estatística**, para que seja possível avaliar **o quanto você pode confiar no modelo que você construiu**, ou ainda, **o quão útil ele é**. Ou seja, a estatística nos ajuda a definir os limites das extrapolações que fazemos das conclusões tiradas com base em uma amostra para a população.\n",
    "\n",
    "No fim, todo modelo será representado **por uma equação matemática**.\n",
    "\n",
    "No entanto, essa equação pode ser extremamente complexa, de modo que raramente teremos a equação completa. Mas não se preocupe com isso!\n",
    "\n",
    "<center><img src=\"https://miro.medium.com/max/2404/1*yLvf2jr_TNkEe9PKYOBDkA.png\" width=350></center>\n",
    "\n",
    "<center><img src=\"https://st3.ning.com/topology/rest/1.0/file/get/2808372468?profile=original\" width=350></center>\n",
    "\n",
    "\n",
    "_______"
   ]
  },
  {
   "cell_type": "markdown",
   "metadata": {},
   "source": [
    "Muitas vezes, um modelo complexo não é necessário. \n",
    "\n",
    "Há problemas que são resolvidos com uma simples média!!\n",
    "\n",
    "Então, é muito importante que você como cientista de dados **foque em resolver o problema**, não importa como você fará isso!\n",
    "\n",
    "Ou seja, **não tente matar uma mosca com um canhão!**\n",
    "\n",
    "É importante, sim, que você TENHA CONHECIMENTOS AMPLOS sobre o maior número possível de técnicas e ferramentas!\n",
    "\n",
    "Mas isso não quer dizer que você **precisa** de machine learning sempre! \n",
    "\n",
    "Então, novamente: foco no problema, não na técnica pela técnica com fim em si mesma!\n",
    "\n",
    "____"
   ]
  },
  {
   "cell_type": "markdown",
   "metadata": {},
   "source": [
    "Vamos focar no **ciclo da modelagem**:"
   ]
  },
  {
   "cell_type": "markdown",
   "metadata": {},
   "source": [
    "<img src=\"https://techblog.cdiscount.com/assets/images/DataScience/automl/ML_process.png\" width=650>\n"
   ]
  },
  {
   "cell_type": "markdown",
   "metadata": {},
   "source": [
    "- **Conjunto de dados de treino**: são os dados utilizados para a construção do modelo, os dados que o modelo utilizará \"para aprender\"\n",
    "\n",
    "\n",
    "- **Treinamento do modelo**: é a etapa em que cálculos matemáticos são feitos para que a equação que descreve o modelo seja criada! É assim que \"o modelo aprende!\". Não se preocupe: usaremos bibliotecas para fazer isso!\n",
    "\n",
    "\n",
    "- **Conjunto de dados de validação**: conjunto de dados usados para testar o modelo ainda em produção. Este conjunto é opcional, e vamos discutir sua importância quando falarmos de redes neurais.\n",
    "\n",
    "\n",
    "- **Seleção de hiperparâmetros/seleção de modelo**: etapa em que os hiperperâmetros que constituem o modelo são selecionados. Aqui, técnicas como **grid search** e **cross validation** são muito importantes! Falaremos disso mais tarde.\n",
    "\n",
    "\n",
    "- **Conjunto de dados de teste**: conjunto de dados utilizado para testar o modelo após ele ter sido treinado.\n",
    "\n",
    "\n",
    "- **Avaliação**: forma de avaliar a performance do modelo. Há várias métricas e formas diferentes de avaliação, que conheceremos melhor mais tarde.\n",
    "\n",
    "\n",
    "<center><img src=\"https://cdn-images-1.medium.com/max/1000/1*ZiYvylk60EY2XG7ck1lqJA.png\" width=350></center>\n",
    "\n",
    "___________"
   ]
  },
  {
   "cell_type": "markdown",
   "metadata": {},
   "source": [
    "Nas aulas seguintes vamos estudar exemplos específicos de como fazer o processo de machine learning.\n",
    "\n",
    "Veremos que, de forma geral, o processo consiste em:\n",
    "\n",
    "- 0) Fazer todo o processo de EDA, etc., etc.\n",
    "\n",
    "\n",
    "- 1) Importar a **classe do estimador que se deseja treinar**\n",
    "    - Usaremos quase sempre a biblioteca [scikit-learn](https://scikit-learn.org/stable/)\n",
    "  \n",
    "  \n",
    "- 2) Instanciar a classe do estimador, **escolhendo os hiperparâmetros desejados**\n",
    "    - Para a primeira versão do modelo, pode ser uma boa escolha utilizar os parâmetros default;\n",
    "    - Veremos mais pra frente como escolher os parâmetros adequadamente;\n",
    "   \n",
    "   \n",
    "- 3) Separe os dados em **dados de treino** e **dados de teste**.\n",
    "    - Em alguns casos, pode ser interessante criar também um conjunto de **dados de validação**\n",
    "    - Para fazer a separação, usamos o [train-test split](https://scikit-learn.org/stable/modules/generated/sklearn.model_selection.train_test_split.html)\n",
    "    \n",
    "    \n",
    "- 4) Treine o modelo, usando **os dados de treino**\n",
    "\n",
    "\n",
    "- 5) Use o modelo treinado para **fazer previsões** usando os **dados de teste** (ou **de validação**)\n",
    "\n",
    "\n",
    "- 6) **Avalie a performance do modelo com base nas previsões acima**\n",
    "\n",
    "\n",
    "- 7) Se necessário, reinicie o ciclo!\n",
    "\n",
    "\n",
    "- 8) Quando o modelo estiver suficientemente bom, faça o **deploy**"
   ]
  },
  {
   "cell_type": "markdown",
   "metadata": {},
   "source": [
    "_____"
   ]
  },
  {
   "cell_type": "markdown",
   "metadata": {},
   "source": [
    "Antes de criarmos qualquer modelo, precisamos nos perguntar: **que tipo de problema estou querendo resolver?**\n",
    "\n",
    "Pois o algoritmo de ML que você vai utilizar depende diretamente do tipo de problema que você está abordando!!\n",
    "\n",
    "Como um guia inicial, a imagem a seguir é muitíssimo útil!"
   ]
  },
  {
   "cell_type": "markdown",
   "metadata": {},
   "source": [
    "<center><img src=\"https://scikit-learn.org/stable/_static/ml_map.png\" width=700></center>\n",
    "\n",
    "[Clique Aqui](https://scikit-learn.org/stable/tutorial/machine_learning_map/index.html) para a versão interativa online com links para as páginas de cada estimador!"
   ]
  },
  {
   "cell_type": "markdown",
   "metadata": {},
   "source": [
    "____\n",
    "\n",
    "Nas próximas aulas, vamos ver exemplos específicos de algoritmos e problemas que eles resolvem.\n",
    "\n",
    "Nossa abordagem será prática e direta. Falaremos brevemente da teoria, mas evitaremos detalhes matemáticos ao máximo."
   ]
  }
 ],
 "metadata": {
  "kernelspec": {
   "display_name": "Python 3 (ipykernel)",
   "language": "python",
   "name": "python3"
  },
  "language_info": {
   "codemirror_mode": {
    "name": "ipython",
    "version": 3
   },
   "file_extension": ".py",
   "mimetype": "text/x-python",
   "name": "python",
   "nbconvert_exporter": "python",
   "pygments_lexer": "ipython3",
   "version": "3.10.0"
  }
 },
 "nbformat": 4,
 "nbformat_minor": 4
}
