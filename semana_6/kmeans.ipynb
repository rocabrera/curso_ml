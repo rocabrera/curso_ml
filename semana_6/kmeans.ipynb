{
 "cells": [
  {
   "cell_type": "markdown",
   "metadata": {},
   "source": [
    "# **Algoritmos Não-Supervisionados e k-means**\n",
    "\n",
    "Na aula de hoje, vamos explorar os seguintes tópicos em Python:\n",
    "\n",
    "- 1) Algoritmos não-supervisionados\n",
    "- 2) K-means\n",
    "- 3) Exemplo real\n",
    "\n",
    "\n",
    "## **TOC:**\n",
    "Na aula de hoje, vamos explorar os seguintes tópicos em Python:\n",
    "\n",
    "- 1) [Algoritmos não-supervisionados](#nao_supervisionado)\n",
    "- 2) [K-means](#amostragem)\n",
    "    - 2.1) [Construindo o modelo](#build_model)\n",
    "    - 2.2) [Determinando o k](#find_k)\n",
    "    - 2.3) [Algoritmo](#algorithm)\n",
    "    - 2.4) [Quando uso algoritmos de clusterização](#use_case)\n",
    "- 3) [Exemplo real](#real)"
   ]
  },
  {
   "cell_type": "code",
   "execution_count": null,
   "metadata": {},
   "outputs": [],
   "source": [
    "import numpy as np\n",
    "import pandas as pd\n",
    "\n",
    "import seaborn as sns\n",
    "import matplotlib.pyplot as plt\n",
    "\n",
    "from sklearn.datasets import make_blobs, make_circles"
   ]
  },
  {
   "cell_type": "markdown",
   "metadata": {},
   "source": [
    " ---"
   ]
  },
  {
   "cell_type": "markdown",
   "metadata": {},
   "source": [
    "## 1) **Algoritmos não-supervisionados** <a class=\"anchor\" id=\"nao_supervisionado\"></a>\n",
    "\n"
   ]
  },
  {
   "cell_type": "markdown",
   "metadata": {},
   "source": [
    "Um dos problemas que podem ser resolvidos com Machine Learning é o da __clusterização__!\n",
    "\n",
    "Este tipo de problema consiste em __agrupar__ itens semelhantes, isto é, criar __grupos__ (ou __clusters__) dos dados que são parecidos entre si.\n",
    "\n",
    "> O objetivo central é **dividir os dados em grupos distintos**, tais que **membros de cada grupo sejam similares entre si**\n",
    "\n",
    "Problemas como estes podem aparecer em diversos contextos:\n",
    "\n",
    "- Identificação de tipos de clientes parecidos, para o direcionamento de marketing;\n",
    "- Agrupamento de cidades próximas para melhor logística de entrega de produtos;\n",
    "- Identificação de padrões climáticos;\n",
    "- Identificação de genes relacionados à determinada doença;\n",
    "- Identificação de documentos semelhantes em processos legais;\n",
    "\n",
    "...e qualquer outro problema em que você deseje **AGRUPAR DADOS SIMILARES** ou ainda **ENCONTRAR ALGUMA ESTRUTURA NOS SEUS DADOS!**\n",
    "\n",
    "Veremos agora um dos principais algoritmos de clusterização, o **k-means**\n",
    "\n"
   ]
  },
  {
   "cell_type": "markdown",
   "metadata": {},
   "source": [
    "___"
   ]
  },
  {
   "cell_type": "markdown",
   "metadata": {},
   "source": [
    "## 2) **K-means**  <a class=\"anchor\" id=\"k-means\"></a>\n",
    "\n",
    "Documentação: [clique aqui!](https://scikit-learn.org/stable/modules/generated/sklearn.cluster.KMeans.html#sklearn.cluster.KMeans)\n",
    "\n",
    "O k-means é utilizado para a determinação de um número **k de clusters em nossos dados**\n",
    "\n",
    "O primeiro passo pra aplicar o k-means é:\n",
    "\n",
    "- Determinar o número k de clusters!\n",
    "\n",
    "Por exemplo, só de olhar pros dados plotados a seguir, fica fácil de identificar 4 grupos distintos, não é mesmo? \n",
    "\n",
    "Ref: [make_blobs](https://scikit-learn.org/stable/modules/generated/sklearn.datasets.make_blobs.html)\n"
   ]
  },
  {
   "cell_type": "code",
   "execution_count": null,
   "metadata": {},
   "outputs": [],
   "source": []
  },
  {
   "cell_type": "markdown",
   "metadata": {},
   "source": [
    "\n",
    "Mas, como o computador pode identificar estes grupos? É isso que o algoritmo responde!\n",
    "\n",
    "Uma vez determinado o número k de clusters, podemos construir nosso modelo!"
   ]
  },
  {
   "cell_type": "markdown",
   "metadata": {},
   "source": [
    "Primeiramente, lemos nossos dados e os armazenamos na variável X. Para os dados acima, usamos um dataset do próprio sklearn:"
   ]
  },
  {
   "cell_type": "markdown",
   "metadata": {},
   "source": [
    "### **2.1) Construindo o modelo** <a class=\"anchor\" id=\"build_model\"></a>\n",
    "\n",
    "Note que temos apenas as **features** dos dados (no caso, coordenadas x e y). Iso caracteriza um problema de clusterização **não-supervisionado**: quando nossos dados **não têm targets**, apenas features!"
   ]
  },
  {
   "cell_type": "code",
   "execution_count": null,
   "metadata": {},
   "outputs": [],
   "source": []
  },
  {
   "cell_type": "markdown",
   "metadata": {},
   "source": [
    "Temos vários argumentos na classe, mas os principais são:\n",
    "\n",
    "- n_clusters: quantos clusters queremos (o número k);\n",
    "- max_iter: é o número máximos de iterações que o algoritmo fará, se ele não convergir antes disso. É uma boa ideia não colocar um número tão grande, ou o algoritmo pode ficar bem lento. Algo da ordem de 1000, em geral é uma boa escolha.\n",
    "\n",
    "Por fim, pra fitar o modelo, fazemos:"
   ]
  },
  {
   "cell_type": "code",
   "execution_count": null,
   "metadata": {},
   "outputs": [],
   "source": []
  },
  {
   "cell_type": "markdown",
   "metadata": {},
   "source": [
    "Em algoritmos **não supervisionados**, não existe a divisão em dados de treino e dados de teste, porque **não há o que testar!**. Queremos apenas **econtrar estrutura** nos dados!\n",
    "\n",
    "Então, basta fitar o modelo com nossos dados todos (no caso, o array X)"
   ]
  },
  {
   "cell_type": "code",
   "execution_count": null,
   "metadata": {},
   "outputs": [],
   "source": []
  },
  {
   "cell_type": "markdown",
   "metadata": {},
   "source": [
    "Agora que o modelo está treinado, podemos fazer predições:\n"
   ]
  },
  {
   "cell_type": "code",
   "execution_count": null,
   "metadata": {},
   "outputs": [],
   "source": []
  },
  {
   "cell_type": "markdown",
   "metadata": {},
   "source": [
    "Isto retorna uma lista com número de elementos igual ao número de pontos do dataset, e com valores entre 0 e k-1, indicando qual é o número do cluster (a contagem começa com zero). \n",
    "\n",
    "No nosso caso, como k = 4, teremos os clusters 0, 1, 2 e 3.\n",
    "\n",
    "Pra visualizarmos os clusters, podemos fazer:"
   ]
  },
  {
   "cell_type": "code",
   "execution_count": null,
   "metadata": {},
   "outputs": [],
   "source": []
  },
  {
   "cell_type": "markdown",
   "metadata": {},
   "source": [
    "_____"
   ]
  },
  {
   "cell_type": "markdown",
   "metadata": {},
   "source": [
    "### **2.2) - Determinando o k** <a class=\"anchor\" id=\"find_k\"></a>\n",
    "\n",
    "Mas e se não for tão fácil de plotar os dados para determinar o k?\n",
    "\n",
    "Pode ser que não consigamos visualizar nossos dados em 2D, se, por exemplo, tivermos mais de 3 features em nossos dados...\n",
    "\n",
    "Neste caso, podemos usar o __método do cotovelo__, que consiste em rodar o k-means várias vezes, para diferentes valores de k, e depois plotar um gráfico com a **inércia** de cada uma das rodadas. \n",
    "\n",
    "A inércia também é chamada de **WCSS** (Within-Cluster-Sum-of-Squares), isto é, \"soma de quadrados intra-cluster\", que é calculada como a soma das distâncias (ao quadrado) entre os pontos e os centróides dos clusters.\n",
    "\n",
    "Quanto menor o WCSS, mais eficiente foi a clusterização, **mas até certo ponto!**\n",
    "\n",
    "Conforme o número de clusters (k) aumenta, o WCSS diminui, sendo mínimo quando cada ponto é seu próprio cluster isolado (o que não é nada útil, pois se cada ponto for um cluster, não há clusterização alguma!).\n",
    "\n",
    "Assim, o que queremos não é encontrar um k que minimize o WCSS, mas sim um k a partir do qual o WCSS **para de decrescer tão rapidamente!**\n",
    "\n",
    "Quando encontramos este k, encontramos o número ideal de clusters!\n",
    "\n",
    "Ao plotarmos o WCSS (inércia) em função de k, o que buscaremos será então o valor de k onde **o gráfico deixa de ser tão inclinado**. Esses pontos são visualizados como \"quinas\", ou **cotovelos** no gráfico -- e daí vem o nome do método!\n",
    "\n",
    "Para aplicar o método, fazemos:\n",
    "\n",
    "\n",
    "\n",
    "O valor de k mais adequado é aquele em que o gráfico tem uma \"quina\" bem abrupta: no exemplo acima, k = 4, como já sabíamos! \n",
    "\n",
    "\n",
    "\n"
   ]
  },
  {
   "cell_type": "code",
   "execution_count": null,
   "metadata": {},
   "outputs": [],
   "source": []
  },
  {
   "cell_type": "markdown",
   "metadata": {},
   "source": [
    "___"
   ]
  },
  {
   "cell_type": "markdown",
   "metadata": {},
   "source": [
    "### Vamos fazer o exemplo com mais features"
   ]
  },
  {
   "cell_type": "code",
   "execution_count": null,
   "metadata": {},
   "outputs": [],
   "source": []
  },
  {
   "cell_type": "markdown",
   "metadata": {},
   "source": [
    "**Aplicando o método do cotovelo...**"
   ]
  },
  {
   "cell_type": "code",
   "execution_count": null,
   "metadata": {},
   "outputs": [],
   "source": []
  },
  {
   "cell_type": "markdown",
   "metadata": {},
   "source": [
    "**Vamos tentar separadamente** $k = 3$ e $k = 6$ "
   ]
  },
  {
   "cell_type": "code",
   "execution_count": null,
   "metadata": {},
   "outputs": [],
   "source": []
  },
  {
   "cell_type": "markdown",
   "metadata": {},
   "source": [
    "As projeções em duas dimensões mostram que $k=6$ de fato é a melhor escolha! (O que faz sentido, pois nossos dados artificiais foram preparados para conter 6 clusters!)"
   ]
  },
  {
   "cell_type": "markdown",
   "metadata": {},
   "source": [
    "____"
   ]
  },
  {
   "cell_type": "markdown",
   "metadata": {
    "tags": []
   },
   "source": [
    "### **2.3) Algoritmo** <a class=\"anchor\" id=\"algorithm\"></a>\n",
    "\n",
    "Uma vez escolhido o número de clusters, o k-means segue as seguintes etapas:\n",
    "\n",
    "- 1) k pontos são escolhidos aleatoriamente como sendo os centroides dos clusters (centroide é o centro do cluster);\n",
    "\n",
    "- 2) Para cada ponto, vamos calcular qual é a distância entre ele e os k centroides. Aquele centroide que estiver mais perto, será o cluster ao qual este ponto pertencerá. Fazemos isso para todos os pontos!\n",
    "\n",
    "- 3) Ao fim do passo 2, teremos k clusters, cada um com seu centroide, e todos os pontos pertencerão a determinado cluster!\n",
    "\n",
    "- 4) Uma vez que temos os clusters, calculamos qual é de fato o centro de cada um deles. Isso é feito tomando a média da posição de todos os pontos;\n",
    "\n",
    "- 5) Após determinar os novos k centroides, repetimos o processo!\n",
    "\n",
    "- 6) E o processo se repete até que os centroides não mudem mais. Quando esta convergência for alcançada (ou após o número determinado de iterações), o algoritmo termina!\n",
    "\n",
    "<center><img src=\"https://stanford.edu/~cpiech/cs221/img/kmeansViz.png\" width=700></center>\n",
    "\n",
    "<center><img src=\"https://miro.medium.com/max/1280/1*rwYaxuY-jeiVXH0fyqC_oA.gif\" width=500></center>\n",
    "\n",
    "<center><img src=\"https://miro.medium.com/max/670/1*JUm9BrH21dEiGpHg76AImw.gif\" width=500></center>"
   ]
  },
  {
   "cell_type": "markdown",
   "metadata": {},
   "source": [
    "_____"
   ]
  },
  {
   "cell_type": "markdown",
   "metadata": {},
   "source": [
    "### **2.4) Quando uso algoritmos de clusterização** <a class=\"anchor\" id=\"use_case\"></a>\n",
    "\n",
    "\n",
    "De certa fora, algoritmos de clusterização podem ser vistos como classificadores, uma vez que os clusters podem caracterizar um grupo, ou uma classe.\n",
    "\n",
    "No entanto, há uma diferença bem importante entre problemas de classificação e clusterização:\n",
    "\n",
    "- **Problemas de classificação** em geral são **supervisionados**, isto é, os dados que utilizamos têm tanto as features como os **targets**. Em outras palavras, neste tipo de problema, sabemos de antemão quais são as classes de interesse!\n",
    "\n",
    "- **Problemas de clusterização**, por outro lado, são **não-supervisionados**. ou seja, os dados **não têm** targets, temos apenas as features! O nosso objetivo é justamente descobrir **alguma estrutura de agrupamento** nos dados, mas sem qualquer informação prévia quanto aos grupos a serem formados.\n",
    "\n",
    "Foi exatamente o caso do nosso exemplo: nós tínhamos apenas as **features** dos dados (f1, f2, etc), e **nenhuma** informação quanto aos grupos que seriam formados.\n",
    "\n",
    "Foi só depois que fizemos a análise exploratória dos dados (plot), que pudemos identificar alguma estrutura (4 clusters), para então aplicar o k-means!\n",
    "\n",
    "No segundo caso, só pudemos determinar o número de clusters de forma segura utilizando o **método do cotovelo**.\n",
    "\n",
    "Assim sendo, via de regra, a utilização ou não de algoritmos de clusterização, além do tipo de problema, depende dos **dados disponíveis**:\n",
    "\n",
    "- Se os dados são previamente classificados (temos **features e targets**), a melhor estratégia é usar **algoritmos de classificação** (regressão logística, árvores, SVM, etc.);\n",
    "\n",
    "- Mas, se os dados não são previamente classificados (temos **apenas as features**), a melhor estratégia é usar **algoritmos de clusterização** (k-means, [DBSCAN](https://scikit-learn.org/stable/modules/generated/sklearn.cluster.DBSCAN.html#sklearn.cluster.DBSCAN), [hierarchical clustering](https://scikit-learn.org/stable/modules/generated/sklearn.cluster.AgglomerativeClustering.html#sklearn.cluster.AgglomerativeClustering), etc.)\n"
   ]
  },
  {
   "cell_type": "markdown",
   "metadata": {},
   "source": [
    "### **2.5 Diferentes algoritmos de clusterização**"
   ]
  },
  {
   "cell_type": "code",
   "execution_count": null,
   "metadata": {},
   "outputs": [],
   "source": []
  },
  {
   "cell_type": "markdown",
   "metadata": {},
   "source": [
    "Ref: [Sobre clusterização](https://scikit-learn.org/stable/modules/clustering.html)"
   ]
  },
  {
   "cell_type": "markdown",
   "metadata": {},
   "source": [
    "____"
   ]
  },
  {
   "cell_type": "markdown",
   "metadata": {},
   "source": [
    "## 3) **Exemplo real** <a class=\"anchor\" id=\"real\"></a>\n",
    "\n",
    "Vamos agora a um exemplo real de um problema de clusterização onde podemos usar o k-means?\n",
    "\n",
    "Usaremos [dados sobre faculdades americanas](https://www.kaggle.com/flyingwombat/us-news-and-world-reports-college-data?select=College.csv)\n",
    "\n",
    "Os dados são referentes ao ano de 1995, e contêm as seguintes variáveis:\n",
    "\n",
    "- Apps: número de aplicações (inscrições para processo seletivo) recebidas\n",
    "\n",
    "- Accept: número de aplicações aceitas\n",
    "\n",
    "- Enroll: número de novos alunos admitidos naquele ano\n",
    "\n",
    "- Top10perc: porcentagem de novos alunos que vieram das top 10% melhores escolas de ensino médio\n",
    "\n",
    "- Top25perc: porcentagem de novos alunos que vieram das top 25% melhores escolas de ensino médio\n",
    "\n",
    "- F.Undergrad: número de alunos de graduação que estudam em período integral\n",
    "\n",
    "- P.Undergrad: número de alunos de graduação que estudam meio período\n",
    "\n",
    "- Outstate: valor da anual da faculdade para alunos fora do estado\n",
    "\n",
    "- Room.Board: custos anuais de aluguel\n",
    "\n",
    "- Books: gasto estimado com livros\n",
    "\n",
    "- Personal: gastos pessoais de custo de vida\n",
    "\n",
    "- PhD: porcentagem do corpo docente com doutorado\n",
    "\n",
    "- Terminal: porcentagem do corpo docente com o maior grau de escolaridade possível\n",
    "\n",
    "- S.F.Ratio: razão de número de estudantes/corpo docente\n",
    "\n",
    "- perc.alumni: porcentagem de ex-alunos que doaram dinheiro para a universidade\n",
    "\n",
    "- Expend: gastos institucionais com os estudantes\n",
    "\n",
    "- Grad.Rate: taxa de graduação\n",
    "\n",
    "\n",
    "Obs.: originalmente, a base é **supervisionada**, com o target \"Private\" que indica se a faculdade é pública ou privada. Mas, como estamos estudando problemas não-supervisionados, eu modifiquei a base para não conter esta label.\n",
    "\n",
    "\n",
    "Vamos explorar os dados para ver se encontramos alguma estrutura neles?"
   ]
  },
  {
   "cell_type": "code",
   "execution_count": null,
   "metadata": {},
   "outputs": [],
   "source": [
    "# leia os dados\n",
    "# a base deve estar em '../datasets/college.csv'\n",
    "\n",
    "df = pd.read_csv('data/college.csv')"
   ]
  },
  {
   "cell_type": "markdown",
   "metadata": {},
   "source": [
    "Agora é sua vez!\n",
    "\n",
    "Lembre de tudo o que vimos no primeiro mês de curso, e **explore os dados**!\n",
    "\n",
    "Fça quantos gráficos você quiser, formule e responda quantas perguntas vc quiser!"
   ]
  },
  {
   "cell_type": "code",
   "execution_count": null,
   "metadata": {},
   "outputs": [],
   "source": []
  },
  {
   "cell_type": "markdown",
   "metadata": {},
   "source": [
    "Não é muito óbvio, de imediato, que existem dois grupos distintos, né?\n",
    "\n",
    "Mas vamos treinar nosso algoritmo para vermos se é possível encontrar alguma estrutura quando todas as features são consideradas juntas!"
   ]
  },
  {
   "cell_type": "code",
   "execution_count": null,
   "metadata": {},
   "outputs": [],
   "source": []
  },
  {
   "cell_type": "markdown",
   "metadata": {},
   "source": [
    "Agora que nosso modelo foi criado, será que ganhamos algum novo insight olhando pro pairplot?"
   ]
  },
  {
   "cell_type": "code",
   "execution_count": null,
   "metadata": {},
   "outputs": [],
   "source": []
  },
  {
   "cell_type": "markdown",
   "metadata": {},
   "source": [
    "____"
   ]
  }
 ],
 "metadata": {
  "kernelspec": {
   "display_name": "venv_playground",
   "language": "python",
   "name": "venv_playground"
  },
  "language_info": {
   "codemirror_mode": {
    "name": "ipython",
    "version": 3
   },
   "file_extension": ".py",
   "mimetype": "text/x-python",
   "name": "python",
   "nbconvert_exporter": "python",
   "pygments_lexer": "ipython3",
   "version": "3.9.9"
  }
 },
 "nbformat": 4,
 "nbformat_minor": 4
}
