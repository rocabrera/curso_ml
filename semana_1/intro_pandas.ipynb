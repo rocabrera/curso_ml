{
 "cells": [
  {
   "cell_type": "markdown",
   "id": "5e02bd85-1f17-4275-80b5-def104d325a4",
   "metadata": {
    "tags": []
   },
   "source": [
    "## **Introdução a Pandas**"
   ]
  },
  {
   "cell_type": "markdown",
   "id": "cf8c9123-79d1-48d3-bb85-8a70d581475a",
   "metadata": {},
   "source": [
    "- [Pandas](https://pandas.pydata.org/) é uma ferramenta *open source* contruída em cima do python, para manipular com dados de forma rápida, poderosa, flexível e fácil.\n",
    "\n",
    "- Seu nome vem de uma brincadeira com a frase *Python data analysis*.\n",
    "\n",
    "- Esse projeto foi criado por um pesquisador (Wes McKinney) enquanto ele trabalhava na [AQR Capital](https://www.aqr.com/) (Uma empresa de investimentos).\n",
    "\n",
    "\n",
    "- [Pandas vs Outras ferramentas](https://pandas.pydata.org/docs/getting_started/comparison/index.html).\n",
    "\n",
    "- [Documentação - versão - 1.3.4 em PDF](https://pandas.pydata.org/pandas-docs/version/1.3.4/pandas.pdf).\n",
    "\n",
    "---\n",
    "\n",
    "[Começando com o Pandas](https://pandas.pydata.org/docs/getting_started/index.html)\n",
    "\n",
    "Exemplo por Wes McKinney de como utilizar a ferramenta/biblioteca/projeto/API: [Vídeo](https://www.youtube.com/watch?v=_T8LGqJtuGc) "
   ]
  },
  {
   "cell_type": "code",
   "execution_count": null,
   "id": "3b272a74-0830-41b4-b575-6aca9b0b32c4",
   "metadata": {},
   "outputs": [],
   "source": []
  },
  {
   "cell_type": "markdown",
   "id": "026fa990-459f-4014-b0fe-1715783b703d",
   "metadata": {},
   "source": [
    "# **Objeto DataFrame**"
   ]
  },
  {
   "cell_type": "markdown",
   "id": "6df22369-6e28-4b2e-b12e-a401b2721999",
   "metadata": {},
   "source": [
    "<center><img src=\"figures/dataframe.png\" align=\"center\" width=220/></center>\n"
   ]
  },
  {
   "cell_type": "code",
   "execution_count": null,
   "id": "3e9f5b39-dbf1-4f1b-ae37-e9a883d52471",
   "metadata": {},
   "outputs": [],
   "source": []
  },
  {
   "cell_type": "markdown",
   "id": "a98b88e1-3211-409c-bbf9-c164be156a9c",
   "metadata": {},
   "source": [
    "# **Objeto Series**"
   ]
  },
  {
   "cell_type": "markdown",
   "id": "f60ee1fc-9191-4239-915b-cff6c923e1b6",
   "metadata": {},
   "source": [
    "<center><img src=\"figures/series.png\" align=\"center\" width=100/></center>"
   ]
  },
  {
   "cell_type": "code",
   "execution_count": null,
   "id": "dccd6698-7a74-4089-85ef-5466edcfff67",
   "metadata": {},
   "outputs": [],
   "source": []
  },
  {
   "cell_type": "markdown",
   "id": "c4c958e9-f507-42e6-9aae-3c7024fa13b7",
   "metadata": {},
   "source": [
    "<font color=\"orange\">**LEMBRAR!**</font>\n",
    "> - Para importar o pacote utilize - import pandas as pd\n",
    "> - Uma tabela de dados é denominada DataFrame\n",
    ">  - Cada coluna em um DataFrame é denominada Series\n",
    ">  - DataFrame e Series são os principais **OBJETOS** da biblioteca.\n",
    "  "
   ]
  },
  {
   "cell_type": "markdown",
   "id": "28e04531-6aec-4810-b5b0-be34a171f7b1",
   "metadata": {},
   "source": [
    "## **Read and write formats** "
   ]
  },
  {
   "cell_type": "markdown",
   "id": "f995c2a5-cce8-4179-8e0b-baffc83901d7",
   "metadata": {},
   "source": [
    "<center><img src=\"figures/read_dataframe_formats.png\" align=\"center\" width=550/></center>"
   ]
  },
  {
   "cell_type": "markdown",
   "id": "060e270f-0673-4faf-96f7-e1b9af171e58",
   "metadata": {},
   "source": [
    "- creditcard.csv\n",
    "- uber.csv"
   ]
  },
  {
   "cell_type": "markdown",
   "id": "e5475d7e-eb45-44ae-96a9-ba0856bf49e6",
   "metadata": {
    "tags": []
   },
   "source": [
    "## **Explicando os tipos de dados**"
   ]
  },
  {
   "cell_type": "markdown",
   "id": "3200208c-b7ba-4618-a54a-2a601ca3fc09",
   "metadata": {},
   "source": [
    "| Pandas dtype   | Python type   | NumPy type   | Usage  |\n",
    "|---|---|---|---|\n",
    "| object     | str or mixed  | string_, unicode_, mixed types   |  Text or mixed numeric and non-numeric values |\n",
    "| int64      | int |  int_, int8, int16, int32, int64, uint8, uint16, uint32, uint64 | Integer numbers  |\n",
    "| float64    | float  | float64 \tfloat \tfloat_, float16, float32, float64  | Floating point numbers  |\n",
    "| bool       |  bool |  bool_ |  True/False values |\n",
    "| datetime64 | --  | datetime64[ns]  | Date and time values |\n",
    "| timedelta[ns] | --  | NA  | Differences between two datetimes  |\n",
    "| category   | -- | NA |  Finite list of text values |\n",
    "\n",
    "--- \n",
    "Capacity:\n",
    "\n",
    "- Int16: (-32,768 to +32,767)\n",
    "\n",
    "- Int32: (-2,147,483,648 to +2,147,483,647)\n",
    "\n",
    "- Int64: (-9,223,372,036,854,775,808 to +9,223,372,036,854,775,807)"
   ]
  },
  {
   "cell_type": "markdown",
   "id": "d738ac7a-44d3-42f4-8bdd-7655578f7c33",
   "metadata": {},
   "source": [
    "## **Descrevendo o DataFrame**\n",
    "\n",
    "- head\n",
    "- tail\n",
    "- info\n",
    "- astype\n",
    "- describe"
   ]
  },
  {
   "cell_type": "markdown",
   "id": "ba61a7eb-ee38-4033-9d95-43cb10a62fc2",
   "metadata": {},
   "source": [
    "Kaggle dataset: [Open food Facts](https://www.kaggle.com/openfoodfacts/world-food-facts/data)"
   ]
  },
  {
   "cell_type": "code",
   "execution_count": null,
   "id": "961c55f2-dc60-4385-a762-505f6781bba7",
   "metadata": {},
   "outputs": [],
   "source": []
  },
  {
   "cell_type": "markdown",
   "id": "bc947b50-bb35-4bdf-b8f7-22f2b051d53c",
   "metadata": {},
   "source": [
    "# **Exercicios** "
   ]
  },
  {
   "cell_type": "markdown",
   "id": "184e519d-d4ba-415c-a8e3-9db344b1bf93",
   "metadata": {},
   "source": [
    "1. Leia o arquivo ```exercise_1.csv``` e responda as seguintes questões.\n",
    "\n",
    "- Quantas linhas e colunas ele tem? \n",
    "\n",
    "- Quais são os tipos de dados de cada coluna? \n",
    "\n",
    "- Quanto ocupa esse objeto em memória? "
   ]
  },
  {
   "cell_type": "code",
   "execution_count": null,
   "id": "fb6be216-a783-4748-9561-2b93a66e4f42",
   "metadata": {},
   "outputs": [],
   "source": []
  },
  {
   "cell_type": "markdown",
   "id": "8a78d2ff-e154-4c1b-bac7-c24302a9b9a0",
   "metadata": {},
   "source": [
    "2. Lei o arquivo ```exercise2.csv``` [Ref](https://dados.gov.br/dataset/cursos-de-graduacao5)\n",
    "\n",
    "- Quantas linhas e colunas ele tem? \n",
    "\n",
    "- Quais são os tipos de dados de cada coluna? \n",
    "\n",
    "- Quanto ocupa esse objeto em memória? Você acha que precisa de tudo isso?"
   ]
  },
  {
   "cell_type": "code",
   "execution_count": null,
   "id": "3d1029f2-695b-4cda-824b-32b6ce81be00",
   "metadata": {},
   "outputs": [],
   "source": []
  },
  {
   "cell_type": "markdown",
   "id": "ec58ba34-7e6b-4760-b8a8-b6223c90e552",
   "metadata": {},
   "source": [
    "3. Lei o arquivo ```exercise3.json``` [Ref](http://landpage-h.cgu.gov.br/dadosabertos/index.php?url=http://repositorio.dados.gov.br/seges/raio-x/cargos-funcoes-perfil.csv)\n",
    "\n",
    "- Quantas linhas e colunas ele tem? \n",
    "\n",
    "- Quais são os tipos de dados de cada coluna? \n",
    "\n",
    "- Quanto ocupa esse objeto em memória? Você acha que precisa de tudo isso?"
   ]
  },
  {
   "cell_type": "code",
   "execution_count": null,
   "id": "6e575847-d10e-498a-a471-f16a5aa74e07",
   "metadata": {},
   "outputs": [],
   "source": []
  },
  {
   "cell_type": "markdown",
   "id": "f13bd28a-4c81-4c10-95bf-24f181cdc666",
   "metadata": {},
   "source": [
    "4. Lei o arquivo ```exercise4.json``` em um pandas DataFrame [Ref](http://landpage-h.cgu.gov.br/dadosabertos/index.php?url=http://repositorio.dados.gov.br/seges/raio-x/cargos-funcoes-perfil.csv)\n",
    "\n",
    "\n",
    "- Quais são os tipos de dados de cada coluna? \n",
    "\n",
    "- Quanto ocupa esse objeto em memória? Você acha que precisa de tudo isso?"
   ]
  },
  {
   "cell_type": "code",
   "execution_count": null,
   "id": "b73aeca6-7e15-4906-96eb-240645c3af67",
   "metadata": {},
   "outputs": [],
   "source": []
  },
  {
   "cell_type": "markdown",
   "id": "2f3b8c7d-fa74-4ada-9c6e-511d3b10bb47",
   "metadata": {},
   "source": [
    "5. Crie um DataFrame para cadastro de funcionarios com as colunas nome, idade e sexo baseado em listas e baseado em dicionários. Os dados você pode inventar.\n"
   ]
  },
  {
   "cell_type": "code",
   "execution_count": null,
   "id": "8be13745-c906-4c8f-a81a-2c466582d9f4",
   "metadata": {},
   "outputs": [],
   "source": []
  },
  {
   "cell_type": "markdown",
   "id": "1ba83124-bee9-4bee-b058-f694b6d9219a",
   "metadata": {},
   "source": [
    "6. Leia o arquivo x e salve a cada 100 mil linhas um novo arquivo até o número de linhas da arquivo x terminar"
   ]
  },
  {
   "cell_type": "code",
   "execution_count": 14,
   "id": "0b685c9a-8b91-4619-a5c9-b5ff2d92fb7f",
   "metadata": {},
   "outputs": [],
   "source": []
  },
  {
   "cell_type": "markdown",
   "id": "a0244571-52ca-4785-b0d8-e7df8c677867",
   "metadata": {},
   "source": [
    "Extra:\n",
    "\n",
    "Você consegue transformar as tabelas do Wikipidia em um DataFrame?\n",
    "\n",
    "- Dica: Talvez precise instalar algumas bibliotecas extras, como exemplo, lxml, html5lib, bs4 ...\n",
    "\n",
    "[TABELA](https://en.wikipedia.org/wiki/Minnesota)"
   ]
  },
  {
   "cell_type": "code",
   "execution_count": 10,
   "id": "dc15ab3b-e7f8-43ff-8e80-2b03cafe957d",
   "metadata": {},
   "outputs": [],
   "source": []
  },
  {
   "cell_type": "markdown",
   "id": "27849694-6850-401e-bb09-e3de24bc43e0",
   "metadata": {},
   "source": [
    "<font color=\"orange\">**LEMBRAR!**</font>\n",
    "> - csv é um formato bastante comum, fiquem esperto com o separador.\n",
    "> - Muitas vezes é necessário saber encoding do nosso dado.\n",
    "> - Independente do formato (json, ..., html) precisa ser uma tabela para transformar em um DataFrame. "
   ]
  },
  {
   "cell_type": "markdown",
   "id": "e94eb0c3-1971-4c79-abe2-3373dadc5072",
   "metadata": {
    "tags": []
   },
   "source": [
    "## **Onde posso aprender mais?** "
   ]
  },
  {
   "cell_type": "markdown",
   "id": "55a3bef8-9a8f-4cba-a73f-ed0961335658",
   "metadata": {},
   "source": [
    "\n",
    "\n",
    "[Comnuidade Pandas](https://pandas.pydata.org/docs/getting_started/tutorials.html). Aqui tem livros, palestras, tutoriais entre outros.\n",
    "\n",
    "Livro indicado pela própria biblioteca:\n",
    "<center><img src=\"figures/livro_pandas.png\" align=\"center\" width=100/></center>\n",
    "\n",
    "Youtube:\n",
    "\n",
    "- <font color=\"orange\">(Avançado)</font>: [Pandas by Matt Harrison](https://www.youtube.com/watch?v=UURvPeczxJI&t=3395s) - 19 de agosto de 2021\n"
   ]
  }
 ],
 "metadata": {
  "kernelspec": {
   "display_name": "venv_playground",
   "language": "python",
   "name": "venv_playground"
  },
  "language_info": {
   "codemirror_mode": {
    "name": "ipython",
    "version": 3
   },
   "file_extension": ".py",
   "mimetype": "text/x-python",
   "name": "python",
   "nbconvert_exporter": "python",
   "pygments_lexer": "ipython3",
   "version": "3.9.9"
  }
 },
 "nbformat": 4,
 "nbformat_minor": 5
}
