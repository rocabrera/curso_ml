{
 "cells": [
  {
   "cell_type": "markdown",
   "id": "5e02bd85-1f17-4275-80b5-def104d325a4",
   "metadata": {
    "tags": []
   },
   "source": [
    "## **Introdução a Pandas**"
   ]
  },
  {
   "cell_type": "markdown",
   "id": "cf8c9123-79d1-48d3-bb85-8a70d581475a",
   "metadata": {},
   "source": [
    "- [Pandas](https://pandas.pydata.org/) é uma ferramenta *open source* contruída em cima do python, para manipular com dados de forma rápida, poderosa, flexível e fácil.\n",
    "\n",
    "- Seu nome vem de uma brincadeira com a frase *Python data analysis*.\n",
    "\n",
    "- Esse projeto foi criado por um pesquisador (Wes McKinney) enquanto ele trabalhava na [AQR Capital](https://www.aqr.com/) (Uma empresa de investimentos).\n",
    "\n",
    "\n",
    "- [Pandas vs Outras ferramentas](https://pandas.pydata.org/docs/getting_started/comparison/index.html).\n",
    "\n",
    "- [Documentação - versão - 1.3.4 em PDF](https://pandas.pydata.org/pandas-docs/version/1.3.4/pandas.pdf).\n",
    "\n",
    "---\n",
    "\n",
    "[Começando com o Pandas](https://pandas.pydata.org/docs/getting_started/index.html)\n",
    "\n",
    "Exemplo por Wes McKinney de como utilizar a ferramenta/biblioteca/projeto/API: [Vídeo](https://www.youtube.com/watch?v=_T8LGqJtuGc) "
   ]
  },
  {
   "cell_type": "code",
   "execution_count": 1,
   "id": "3b272a74-0830-41b4-b575-6aca9b0b32c4",
   "metadata": {},
   "outputs": [],
   "source": [
    "import numpy as np\n",
    "import pandas as pd\n",
    "\n",
    "from time import time\n",
    "\n",
    "from IPython.display import display"
   ]
  },
  {
   "cell_type": "markdown",
   "id": "026fa990-459f-4014-b0fe-1715783b703d",
   "metadata": {
    "tags": []
   },
   "source": [
    "## **Objeto DataFrame**"
   ]
  },
  {
   "cell_type": "markdown",
   "id": "6df22369-6e28-4b2e-b12e-a401b2721999",
   "metadata": {},
   "source": [
    "<center><img src=\"figures/dataframe.png\" align=\"center\" width=220/></center>\n"
   ]
  },
  {
   "cell_type": "code",
   "execution_count": 2,
   "id": "3e9f5b39-dbf1-4f1b-ae37-e9a883d52471",
   "metadata": {},
   "outputs": [
    {
     "data": {
      "text/html": [
       "<div>\n",
       "<style scoped>\n",
       "    .dataframe tbody tr th:only-of-type {\n",
       "        vertical-align: middle;\n",
       "    }\n",
       "\n",
       "    .dataframe tbody tr th {\n",
       "        vertical-align: top;\n",
       "    }\n",
       "\n",
       "    .dataframe thead th {\n",
       "        text-align: right;\n",
       "    }\n",
       "</style>\n",
       "<table border=\"1\" class=\"dataframe\">\n",
       "  <thead>\n",
       "    <tr style=\"text-align: right;\">\n",
       "      <th></th>\n",
       "      <th>0</th>\n",
       "      <th>1</th>\n",
       "      <th>2</th>\n",
       "    </tr>\n",
       "  </thead>\n",
       "  <tbody>\n",
       "    <tr>\n",
       "      <th>0</th>\n",
       "      <td>2</td>\n",
       "      <td>2</td>\n",
       "      <td>3</td>\n",
       "    </tr>\n",
       "    <tr>\n",
       "      <th>1</th>\n",
       "      <td>7</td>\n",
       "      <td>5</td>\n",
       "      <td>1</td>\n",
       "    </tr>\n",
       "    <tr>\n",
       "      <th>2</th>\n",
       "      <td>9</td>\n",
       "      <td>3</td>\n",
       "      <td>4</td>\n",
       "    </tr>\n",
       "  </tbody>\n",
       "</table>\n",
       "</div>"
      ],
      "text/plain": [
       "   0  1  2\n",
       "0  2  2  3\n",
       "1  7  5  1\n",
       "2  9  3  4"
      ]
     },
     "metadata": {},
     "output_type": "display_data"
    }
   ],
   "source": [
    "tabela = [[2,2,3],\n",
    "           [7,5,1],\n",
    "           [9,3,4]]\n",
    "\n",
    "df = pd.DataFrame(tabela)\n",
    "display(df)"
   ]
  },
  {
   "cell_type": "code",
   "execution_count": 3,
   "id": "2d10cb91-ccc2-44e7-8baa-b24a46719ee7",
   "metadata": {},
   "outputs": [
    {
     "data": {
      "text/html": [
       "<div>\n",
       "<style scoped>\n",
       "    .dataframe tbody tr th:only-of-type {\n",
       "        vertical-align: middle;\n",
       "    }\n",
       "\n",
       "    .dataframe tbody tr th {\n",
       "        vertical-align: top;\n",
       "    }\n",
       "\n",
       "    .dataframe thead th {\n",
       "        text-align: right;\n",
       "    }\n",
       "</style>\n",
       "<table border=\"1\" class=\"dataframe\">\n",
       "  <thead>\n",
       "    <tr style=\"text-align: right;\">\n",
       "      <th></th>\n",
       "      <th>limao</th>\n",
       "      <th>feijao</th>\n",
       "      <th>batata</th>\n",
       "    </tr>\n",
       "  </thead>\n",
       "  <tbody>\n",
       "    <tr>\n",
       "      <th>0</th>\n",
       "      <td>1</td>\n",
       "      <td>5</td>\n",
       "      <td>7</td>\n",
       "    </tr>\n",
       "    <tr>\n",
       "      <th>1</th>\n",
       "      <td>2</td>\n",
       "      <td>8</td>\n",
       "      <td>6</td>\n",
       "    </tr>\n",
       "    <tr>\n",
       "      <th>2</th>\n",
       "      <td>3</td>\n",
       "      <td>0</td>\n",
       "      <td>9</td>\n",
       "    </tr>\n",
       "  </tbody>\n",
       "</table>\n",
       "</div>"
      ],
      "text/plain": [
       "   limao  feijao  batata\n",
       "0      1       5       7\n",
       "1      2       8       6\n",
       "2      3       0       9"
      ]
     },
     "metadata": {},
     "output_type": "display_data"
    }
   ],
   "source": [
    "tabela = {\"limao\":[1,2,3], \n",
    "          \"feijao\":[5,8,0],\n",
    "          \"batata\":[7,6,9]}\n",
    "\n",
    "df = pd.DataFrame(tabela)\n",
    "display(df)"
   ]
  },
  {
   "cell_type": "code",
   "execution_count": 4,
   "id": "00b3a5d3-13d8-4f42-87b3-bddfb9c8c74b",
   "metadata": {},
   "outputs": [
    {
     "data": {
      "text/html": [
       "<div>\n",
       "<style scoped>\n",
       "    .dataframe tbody tr th:only-of-type {\n",
       "        vertical-align: middle;\n",
       "    }\n",
       "\n",
       "    .dataframe tbody tr th {\n",
       "        vertical-align: top;\n",
       "    }\n",
       "\n",
       "    .dataframe thead th {\n",
       "        text-align: right;\n",
       "    }\n",
       "</style>\n",
       "<table border=\"1\" class=\"dataframe\">\n",
       "  <thead>\n",
       "    <tr style=\"text-align: right;\">\n",
       "      <th></th>\n",
       "      <th>a</th>\n",
       "      <th>b</th>\n",
       "      <th>c</th>\n",
       "    </tr>\n",
       "  </thead>\n",
       "  <tbody>\n",
       "    <tr>\n",
       "      <th>00</th>\n",
       "      <td>2</td>\n",
       "      <td>2</td>\n",
       "      <td>3</td>\n",
       "    </tr>\n",
       "    <tr>\n",
       "      <th>01</th>\n",
       "      <td>7</td>\n",
       "      <td>5</td>\n",
       "      <td>1</td>\n",
       "    </tr>\n",
       "    <tr>\n",
       "      <th>10</th>\n",
       "      <td>9</td>\n",
       "      <td>3</td>\n",
       "      <td>4</td>\n",
       "    </tr>\n",
       "  </tbody>\n",
       "</table>\n",
       "</div>"
      ],
      "text/plain": [
       "    a  b  c\n",
       "00  2  2  3\n",
       "01  7  5  1\n",
       "10  9  3  4"
      ]
     },
     "metadata": {},
     "output_type": "display_data"
    }
   ],
   "source": [
    "tabela = [[2,2,3],\n",
    "           [7,5,1],\n",
    "           [9,3,4]]\n",
    "\n",
    "df = pd.DataFrame(tabela, columns=[\"a\", \"b\", \"c\"], index=[\"00\", \"01\", \"10\"])\n",
    "display(df)"
   ]
  },
  {
   "cell_type": "markdown",
   "id": "a98b88e1-3211-409c-bbf9-c164be156a9c",
   "metadata": {
    "tags": []
   },
   "source": [
    "## **Objeto Series**"
   ]
  },
  {
   "cell_type": "markdown",
   "id": "f60ee1fc-9191-4239-915b-cff6c923e1b6",
   "metadata": {},
   "source": [
    "<center><img src=\"figures/series.png\" align=\"center\" width=100/></center>"
   ]
  },
  {
   "cell_type": "code",
   "execution_count": 5,
   "id": "dccd6698-7a74-4089-85ef-5466edcfff67",
   "metadata": {},
   "outputs": [
    {
     "data": {
      "text/plain": [
       "0    1\n",
       "1    2\n",
       "2    3\n",
       "3    4\n",
       "dtype: int64"
      ]
     },
     "execution_count": 5,
     "metadata": {},
     "output_type": "execute_result"
    }
   ],
   "source": [
    "a = [1,2,3,4]\n",
    "\n",
    "pd.Series(a)"
   ]
  },
  {
   "cell_type": "code",
   "execution_count": 6,
   "id": "0ec843ae-232f-4474-972a-89fec138a82d",
   "metadata": {},
   "outputs": [
    {
     "data": {
      "text/plain": [
       "1    1\n",
       "2    2\n",
       "3    7\n",
       "9    4\n",
       "dtype: int64"
      ]
     },
     "execution_count": 6,
     "metadata": {},
     "output_type": "execute_result"
    }
   ],
   "source": [
    "b = {1:1,2:2,3:7,9:4}\n",
    "\n",
    "pd.Series(b)"
   ]
  },
  {
   "cell_type": "markdown",
   "id": "c4c958e9-f507-42e6-9aae-3c7024fa13b7",
   "metadata": {},
   "source": [
    "<font color=\"orange\">**LEMBRAR!**</font>\n",
    "> - Para importar o pacote utilize - import pandas as pd\n",
    "> - Uma tabela de dados é denominada DataFrame\n",
    ">  - Cada coluna em um DataFrame é denominada Series\n",
    ">  - DataFrame e Series são os principais **OBJETOS** da biblioteca.\n",
    "  "
   ]
  },
  {
   "cell_type": "markdown",
   "id": "e5475d7e-eb45-44ae-96a9-ba0856bf49e6",
   "metadata": {
    "tags": []
   },
   "source": [
    "## **Explicando os tipos de dados**"
   ]
  },
  {
   "cell_type": "markdown",
   "id": "3200208c-b7ba-4618-a54a-2a601ca3fc09",
   "metadata": {},
   "source": [
    "| Pandas dtype   | Python type   | NumPy type   | Usage  |\n",
    "|---|---|---|---|\n",
    "| object     | str or mixed  | string_, unicode_, mixed types   |  Text or mixed numeric and non-numeric values |\n",
    "| int64      | int |  int_, int8, int16, int32, int64, uint8, uint16, uint32, uint64 | Integer numbers  |\n",
    "| float64    | float  | float64 \tfloat \tfloat_, float16, float32, float64  | Floating point numbers  |\n",
    "| bool       |  bool |  bool_ |  True/False values |\n",
    "| datetime64 | --  | datetime64[ns]  | Date and time values |\n",
    "| timedelta[ns] | --  | NA  | Differences between two datetimes  |\n",
    "| category   | -- | NA |  Finite list of text values |\n",
    "\n",
    "--- \n",
    "Capacity:\n",
    "\n",
    "- Int16: (-32,768 to +32,767)\n",
    "\n",
    "- Int32: (-2,147,483,648 to +2,147,483,647)\n",
    "\n",
    "- Int64: (-9,223,372,036,854,775,808 to +9,223,372,036,854,775,807)"
   ]
  },
  {
   "cell_type": "markdown",
   "id": "defe10fe-b60c-441b-aa92-23194801f4b5",
   "metadata": {},
   "source": [
    "Suponha que você tem um DataFrame com uma coluna idade:"
   ]
  },
  {
   "cell_type": "code",
   "execution_count": 7,
   "id": "f2eab469-e134-42d0-81f6-9ef5e1b1cec5",
   "metadata": {},
   "outputs": [
    {
     "name": "stdout",
     "output_type": "stream",
     "text": [
      "<class 'pandas.core.frame.DataFrame'>\n",
      "RangeIndex: 10000 entries, 0 to 9999\n",
      "Data columns (total 1 columns):\n",
      " #   Column  Non-Null Count  Dtype\n",
      "---  ------  --------------  -----\n",
      " 0   0       10000 non-null  int64\n",
      "dtypes: int64(1)\n",
      "memory usage: 78.2 KB\n"
     ]
    }
   ],
   "source": [
    "aux = [np.random.randint(200) for i in range(10000)]\n",
    "col_idades = pd.DataFrame(aux)\n",
    "col_idades.info()"
   ]
  },
  {
   "cell_type": "markdown",
   "id": "b030003d-9522-4974-880f-787f5cb8e845",
   "metadata": {},
   "source": [
    "Por *default* o pandas resolveu utilizar o tipo de dado ```int64``` para representar essa coluna, isso significa que podemos representar do número ```-9,223,372,036,854,775,808``` ao ```+9,223,372,036,854,775,80```.\n",
    "\n",
    "Entretanto sabemos que não deve ter ninguém com mais de 200 anos de vida atualmente, logo não precisamos conseguir representar todos esses número. Dessa forma, podemos utilizar um tipo de dado mais coerente como exemplo ```Int16``` que vai de ```-32,768``` a ```+32,767```, dimunindo a quantidade de memória utilizada por esse objeto."
   ]
  },
  {
   "cell_type": "code",
   "execution_count": 8,
   "id": "25ae1f68-c37f-4da3-b8ee-eac3c5e208b3",
   "metadata": {},
   "outputs": [
    {
     "name": "stdout",
     "output_type": "stream",
     "text": [
      "<class 'pandas.core.frame.DataFrame'>\n",
      "RangeIndex: 10000 entries, 0 to 9999\n",
      "Data columns (total 1 columns):\n",
      " #   Column  Non-Null Count  Dtype\n",
      "---  ------  --------------  -----\n",
      " 0   0       10000 non-null  int16\n",
      "dtypes: int16(1)\n",
      "memory usage: 19.7 KB\n"
     ]
    }
   ],
   "source": [
    "col_idades.astype({0:\"int16\"}).info()"
   ]
  },
  {
   "cell_type": "markdown",
   "id": "d0ac732d-4b12-40a1-888a-a379c6d65b70",
   "metadata": {},
   "source": [
    "Estamos utilizando praticamente 3x menos memória para armazenar o mesmo dado. Então não podemos ir adiante? Sera que não podemos utilizar o int8 para representar essa coluna?"
   ]
  },
  {
   "cell_type": "code",
   "execution_count": 9,
   "id": "035050cb-7079-422d-8776-13437eadbb60",
   "metadata": {},
   "outputs": [
    {
     "name": "stdout",
     "output_type": "stream",
     "text": [
      "<class 'pandas.core.frame.DataFrame'>\n",
      "RangeIndex: 10000 entries, 0 to 9999\n",
      "Data columns (total 1 columns):\n",
      " #   Column  Non-Null Count  Dtype\n",
      "---  ------  --------------  -----\n",
      " 0   0       10000 non-null  int8 \n",
      "dtypes: int8(1)\n",
      "memory usage: 9.9 KB\n"
     ]
    }
   ],
   "source": [
    "col_idades.astype({0:\"int8\"}).info()"
   ]
  },
  {
   "cell_type": "markdown",
   "id": "374f524b-6c8a-424d-b6aa-482a38c0a948",
   "metadata": {},
   "source": [
    "Nossa! Ficou ainda melhor.... <font color=\"orange\"><b>Cuidado!!!</b></font> olhe o que aconteceu com a coluna."
   ]
  },
  {
   "cell_type": "code",
   "execution_count": 10,
   "id": "caf650c0-18e2-4032-8ccd-8b65422865c7",
   "metadata": {},
   "outputs": [
    {
     "data": {
      "text/html": [
       "<div>\n",
       "<style scoped>\n",
       "    .dataframe tbody tr th:only-of-type {\n",
       "        vertical-align: middle;\n",
       "    }\n",
       "\n",
       "    .dataframe tbody tr th {\n",
       "        vertical-align: top;\n",
       "    }\n",
       "\n",
       "    .dataframe thead th {\n",
       "        text-align: right;\n",
       "    }\n",
       "</style>\n",
       "<table border=\"1\" class=\"dataframe\">\n",
       "  <thead>\n",
       "    <tr style=\"text-align: right;\">\n",
       "      <th></th>\n",
       "      <th>0</th>\n",
       "    </tr>\n",
       "  </thead>\n",
       "  <tbody>\n",
       "    <tr>\n",
       "      <th>count</th>\n",
       "      <td>10000.000000</td>\n",
       "    </tr>\n",
       "    <tr>\n",
       "      <th>mean</th>\n",
       "      <td>7.320400</td>\n",
       "    </tr>\n",
       "    <tr>\n",
       "      <th>std</th>\n",
       "      <td>81.765403</td>\n",
       "    </tr>\n",
       "    <tr>\n",
       "      <th>min</th>\n",
       "      <td>-128.000000</td>\n",
       "    </tr>\n",
       "    <tr>\n",
       "      <th>25%</th>\n",
       "      <td>-79.000000</td>\n",
       "    </tr>\n",
       "    <tr>\n",
       "      <th>50%</th>\n",
       "      <td>28.000000</td>\n",
       "    </tr>\n",
       "    <tr>\n",
       "      <th>75%</th>\n",
       "      <td>77.000000</td>\n",
       "    </tr>\n",
       "    <tr>\n",
       "      <th>max</th>\n",
       "      <td>127.000000</td>\n",
       "    </tr>\n",
       "  </tbody>\n",
       "</table>\n",
       "</div>"
      ],
      "text/plain": [
       "                  0\n",
       "count  10000.000000\n",
       "mean       7.320400\n",
       "std       81.765403\n",
       "min     -128.000000\n",
       "25%      -79.000000\n",
       "50%       28.000000\n",
       "75%       77.000000\n",
       "max      127.000000"
      ]
     },
     "execution_count": 10,
     "metadata": {},
     "output_type": "execute_result"
    }
   ],
   "source": [
    "col_idades.astype({0:\"int8\"}).describe()"
   ]
  },
  {
   "cell_type": "markdown",
   "id": "131821ca-3e0c-499d-a669-ee1cab1a8a86",
   "metadata": {},
   "source": [
    "Está dizendo aqui que o minimo é -128??? mas como assim oq aconteceu??? Vamos lá...\n",
    "\n",
    "\n",
    "```int8``` significa que temos 8 bits, isso significa que temos $2^8 = 256$ números que podem ser representados.\n",
    "\n",
    "Intuitivamente podemos pensar que o range seria então de 0 a 255. \n",
    "\n",
    "Entretanto, o tipo de dado ```int8``` no python também considera os negativos, logo a representação correta é de -128 a 127, conforme a função describe nos mostra. \n",
    "\n",
    "Dizemos que ocorreu overflow... e queremos evitar isso. Cada caso é um caso escolha o tipo de dado mais coerente para sua aplicação."
   ]
  },
  {
   "cell_type": "markdown",
   "id": "28e04531-6aec-4810-b5b0-be34a171f7b1",
   "metadata": {
    "tags": []
   },
   "source": [
    "## **Formatos de leitura e escrita** "
   ]
  },
  {
   "cell_type": "markdown",
   "id": "f995c2a5-cce8-4179-8e0b-baffc83901d7",
   "metadata": {},
   "source": [
    "<center><img src=\"figures/read_dataframe_formats.png\" align=\"center\" width=550/></center>"
   ]
  },
  {
   "cell_type": "code",
   "execution_count": 11,
   "id": "5ac42185-7f25-43ca-b70a-5677b45ebcea",
   "metadata": {},
   "outputs": [
    {
     "data": {
      "text/html": [
       "<div>\n",
       "<style scoped>\n",
       "    .dataframe tbody tr th:only-of-type {\n",
       "        vertical-align: middle;\n",
       "    }\n",
       "\n",
       "    .dataframe tbody tr th {\n",
       "        vertical-align: top;\n",
       "    }\n",
       "\n",
       "    .dataframe thead th {\n",
       "        text-align: right;\n",
       "    }\n",
       "</style>\n",
       "<table border=\"1\" class=\"dataframe\">\n",
       "  <thead>\n",
       "    <tr style=\"text-align: right;\">\n",
       "      <th></th>\n",
       "      <th>5</th>\n",
       "      <th>7</th>\n",
       "      <th>3</th>\n",
       "      <th>4</th>\n",
       "    </tr>\n",
       "  </thead>\n",
       "  <tbody>\n",
       "    <tr>\n",
       "      <th>0</th>\n",
       "      <td>5</td>\n",
       "      <td>6</td>\n",
       "      <td>7</td>\n",
       "      <td>8</td>\n",
       "    </tr>\n",
       "    <tr>\n",
       "      <th>1</th>\n",
       "      <td>8</td>\n",
       "      <td>10</td>\n",
       "      <td>11</td>\n",
       "      <td>24</td>\n",
       "    </tr>\n",
       "  </tbody>\n",
       "</table>\n",
       "</div>"
      ],
      "text/plain": [
       "   5   7   3   4\n",
       "0  5   6   7   8\n",
       "1  8  10  11  24"
      ]
     },
     "execution_count": 11,
     "metadata": {},
     "output_type": "execute_result"
    }
   ],
   "source": [
    "df = pd.read_csv(\"data/data_sample2.csv\")\n",
    "df"
   ]
  },
  {
   "cell_type": "markdown",
   "id": "ba61a7eb-ee38-4033-9d95-43cb10a62fc2",
   "metadata": {},
   "source": [
    "Kaggle dataset: [Open food Facts](https://www.kaggle.com/openfoodfacts/world-food-facts/data)"
   ]
  },
  {
   "cell_type": "markdown",
   "id": "8fd3b316-57f4-4be7-bc87-868c9f67cf14",
   "metadata": {},
   "source": [
    "O formato salvo impacta na performance do arquivo. Como podemos ver a seguir:"
   ]
  },
  {
   "cell_type": "code",
   "execution_count": 12,
   "id": "0b62674c-1a0a-46e8-afc5-68d445352472",
   "metadata": {},
   "outputs": [
    {
     "name": "stdout",
     "output_type": "stream",
     "text": [
      "9.848143577575684\n"
     ]
    }
   ],
   "source": [
    "from time import time\n",
    "\n",
    "tick = time()\n",
    "df = pd.read_csv(\"data/en.openfoodfacts.org.products.tsv\", sep=\"\\t\", low_memory=False)\n",
    "tock = time()\n",
    "print(tock - tick)"
   ]
  },
  {
   "cell_type": "code",
   "execution_count": 13,
   "id": "583e84cc-d39c-473f-b0c6-d79e09858ec1",
   "metadata": {},
   "outputs": [
    {
     "name": "stdout",
     "output_type": "stream",
     "text": [
      "1.9781653881072998\n"
     ]
    }
   ],
   "source": [
    "tick = time()\n",
    "df = pd.read_parquet(\"data/en.openfoodfacts.org.products.parquet\")\n",
    "tock = time()\n",
    "print(tock - tick)"
   ]
  },
  {
   "cell_type": "markdown",
   "id": "36f3c397-7e86-44d0-baed-a8a74c2abc72",
   "metadata": {},
   "source": [
    "Vamos entender mais sobre isso nas próximas aulas."
   ]
  },
  {
   "cell_type": "markdown",
   "id": "d738ac7a-44d3-42f4-8bdd-7655578f7c33",
   "metadata": {
    "tags": []
   },
   "source": [
    "## **Descrevendo o DataFrame**\n",
    "\n",
    "- head \n",
    "- tail \n",
    "- info\n",
    "- astype\n",
    "- describe"
   ]
  },
  {
   "cell_type": "code",
   "execution_count": 14,
   "id": "6e31d154-64af-414c-83ed-eb59144dbb6e",
   "metadata": {},
   "outputs": [
    {
     "data": {
      "text/html": [
       "<div>\n",
       "<style scoped>\n",
       "    .dataframe tbody tr th:only-of-type {\n",
       "        vertical-align: middle;\n",
       "    }\n",
       "\n",
       "    .dataframe tbody tr th {\n",
       "        vertical-align: top;\n",
       "    }\n",
       "\n",
       "    .dataframe thead th {\n",
       "        text-align: right;\n",
       "    }\n",
       "</style>\n",
       "<table border=\"1\" class=\"dataframe\">\n",
       "  <thead>\n",
       "    <tr style=\"text-align: right;\">\n",
       "      <th></th>\n",
       "      <th>code</th>\n",
       "      <th>url</th>\n",
       "      <th>creator</th>\n",
       "      <th>created_t</th>\n",
       "      <th>created_datetime</th>\n",
       "      <th>last_modified_t</th>\n",
       "      <th>last_modified_datetime</th>\n",
       "      <th>product_name</th>\n",
       "      <th>generic_name</th>\n",
       "      <th>quantity</th>\n",
       "      <th>...</th>\n",
       "      <th>fruits-vegetables-nuts_100g</th>\n",
       "      <th>fruits-vegetables-nuts-estimate_100g</th>\n",
       "      <th>collagen-meat-protein-ratio_100g</th>\n",
       "      <th>cocoa_100g</th>\n",
       "      <th>chlorophyl_100g</th>\n",
       "      <th>carbon-footprint_100g</th>\n",
       "      <th>nutrition-score-fr_100g</th>\n",
       "      <th>nutrition-score-uk_100g</th>\n",
       "      <th>glycemic-index_100g</th>\n",
       "      <th>water-hardness_100g</th>\n",
       "    </tr>\n",
       "  </thead>\n",
       "  <tbody>\n",
       "    <tr>\n",
       "      <th>0</th>\n",
       "      <td>3087</td>\n",
       "      <td>http://world-en.openfoodfacts.org/product/0000...</td>\n",
       "      <td>openfoodfacts-contributors</td>\n",
       "      <td>1474103866</td>\n",
       "      <td>2016-09-17T09:17:46Z</td>\n",
       "      <td>1474103893</td>\n",
       "      <td>2016-09-17T09:18:13Z</td>\n",
       "      <td>Farine de blé noir</td>\n",
       "      <td>None</td>\n",
       "      <td>1kg</td>\n",
       "      <td>...</td>\n",
       "      <td>NaN</td>\n",
       "      <td>NaN</td>\n",
       "      <td>NaN</td>\n",
       "      <td>NaN</td>\n",
       "      <td>NaN</td>\n",
       "      <td>NaN</td>\n",
       "      <td>NaN</td>\n",
       "      <td>NaN</td>\n",
       "      <td>NaN</td>\n",
       "      <td>NaN</td>\n",
       "    </tr>\n",
       "  </tbody>\n",
       "</table>\n",
       "<p>1 rows × 163 columns</p>\n",
       "</div>"
      ],
      "text/plain": [
       "   code                                                url  \\\n",
       "0  3087  http://world-en.openfoodfacts.org/product/0000...   \n",
       "\n",
       "                      creator   created_t      created_datetime  \\\n",
       "0  openfoodfacts-contributors  1474103866  2016-09-17T09:17:46Z   \n",
       "\n",
       "  last_modified_t last_modified_datetime        product_name generic_name  \\\n",
       "0      1474103893   2016-09-17T09:18:13Z  Farine de blé noir         None   \n",
       "\n",
       "  quantity  ... fruits-vegetables-nuts_100g  \\\n",
       "0      1kg  ...                         NaN   \n",
       "\n",
       "  fruits-vegetables-nuts-estimate_100g collagen-meat-protein-ratio_100g  \\\n",
       "0                                  NaN                              NaN   \n",
       "\n",
       "  cocoa_100g chlorophyl_100g carbon-footprint_100g nutrition-score-fr_100g  \\\n",
       "0        NaN             NaN                   NaN                     NaN   \n",
       "\n",
       "  nutrition-score-uk_100g glycemic-index_100g water-hardness_100g  \n",
       "0                     NaN                 NaN                 NaN  \n",
       "\n",
       "[1 rows x 163 columns]"
      ]
     },
     "execution_count": 14,
     "metadata": {},
     "output_type": "execute_result"
    }
   ],
   "source": [
    "# mostras as ```n``` primeiras linhas de um DataFrame.\n",
    "df.head(1)"
   ]
  },
  {
   "cell_type": "code",
   "execution_count": 15,
   "id": "8f417416-16c3-49e0-a6e2-84852c0cc005",
   "metadata": {},
   "outputs": [
    {
     "data": {
      "text/html": [
       "<div>\n",
       "<style scoped>\n",
       "    .dataframe tbody tr th:only-of-type {\n",
       "        vertical-align: middle;\n",
       "    }\n",
       "\n",
       "    .dataframe tbody tr th {\n",
       "        vertical-align: top;\n",
       "    }\n",
       "\n",
       "    .dataframe thead th {\n",
       "        text-align: right;\n",
       "    }\n",
       "</style>\n",
       "<table border=\"1\" class=\"dataframe\">\n",
       "  <thead>\n",
       "    <tr style=\"text-align: right;\">\n",
       "      <th></th>\n",
       "      <th>code</th>\n",
       "      <th>url</th>\n",
       "      <th>creator</th>\n",
       "      <th>created_t</th>\n",
       "      <th>created_datetime</th>\n",
       "      <th>last_modified_t</th>\n",
       "      <th>last_modified_datetime</th>\n",
       "      <th>product_name</th>\n",
       "      <th>generic_name</th>\n",
       "      <th>quantity</th>\n",
       "      <th>...</th>\n",
       "      <th>fruits-vegetables-nuts_100g</th>\n",
       "      <th>fruits-vegetables-nuts-estimate_100g</th>\n",
       "      <th>collagen-meat-protein-ratio_100g</th>\n",
       "      <th>cocoa_100g</th>\n",
       "      <th>chlorophyl_100g</th>\n",
       "      <th>carbon-footprint_100g</th>\n",
       "      <th>nutrition-score-fr_100g</th>\n",
       "      <th>nutrition-score-uk_100g</th>\n",
       "      <th>glycemic-index_100g</th>\n",
       "      <th>water-hardness_100g</th>\n",
       "    </tr>\n",
       "  </thead>\n",
       "  <tbody>\n",
       "    <tr>\n",
       "      <th>356026</th>\n",
       "      <td>999990026839</td>\n",
       "      <td>http://world-en.openfoodfacts.org/product/9999...</td>\n",
       "      <td>usda-ndb-import</td>\n",
       "      <td>1489072709</td>\n",
       "      <td>2017-03-09T15:18:29Z</td>\n",
       "      <td>1491244499</td>\n",
       "      <td>2017-04-03T18:34:59Z</td>\n",
       "      <td>Sugar Free Drink Mix, Peach Tea</td>\n",
       "      <td>None</td>\n",
       "      <td>None</td>\n",
       "      <td>...</td>\n",
       "      <td>NaN</td>\n",
       "      <td>NaN</td>\n",
       "      <td>NaN</td>\n",
       "      <td>NaN</td>\n",
       "      <td>NaN</td>\n",
       "      <td>NaN</td>\n",
       "      <td>NaN</td>\n",
       "      <td>NaN</td>\n",
       "      <td>NaN</td>\n",
       "      <td>NaN</td>\n",
       "    </tr>\n",
       "  </tbody>\n",
       "</table>\n",
       "<p>1 rows × 163 columns</p>\n",
       "</div>"
      ],
      "text/plain": [
       "                code                                                url  \\\n",
       "356026  999990026839  http://world-en.openfoodfacts.org/product/9999...   \n",
       "\n",
       "                creator   created_t      created_datetime last_modified_t  \\\n",
       "356026  usda-ndb-import  1489072709  2017-03-09T15:18:29Z      1491244499   \n",
       "\n",
       "       last_modified_datetime                     product_name generic_name  \\\n",
       "356026   2017-04-03T18:34:59Z  Sugar Free Drink Mix, Peach Tea         None   \n",
       "\n",
       "       quantity  ... fruits-vegetables-nuts_100g  \\\n",
       "356026     None  ...                         NaN   \n",
       "\n",
       "       fruits-vegetables-nuts-estimate_100g collagen-meat-protein-ratio_100g  \\\n",
       "356026                                  NaN                              NaN   \n",
       "\n",
       "       cocoa_100g chlorophyl_100g carbon-footprint_100g  \\\n",
       "356026        NaN             NaN                   NaN   \n",
       "\n",
       "       nutrition-score-fr_100g nutrition-score-uk_100g glycemic-index_100g  \\\n",
       "356026                     NaN                     NaN                 NaN   \n",
       "\n",
       "       water-hardness_100g  \n",
       "356026                 NaN  \n",
       "\n",
       "[1 rows x 163 columns]"
      ]
     },
     "execution_count": 15,
     "metadata": {},
     "output_type": "execute_result"
    }
   ],
   "source": [
    "# mostras as ```n``` últimas linhas de um DataFrame.\n",
    "df.tail(1)"
   ]
  },
  {
   "cell_type": "code",
   "execution_count": 16,
   "id": "27d6805d-3a85-4de6-8c25-3b3566bfde01",
   "metadata": {},
   "outputs": [
    {
     "name": "stdout",
     "output_type": "stream",
     "text": [
      "<class 'pandas.core.frame.DataFrame'>\n",
      "RangeIndex: 356027 entries, 0 to 356026\n",
      "Columns: 163 entries, code to water-hardness_100g\n",
      "dtypes: float64(107), object(56)\n",
      "memory usage: 442.8+ MB\n"
     ]
    }
   ],
   "source": [
    "# Retorna algumas informações, dentre elas a quantidade de memória que é ocupado no DataFrame.\n",
    "\n",
    "df.info()"
   ]
  },
  {
   "cell_type": "code",
   "execution_count": 17,
   "id": "eceb2818-2374-4fa5-a966-e10fa7864701",
   "metadata": {},
   "outputs": [
    {
     "data": {
      "text/html": [
       "<div>\n",
       "<style scoped>\n",
       "    .dataframe tbody tr th:only-of-type {\n",
       "        vertical-align: middle;\n",
       "    }\n",
       "\n",
       "    .dataframe tbody tr th {\n",
       "        vertical-align: top;\n",
       "    }\n",
       "\n",
       "    .dataframe thead th {\n",
       "        text-align: right;\n",
       "    }\n",
       "</style>\n",
       "<table border=\"1\" class=\"dataframe\">\n",
       "  <thead>\n",
       "    <tr style=\"text-align: right;\">\n",
       "      <th></th>\n",
       "      <th>no_nutriments</th>\n",
       "      <th>additives_n</th>\n",
       "      <th>ingredients_from_palm_oil_n</th>\n",
       "      <th>ingredients_from_palm_oil</th>\n",
       "      <th>ingredients_that_may_be_from_palm_oil_n</th>\n",
       "      <th>ingredients_that_may_be_from_palm_oil</th>\n",
       "      <th>nutrition_grade_uk</th>\n",
       "      <th>energy_100g</th>\n",
       "      <th>energy-from-fat_100g</th>\n",
       "      <th>fat_100g</th>\n",
       "      <th>...</th>\n",
       "      <th>fruits-vegetables-nuts_100g</th>\n",
       "      <th>fruits-vegetables-nuts-estimate_100g</th>\n",
       "      <th>collagen-meat-protein-ratio_100g</th>\n",
       "      <th>cocoa_100g</th>\n",
       "      <th>chlorophyl_100g</th>\n",
       "      <th>carbon-footprint_100g</th>\n",
       "      <th>nutrition-score-fr_100g</th>\n",
       "      <th>nutrition-score-uk_100g</th>\n",
       "      <th>glycemic-index_100g</th>\n",
       "      <th>water-hardness_100g</th>\n",
       "    </tr>\n",
       "  </thead>\n",
       "  <tbody>\n",
       "    <tr>\n",
       "      <th>count</th>\n",
       "      <td>0.0</td>\n",
       "      <td>283867.000000</td>\n",
       "      <td>283867.000000</td>\n",
       "      <td>0.0</td>\n",
       "      <td>283867.000000</td>\n",
       "      <td>0.0</td>\n",
       "      <td>0.0</td>\n",
       "      <td>295367.000000</td>\n",
       "      <td>869.000000</td>\n",
       "      <td>2.794970e+05</td>\n",
       "      <td>...</td>\n",
       "      <td>3228.000000</td>\n",
       "      <td>404.000000</td>\n",
       "      <td>182.000000</td>\n",
       "      <td>1383.000000</td>\n",
       "      <td>0.0</td>\n",
       "      <td>278.000000</td>\n",
       "      <td>254856.000000</td>\n",
       "      <td>254856.000000</td>\n",
       "      <td>0.0</td>\n",
       "      <td>0.0</td>\n",
       "    </tr>\n",
       "    <tr>\n",
       "      <th>mean</th>\n",
       "      <td>NaN</td>\n",
       "      <td>1.876851</td>\n",
       "      <td>0.023430</td>\n",
       "      <td>NaN</td>\n",
       "      <td>0.059736</td>\n",
       "      <td>NaN</td>\n",
       "      <td>NaN</td>\n",
       "      <td>1125.453320</td>\n",
       "      <td>587.216617</td>\n",
       "      <td>5.606587e+04</td>\n",
       "      <td>...</td>\n",
       "      <td>33.392680</td>\n",
       "      <td>60.360124</td>\n",
       "      <td>15.362637</td>\n",
       "      <td>52.102675</td>\n",
       "      <td>NaN</td>\n",
       "      <td>335.790664</td>\n",
       "      <td>9.166137</td>\n",
       "      <td>8.980656</td>\n",
       "      <td>NaN</td>\n",
       "      <td>NaN</td>\n",
       "    </tr>\n",
       "    <tr>\n",
       "      <th>std</th>\n",
       "      <td>NaN</td>\n",
       "      <td>2.501022</td>\n",
       "      <td>0.153094</td>\n",
       "      <td>NaN</td>\n",
       "      <td>0.280660</td>\n",
       "      <td>NaN</td>\n",
       "      <td>NaN</td>\n",
       "      <td>936.825952</td>\n",
       "      <td>713.255708</td>\n",
       "      <td>2.963385e+07</td>\n",
       "      <td>...</td>\n",
       "      <td>32.906834</td>\n",
       "      <td>29.262350</td>\n",
       "      <td>3.692658</td>\n",
       "      <td>19.028361</td>\n",
       "      <td>NaN</td>\n",
       "      <td>423.244817</td>\n",
       "      <td>8.999870</td>\n",
       "      <td>9.151757</td>\n",
       "      <td>NaN</td>\n",
       "      <td>NaN</td>\n",
       "    </tr>\n",
       "    <tr>\n",
       "      <th>min</th>\n",
       "      <td>NaN</td>\n",
       "      <td>0.000000</td>\n",
       "      <td>0.000000</td>\n",
       "      <td>NaN</td>\n",
       "      <td>0.000000</td>\n",
       "      <td>NaN</td>\n",
       "      <td>NaN</td>\n",
       "      <td>0.000000</td>\n",
       "      <td>0.000000</td>\n",
       "      <td>0.000000e+00</td>\n",
       "      <td>...</td>\n",
       "      <td>0.000000</td>\n",
       "      <td>0.000000</td>\n",
       "      <td>8.000000</td>\n",
       "      <td>6.000000</td>\n",
       "      <td>NaN</td>\n",
       "      <td>0.000000</td>\n",
       "      <td>-15.000000</td>\n",
       "      <td>-15.000000</td>\n",
       "      <td>NaN</td>\n",
       "      <td>NaN</td>\n",
       "    </tr>\n",
       "    <tr>\n",
       "      <th>25%</th>\n",
       "      <td>NaN</td>\n",
       "      <td>0.000000</td>\n",
       "      <td>0.000000</td>\n",
       "      <td>NaN</td>\n",
       "      <td>0.000000</td>\n",
       "      <td>NaN</td>\n",
       "      <td>NaN</td>\n",
       "      <td>382.000000</td>\n",
       "      <td>49.400000</td>\n",
       "      <td>1.000000e-01</td>\n",
       "      <td>...</td>\n",
       "      <td>0.000000</td>\n",
       "      <td>45.000000</td>\n",
       "      <td>12.000000</td>\n",
       "      <td>33.000000</td>\n",
       "      <td>NaN</td>\n",
       "      <td>82.650000</td>\n",
       "      <td>1.000000</td>\n",
       "      <td>1.000000</td>\n",
       "      <td>NaN</td>\n",
       "      <td>NaN</td>\n",
       "    </tr>\n",
       "    <tr>\n",
       "      <th>50%</th>\n",
       "      <td>NaN</td>\n",
       "      <td>1.000000</td>\n",
       "      <td>0.000000</td>\n",
       "      <td>NaN</td>\n",
       "      <td>0.000000</td>\n",
       "      <td>NaN</td>\n",
       "      <td>NaN</td>\n",
       "      <td>1092.000000</td>\n",
       "      <td>300.000000</td>\n",
       "      <td>5.290000e+00</td>\n",
       "      <td>...</td>\n",
       "      <td>25.000000</td>\n",
       "      <td>58.000000</td>\n",
       "      <td>15.000000</td>\n",
       "      <td>52.000000</td>\n",
       "      <td>NaN</td>\n",
       "      <td>190.950000</td>\n",
       "      <td>10.000000</td>\n",
       "      <td>9.000000</td>\n",
       "      <td>NaN</td>\n",
       "      <td>NaN</td>\n",
       "    </tr>\n",
       "    <tr>\n",
       "      <th>75%</th>\n",
       "      <td>NaN</td>\n",
       "      <td>3.000000</td>\n",
       "      <td>0.000000</td>\n",
       "      <td>NaN</td>\n",
       "      <td>0.000000</td>\n",
       "      <td>NaN</td>\n",
       "      <td>NaN</td>\n",
       "      <td>1674.000000</td>\n",
       "      <td>900.000000</td>\n",
       "      <td>2.000000e+01</td>\n",
       "      <td>...</td>\n",
       "      <td>55.000000</td>\n",
       "      <td>93.000000</td>\n",
       "      <td>15.000000</td>\n",
       "      <td>70.000000</td>\n",
       "      <td>NaN</td>\n",
       "      <td>378.700000</td>\n",
       "      <td>16.000000</td>\n",
       "      <td>16.000000</td>\n",
       "      <td>NaN</td>\n",
       "      <td>NaN</td>\n",
       "    </tr>\n",
       "    <tr>\n",
       "      <th>max</th>\n",
       "      <td>NaN</td>\n",
       "      <td>30.000000</td>\n",
       "      <td>2.000000</td>\n",
       "      <td>NaN</td>\n",
       "      <td>6.000000</td>\n",
       "      <td>NaN</td>\n",
       "      <td>NaN</td>\n",
       "      <td>231199.000000</td>\n",
       "      <td>3830.000000</td>\n",
       "      <td>1.566667e+10</td>\n",
       "      <td>...</td>\n",
       "      <td>100.000000</td>\n",
       "      <td>100.000000</td>\n",
       "      <td>25.000000</td>\n",
       "      <td>100.000000</td>\n",
       "      <td>NaN</td>\n",
       "      <td>2842.000000</td>\n",
       "      <td>40.000000</td>\n",
       "      <td>40.000000</td>\n",
       "      <td>NaN</td>\n",
       "      <td>NaN</td>\n",
       "    </tr>\n",
       "  </tbody>\n",
       "</table>\n",
       "<p>8 rows × 107 columns</p>\n",
       "</div>"
      ],
      "text/plain": [
       "       no_nutriments    additives_n  ingredients_from_palm_oil_n  \\\n",
       "count            0.0  283867.000000                283867.000000   \n",
       "mean             NaN       1.876851                     0.023430   \n",
       "std              NaN       2.501022                     0.153094   \n",
       "min              NaN       0.000000                     0.000000   \n",
       "25%              NaN       0.000000                     0.000000   \n",
       "50%              NaN       1.000000                     0.000000   \n",
       "75%              NaN       3.000000                     0.000000   \n",
       "max              NaN      30.000000                     2.000000   \n",
       "\n",
       "       ingredients_from_palm_oil  ingredients_that_may_be_from_palm_oil_n  \\\n",
       "count                        0.0                            283867.000000   \n",
       "mean                         NaN                                 0.059736   \n",
       "std                          NaN                                 0.280660   \n",
       "min                          NaN                                 0.000000   \n",
       "25%                          NaN                                 0.000000   \n",
       "50%                          NaN                                 0.000000   \n",
       "75%                          NaN                                 0.000000   \n",
       "max                          NaN                                 6.000000   \n",
       "\n",
       "       ingredients_that_may_be_from_palm_oil  nutrition_grade_uk  \\\n",
       "count                                    0.0                 0.0   \n",
       "mean                                     NaN                 NaN   \n",
       "std                                      NaN                 NaN   \n",
       "min                                      NaN                 NaN   \n",
       "25%                                      NaN                 NaN   \n",
       "50%                                      NaN                 NaN   \n",
       "75%                                      NaN                 NaN   \n",
       "max                                      NaN                 NaN   \n",
       "\n",
       "         energy_100g  energy-from-fat_100g      fat_100g  ...  \\\n",
       "count  295367.000000            869.000000  2.794970e+05  ...   \n",
       "mean     1125.453320            587.216617  5.606587e+04  ...   \n",
       "std       936.825952            713.255708  2.963385e+07  ...   \n",
       "min         0.000000              0.000000  0.000000e+00  ...   \n",
       "25%       382.000000             49.400000  1.000000e-01  ...   \n",
       "50%      1092.000000            300.000000  5.290000e+00  ...   \n",
       "75%      1674.000000            900.000000  2.000000e+01  ...   \n",
       "max    231199.000000           3830.000000  1.566667e+10  ...   \n",
       "\n",
       "       fruits-vegetables-nuts_100g  fruits-vegetables-nuts-estimate_100g  \\\n",
       "count                  3228.000000                            404.000000   \n",
       "mean                     33.392680                             60.360124   \n",
       "std                      32.906834                             29.262350   \n",
       "min                       0.000000                              0.000000   \n",
       "25%                       0.000000                             45.000000   \n",
       "50%                      25.000000                             58.000000   \n",
       "75%                      55.000000                             93.000000   \n",
       "max                     100.000000                            100.000000   \n",
       "\n",
       "       collagen-meat-protein-ratio_100g   cocoa_100g  chlorophyl_100g  \\\n",
       "count                        182.000000  1383.000000              0.0   \n",
       "mean                          15.362637    52.102675              NaN   \n",
       "std                            3.692658    19.028361              NaN   \n",
       "min                            8.000000     6.000000              NaN   \n",
       "25%                           12.000000    33.000000              NaN   \n",
       "50%                           15.000000    52.000000              NaN   \n",
       "75%                           15.000000    70.000000              NaN   \n",
       "max                           25.000000   100.000000              NaN   \n",
       "\n",
       "       carbon-footprint_100g  nutrition-score-fr_100g  \\\n",
       "count             278.000000            254856.000000   \n",
       "mean              335.790664                 9.166137   \n",
       "std               423.244817                 8.999870   \n",
       "min                 0.000000               -15.000000   \n",
       "25%                82.650000                 1.000000   \n",
       "50%               190.950000                10.000000   \n",
       "75%               378.700000                16.000000   \n",
       "max              2842.000000                40.000000   \n",
       "\n",
       "       nutrition-score-uk_100g  glycemic-index_100g  water-hardness_100g  \n",
       "count            254856.000000                  0.0                  0.0  \n",
       "mean                  8.980656                  NaN                  NaN  \n",
       "std                   9.151757                  NaN                  NaN  \n",
       "min                 -15.000000                  NaN                  NaN  \n",
       "25%                   1.000000                  NaN                  NaN  \n",
       "50%                   9.000000                  NaN                  NaN  \n",
       "75%                  16.000000                  NaN                  NaN  \n",
       "max                  40.000000                  NaN                  NaN  \n",
       "\n",
       "[8 rows x 107 columns]"
      ]
     },
     "execution_count": 17,
     "metadata": {},
     "output_type": "execute_result"
    }
   ],
   "source": [
    "# Retorna estatisticas básicas do DataFrame.\n",
    "df.describe()"
   ]
  },
  {
   "cell_type": "markdown",
   "id": "bc947b50-bb35-4bdf-b8f7-22f2b051d53c",
   "metadata": {
    "tags": []
   },
   "source": [
    "# **Exercicios** "
   ]
  },
  {
   "cell_type": "markdown",
   "id": "184e519d-d4ba-415c-a8e3-9db344b1bf93",
   "metadata": {},
   "source": [
    "1. Leia o arquivo ```exercise_1.csv``` e responda as seguintes questões.\n",
    "\n",
    "- Quantas linhas e colunas ele tem? \n",
    "\n",
    "- Quais são os tipos de dados de cada coluna? \n",
    "\n",
    "- Quanto ocupa esse objeto em memória? "
   ]
  },
  {
   "cell_type": "code",
   "execution_count": 18,
   "id": "96bf5dfa-7255-406c-83af-0c14f57a80c4",
   "metadata": {},
   "outputs": [
    {
     "name": "stdout",
     "output_type": "stream",
     "text": [
      "Quantidade de linhas desse DataFrame é 10000\n",
      "Segue os Tipos de dados de cada coluna.\n",
      "0    float64\n",
      "1    float64\n",
      "dtype: object\n",
      "Quantidade de memória ocupada pelo DataFrame.\n",
      "<class 'pandas.core.frame.DataFrame'>\n",
      "RangeIndex: 10000 entries, 0 to 9999\n",
      "Data columns (total 2 columns):\n",
      " #   Column  Non-Null Count  Dtype  \n",
      "---  ------  --------------  -----  \n",
      " 0   0       10000 non-null  float64\n",
      " 1   1       10000 non-null  float64\n",
      "dtypes: float64(2)\n",
      "memory usage: 156.4 KB\n",
      "None\n"
     ]
    }
   ],
   "source": [
    "df = pd.read_csv(\"data_exercise/exercise1.csv\", sep = \";\")\n",
    "# on progress\n",
    "\n",
    "qtd_rows, qtd_columns = df.shape\n",
    "print(f\"Quantidade de linhas desse DataFrame é {qtd_rows}\")\n",
    "print(\"Segue os Tipos de dados de cada coluna.\")\n",
    "print(df.dtypes)\n",
    "print(\"Quantidade de memória ocupada pelo DataFrame.\")\n",
    "print(df.info())"
   ]
  },
  {
   "cell_type": "markdown",
   "id": "8a78d2ff-e154-4c1b-bac7-c24302a9b9a0",
   "metadata": {},
   "source": [
    "2. Lei o arquivo ```exercise2.csv``` [Ref](https://dados.gov.br/dataset/cursos-de-graduacao5)\n",
    "\n",
    "- Quantas linhas e colunas ele tem? \n",
    "\n",
    "- Quais são os tipos de dados de cada coluna? \n",
    "\n",
    "- Quanto ocupa esse objeto em memória? Você acha que precisa de tudo isso?"
   ]
  },
  {
   "cell_type": "code",
   "execution_count": 19,
   "id": "1d3919c0-75ed-4e33-8336-e8124fa19df8",
   "metadata": {},
   "outputs": [
    {
     "name": "stdout",
     "output_type": "stream",
     "text": [
      "Quantidade de linhas desse DataFrame é 166\n",
      "Segue os Tipos de dados de cada coluna.\n",
      "IDCURSO                    int64\n",
      "NOMEDIPLOMA               object\n",
      "MODALIDADE                object\n",
      "LOCALIDADE                object\n",
      "IDLOCALIDADEPRINCIPAL      int64\n",
      "GRAU                      object\n",
      "GRAU_IDGRAU                int64\n",
      "STATUS                    object\n",
      "IDTURNO                  float64\n",
      "TURNO                     object\n",
      "DATAVIGENCIA              object\n",
      "DURACAO                    int64\n",
      "TITULACAO                 object\n",
      "RECONHECIMENTO            object\n",
      "ATOADMINISTRATIVO         object\n",
      "DATARECONHECIMENTO        object\n",
      "DATADIARIOOFICIAL         object\n",
      "UNIDADE_IDUNIDADE          int64\n",
      "IDORGAO                    int64\n",
      "DESCRICAO                 object\n",
      "SIGLA                     object\n",
      "CODIGOEMEC                 int64\n",
      "dtype: object\n",
      "Quantidade de memória ocupada pelo DataFrame.\n",
      "<class 'pandas.core.frame.DataFrame'>\n",
      "RangeIndex: 166 entries, 0 to 165\n",
      "Data columns (total 22 columns):\n",
      " #   Column                 Non-Null Count  Dtype  \n",
      "---  ------                 --------------  -----  \n",
      " 0   IDCURSO                166 non-null    int64  \n",
      " 1   NOMEDIPLOMA            166 non-null    object \n",
      " 2   MODALIDADE             166 non-null    object \n",
      " 3   LOCALIDADE             166 non-null    object \n",
      " 4   IDLOCALIDADEPRINCIPAL  166 non-null    int64  \n",
      " 5   GRAU                   166 non-null    object \n",
      " 6   GRAU_IDGRAU            166 non-null    int64  \n",
      " 7   STATUS                 166 non-null    object \n",
      " 8   IDTURNO                161 non-null    float64\n",
      " 9   TURNO                  161 non-null    object \n",
      " 10  DATAVIGENCIA           166 non-null    object \n",
      " 11  DURACAO                166 non-null    int64  \n",
      " 12  TITULACAO              166 non-null    object \n",
      " 13  RECONHECIMENTO         166 non-null    object \n",
      " 14  ATOADMINISTRATIVO      166 non-null    object \n",
      " 15  DATARECONHECIMENTO     166 non-null    object \n",
      " 16  DATADIARIOOFICIAL      166 non-null    object \n",
      " 17  UNIDADE_IDUNIDADE      166 non-null    int64  \n",
      " 18  IDORGAO                166 non-null    int64  \n",
      " 19  DESCRICAO              166 non-null    object \n",
      " 20  SIGLA                  166 non-null    object \n",
      " 21  CODIGOEMEC             166 non-null    int64  \n",
      "dtypes: float64(1), int64(7), object(14)\n",
      "memory usage: 28.7+ KB\n",
      "None\n",
      "A quantidade de memória utilizada depende da aplicação.\n"
     ]
    }
   ],
   "source": [
    "df = pd.read_csv(\"data_exercise/exercise2.csv\", encoding=\"latin1\")\n",
    "\n",
    "qtd_rows, qtd_columns = df.shape\n",
    "print(f\"Quantidade de linhas desse DataFrame é {qtd_rows}\")\n",
    "print(\"Segue os Tipos de dados de cada coluna.\")\n",
    "print(df.dtypes)\n",
    "print(\"Quantidade de memória ocupada pelo DataFrame.\")\n",
    "print(df.info())\n",
    "print(\"A quantidade de memória utilizada depende da aplicação.\")"
   ]
  },
  {
   "cell_type": "markdown",
   "id": "ec58ba34-7e6b-4760-b8a8-b6223c90e552",
   "metadata": {},
   "source": [
    "3. Lei o arquivo ```exercise3.json``` [Ref](http://landpage-h.cgu.gov.br/dadosabertos/index.php?url=http://repositorio.dados.gov.br/seges/raio-x/cargos-funcoes-perfil.csv)\n",
    "\n",
    "- Quantas linhas e colunas ele tem? \n",
    "\n",
    "- Quais são os tipos de dados de cada coluna? \n",
    "\n",
    "- Quanto ocupa esse objeto em memória? Você acha que precisa de tudo isso?"
   ]
  },
  {
   "cell_type": "code",
   "execution_count": 20,
   "id": "c11ddbca-8c2c-46ab-9015-66afa755aaf9",
   "metadata": {},
   "outputs": [
    {
     "name": "stdout",
     "output_type": "stream",
     "text": [
      "Quantidade de linhas desse DataFrame é 37356\n",
      "Segue os Tipos de dados de cada coluna.\n",
      "orgao_superior_codigo_siorg     int64\n",
      "orgao_superior_nome            object\n",
      "orgao_superior_sigla           object\n",
      "orgao_codigo_siorg              int64\n",
      "orgao_nome                     object\n",
      "orgao_sigla                    object\n",
      "orgao_como_no_raiox_nome       object\n",
      "orgao_como_no_raiox_sigla      object\n",
      "ano_mes_referencia              int64\n",
      "sigla_codigo_cargo_comissao    object\n",
      "denominacao_cargo_comissao     object\n",
      "sexo                           object\n",
      "faixa_etaria                   object\n",
      "escolaridade                   object\n",
      "regime_juridico                object\n",
      "situacao_vinculo_servidor      object\n",
      "possui_vinculo                 object\n",
      "quantidade                      int64\n",
      "dtype: object\n",
      "Quantidade de memória ocupada pelo DataFrame.\n",
      "<class 'pandas.core.frame.DataFrame'>\n",
      "Int64Index: 37356 entries, 0 to 37355\n",
      "Data columns (total 18 columns):\n",
      " #   Column                       Non-Null Count  Dtype \n",
      "---  ------                       --------------  ----- \n",
      " 0   orgao_superior_codigo_siorg  37356 non-null  int64 \n",
      " 1   orgao_superior_nome          37356 non-null  object\n",
      " 2   orgao_superior_sigla         37356 non-null  object\n",
      " 3   orgao_codigo_siorg           37356 non-null  int64 \n",
      " 4   orgao_nome                   37356 non-null  object\n",
      " 5   orgao_sigla                  37356 non-null  object\n",
      " 6   orgao_como_no_raiox_nome     37356 non-null  object\n",
      " 7   orgao_como_no_raiox_sigla    37356 non-null  object\n",
      " 8   ano_mes_referencia           37356 non-null  int64 \n",
      " 9   sigla_codigo_cargo_comissao  37356 non-null  object\n",
      " 10  denominacao_cargo_comissao   37356 non-null  object\n",
      " 11  sexo                         37356 non-null  object\n",
      " 12  faixa_etaria                 37356 non-null  object\n",
      " 13  escolaridade                 37356 non-null  object\n",
      " 14  regime_juridico              37356 non-null  object\n",
      " 15  situacao_vinculo_servidor    37356 non-null  object\n",
      " 16  possui_vinculo               37356 non-null  object\n",
      " 17  quantidade                   37356 non-null  int64 \n",
      "dtypes: int64(4), object(14)\n",
      "memory usage: 5.4+ MB\n",
      "None\n",
      "A quantidade de memória utilizada depende da aplicação.\n"
     ]
    }
   ],
   "source": [
    "df = pd.read_json(\"data_exercise/exercise3.json\", orient=\"records\")\n",
    "\n",
    "qtd_rows, qtd_columns = df.shape\n",
    "print(f\"Quantidade de linhas desse DataFrame é {qtd_rows}\")\n",
    "print(\"Segue os Tipos de dados de cada coluna.\")\n",
    "print(df.dtypes)\n",
    "print(\"Quantidade de memória ocupada pelo DataFrame.\")\n",
    "print(df.info())\n",
    "print(\"A quantidade de memória utilizada depende da aplicação.\")"
   ]
  },
  {
   "cell_type": "markdown",
   "id": "f13bd28a-4c81-4c10-95bf-24f181cdc666",
   "metadata": {},
   "source": [
    "4. Lei o arquivo ```exercise4.json``` em um pandas DataFrame [Ref](http://landpage-h.cgu.gov.br/dadosabertos/index.php?url=http://repositorio.dados.gov.br/seges/raio-x/cargos-funcoes-perfil.csv)\n",
    "\n",
    "\n",
    "- Quais são os tipos de dados de cada coluna? \n",
    "\n",
    "- Quanto ocupa esse objeto em memória? Você acha que precisa de tudo isso?"
   ]
  },
  {
   "cell_type": "code",
   "execution_count": 21,
   "id": "73f8524a-263b-480b-a3fa-e8a34ab68ada",
   "metadata": {},
   "outputs": [
    {
     "name": "stdout",
     "output_type": "stream",
     "text": [
      "Quantidade de linhas desse DataFrame é 37356\n",
      "Segue os Tipos de dados de cada coluna.\n",
      "orgao_superior_codigo_siorg     int64\n",
      "orgao_superior_nome            object\n",
      "orgao_superior_sigla           object\n",
      "orgao_codigo_siorg              int64\n",
      "orgao_nome                     object\n",
      "orgao_sigla                    object\n",
      "orgao_como_no_raiox_nome       object\n",
      "orgao_como_no_raiox_sigla      object\n",
      "ano_mes_referencia              int64\n",
      "sigla_codigo_cargo_comissao    object\n",
      "denominacao_cargo_comissao     object\n",
      "sexo                           object\n",
      "faixa_etaria                   object\n",
      "escolaridade                   object\n",
      "regime_juridico                object\n",
      "situacao_vinculo_servidor      object\n",
      "possui_vinculo                 object\n",
      "quantidade                      int64\n",
      "dtype: object\n",
      "Quantidade de memória ocupada pelo DataFrame.\n",
      "<class 'pandas.core.frame.DataFrame'>\n",
      "Int64Index: 37356 entries, 0 to 37355\n",
      "Data columns (total 18 columns):\n",
      " #   Column                       Non-Null Count  Dtype \n",
      "---  ------                       --------------  ----- \n",
      " 0   orgao_superior_codigo_siorg  37356 non-null  int64 \n",
      " 1   orgao_superior_nome          37356 non-null  object\n",
      " 2   orgao_superior_sigla         37356 non-null  object\n",
      " 3   orgao_codigo_siorg           37356 non-null  int64 \n",
      " 4   orgao_nome                   37356 non-null  object\n",
      " 5   orgao_sigla                  37356 non-null  object\n",
      " 6   orgao_como_no_raiox_nome     37356 non-null  object\n",
      " 7   orgao_como_no_raiox_sigla    37356 non-null  object\n",
      " 8   ano_mes_referencia           37356 non-null  int64 \n",
      " 9   sigla_codigo_cargo_comissao  37356 non-null  object\n",
      " 10  denominacao_cargo_comissao   37356 non-null  object\n",
      " 11  sexo                         37356 non-null  object\n",
      " 12  faixa_etaria                 37356 non-null  object\n",
      " 13  escolaridade                 37356 non-null  object\n",
      " 14  regime_juridico              37356 non-null  object\n",
      " 15  situacao_vinculo_servidor    37356 non-null  object\n",
      " 16  possui_vinculo               37356 non-null  object\n",
      " 17  quantidade                   37356 non-null  int64 \n",
      "dtypes: int64(4), object(14)\n",
      "memory usage: 5.4+ MB\n",
      "None\n",
      "A quantidade de memória utilizada depende da aplicação.\n"
     ]
    }
   ],
   "source": [
    "df = pd.read_json(\"data_exercise/exercise4.json\", orient=\"split\")\n",
    "qtd_rows, qtd_columns = df.shape\n",
    "print(f\"Quantidade de linhas desse DataFrame é {qtd_rows}\")\n",
    "print(\"Segue os Tipos de dados de cada coluna.\")\n",
    "print(df.dtypes)\n",
    "print(\"Quantidade de memória ocupada pelo DataFrame.\")\n",
    "print(df.info())\n",
    "print(\"A quantidade de memória utilizada depende da aplicação.\")"
   ]
  },
  {
   "cell_type": "markdown",
   "id": "2f3b8c7d-fa74-4ada-9c6e-511d3b10bb47",
   "metadata": {},
   "source": [
    "5. Crie um DataFrame para cadastro de funcionarios com as colunas nome, idade e sexo baseado em listas e baseado em dicionários. Os dados você pode inventar.\n"
   ]
  },
  {
   "cell_type": "code",
   "execution_count": 22,
   "id": "8be13745-c906-4c8f-a81a-2c466582d9f4",
   "metadata": {},
   "outputs": [
    {
     "data": {
      "text/html": [
       "<div>\n",
       "<style scoped>\n",
       "    .dataframe tbody tr th:only-of-type {\n",
       "        vertical-align: middle;\n",
       "    }\n",
       "\n",
       "    .dataframe tbody tr th {\n",
       "        vertical-align: top;\n",
       "    }\n",
       "\n",
       "    .dataframe thead th {\n",
       "        text-align: right;\n",
       "    }\n",
       "</style>\n",
       "<table border=\"1\" class=\"dataframe\">\n",
       "  <thead>\n",
       "    <tr style=\"text-align: right;\">\n",
       "      <th></th>\n",
       "      <th>nome</th>\n",
       "      <th>idade</th>\n",
       "      <th>sexo</th>\n",
       "    </tr>\n",
       "  </thead>\n",
       "  <tbody>\n",
       "    <tr>\n",
       "      <th>0</th>\n",
       "      <td>Rodrigo</td>\n",
       "      <td>25</td>\n",
       "      <td>M</td>\n",
       "    </tr>\n",
       "    <tr>\n",
       "      <th>1</th>\n",
       "      <td>Isabela</td>\n",
       "      <td>22</td>\n",
       "      <td>F</td>\n",
       "    </tr>\n",
       "    <tr>\n",
       "      <th>2</th>\n",
       "      <td>Samuel</td>\n",
       "      <td>19</td>\n",
       "      <td>M</td>\n",
       "    </tr>\n",
       "  </tbody>\n",
       "</table>\n",
       "</div>"
      ],
      "text/plain": [
       "      nome  idade sexo\n",
       "0  Rodrigo     25    M\n",
       "1  Isabela     22    F\n",
       "2   Samuel     19    M"
      ]
     },
     "execution_count": 22,
     "metadata": {},
     "output_type": "execute_result"
    }
   ],
   "source": [
    "# baseado em lista\n",
    "columns = [\"nome\", \"idade\", \"sexo\"]\n",
    "data = [[\"Rodrigo\", 25, \"M\"],\n",
    "        [\"Isabela\", 22, \"F\"],\n",
    "        [\"Samuel\", 19, \"M\"]]\n",
    "pd.DataFrame(data, columns=columns)"
   ]
  },
  {
   "cell_type": "code",
   "execution_count": 23,
   "id": "5e6b168c-bcfc-4d62-9888-09bb48b1509d",
   "metadata": {},
   "outputs": [
    {
     "data": {
      "text/html": [
       "<div>\n",
       "<style scoped>\n",
       "    .dataframe tbody tr th:only-of-type {\n",
       "        vertical-align: middle;\n",
       "    }\n",
       "\n",
       "    .dataframe tbody tr th {\n",
       "        vertical-align: top;\n",
       "    }\n",
       "\n",
       "    .dataframe thead th {\n",
       "        text-align: right;\n",
       "    }\n",
       "</style>\n",
       "<table border=\"1\" class=\"dataframe\">\n",
       "  <thead>\n",
       "    <tr style=\"text-align: right;\">\n",
       "      <th></th>\n",
       "      <th>nome</th>\n",
       "      <th>idade</th>\n",
       "      <th>sexo</th>\n",
       "    </tr>\n",
       "  </thead>\n",
       "  <tbody>\n",
       "    <tr>\n",
       "      <th>0</th>\n",
       "      <td>Rodrigo</td>\n",
       "      <td>25</td>\n",
       "      <td>M</td>\n",
       "    </tr>\n",
       "    <tr>\n",
       "      <th>1</th>\n",
       "      <td>Isabela</td>\n",
       "      <td>19</td>\n",
       "      <td>F</td>\n",
       "    </tr>\n",
       "    <tr>\n",
       "      <th>2</th>\n",
       "      <td>Samuel</td>\n",
       "      <td>22</td>\n",
       "      <td>M</td>\n",
       "    </tr>\n",
       "  </tbody>\n",
       "</table>\n",
       "</div>"
      ],
      "text/plain": [
       "      nome  idade sexo\n",
       "0  Rodrigo     25    M\n",
       "1  Isabela     19    F\n",
       "2   Samuel     22    M"
      ]
     },
     "execution_count": 23,
     "metadata": {},
     "output_type": "execute_result"
    }
   ],
   "source": [
    "# baseado em dicionario\n",
    "# baseado em lista\n",
    "data = {\n",
    "        \"nome\":  [\"Rodrigo\", \"Isabela\", \"Samuel\"],\n",
    "        \"idade\": [25, 19, 22],\n",
    "        \"sexo\":  [\"M\", \"F\", \"M\"]\n",
    "       }\n",
    "pd.DataFrame(data)"
   ]
  },
  {
   "cell_type": "markdown",
   "id": "1ba83124-bee9-4bee-b058-f694b6d9219a",
   "metadata": {},
   "source": [
    "6. Leia o arquivo x e salve a cada 100 mil linhas um novo arquivo até o número de linhas da arquivo x terminar"
   ]
  },
  {
   "cell_type": "code",
   "execution_count": 24,
   "id": "0b685c9a-8b91-4619-a5c9-b5ff2d92fb7f",
   "metadata": {},
   "outputs": [],
   "source": [
    "df = pd.read_csv(\"data_exercise/exercise_huge_file.csv\")"
   ]
  },
  {
   "cell_type": "code",
   "execution_count": 25,
   "id": "da0bfdc1-794c-4b25-a240-9758fd5574d0",
   "metadata": {},
   "outputs": [],
   "source": [
    "nrows_per_file = 100_000\n",
    "nrows = df.shape[0]\n",
    "iter_number = int(np.ceil(nrows / nrows_per_file))\n",
    "\n",
    "for i in range(iter_number):\n",
    "    lower_limit = i*nrows_per_file\n",
    "    upper_limit = nrows_per_file*(i+1)\n",
    "    filtered_df = df.iloc[lower_limit:upper_limit,:]\n",
    "    filtered_df.to_csv(f\"exercise6/new_file{(i+1)}.csv\", index = False)"
   ]
  },
  {
   "cell_type": "markdown",
   "id": "9e838264-d567-488f-bed2-dbd650bd942b",
   "metadata": {},
   "source": [
    "Depois de um processamento é interessante checar os limites."
   ]
  },
  {
   "cell_type": "code",
   "execution_count": 26,
   "id": "902ea3f8-dada-497c-aa7c-ea127abbaf68",
   "metadata": {},
   "outputs": [
    {
     "data": {
      "text/plain": [
       "(100000, 2)"
      ]
     },
     "execution_count": 26,
     "metadata": {},
     "output_type": "execute_result"
    }
   ],
   "source": [
    "pd.read_csv(\"exercise6/new_file1.csv\").shape"
   ]
  },
  {
   "cell_type": "code",
   "execution_count": 27,
   "id": "c602e855-b800-4573-b77c-cfa02acef76d",
   "metadata": {},
   "outputs": [
    {
     "data": {
      "text/plain": [
       "(24100, 2)"
      ]
     },
     "execution_count": 27,
     "metadata": {},
     "output_type": "execute_result"
    }
   ],
   "source": [
    "pd.read_csv(\"exercise6/new_file18.csv\").shape"
   ]
  },
  {
   "cell_type": "markdown",
   "id": "a0244571-52ca-4785-b0d8-e7df8c677867",
   "metadata": {},
   "source": [
    "Extra:\n",
    "\n",
    "Você consegue transformar as tabelas do Wikipidia em um DataFrame?\n",
    "\n",
    "- Dica: Talvez precise instalar algumas bibliotecas extras, como exemplo, lxml, html5lib, bs4 ...\n",
    "\n",
    "[TABELA](https://en.wikipedia.org/wiki/Minnesota)"
   ]
  },
  {
   "cell_type": "code",
   "execution_count": 28,
   "id": "dc15ab3b-e7f8-43ff-8e80-2b03cafe957d",
   "metadata": {},
   "outputs": [],
   "source": [
    "dfs_internet = pd.read_html(\"https://en.wikipedia.org/wiki/Minnesota\")"
   ]
  },
  {
   "cell_type": "code",
   "execution_count": 29,
   "id": "10fe757a-5703-4e0b-9b41-c99c6824513d",
   "metadata": {},
   "outputs": [
    {
     "data": {
      "text/html": [
       "<div>\n",
       "<style scoped>\n",
       "    .dataframe tbody tr th:only-of-type {\n",
       "        vertical-align: middle;\n",
       "    }\n",
       "\n",
       "    .dataframe tbody tr th {\n",
       "        vertical-align: top;\n",
       "    }\n",
       "\n",
       "    .dataframe thead tr th {\n",
       "        text-align: left;\n",
       "    }\n",
       "</style>\n",
       "<table border=\"1\" class=\"dataframe\">\n",
       "  <thead>\n",
       "    <tr>\n",
       "      <th></th>\n",
       "      <th colspan=\"2\" halign=\"left\">Minnesota state symbols</th>\n",
       "    </tr>\n",
       "    <tr>\n",
       "      <th></th>\n",
       "      <th>Living insignia</th>\n",
       "      <th>Living insignia.1</th>\n",
       "    </tr>\n",
       "  </thead>\n",
       "  <tbody>\n",
       "    <tr>\n",
       "      <th>0</th>\n",
       "      <td>Bird</td>\n",
       "      <td>Common loon</td>\n",
       "    </tr>\n",
       "    <tr>\n",
       "      <th>1</th>\n",
       "      <td>Butterfly</td>\n",
       "      <td>Monarch</td>\n",
       "    </tr>\n",
       "    <tr>\n",
       "      <th>2</th>\n",
       "      <td>Fish</td>\n",
       "      <td>Walleye</td>\n",
       "    </tr>\n",
       "    <tr>\n",
       "      <th>3</th>\n",
       "      <td>Flower</td>\n",
       "      <td>Pink-and-white lady's slipper</td>\n",
       "    </tr>\n",
       "    <tr>\n",
       "      <th>4</th>\n",
       "      <td>Mushroom</td>\n",
       "      <td>Common morel (Morchella esculenta)</td>\n",
       "    </tr>\n",
       "  </tbody>\n",
       "</table>\n",
       "</div>"
      ],
      "text/plain": [
       "  Minnesota state symbols                                    \n",
       "          Living insignia                   Living insignia.1\n",
       "0                    Bird                         Common loon\n",
       "1               Butterfly                             Monarch\n",
       "2                    Fish                             Walleye\n",
       "3                  Flower       Pink-and-white lady's slipper\n",
       "4                Mushroom  Common morel (Morchella esculenta)"
      ]
     },
     "execution_count": 29,
     "metadata": {},
     "output_type": "execute_result"
    }
   ],
   "source": [
    "dfs_internet[1].head()"
   ]
  },
  {
   "cell_type": "markdown",
   "id": "27849694-6850-401e-bb09-e3de24bc43e0",
   "metadata": {},
   "source": [
    "<font color=\"orange\">**LEMBRAR!**</font>\n",
    "> - csv é um formato bastante comum, fiquem esperto com o separador.\n",
    "> - Muitas vezes é necessário saber encoding do nosso dado.\n",
    "> - Independente do formato (json, ..., html) precisa ser uma tabela para transformar em um DataFrame. "
   ]
  },
  {
   "cell_type": "markdown",
   "id": "e94eb0c3-1971-4c79-abe2-3373dadc5072",
   "metadata": {
    "tags": []
   },
   "source": [
    "## **Onde posso aprender mais?** "
   ]
  },
  {
   "cell_type": "markdown",
   "id": "55a3bef8-9a8f-4cba-a73f-ed0961335658",
   "metadata": {},
   "source": [
    "\n",
    "\n",
    "[Comnuidade Pandas](https://pandas.pydata.org/docs/getting_started/tutorials.html). Aqui tem livros, palestras, tutoriais entre outros.\n",
    "\n",
    "Livro indicado pela própria biblioteca:\n",
    "<center><img src=\"figures/livro_pandas.png\" align=\"center\" width=100/></center>\n",
    "\n",
    "Youtube:\n",
    "\n",
    "- <font color=\"orange\">(Avançado)</font>: [Pandas by Matt Harrison](https://www.youtube.com/watch?v=UURvPeczxJI&t=3395s) - 19 de agosto de 2021\n"
   ]
  }
 ],
 "metadata": {
  "kernelspec": {
   "display_name": "venv_playground",
   "language": "python",
   "name": "venv_playground"
  },
  "language_info": {
   "codemirror_mode": {
    "name": "ipython",
    "version": 3
   },
   "file_extension": ".py",
   "mimetype": "text/x-python",
   "name": "python",
   "nbconvert_exporter": "python",
   "pygments_lexer": "ipython3",
   "version": "3.9.9"
  }
 },
 "nbformat": 4,
 "nbformat_minor": 5
}
