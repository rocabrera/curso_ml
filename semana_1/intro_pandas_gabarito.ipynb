{
 "cells": [
  {
   "cell_type": "markdown",
   "id": "5e02bd85-1f17-4275-80b5-def104d325a4",
   "metadata": {},
   "source": [
    "## **Introdução a Pandas**"
   ]
  },
  {
   "cell_type": "markdown",
   "id": "cf8c9123-79d1-48d3-bb85-8a70d581475a",
   "metadata": {},
   "source": [
    "- [Pandas](https://pandas.pydata.org/) é uma ferramenta *open source* contruída em cima do python, para manipular com dados de forma rápida, poderosa, flexível e fácil.\n",
    "\n",
    "- Seu nome vem de uma brincadeira com a frase *Python data analysis*.\n",
    "\n",
    "- Esse projeto foi criado por um pesquisador (Wes McKinney) enquanto ele trabalhava na [AQR Capital](https://www.aqr.com/) (Uma empresa de investimentos).\n",
    "\n",
    "\n",
    "- [Pandas vs Outras ferramentas](https://pandas.pydata.org/docs/getting_started/comparison/index.html).\n",
    "\n",
    "- [Documentação - versão - 1.3.4 em PDF](https://pandas.pydata.org/pandas-docs/version/1.3.4/pandas.pdf).\n",
    "\n",
    "---\n",
    "\n",
    "[Começando com o Pandas](https://pandas.pydata.org/docs/getting_started/index.html)\n",
    "\n",
    "Exemplo por Wes McKinney de como utilizar a ferramenta/biblioteca/projeto/API: [Vídeo](https://www.youtube.com/watch?v=_T8LGqJtuGc) "
   ]
  },
  {
   "cell_type": "code",
   "execution_count": 1,
   "id": "3b272a74-0830-41b4-b575-6aca9b0b32c4",
   "metadata": {},
   "outputs": [],
   "source": [
    "from time import time\n",
    "\n",
    "import numpy as np\n",
    "import pandas as pd\n",
    "from IPython.display import display"
   ]
  },
  {
   "cell_type": "markdown",
   "id": "026fa990-459f-4014-b0fe-1715783b703d",
   "metadata": {},
   "source": [
    "# **Objeto DataFrame**"
   ]
  },
  {
   "cell_type": "markdown",
   "id": "6df22369-6e28-4b2e-b12e-a401b2721999",
   "metadata": {},
   "source": [
    "<center><img src=\"figures/dataframe.png\" align=\"center\" width=220/></center>\n"
   ]
  },
  {
   "cell_type": "code",
   "execution_count": 2,
   "id": "3e9f5b39-dbf1-4f1b-ae37-e9a883d52471",
   "metadata": {},
   "outputs": [
    {
     "data": {
      "text/html": [
       "<div>\n",
       "<style scoped>\n",
       "    .dataframe tbody tr th:only-of-type {\n",
       "        vertical-align: middle;\n",
       "    }\n",
       "\n",
       "    .dataframe tbody tr th {\n",
       "        vertical-align: top;\n",
       "    }\n",
       "\n",
       "    .dataframe thead th {\n",
       "        text-align: right;\n",
       "    }\n",
       "</style>\n",
       "<table border=\"1\" class=\"dataframe\">\n",
       "  <thead>\n",
       "    <tr style=\"text-align: right;\">\n",
       "      <th></th>\n",
       "      <th>0</th>\n",
       "      <th>1</th>\n",
       "      <th>2</th>\n",
       "    </tr>\n",
       "  </thead>\n",
       "  <tbody>\n",
       "    <tr>\n",
       "      <th>0</th>\n",
       "      <td>2</td>\n",
       "      <td>2</td>\n",
       "      <td>3</td>\n",
       "    </tr>\n",
       "    <tr>\n",
       "      <th>1</th>\n",
       "      <td>7</td>\n",
       "      <td>5</td>\n",
       "      <td>1</td>\n",
       "    </tr>\n",
       "    <tr>\n",
       "      <th>2</th>\n",
       "      <td>9</td>\n",
       "      <td>3</td>\n",
       "      <td>4</td>\n",
       "    </tr>\n",
       "  </tbody>\n",
       "</table>\n",
       "</div>"
      ],
      "text/plain": [
       "   0  1  2\n",
       "0  2  2  3\n",
       "1  7  5  1\n",
       "2  9  3  4"
      ]
     },
     "metadata": {},
     "output_type": "display_data"
    }
   ],
   "source": [
    "tabela = [[2,2,3],\n",
    "           [7,5,1],\n",
    "           [9,3,4]]\n",
    "\n",
    "df = pd.DataFrame(tabela)\n",
    "display(df)"
   ]
  },
  {
   "cell_type": "code",
   "execution_count": 3,
   "id": "2d10cb91-ccc2-44e7-8baa-b24a46719ee7",
   "metadata": {},
   "outputs": [
    {
     "data": {
      "text/html": [
       "<div>\n",
       "<style scoped>\n",
       "    .dataframe tbody tr th:only-of-type {\n",
       "        vertical-align: middle;\n",
       "    }\n",
       "\n",
       "    .dataframe tbody tr th {\n",
       "        vertical-align: top;\n",
       "    }\n",
       "\n",
       "    .dataframe thead th {\n",
       "        text-align: right;\n",
       "    }\n",
       "</style>\n",
       "<table border=\"1\" class=\"dataframe\">\n",
       "  <thead>\n",
       "    <tr style=\"text-align: right;\">\n",
       "      <th></th>\n",
       "      <th>limao</th>\n",
       "      <th>feijao</th>\n",
       "      <th>batata</th>\n",
       "    </tr>\n",
       "  </thead>\n",
       "  <tbody>\n",
       "    <tr>\n",
       "      <th>0</th>\n",
       "      <td>1</td>\n",
       "      <td>5</td>\n",
       "      <td>7</td>\n",
       "    </tr>\n",
       "    <tr>\n",
       "      <th>1</th>\n",
       "      <td>2</td>\n",
       "      <td>8</td>\n",
       "      <td>6</td>\n",
       "    </tr>\n",
       "    <tr>\n",
       "      <th>2</th>\n",
       "      <td>3</td>\n",
       "      <td>0</td>\n",
       "      <td>9</td>\n",
       "    </tr>\n",
       "  </tbody>\n",
       "</table>\n",
       "</div>"
      ],
      "text/plain": [
       "   limao  feijao  batata\n",
       "0      1       5       7\n",
       "1      2       8       6\n",
       "2      3       0       9"
      ]
     },
     "metadata": {},
     "output_type": "display_data"
    }
   ],
   "source": [
    "tabela = {\"limao\":[1,2,3], \n",
    "          \"feijao\":[5,8,0],\n",
    "          \"batata\":[7,6,9]}\n",
    "\n",
    "df = pd.DataFrame(tabela)\n",
    "display(df)"
   ]
  },
  {
   "cell_type": "code",
   "execution_count": 4,
   "id": "00b3a5d3-13d8-4f42-87b3-bddfb9c8c74b",
   "metadata": {},
   "outputs": [
    {
     "data": {
      "text/html": [
       "<div>\n",
       "<style scoped>\n",
       "    .dataframe tbody tr th:only-of-type {\n",
       "        vertical-align: middle;\n",
       "    }\n",
       "\n",
       "    .dataframe tbody tr th {\n",
       "        vertical-align: top;\n",
       "    }\n",
       "\n",
       "    .dataframe thead th {\n",
       "        text-align: right;\n",
       "    }\n",
       "</style>\n",
       "<table border=\"1\" class=\"dataframe\">\n",
       "  <thead>\n",
       "    <tr style=\"text-align: right;\">\n",
       "      <th></th>\n",
       "      <th>a</th>\n",
       "      <th>b</th>\n",
       "      <th>c</th>\n",
       "    </tr>\n",
       "  </thead>\n",
       "  <tbody>\n",
       "    <tr>\n",
       "      <th>00</th>\n",
       "      <td>2</td>\n",
       "      <td>2</td>\n",
       "      <td>3</td>\n",
       "    </tr>\n",
       "    <tr>\n",
       "      <th>01</th>\n",
       "      <td>7</td>\n",
       "      <td>5</td>\n",
       "      <td>1</td>\n",
       "    </tr>\n",
       "    <tr>\n",
       "      <th>10</th>\n",
       "      <td>9</td>\n",
       "      <td>3</td>\n",
       "      <td>4</td>\n",
       "    </tr>\n",
       "  </tbody>\n",
       "</table>\n",
       "</div>"
      ],
      "text/plain": [
       "    a  b  c\n",
       "00  2  2  3\n",
       "01  7  5  1\n",
       "10  9  3  4"
      ]
     },
     "metadata": {},
     "output_type": "display_data"
    }
   ],
   "source": [
    "tabela = [[2,2,3],\n",
    "           [7,5,1],\n",
    "           [9,3,4]]\n",
    "\n",
    "df = pd.DataFrame(tabela, columns=[\"a\", \"b\", \"c\"], index=[\"00\", \"01\", \"10\"])\n",
    "display(df)"
   ]
  },
  {
   "cell_type": "markdown",
   "id": "a98b88e1-3211-409c-bbf9-c164be156a9c",
   "metadata": {},
   "source": [
    "# **Objeto Series**"
   ]
  },
  {
   "cell_type": "markdown",
   "id": "f60ee1fc-9191-4239-915b-cff6c923e1b6",
   "metadata": {},
   "source": [
    "<center><img src=\"figures/series.png\" align=\"center\" width=100/></center>"
   ]
  },
  {
   "cell_type": "code",
   "execution_count": 5,
   "id": "dccd6698-7a74-4089-85ef-5466edcfff67",
   "metadata": {},
   "outputs": [
    {
     "data": {
      "text/plain": [
       "0    1\n",
       "1    2\n",
       "2    3\n",
       "3    4\n",
       "dtype: int64"
      ]
     },
     "execution_count": 5,
     "metadata": {},
     "output_type": "execute_result"
    }
   ],
   "source": [
    "a = [1,2,3,4]\n",
    "\n",
    "pd.Series(a)"
   ]
  },
  {
   "cell_type": "code",
   "execution_count": 6,
   "id": "0ec843ae-232f-4474-972a-89fec138a82d",
   "metadata": {},
   "outputs": [
    {
     "data": {
      "text/plain": [
       "1    1\n",
       "2    2\n",
       "3    7\n",
       "9    4\n",
       "dtype: int64"
      ]
     },
     "execution_count": 6,
     "metadata": {},
     "output_type": "execute_result"
    }
   ],
   "source": [
    "b = {1:1,2:2,3:7,9:4}\n",
    "\n",
    "pd.Series(b)"
   ]
  },
  {
   "cell_type": "markdown",
   "id": "c4c958e9-f507-42e6-9aae-3c7024fa13b7",
   "metadata": {},
   "source": [
    "<font color=\"orange\">**LEMBRAR!**</font>\n",
    "> - Para importar o pacote utilize - import pandas as pd\n",
    "> - Uma tabela de dados é denominada DataFrame\n",
    ">  - Cada coluna em um DataFrame é denominada Series\n",
    ">  - DataFrame e Series são os principais **OBJETOS** da biblioteca.\n",
    "  "
   ]
  },
  {
   "cell_type": "markdown",
   "id": "28e04531-6aec-4810-b5b0-be34a171f7b1",
   "metadata": {},
   "source": [
    "## **Formatos de leitura e escrita** "
   ]
  },
  {
   "cell_type": "markdown",
   "id": "f995c2a5-cce8-4179-8e0b-baffc83901d7",
   "metadata": {},
   "source": [
    "<center><img src=\"figures/read_dataframe_formats.png\" align=\"center\" width=550/></center>"
   ]
  },
  {
   "cell_type": "code",
   "execution_count": 7,
   "id": "5ac42185-7f25-43ca-b70a-5677b45ebcea",
   "metadata": {},
   "outputs": [
    {
     "data": {
      "text/html": [
       "<div>\n",
       "<style scoped>\n",
       "    .dataframe tbody tr th:only-of-type {\n",
       "        vertical-align: middle;\n",
       "    }\n",
       "\n",
       "    .dataframe tbody tr th {\n",
       "        vertical-align: top;\n",
       "    }\n",
       "\n",
       "    .dataframe thead th {\n",
       "        text-align: right;\n",
       "    }\n",
       "</style>\n",
       "<table border=\"1\" class=\"dataframe\">\n",
       "  <thead>\n",
       "    <tr style=\"text-align: right;\">\n",
       "      <th></th>\n",
       "      <th>5</th>\n",
       "      <th>7</th>\n",
       "      <th>3</th>\n",
       "      <th>4</th>\n",
       "    </tr>\n",
       "  </thead>\n",
       "  <tbody>\n",
       "    <tr>\n",
       "      <th>0</th>\n",
       "      <td>5</td>\n",
       "      <td>6</td>\n",
       "      <td>7</td>\n",
       "      <td>8</td>\n",
       "    </tr>\n",
       "    <tr>\n",
       "      <th>1</th>\n",
       "      <td>8</td>\n",
       "      <td>10</td>\n",
       "      <td>11</td>\n",
       "      <td>24</td>\n",
       "    </tr>\n",
       "  </tbody>\n",
       "</table>\n",
       "</div>"
      ],
      "text/plain": [
       "   5   7   3   4\n",
       "0  5   6   7   8\n",
       "1  8  10  11  24"
      ]
     },
     "execution_count": 7,
     "metadata": {},
     "output_type": "execute_result"
    }
   ],
   "source": [
    "df = pd.read_csv(\"data/data_sample2.csv\")\n",
    "df"
   ]
  },
  {
   "cell_type": "markdown",
   "id": "ba61a7eb-ee38-4033-9d95-43cb10a62fc2",
   "metadata": {},
   "source": [
    "Kaggle dataset: [Open food Facts](https://www.kaggle.com/openfoodfacts/world-food-facts/data)"
   ]
  },
  {
   "cell_type": "markdown",
   "id": "8fd3b316-57f4-4be7-bc87-868c9f67cf14",
   "metadata": {},
   "source": [
    "O formato salvo impacta na performance do arquivo. Como podemos ver a seguir:"
   ]
  },
  {
   "cell_type": "code",
   "execution_count": 8,
   "id": "0b62674c-1a0a-46e8-afc5-68d445352472",
   "metadata": {},
   "outputs": [
    {
     "name": "stdout",
     "output_type": "stream",
     "text": [
      "9.412795066833496\n"
     ]
    }
   ],
   "source": [
    "from time import time\n",
    "\n",
    "tick = time()\n",
    "df = pd.read_csv(\"data/en.openfoodfacts.org.products.tsv\", sep=\"\\t\", low_memory=False)\n",
    "tock = time()\n",
    "print(tock - tick)"
   ]
  },
  {
   "cell_type": "code",
   "execution_count": 9,
   "id": "583e84cc-d39c-473f-b0c6-d79e09858ec1",
   "metadata": {},
   "outputs": [
    {
     "name": "stdout",
     "output_type": "stream",
     "text": [
      "1.9434428215026855\n"
     ]
    }
   ],
   "source": [
    "tick = time()\n",
    "df = pd.read_parquet(\"data/en.openfoodfacts.org.products.parquet\")\n",
    "tock = time()\n",
    "print(tock - tick)"
   ]
  },
  {
   "cell_type": "markdown",
   "id": "36f3c397-7e86-44d0-baed-a8a74c2abc72",
   "metadata": {},
   "source": [
    "Vamos entender mais sobre isso nas próximas aulas."
   ]
  },
  {
   "cell_type": "markdown",
   "id": "e5475d7e-eb45-44ae-96a9-ba0856bf49e6",
   "metadata": {
    "tags": []
   },
   "source": [
    "## **Explicando os tipos de dados**"
   ]
  },
  {
   "cell_type": "markdown",
   "id": "3200208c-b7ba-4618-a54a-2a601ca3fc09",
   "metadata": {},
   "source": [
    "| Pandas dtype   | Python type   | NumPy type   | Usage  |\n",
    "|---|---|---|---|\n",
    "| object     | str or mixed  | string_, unicode_, mixed types   |  Text or mixed numeric and non-numeric values |\n",
    "| int64      | int |  int_, int8, int16, int32, int64, uint8, uint16, uint32, uint64 | Integer numbers  |\n",
    "| float64    | float  | float64 \tfloat \tfloat_, float16, float32, float64  | Floating point numbers  |\n",
    "| bool       |  bool |  bool_ |  True/False values |\n",
    "| datetime64 | --  | datetime64[ns]  | Date and time values |\n",
    "| timedelta[ns] | --  | NA  | Differences between two datetimes  |\n",
    "| category   | -- | NA |  Finite list of text values |\n",
    "\n",
    "--- \n",
    "Capacity:\n",
    "\n",
    "- Int16: (-32,768 to +32,767)\n",
    "\n",
    "- Int32: (-2,147,483,648 to +2,147,483,647)\n",
    "\n",
    "- Int64: (-9,223,372,036,854,775,808 to +9,223,372,036,854,775,807)"
   ]
  },
  {
   "cell_type": "markdown",
   "id": "defe10fe-b60c-441b-aa92-23194801f4b5",
   "metadata": {},
   "source": [
    "Suponha que você tem um DataFrame com uma coluna idade:"
   ]
  },
  {
   "cell_type": "code",
   "execution_count": 10,
   "id": "f2eab469-e134-42d0-81f6-9ef5e1b1cec5",
   "metadata": {},
   "outputs": [
    {
     "name": "stdout",
     "output_type": "stream",
     "text": [
      "<class 'pandas.core.frame.DataFrame'>\n",
      "RangeIndex: 10000 entries, 0 to 9999\n",
      "Data columns (total 1 columns):\n",
      " #   Column  Non-Null Count  Dtype\n",
      "---  ------  --------------  -----\n",
      " 0   0       10000 non-null  int64\n",
      "dtypes: int64(1)\n",
      "memory usage: 78.2 KB\n"
     ]
    }
   ],
   "source": [
    "aux = [np.random.randint(200) for i in range(10000)]\n",
    "col_idades = pd.DataFrame(aux)\n",
    "col_idades.info()"
   ]
  },
  {
   "cell_type": "markdown",
   "id": "b030003d-9522-4974-880f-787f5cb8e845",
   "metadata": {},
   "source": [
    "Por default o pandas resolveu utilizar int64 para representar essa coluna, isso significa que podemos representar do número ```-9,223,372,036,854,775,808``` ao ```+9,223,372,036,854,775,80```. Entretanto sabemos que não deve ter ninguém com mais de 200 anos de vida atualmente... logo poderíamos utilizar um tipo de dado da coluna mais ótimo como exemplo ```Int16``` que vai de ```-32,768``` a ```+32,767```.\n",
    "\n",
    "Então vamos dimunir a quantidade de memória utilizada por esse objeto."
   ]
  },
  {
   "cell_type": "code",
   "execution_count": 11,
   "id": "25ae1f68-c37f-4da3-b8ee-eac3c5e208b3",
   "metadata": {},
   "outputs": [
    {
     "name": "stdout",
     "output_type": "stream",
     "text": [
      "<class 'pandas.core.frame.DataFrame'>\n",
      "RangeIndex: 10000 entries, 0 to 9999\n",
      "Data columns (total 1 columns):\n",
      " #   Column  Non-Null Count  Dtype\n",
      "---  ------  --------------  -----\n",
      " 0   0       10000 non-null  int16\n",
      "dtypes: int16(1)\n",
      "memory usage: 19.7 KB\n"
     ]
    }
   ],
   "source": [
    "col_idades.astype({0:\"int16\"}).info()"
   ]
  },
  {
   "cell_type": "markdown",
   "id": "d0ac732d-4b12-40a1-888a-a379c6d65b70",
   "metadata": {},
   "source": [
    "Estamos utilizando praticamente 3x menos memória para armazenar o mesmo dado. Então não podemos ir adiante? Sera que não podemos utilizar o int8 para representar essa coluna?"
   ]
  },
  {
   "cell_type": "code",
   "execution_count": 12,
   "id": "035050cb-7079-422d-8776-13437eadbb60",
   "metadata": {},
   "outputs": [
    {
     "name": "stdout",
     "output_type": "stream",
     "text": [
      "<class 'pandas.core.frame.DataFrame'>\n",
      "RangeIndex: 10000 entries, 0 to 9999\n",
      "Data columns (total 1 columns):\n",
      " #   Column  Non-Null Count  Dtype\n",
      "---  ------  --------------  -----\n",
      " 0   0       10000 non-null  int8 \n",
      "dtypes: int8(1)\n",
      "memory usage: 9.9 KB\n"
     ]
    }
   ],
   "source": [
    "col_idades.astype({0:\"int8\"}).info()"
   ]
  },
  {
   "cell_type": "markdown",
   "id": "374f524b-6c8a-424d-b6aa-482a38c0a948",
   "metadata": {},
   "source": [
    "Nossa! Ficou ainda melhor.... <font color=\"orange\">Cuidado!!!</font> olhe o que aconteceu com a coluna."
   ]
  },
  {
   "cell_type": "code",
   "execution_count": 13,
   "id": "caf650c0-18e2-4032-8ccd-8b65422865c7",
   "metadata": {},
   "outputs": [
    {
     "data": {
      "text/html": [
       "<div>\n",
       "<style scoped>\n",
       "    .dataframe tbody tr th:only-of-type {\n",
       "        vertical-align: middle;\n",
       "    }\n",
       "\n",
       "    .dataframe tbody tr th {\n",
       "        vertical-align: top;\n",
       "    }\n",
       "\n",
       "    .dataframe thead th {\n",
       "        text-align: right;\n",
       "    }\n",
       "</style>\n",
       "<table border=\"1\" class=\"dataframe\">\n",
       "  <thead>\n",
       "    <tr style=\"text-align: right;\">\n",
       "      <th></th>\n",
       "      <th>0</th>\n",
       "    </tr>\n",
       "  </thead>\n",
       "  <tbody>\n",
       "    <tr>\n",
       "      <th>count</th>\n",
       "      <td>10000.000000</td>\n",
       "    </tr>\n",
       "    <tr>\n",
       "      <th>mean</th>\n",
       "      <td>6.887100</td>\n",
       "    </tr>\n",
       "    <tr>\n",
       "      <th>std</th>\n",
       "      <td>82.045826</td>\n",
       "    </tr>\n",
       "    <tr>\n",
       "      <th>min</th>\n",
       "      <td>-128.000000</td>\n",
       "    </tr>\n",
       "    <tr>\n",
       "      <th>25%</th>\n",
       "      <td>-79.000000</td>\n",
       "    </tr>\n",
       "    <tr>\n",
       "      <th>50%</th>\n",
       "      <td>27.000000</td>\n",
       "    </tr>\n",
       "    <tr>\n",
       "      <th>75%</th>\n",
       "      <td>78.000000</td>\n",
       "    </tr>\n",
       "    <tr>\n",
       "      <th>max</th>\n",
       "      <td>127.000000</td>\n",
       "    </tr>\n",
       "  </tbody>\n",
       "</table>\n",
       "</div>"
      ],
      "text/plain": [
       "                  0\n",
       "count  10000.000000\n",
       "mean       6.887100\n",
       "std       82.045826\n",
       "min     -128.000000\n",
       "25%      -79.000000\n",
       "50%       27.000000\n",
       "75%       78.000000\n",
       "max      127.000000"
      ]
     },
     "execution_count": 13,
     "metadata": {},
     "output_type": "execute_result"
    }
   ],
   "source": [
    "col_idades.astype({0:\"int8\"}).describe()"
   ]
  },
  {
   "cell_type": "markdown",
   "id": "131821ca-3e0c-499d-a669-ee1cab1a8a86",
   "metadata": {},
   "source": [
    "Está dizendo aqui que o minimo é -128??? mas como assim oq aconteceu??? Vamos lá...\n",
    "\n",
    "\n",
    "```int8``` significa que temos 8 bits para representar algo... isso significa que temos $2^8 = 256$ combinações. Intuitivamente podemos pensarque o range seria então de 0 a 255. Entretanto, esse tipo de dado no python também considera os negativos, logo a representação correta contém -128 a 127 elementos, conforme o describe mostra. Dizemos que ocorreu overflow ... e queremos evitar isso. Cada caso é um caso escolha o tipo de dado mais coerente para sua aplicação."
   ]
  },
  {
   "cell_type": "markdown",
   "id": "d738ac7a-44d3-42f4-8bdd-7655578f7c33",
   "metadata": {},
   "source": [
    "## **Descrevendo o DataFrame**\n",
    "\n",
    "- head $\\rightarrow$ mostras as ```n``` primeiras linhas de um DataFrame.\n",
    "- tail $\\rightarrow$ mostras as ```n``` últimas linhas de um DataFrame.\n",
    "- info $\\rightarrow$ mostra quando de memória o DataFrame ocupa.\n",
    "- astype $\\rightarrow$ permite mudar o tipo de dado de uma coluna.\n",
    "- describe $\\rightarrow$ gera estatisticas básicas de um DataFrame."
   ]
  },
  {
   "cell_type": "markdown",
   "id": "bc947b50-bb35-4bdf-b8f7-22f2b051d53c",
   "metadata": {},
   "source": [
    "# **Exercicios** "
   ]
  },
  {
   "cell_type": "markdown",
   "id": "184e519d-d4ba-415c-a8e3-9db344b1bf93",
   "metadata": {},
   "source": [
    "1. Leia o arquivo ```exercise_1.csv``` e responda as seguintes questões.\n",
    "\n",
    "- Quantas linhas e colunas ele tem? \n",
    "\n",
    "- Quais são os tipos de dados de cada coluna? \n",
    "\n",
    "- Quanto ocupa esse objeto em memória? "
   ]
  },
  {
   "cell_type": "code",
   "execution_count": 14,
   "id": "96bf5dfa-7255-406c-83af-0c14f57a80c4",
   "metadata": {},
   "outputs": [],
   "source": [
    "df = pd.read_csv(\"data_exercise/exercise1.csv\", sep = \";\")\n",
    "# on progress"
   ]
  },
  {
   "cell_type": "markdown",
   "id": "8a78d2ff-e154-4c1b-bac7-c24302a9b9a0",
   "metadata": {},
   "source": [
    "2. Lei o arquivo ```exercise2.csv``` [Ref](https://dados.gov.br/dataset/cursos-de-graduacao5)\n",
    "\n",
    "- Quantas linhas e colunas ele tem? \n",
    "\n",
    "- Quais são os tipos de dados de cada coluna? \n",
    "\n",
    "- Quanto ocupa esse objeto em memória? Você acha que precisa de tudo isso?"
   ]
  },
  {
   "cell_type": "code",
   "execution_count": 15,
   "id": "1d3919c0-75ed-4e33-8336-e8124fa19df8",
   "metadata": {},
   "outputs": [],
   "source": [
    "df = pd.read_csv(\"data_exercise/exercise2.csv\", encoding=\"latin1\")\n",
    "# on progress"
   ]
  },
  {
   "cell_type": "markdown",
   "id": "ec58ba34-7e6b-4760-b8a8-b6223c90e552",
   "metadata": {},
   "source": [
    "3. Lei o arquivo ```exercise3.json``` [Ref](http://landpage-h.cgu.gov.br/dadosabertos/index.php?url=http://repositorio.dados.gov.br/seges/raio-x/cargos-funcoes-perfil.csv)\n",
    "\n",
    "- Quantas linhas e colunas ele tem? \n",
    "\n",
    "- Quais são os tipos de dados de cada coluna? \n",
    "\n",
    "- Quanto ocupa esse objeto em memória? Você acha que precisa de tudo isso?"
   ]
  },
  {
   "cell_type": "code",
   "execution_count": 16,
   "id": "c11ddbca-8c2c-46ab-9015-66afa755aaf9",
   "metadata": {},
   "outputs": [],
   "source": [
    "df = pd.read_json(\"data_exercise/exercise3.json\", orient=\"records\")\n",
    "# on progress"
   ]
  },
  {
   "cell_type": "markdown",
   "id": "f13bd28a-4c81-4c10-95bf-24f181cdc666",
   "metadata": {},
   "source": [
    "4. Lei o arquivo ```exercise4.json``` em um pandas DataFrame [Ref](http://landpage-h.cgu.gov.br/dadosabertos/index.php?url=http://repositorio.dados.gov.br/seges/raio-x/cargos-funcoes-perfil.csv)\n",
    "\n",
    "\n",
    "- Quais são os tipos de dados de cada coluna? \n",
    "\n",
    "- Quanto ocupa esse objeto em memória? Você acha que precisa de tudo isso?"
   ]
  },
  {
   "cell_type": "code",
   "execution_count": 17,
   "id": "73f8524a-263b-480b-a3fa-e8a34ab68ada",
   "metadata": {},
   "outputs": [],
   "source": [
    "df = pd.read_json(\"data_exercise/exercise4.json\", orient=\"split\")\n",
    "# on progress"
   ]
  },
  {
   "cell_type": "markdown",
   "id": "2f3b8c7d-fa74-4ada-9c6e-511d3b10bb47",
   "metadata": {},
   "source": [
    "5. Crie um DataFrame para cadastro de funcionarios com as colunas nome, idade e sexo baseado em listas e baseado em dicionários. Os dados você pode inventar.\n"
   ]
  },
  {
   "cell_type": "code",
   "execution_count": 18,
   "id": "8be13745-c906-4c8f-a81a-2c466582d9f4",
   "metadata": {},
   "outputs": [],
   "source": [
    "# on progress"
   ]
  },
  {
   "cell_type": "markdown",
   "id": "1ba83124-bee9-4bee-b058-f694b6d9219a",
   "metadata": {},
   "source": [
    "6. Leia o arquivo x e salve a cada 100 mil linhas um novo arquivo até o número de linhas da arquivo x terminar"
   ]
  },
  {
   "cell_type": "code",
   "execution_count": 19,
   "id": "0b685c9a-8b91-4619-a5c9-b5ff2d92fb7f",
   "metadata": {},
   "outputs": [],
   "source": [
    "# on progress"
   ]
  },
  {
   "cell_type": "markdown",
   "id": "a0244571-52ca-4785-b0d8-e7df8c677867",
   "metadata": {},
   "source": [
    "Extra:\n",
    "\n",
    "Você consegue transformar as tabelas do Wikipidia em um DataFrame?\n",
    "\n",
    "- Dica: Talvez precise instalar algumas bibliotecas extras, como exemplo, lxml, html5lib, bs4 ...\n",
    "\n",
    "[TABELA](https://en.wikipedia.org/wiki/Minnesota)"
   ]
  },
  {
   "cell_type": "code",
   "execution_count": 20,
   "id": "dc15ab3b-e7f8-43ff-8e80-2b03cafe957d",
   "metadata": {},
   "outputs": [],
   "source": [
    "dfs_internet = pd.read_html(\"https://en.wikipedia.org/wiki/Minnesota\")"
   ]
  },
  {
   "cell_type": "code",
   "execution_count": 21,
   "id": "10fe757a-5703-4e0b-9b41-c99c6824513d",
   "metadata": {},
   "outputs": [
    {
     "data": {
      "text/html": [
       "<div>\n",
       "<style scoped>\n",
       "    .dataframe tbody tr th:only-of-type {\n",
       "        vertical-align: middle;\n",
       "    }\n",
       "\n",
       "    .dataframe tbody tr th {\n",
       "        vertical-align: top;\n",
       "    }\n",
       "\n",
       "    .dataframe thead tr th {\n",
       "        text-align: left;\n",
       "    }\n",
       "</style>\n",
       "<table border=\"1\" class=\"dataframe\">\n",
       "  <thead>\n",
       "    <tr>\n",
       "      <th></th>\n",
       "      <th colspan=\"2\" halign=\"left\">Minnesota state symbols</th>\n",
       "    </tr>\n",
       "    <tr>\n",
       "      <th></th>\n",
       "      <th>Living insignia</th>\n",
       "      <th>Living insignia.1</th>\n",
       "    </tr>\n",
       "  </thead>\n",
       "  <tbody>\n",
       "    <tr>\n",
       "      <th>0</th>\n",
       "      <td>Bird</td>\n",
       "      <td>Common loon</td>\n",
       "    </tr>\n",
       "    <tr>\n",
       "      <th>1</th>\n",
       "      <td>Butterfly</td>\n",
       "      <td>Monarch</td>\n",
       "    </tr>\n",
       "    <tr>\n",
       "      <th>2</th>\n",
       "      <td>Fish</td>\n",
       "      <td>Walleye</td>\n",
       "    </tr>\n",
       "    <tr>\n",
       "      <th>3</th>\n",
       "      <td>Flower</td>\n",
       "      <td>Pink-and-white lady's slipper</td>\n",
       "    </tr>\n",
       "    <tr>\n",
       "      <th>4</th>\n",
       "      <td>Mushroom</td>\n",
       "      <td>Common morel (Morchella esculenta)</td>\n",
       "    </tr>\n",
       "  </tbody>\n",
       "</table>\n",
       "</div>"
      ],
      "text/plain": [
       "  Minnesota state symbols                                    \n",
       "          Living insignia                   Living insignia.1\n",
       "0                    Bird                         Common loon\n",
       "1               Butterfly                             Monarch\n",
       "2                    Fish                             Walleye\n",
       "3                  Flower       Pink-and-white lady's slipper\n",
       "4                Mushroom  Common morel (Morchella esculenta)"
      ]
     },
     "execution_count": 21,
     "metadata": {},
     "output_type": "execute_result"
    }
   ],
   "source": [
    "dfs_internet[1].head()"
   ]
  },
  {
   "cell_type": "markdown",
   "id": "27849694-6850-401e-bb09-e3de24bc43e0",
   "metadata": {},
   "source": [
    "<font color=\"orange\">**LEMBRAR!**</font>\n",
    "> - csv é um formato bastante comum, fiquem esperto com o separador.\n",
    "> - Muitas vezes é necessário saber encoding do nosso dado.\n",
    "> - Independente do formato (json, ..., html) precisa ser uma tabela para transformar em um DataFrame. "
   ]
  },
  {
   "cell_type": "markdown",
   "id": "e94eb0c3-1971-4c79-abe2-3373dadc5072",
   "metadata": {
    "tags": []
   },
   "source": [
    "## **Onde posso aprender mais?** "
   ]
  },
  {
   "cell_type": "markdown",
   "id": "55a3bef8-9a8f-4cba-a73f-ed0961335658",
   "metadata": {},
   "source": [
    "\n",
    "\n",
    "[Comnuidade Pandas](https://pandas.pydata.org/docs/getting_started/tutorials.html). Aqui tem livros, palestras, tutoriais entre outros.\n",
    "\n",
    "Livro indicado pela própria biblioteca:\n",
    "<center><img src=\"figures/livro_pandas.png\" align=\"center\" width=100/></center>\n",
    "\n",
    "Youtube:\n",
    "\n",
    "- <font color=\"orange\">(Avançado)</font>: [Pandas by Matt Harrison](https://www.youtube.com/watch?v=UURvPeczxJI&t=3395s) - 19 de agosto de 2021\n"
   ]
  }
 ],
 "metadata": {
  "kernelspec": {
   "display_name": "venv_playground",
   "language": "python",
   "name": "venv_playground"
  },
  "language_info": {
   "codemirror_mode": {
    "name": "ipython",
    "version": 3
   },
   "file_extension": ".py",
   "mimetype": "text/x-python",
   "name": "python",
   "nbconvert_exporter": "python",
   "pygments_lexer": "ipython3",
   "version": "3.9.9"
  }
 },
 "nbformat": 4,
 "nbformat_minor": 5
}
