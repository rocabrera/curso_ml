{
 "cells": [
  {
   "cell_type": "markdown",
   "metadata": {},
   "source": [
    "# **Amostragem e Estatística Inferencial**"
   ]
  },
  {
   "cell_type": "code",
   "execution_count": null,
   "metadata": {},
   "outputs": [],
   "source": [
    "import numpy as np\n",
    "import pandas as pd\n",
    "\n",
    "import scipy\n",
    "\n",
    "import matplotlib.pyplot as plt\n",
    "%matplotlib inline\n",
    "\n",
    "import seaborn as sns\n",
    "sns.set_palette(\"Set1\", 8, .75)"
   ]
  },
  {
   "cell_type": "markdown",
   "metadata": {},
   "source": [
    "## **TOC:**\n",
    "Na aula de hoje, vamos explorar os seguintes tópicos em Python:\n",
    "\n",
    "- 1) [Introdução](#intro)\n",
    "- 2) [Amostragem](#amostragem)\n",
    "    - 2.1) [Tipos de Amostragem](#tipos_amostragem) \n",
    "    - 2.2) [Amostra Aleatória Simples](#aleatoria_simples)\n",
    "    - 2.3) [Amostra Estratificada](#estratificada)\n",
    "    - 2.4) [Tamanho Amostral](#tamanho_amostral)\n",
    "- 3) [Teorema central do limite](#TLC)\n",
    "    - 3.1) [Intervalos de confiança](#intervalo_confianca)\n",
    "    - 3.2) [p-value](#p_value)\n",
    "- 4) [Testes de Hipótese](#hyphotesis_test)\n",
    "    - 4.1) [Tipos de erros](#error_type)\n",
    "- 5) [Correlação](#corr)\n",
    "    - 5.1) [Coeficiente de correlação de Pearson](#pearson)\n",
    "    - 5.2) [Coeficiente de correlação de Spearman](#spearman)"
   ]
  },
  {
   "cell_type": "markdown",
   "metadata": {},
   "source": [
    "___"
   ]
  },
  {
   "cell_type": "markdown",
   "metadata": {},
   "source": [
    "## 1) **Introdução** <a class=\"anchor\" id=\"intro\"></a>\n",
    "\n",
    "Quando se prepara um macarrão, uma unidade desse é retirada para saber se o ponto de cozimento é o desejado.\n",
    "\n",
    "Pra saber se uma sopa está corretamente salgada, experimentamos uma única colherada.\n",
    "\n",
    "Quando um médico deseja identificar se um paciente está doente, alguns ml de sangue são retirados para análise. \n",
    "\n",
    "Em todos os casos acima, não seria conveniente analisar o todo, para chegar a uma conclusão satisfatória. De fato, o que fazemos é **tirar uma parte do todo** para validar alguma suposição.\n",
    "\n",
    "Este procedimento é chamado de **amostragem**, e tem como objetivo **obter informações, tirar conclusões sobre o todo** com base na **análise de dados coletados de parte do todo (amostra)**.\n",
    "\n",
    "A **inferência estatística** é a área que define:\n",
    "\n",
    "- Como coletar as amostras do todo a serem analisadas;\n",
    "- Como, e com que confiança, podemos generalizar as conclusões para o todo.\n",
    "\n",
    "\n",
    "<center><img src=\"figures/pop_amostral.png\" align=\"center\" width=450/></center>"
   ]
  },
  {
   "cell_type": "markdown",
   "metadata": {},
   "source": [
    "#### **Definições**\n",
    "\n",
    "**População** ou **Universo**: é o conjunto de todas as unidades elementares de interesse: o todo. A população sempre deve ser definida claramente e em termos da informação que se pretende conhecer;\n",
    "\n",
    "**Unidade**: trata-se de qualquer elemento da populaçao;\n",
    "\n",
    "**Amostra**: uma parte ou subconjunto da população;\n",
    "\n",
    "**Censo**: observação de todos os elementos da população;\n",
    "\n",
    "**Parâmetro Populacional**:  Pode ser qualitativa (gosto musical, opnião sobre o governo, etc) ou quantitativa (média, proporção, quantidade, etc).\n",
    "\n",
    "**Estimadores pontuais**: são valores que **estimam** os parâmetros populacionais, calculados com base em uma amostra.\n",
    "<br>\n",
    "\n",
    "- Exemplos de parâmetros populacionais: \n",
    "    - média: $\\mu$\n",
    "    - diferença de médias: $\\mu_1 - \\mu_2$\n",
    "    \n",
    "- Exemplos de estimadores de ponto: \n",
    "    - média: $\\bar{x}$\n",
    "    - diferença de médias: $\\bar{x}_1 - \\bar{x}_2$\n"
   ]
  },
  {
   "cell_type": "markdown",
   "metadata": {},
   "source": [
    "___"
   ]
  },
  {
   "cell_type": "markdown",
   "metadata": {},
   "source": [
    "## 2) **Amostragem** <a class=\"anchor\" id=\"amostragem\"></a>\n",
    "\n",
    "Veremos agora os principais conceitos e métodos da primeira etapa de todo estudo estatístico: a amostragem\n",
    "\n",
    "_____________"
   ]
  },
  {
   "cell_type": "markdown",
   "metadata": {},
   "source": [
    "### 2.1) **Tipos de Amostragem** <a class=\"anchor\" id=\"tipos_amostragem\"></a>\n",
    "\n",
    "- **Amostra probabilística**: todos os elementos da população apresentam probabilidade maior que zero de serem selecionados\n",
    "\n",
    "\n",
    "- **Amostra não probabilística**: quando não há probabilidade clara/conhecida de seleção dos elementos. Os elementos são escolhidos de forma julgamental.\n",
    "\n",
    "Aqui, abordaremos apenas os métodos relacionados à **amostragem probabilística**, com o objetico de obter uma **amostra representativa**. \n",
    "\n",
    "Uma amostra é considerada representativa quando consegue **refletir as caracteristicas da população**.\n",
    "\n",
    "Vamos ver os principais **métodos de amostragem**:"
   ]
  },
  {
   "cell_type": "markdown",
   "metadata": {},
   "source": [
    "____\n"
   ]
  },
  {
   "cell_type": "markdown",
   "metadata": {},
   "source": [
    "### 2.2) **Amostra Aleatória Simples** <a class=\"anchor\" id=\"aleatoria_simples\"></a>\n",
    "\n",
    "Este é o método mais simples e mais importante de seleção de uma amostra, pois pode ser usada em combinação com outros métodos. A premissa assumida é que a população é homogênea com relação à característica de interesse.\n",
    "\n",
    "A amostra aleatória simples pode ser realizada com ou sem reposição. No caso em que há reposição, cada elemento pode ser sorteado mais de uma vez. Para exemplificar, suponha que se queira sortear um número aleatório de uma urna, se for uma Amostra Aleatória Simples com preposição,  este número voltará para urna para participar do próximo sorteio. Se não houver reposição, cada elemento só poderá ser selecionado uma vez para compor a amostra.\n",
    " \n",
    "Considere uma população formada por $N$ elementos (conhecido e finito). Este método consiste em selecionar $n$ elementos, sendo que cada elemento tem a mesma probabilidade de ser selecionado.\n",
    "\n",
    "**Exemplo**: Considere uma população formada por 20 alunos. Selecionar de forma aleatória 5 alunos, **sem reposição**."
   ]
  },
  {
   "cell_type": "code",
   "execution_count": null,
   "metadata": {},
   "outputs": [],
   "source": []
  },
  {
   "cell_type": "markdown",
   "metadata": {},
   "source": [
    "____"
   ]
  },
  {
   "cell_type": "markdown",
   "metadata": {},
   "source": [
    "### 2.3) **Amostra Estratificada** <a class=\"anchor\" id=\"estratificada\"></a>\n",
    "\n",
    "Trata-se do método em que a população é dividida em grupos (estratos) segundo alguma(s) característica(s) conhecida(s) na população sob estudo. \n",
    "\n",
    "São exemplos de estrato: gênero, faixa etária, região geográfica, profissão, etc. \n",
    "\n",
    "No geral, é usada quanto a população é heterogênea sob a ótica das características analisadas. \n",
    "\n",
    "Procedimento de amostragem:\n",
    "\n",
    "- Dividir as $N$ unidades da população em $N_1, N_2, \\cdots , N_j$ estratos distintos e homogêneos\n",
    "\n",
    "\n",
    "- Selecionar, ao acaso, uma amostra de tamanhos $n_1, n_2, \\cdots , n_j$ , de modo que o tamanho da amostra seja $n = n_1+n_2+ \\cdots +n_j$. O tamanho amostral pode ser proporcional à representatividade do estrato\n",
    "\n",
    "\n",
    "**Exemplo**: Considere a população formada pelos integrantes de uma escola. Dependendo do objetivo do estudo, esta população poderia ser dividida em alunos, professores, e demais funcionários (grupos mais homogêneos com relação à função na escola). \n",
    "\n",
    "Agora considere que a proporção de cada estrato seja: 50% alunos, 25% professores e 25% servidores. A amostragem poderia ser realizada dentro de cada estrato de forma que o tamanho amostral preserve esta característica. Sendo assim, se amostra total é $n$, a composição será $0,5 \\times n$ de alunos, $0,25\\times n$ de professores e $0,25\\times n$ de servidores.\n",
    "\n",
    "\n",
    "<center><img src=\"figures/amostragem_estratificada.png\" align=\"center\" width=450/></center>"
   ]
  },
  {
   "cell_type": "code",
   "execution_count": null,
   "metadata": {},
   "outputs": [],
   "source": []
  },
  {
   "cell_type": "markdown",
   "metadata": {},
   "source": [
    "____"
   ]
  },
  {
   "cell_type": "markdown",
   "metadata": {},
   "source": [
    "### 2.4) **Tamanho Amostral** <a class=\"anchor\" id=\"tamanho_amostral\"></a>\n",
    "\n",
    "Ao extrair uma amostra para inferir algo sobre a população, sempre há um erro associado ao **planejamento amostral**. \n",
    "\n",
    "A medida que o **tamanho da amostra aumenta**, o **erro do estimador diminui** (vide o TLC!). \n",
    "\n",
    "Vale ressaltar que uma amostra muito grande pode implicar em custos desnecessários, enquanto que uma amostra pequena pode tornar a pesquisa inconclusiva. \n",
    "\n",
    "Deste modo, o ponto chave de um levantamento amostral é determinar **o tamanho adequado da amostra** para que **os estimadores pontuais** sejam **estimados com confiança**!\n",
    "\n",
    "Ou seja, queremos responder à pergunta:\n",
    "\n",
    "> O quão confiantes estamos com relação aos estimadores pontuais que calcularmos com base em uma amostra?\n",
    "\n",
    "Ou seja,\n",
    "\n",
    "- A partir de $\\bar{x}$, o que eu posso **inferir** sobre $\\mu$?\n",
    "\n",
    "Para responder a estas perguntas, vamos introduzir uma das ideias mais poderosas da estatística: o **teorema central do limite**"
   ]
  },
  {
   "cell_type": "markdown",
   "metadata": {},
   "source": [
    "____"
   ]
  },
  {
   "cell_type": "markdown",
   "metadata": {},
   "source": [
    "## 3) **Teorema do Limite Central (TLC, ou TCL)** <a class=\"anchor\" id=\"TLC\"></a>\n",
    "\n",
    "Esse é um dos teoremas mais poderosos e fundamentais da estatística, porque ele é usado **como base para muitos outros resultados**. \n",
    "\n",
    "A ideia é que muitos dos resultados de inferência estatística são válidos assumindo como hipótese que os dados sob análise (**mais precisamente, os estimadores pontuais**) seguem uma distribuição normal. \n",
    "\n",
    "No entanto, há muitos casos de interesse em que a **distribuição populacional não é normal** -- e, na verdade, não temos como saber com segurança qual é a distribuição populacional, dado que temos apenas acesso às amostras!\n",
    "\n",
    "Assim, a priori, muitos dos resultados e métodos da inferência estatística seriam invalidados, dado que não podemos assegurar qual é a distribuição populacional dos dados que estamos analisando.\n",
    "\n",
    "E é neste contexto que o TLC mostra seu poder e importância, pois ele mostra que **estimadores pontuais de parâmetros populacionais serão normalmente distribuídos, INDEPENDENTE DA DISTRIBUIÇÃO POPULACIONAL!**\n",
    "\n",
    "Vamos enunciá-lo, e depois veremos alguns exemplos:\n",
    "\n",
    "> Seja uma **amostra aleatória** ($x_1, x_2, \\cdots, x_n$) de uma variável aleatória $X$ com **qualquer distribuição**, média $\\mu$ e desvio padrão $\\sigma$. Para $n$ suficientemente grande ($n>30$), a **distribuição das médias amostrais**, $\\overline{X}$, se **aproxima de uma distribuição normal** com média $\\mu_{\\overline{x}} = \\mu$ e erro padrão $SE_{\\overline{X}} = \\frac{\\sigma}{\\sqrt{n}}$. Isto é, $$\\overline{X} \\sim N \\left(\\mu, \\frac{\\sigma}{\\sqrt{n}} \\right)$$\n",
    "OBS.: quando estamos falando do **estimador amostral do desvio padrão**, costumamos usar o termo **erro padrão** (standard error), denotado $SE$."
   ]
  },
  {
   "cell_type": "markdown",
   "metadata": {},
   "source": [
    "O que o TLC para as médias diz, essencialmente, é:\n",
    "\n",
    "> A distribuição de **médias das amostras** tiradas de **qualquer distribuição populacional** será **aproximadamente normal**, contanto que fizermos uma quantidade razoável de amostras com tamanho amostral $n>30$.\n",
    "\n",
    "E isso é um resultado fantástico, pois nos permite a construção de uma **distribuição normal**, para a qual vale uma série de resultados e teoremas, a partir de **qualquer distribuição populacional**!\n",
    "\n",
    "Vamos ver alguns exemplos:"
   ]
  },
  {
   "cell_type": "markdown",
   "metadata": {},
   "source": [
    "____"
   ]
  },
  {
   "cell_type": "markdown",
   "metadata": {},
   "source": [
    "__População: Distribuição Uniforme__\n",
    "\n",
    "A **função densidade de probabilidade** da [distribuição uniforme](https://en.wikipedia.org/wiki/Continuous_uniform_distribution) é dada por:\n",
    "\n",
    "$$f(x) = \\left\\{\\begin{matrix}\n",
    "\\frac{1}{b-a} \\ ,  & a \\leq x \\leq b\\\\ \n",
    "0 \\ , & x\\leq a \\ \\text{ou} \\  x \\geq b\n",
    "\\end{matrix}\\right.$$\n",
    "\n",
    "Com:\n",
    "\n",
    "$$ \\mu = \\frac{1}{2}(a + b) $$\n",
    "\n",
    "$$ \\sigma = \\frac{1}{\\sqrt{12}}(b-a) $$"
   ]
  },
  {
   "cell_type": "code",
   "execution_count": null,
   "metadata": {
    "tags": []
   },
   "outputs": [],
   "source": []
  },
  {
   "cell_type": "markdown",
   "metadata": {},
   "source": [
    "____"
   ]
  },
  {
   "cell_type": "markdown",
   "metadata": {},
   "source": [
    "__População: Distribuição Gamma__\n",
    "\n",
    "A **função densidade de probabilidade** da [distribuição gamma](https://en.wikipedia.org/wiki/Gamma_distribution) é dada por:\n",
    "\n",
    "$$ f(x) = \\frac{\\beta^\\alpha x^{\\alpha-1}e^{-\\beta x}}{\\Gamma(\\alpha)} $$\n",
    "\n",
    "Com:\n",
    "\n",
    "$$ \\mu = \\frac{\\alpha}{\\beta} $$\n",
    "\n",
    "$$ \\sigma = \\frac{\\sqrt{\\alpha}}{\\beta} $$"
   ]
  },
  {
   "cell_type": "code",
   "execution_count": null,
   "metadata": {},
   "outputs": [],
   "source": []
  },
  {
   "cell_type": "markdown",
   "metadata": {},
   "source": [
    "____"
   ]
  },
  {
   "cell_type": "markdown",
   "metadata": {},
   "source": [
    "__População: Distribuição exponencial__\n",
    "\n",
    "A **função densidade de probabilidade** da [distribuição exponencial](https://en.wikipedia.org/wiki/Exponential_distribution) é dada por:\n",
    "\n",
    "$$f(x) = \\left\\{\\begin{matrix}\n",
    "\\frac{1}{\\beta} e^{-\\frac{x}{\\beta}} \\ ,  & x \\geq 0\\\\ \n",
    "0 \\ , & x <0\n",
    "\\end{matrix}\\right.$$\n",
    "\n",
    "Com:\n",
    "\n",
    "$$ \\mu = \\beta $$\n",
    "\n",
    "$$ \\sigma = \\beta  $$"
   ]
  },
  {
   "cell_type": "code",
   "execution_count": null,
   "metadata": {},
   "outputs": [],
   "source": []
  },
  {
   "cell_type": "markdown",
   "metadata": {},
   "source": [
    "_____"
   ]
  },
  {
   "cell_type": "markdown",
   "metadata": {},
   "source": [
    "Vimos acima o TLC em ação, o que é bem legal.\n",
    "\n",
    "Mas na prática, não é muito conveniente fazermos diversas amostras para termos uma distribuição amostral!\n",
    "\n",
    "Na realidade, muitas vez temos recursos para fazer **apenas uma amostra**.\n",
    "\n",
    "A boa notícia é que **se estivermos nas condições de aplicação do TLC**, isso é tudo que basta: **UMA AMOSTRA!**\n",
    "\n",
    "Com uma única amostra, é possível calcularmos **nossos estimadores pontuais**, e, além disso (e mais importante): estimar uma **margem de erro** que nos dê, com certo grau de confiança, um intervalo de valores possíveis para o parâmetro populacional!\n",
    "\n",
    "Vamos entender isso melhor..."
   ]
  },
  {
   "cell_type": "markdown",
   "metadata": {},
   "source": [
    "_____"
   ]
  },
  {
   "cell_type": "markdown",
   "metadata": {},
   "source": [
    "### 3.1) **Intervalos de confiança** <a class=\"anchor\" id=\"intervalo_confianca\"></a>\n",
    "\n",
    "Quando calculamos um **estimador pontual** com base nos dados de uma amostra, esse valor do estimador é a **melhor (e única!) estimativa que temos para o parâmetro populacional**.\n",
    "\n",
    "Mas, como este estimador foi calculado com base em um pedaço reduzido da população, é natural **haja uma diferença com relação ao parâmetro pessoal**.\n",
    "\n",
    "> Por isso, é importante que tenhamos um **intervalo de valores possíveis** para a estimativa do parâmetro populacioonal ao invés do estimador pontual (daí o nome \"pontual\", aliás)\n",
    "\n",
    "Especificar apenas o parâmetro populacional é como **pescar com uma lança**: é uma técnica precisa, mas tem alta chance de errar.\n",
    "\n",
    "Se queremos ter mais chances de caputrar o peixe, seria melhor **usar uma rede**: menos precisa, mas mais segura.\n",
    "\n",
    "O equivalente de \"pescar com uma rede\" é especificar um **intervalo de confiança**, ou seja, um **intervalo de valores para o parâmetro populacional**, com certo grau de confiança, ao invés de apresentarmos um único valor.\n",
    "\n",
    "Como o estimador pontual é nosso melhor palpite para o parâmetro populacional, faz sentido que ele seja o centro do intervalo de confiança. Mas como definir os limites do intervalo?\n",
    "\n",
    "<center><img src=\"figures/interval_se.png\" align=\"center\" width=450/></center>\n"
   ]
  },
  {
   "cell_type": "markdown",
   "metadata": {},
   "source": [
    "Para definir a **largura do intervalo de confiança**, utilizamos **o erro padrão**!\n",
    "\n",
    "> Sabemos que, **dentro das hipóteses do TLC**,\n",
    "- A **média da distribuição amostral será o parâmetro de interesse** ($\\mu_{\\bar{x}} = \\mu$);\n",
    "- O erro padrão representa o **desvio padrão** do estimador pontual;\n",
    "- A distribuição amostral do estimador será **aproximadamente normal**\n",
    "\n",
    "Sabendo tudo isso, e sabendo que 95% dos dados estão centrados entre 1.96 desvios-padrão da dsitribuição normal,\n",
    "\n",
    "<center><img src=\"figures/se_error.png\" align=\"center\" width=350/></center>\n",
    "\n",
    "\n",
    "> **Podemos construir um intervalo de confiança que se estende 1.96 erros padrões (SEs) do estimador pontual para estarmos 95% confiantes de que o intervalo captura o parâmetro populacional!**\n",
    "\n",
    "Isso significa que se fizéssemos **muitas amostras**, aproximadamente 95% dos intervalos de confiança construídos **conteriam o parâmetro populacional!**\n",
    "\n",
    "\n",
    "<center><img src=\"figures/example_tlc.png\" align=\"center\" width=350/></center>\n"
   ]
  },
  {
   "cell_type": "markdown",
   "metadata": {},
   "source": [
    "Assim,\n",
    "\n",
    "> **Se a distribuição amostral de um estimador pontual $EP$ se enquadra nas condições do TLC, o intervalo de confiança de 95% é dado por $$\\boxed{EP \\pm 1.96 \\  SE_{EP}}$$**\n",
    "\n",
    "Ou seja, para o caso da **média**, temos $\\bar{x} \\pm 1.96 \\ \\frac{\\sigma}{\\sqrt{n}}$\n",
    "\n",
    "\n",
    "Para diferentes graus de confiança, usamos diferentes multiplicadores\n",
    "\n",
    "\n",
    "<center><img src=\"figures/confidance_interval_threshold.png\" align=\"center\" width=350/></center>\n",
    "\n",
    "\n",
    "> **IC de 90%: $\\boxed{EP \\pm 1.645 \\  SE_{EP}}$**\n",
    "\n",
    "> **IC de 99%: $\\boxed{EP \\pm 2.576 \\  SE_{EP}}$**\n",
    "\n",
    "Naturalmente, quanto **mais largo o IC**, mais **confiança você tem que o parâmetro populacional é capturado dentro do intervalo**: quanto maior a rede, mais chance vc tem de pegar o peixe!"
   ]
  },
  {
   "cell_type": "markdown",
   "metadata": {},
   "source": [
    "### Agora deu pra perceber a importância de uma amostra grande?\n",
    "\n",
    "Note as equações para o SE da média e da proporção:\n",
    "\n",
    "\n",
    "Não somente um $n$ grande nos perimite usar o TLC (**e isso é um elemento fundamental de tudo o que fizemos!!**), como os SE são **inversamente proporcionais** a $\\sqrt{n}$, de modo que $$\\uparrow n  \\ \\ \\Leftrightarrow  \\ \\downarrow SE \\ \\ \\ \\Leftrightarrow \\  \\downarrow IC$$\n",
    "\n",
    "E, claro, quão menor é o IC, mais precisa é nossa estimativa para o parâmetro populacional!\n",
    "\n",
    "Vamos agora a alguns exemplos!"
   ]
  },
  {
   "cell_type": "markdown",
   "metadata": {},
   "source": [
    "_____\n",
    "\n",
    "**Exemplo 2**: Vamos pegar a base de pesos e alturas:"
   ]
  },
  {
   "cell_type": "code",
   "execution_count": null,
   "metadata": {
    "tags": []
   },
   "outputs": [],
   "source": [
    "df_wh = pd.read_csv('data/weight-height.csv')\n",
    "\n",
    "df_wh[\"Height\"] = df_wh[\"Height\"] * 2.54\n",
    "df_wh[\"Weight\"] = df_wh[\"Weight\"] / 2.2046\n",
    "\n",
    "df_wh.sample(3)"
   ]
  },
  {
   "cell_type": "code",
   "execution_count": null,
   "metadata": {},
   "outputs": [],
   "source": []
  },
  {
   "cell_type": "markdown",
   "metadata": {},
   "source": [
    "é justo modelar as médias amostrais acima como normalmente distribuídas?\n",
    "\n",
    "R - sim, pois n>30, e vamos assumir amostra aleatória"
   ]
  },
  {
   "cell_type": "code",
   "execution_count": null,
   "metadata": {},
   "outputs": [],
   "source": []
  },
  {
   "cell_type": "markdown",
   "metadata": {},
   "source": [
    "Calcule agora o intervalo de confiança de 99% para as médias populacionais de altura e peso entre os sexos\n"
   ]
  },
  {
   "cell_type": "code",
   "execution_count": null,
   "metadata": {},
   "outputs": [],
   "source": []
  },
  {
   "cell_type": "markdown",
   "metadata": {},
   "source": [
    "como interpretar este resultado?\n",
    "\n",
    "estamos 95% confiantes que a média de altura das mulheres está entre 1.61m e 1.62m"
   ]
  },
  {
   "cell_type": "code",
   "execution_count": null,
   "metadata": {},
   "outputs": [],
   "source": []
  },
  {
   "cell_type": "markdown",
   "metadata": {},
   "source": [
    "**Laranja:** Existe uma probabilidade de 95% de que cada vez que eu medir alguém sua altura vai estar entre [161.63, 162.01]cm.\n",
    "\n",
    "**Vermelho:** Existe 2.5% de chance de cada vez que medirmos uma mulher termos uma altura menor que 161.63cm. Existe 2.5% de chance de cada vez que medirmos uma mulher termos uma altura maior que 162.01cm. "
   ]
  },
  {
   "cell_type": "markdown",
   "metadata": {},
   "source": [
    "Se nós medissimos uma mulher com altura 160, nós podemos dizer que essa mulher veio da mesma distribuição ($N \\left(\\mu_{\\overline{x}}, \\frac{\\sigma_{\\overline{x}}}{\\sqrt{n}}\\right)$) que estamos analisando? \n",
    "\n",
    "- $H_0$: Eles vem da mesma distribuição.\n",
    "- $H_1$: Eles <font color=\"orange\"><b>NÃO</b></font> vem da mesma distribuição."
   ]
  },
  {
   "cell_type": "markdown",
   "metadata": {},
   "source": [
    "# 3.2) **p-value**  <a class=\"anchor\" id=\"p_value\"></a> "
   ]
  },
  {
   "cell_type": "markdown",
   "metadata": {},
   "source": [
    "\n",
    "O ```p-value``` é a soma das probabilidades dos eventos que possuem probabilidade igual ou menor de acontecer."
   ]
  },
  {
   "cell_type": "code",
   "execution_count": null,
   "metadata": {},
   "outputs": [],
   "source": []
  },
  {
   "cell_type": "markdown",
   "metadata": {},
   "source": [
    "Qual a probabilidade de medirmos uma mulher entre 161.81cm e 161.83cm?"
   ]
  },
  {
   "cell_type": "code",
   "execution_count": null,
   "metadata": {},
   "outputs": [],
   "source": []
  },
  {
   "cell_type": "markdown",
   "metadata": {},
   "source": [
    "___"
   ]
  },
  {
   "cell_type": "markdown",
   "metadata": {},
   "source": [
    "## 4) **Testes de Hipóteses** <a class=\"anchor\" id=\"hyphotesis_test\"></a> "
   ]
  },
  {
   "cell_type": "markdown",
   "metadata": {},
   "source": [
    "- Kolmogorov–Smirnov test:\n",
    "    \n",
    "    - $H_0$: Os dados seguem a mesma distribuição.\n",
    "    - $H_1$: Os dados <font color=\"orange\"><b>NÃO</b></font> seguem a mesma distribuição."
   ]
  },
  {
   "cell_type": "code",
   "execution_count": null,
   "metadata": {},
   "outputs": [],
   "source": []
  },
  {
   "cell_type": "markdown",
   "metadata": {},
   "source": [
    "https://docs.scipy.org/doc/scipy/reference/generated/scipy.stats.ttest_ind.html"
   ]
  },
  {
   "cell_type": "markdown",
   "metadata": {},
   "source": [
    "**Teste t para Amostras Independentes:**\n",
    "\n",
    "Premissas:\n",
    "\n",
    "- Os dados são independentes: o valor de uma observação não influencia ou afeta o valor de outras observações.\n",
    "\n",
    "- A variável dependente (aquela que estamos usando para calcular a média dos grupos) é distribuída conforme uma distribuição Normal.\n",
    "\n",
    "- A variável dependente possui homogeneidade de variância dentre os grupos.\n",
    "\n",
    "Hipóteses:\n",
    "\n",
    "- $H_0$: $\\mu_1 = \\mu_2$\n",
    "- $H_1$: $\\mu_1 \\neq \\mu_2$ "
   ]
  },
  {
   "cell_type": "markdown",
   "metadata": {},
   "source": [
    "**Teste de Mann–Whitney**\n",
    "\n",
    "Hipóteses:\n",
    "\n",
    "- $H_0$: $mediana_1 = mediana_2$\n",
    "- $H_1$: $mediana_1 \\neq mediana_2$"
   ]
  },
  {
   "cell_type": "markdown",
   "metadata": {},
   "source": [
    "### **Resumo**\n",
    "\n",
    "**E como interpretar o p-value?** \n",
    "\n",
    "Para isso, usamos um **nível de confiança**, que em geral é tomado como $\\alpha = 5\\%$.\n",
    "\n",
    "Assim, \n",
    "\n",
    "> Se p-value $< \\alpha$: **rejeitamos $H_0$**: os dados apresentam evidência convincente **a favor de $H_1$**;\n",
    "\n",
    "> Se p-value $> \\alpha$: **falhamos em rejeita $H_0$**: os dados NÃO apresentam evidência convincente **a favor de $H_1$**.\n",
    " \n",
    " \n",
    "Se o p-value for de 1.6%, que é menor que 5%, podemos, com 5% de confiança, **rejeitar** a hipótese nula! Ou seja, **os nossos dados fornecem** evidências suficientemente fortes em favor da alternativa!"
   ]
  },
  {
   "cell_type": "markdown",
   "metadata": {},
   "source": [
    "_____"
   ]
  },
  {
   "cell_type": "markdown",
   "metadata": {},
   "source": [
    "## 4.1) **Tipos de erros** <a class=\"anchor\" id=\"error_type\"></a> \n",
    "\n",
    "O processo de inferência estatística é o processo de inferir alguma propriedade acerca de uma população de dados a partir de uma amostra desses dados. Nesse processo, existe a ocorrência de um **erro estatístico** que irá depender do tamanho da amostra em relação ao tamanho da população. \n",
    "\n",
    "Dessa forma, existem duas decisões possíveis:\n",
    "1. Rejeita-se $H_0$.\n",
    "2. Falha-se em rejeitar $H_0$.\n",
    "\n",
    "Com isso, pode-se acertar de duas formas ou errar de duas formas. \n",
    "\n",
    "<table>\n",
    "    <th> </th>\n",
    "    <th style=\" border: 1px solid black\">$H_0$ é verdadeira</th>\n",
    "    <th style=\" border: 1px solid black\">$H_1$ é verdadeira</th>\n",
    "    <tr style=\" border: 1px solid black\">\n",
    "        <td style=\" border: 1px solid black\">$H_0$ decidido</td>\n",
    "        <td style=\" border: 1px solid black\">Decisão correta</td>\n",
    "        <td style=\" border: 1px solid black\">Erro do tipo II</td>\n",
    "    </tr>\n",
    "    <tr style=\" border: 1px solid black\">\n",
    "        <td style=\" border: 1px solid black\">$H_1$ decidido</td>\n",
    "        <td style=\" border: 1px solid black\">Erro do tipo I</td>\n",
    "        <td style=\" border: 1px solid black\">Decisão correta</td>\n",
    "    </tr>\n",
    "</table>\n",
    "\n",
    "Cada um desses erros, o erro do tipo I ou o do tipo II, poderá ser quantizado através de uma probabilidade de ocorrência; isso é, o erro do tipo I terá uma probabilidade $\\alpha$ de ocorrer, e o erro do tipo II terá uma probabilidade $\\beta$ de ocorrer.\n",
    "\n",
    "\n",
    "<table>\n",
    "    <th> </th>\n",
    "    <th style=\" border: 1px solid black\">$H_0$ é verdadeira</th>\n",
    "    <th style=\" border: 1px solid black\">$H_1$ é verdadeira</th>\n",
    "    <tr style=\" border: 1px solid black\">\n",
    "        <td style=\" border: 1px solid black\">$H_0$ decidido</td>\n",
    "        <td style=\" border: 1px solid black\">probabilidade 1-$\\alpha$</td>\n",
    "        <td style=\" border: 1px solid black\">probabilidade $\\beta$</td>\n",
    "    </tr>\n",
    "    <tr style=\" border: 1px solid black\">\n",
    "        <td style=\" border: 1px solid black\">$H_1$ decidido</td>\n",
    "        <td style=\" border: 1px solid black\">probabilidade $\\alpha$</td>\n",
    "        <td style=\" border: 1px solid black\">probabilidade $1-\\beta$</td>\n",
    "    </tr>\n",
    "</table>"
   ]
  },
  {
   "cell_type": "markdown",
   "metadata": {},
   "source": [
    "____"
   ]
  },
  {
   "cell_type": "markdown",
   "metadata": {},
   "source": [
    "## 5) **Correlação**  <a class=\"anchor\" id=\"corr\"></a> \n",
    "\n",
    "Um dos conceitos mais importantes em Data Science é o da **correlação**.\n",
    "\n",
    "A partir de estudos de correlação, é possível **descobrirmos como diferentes variáveis interagem**.\n",
    "\n",
    "<img src=\"https://www.mathsisfun.com/data/images/correlation-examples.svg\" width=700>\n",
    "\n",
    "É bem importante distinguirmos correlações **lineares** de **não lineares**. \n",
    "\n",
    "<img src=\"https://miro.medium.com/max/1414/1*ZMwog-_YcD0qBHc9_1T1-w.png\" width=700>\n",
    "\n",
    "Para fazer a distinção acima, há testes específicos!\n",
    "\n",
    "Para ilustrar as noções de correlação, vamos utilizar uma base de dados de alturas e pesos:"
   ]
  },
  {
   "cell_type": "markdown",
   "metadata": {},
   "source": [
    "### 5.1) **Coeficiente de correlação de Pearson** <a class=\"anchor\" id=\"pearson\"></a>\n",
    "\n",
    "Este coeficiente expressa a **taxa de relação linear entre duas variáveis numéricas**. Quanto mais próximo de 1 ou -1, mais **linearmente correlacionado estão as variáveis testadas**\n",
    "\n",
    "**Suposições:**\n",
    " - as observações são idependentes uma das outras e identicamente distribuidas.\n",
    " - as observações têm distribuição normal;\n",
    " \n",
    " **Interpretações:**\n",
    " - $H_0$: as amostras são linearmente independentes, isso é, não estão correlacionadas linearmente;\n",
    " - $H_1$: as amostras estão linearmente correlacionadas.\n"
   ]
  },
  {
   "cell_type": "markdown",
   "metadata": {},
   "source": [
    "Vamos ver um exemplo concreto, utilizando uma base que contém informações de [peso e altura](https://www.kaggle.com/mustafaali96/weight-height) de diversas pessoas"
   ]
  },
  {
   "cell_type": "code",
   "execution_count": null,
   "metadata": {},
   "outputs": [],
   "source": [
    "df_wh = pd.read_csv('data/weight-height.csv')"
   ]
  },
  {
   "cell_type": "markdown",
   "metadata": {},
   "source": [
    "Note que a mediana e a média são bem próximas... Isso é um indicativo de normalidade!"
   ]
  },
  {
   "cell_type": "markdown",
   "metadata": {},
   "source": [
    "__Vamos dar uma olhada na distribuição da altura e do peso...__"
   ]
  },
  {
   "cell_type": "code",
   "execution_count": null,
   "metadata": {},
   "outputs": [],
   "source": []
  },
  {
   "cell_type": "markdown",
   "metadata": {},
   "source": [
    "Parece que as variáveis de fato são normalmente distribuídas!"
   ]
  },
  {
   "cell_type": "markdown",
   "metadata": {},
   "source": [
    "Será que as variáveis estão relacionadas?"
   ]
  },
  {
   "cell_type": "code",
   "execution_count": null,
   "metadata": {},
   "outputs": [],
   "source": []
  },
  {
   "cell_type": "markdown",
   "metadata": {},
   "source": [
    "Aperentemente há uma relação **linear** entre as variáveis! \n",
    "\n",
    "Vamos dar uma olhada no teste de Pearson:"
   ]
  },
  {
   "cell_type": "code",
   "execution_count": null,
   "metadata": {},
   "outputs": [],
   "source": []
  },
  {
   "cell_type": "markdown",
   "metadata": {},
   "source": [
    "Separadamente para os sexos:"
   ]
  },
  {
   "cell_type": "code",
   "execution_count": null,
   "metadata": {},
   "outputs": [],
   "source": []
  },
  {
   "cell_type": "markdown",
   "metadata": {},
   "source": [
    "Em ambos os casos (e para todos os dados), obtivemos um coeficiente de pearson bem próxima de 1!\n",
    "\n",
    "E o p-valor foi 0, isso é: rejeitamos $H_0$, o que implica que as duas amostras **estão correlacionadas linearmente**!\n",
    "\n",
    "___________"
   ]
  },
  {
   "cell_type": "markdown",
   "metadata": {},
   "source": [
    "### 5.2) **Coeficiente de correlação de Spearman** <a class=\"anchor\" id=\"spearman\"></a>\n",
    "\n",
    "Este coeficiente indica se as amostras possuem correlação *monotônica*, isso é, **se aumentarmos ou diminuimos uma, a outra irá aumentar ou diminuir**. \n",
    "\n",
    "O coeficiente varia entre -1 e 1:\n",
    "\n",
    "> Quanto mais próximo de 1 for o coeficiente, mais positivamente correlacionada as amostras, isso é, se aumentarmos uma, a outra ira aumentar (ou se diminuimos uma, a outra irá diminuir); \n",
    "\n",
    "> Quanto mais próximo de -1 for o resultado, mais negativamente correlacionada estão as variáveis, isso é, aumentando uma, a outra irá dimunuir (ou se diminuímos uma, a outra irá aumentar). \n",
    "\n",
    "> Uma correlação de 0 indica ausência de correlação.\n",
    "\n",
    "**Importante:** o coeficiente de Spearman **não** indica correlação necessariamente linear!\n",
    "\n",
    "**Suposições:** \n",
    " - as observações são idependentes uma das outras e identicamente distribuidas.\n",
    "\n",
    " \n",
    " **Interpretação:**\n",
    " - $H_0$: as variáveis são independentes; ou\n",
    " - $H_1$ as variáveis são monotonicamente dependentes."
   ]
  },
  {
   "cell_type": "markdown",
   "metadata": {},
   "source": [
    "Ao analisarmos os valores da base de altura e peso, é natural que tenhamos um coeficiente de Spearman próximo de 1, dado que percebemos claramente uma relação monotônica entre a svariáveis:"
   ]
  },
  {
   "cell_type": "code",
   "execution_count": null,
   "metadata": {},
   "outputs": [],
   "source": []
  },
  {
   "cell_type": "markdown",
   "metadata": {},
   "source": [
    "Vamos analisar outra base?"
   ]
  },
  {
   "cell_type": "code",
   "execution_count": null,
   "metadata": {},
   "outputs": [],
   "source": [
    "from sklearn.datasets import load_breast_cancer"
   ]
  },
  {
   "cell_type": "code",
   "execution_count": null,
   "metadata": {},
   "outputs": [],
   "source": [
    "bunch = load_breast_cancer(as_frame=True)\n",
    "data = bunch[\"data\"]\n",
    "target = bunch[\"target\"]\n",
    "df_bc = pd.concat([data, target], axis=1)\n",
    "df_bc.sample(2).columns"
   ]
  },
  {
   "cell_type": "markdown",
   "metadata": {},
   "source": [
    "Vamos dar uma olhada na distribuição das variáveis numéricas!"
   ]
  },
  {
   "cell_type": "code",
   "execution_count": null,
   "metadata": {
    "tags": []
   },
   "outputs": [],
   "source": []
  },
  {
   "cell_type": "markdown",
   "metadata": {},
   "source": [
    "Nenhuma tem distribuição normal... Neste caso, temos que usar o teste de correlação de spearman, para pelo menos buscarmos alguma correlação monotônica!\n",
    "\n",
    "Vamos olhar, por exemplo, para as variáveis \"mean radius\" e \"mean area\":\n"
   ]
  },
  {
   "cell_type": "code",
   "execution_count": null,
   "metadata": {},
   "outputs": [],
   "source": []
  },
  {
   "cell_type": "markdown",
   "metadata": {},
   "source": [
    "Claramente parece haver alguma correlação! Vamos ver o que o teste de spearman diz:"
   ]
  },
  {
   "cell_type": "code",
   "execution_count": null,
   "metadata": {},
   "outputs": [],
   "source": []
  },
  {
   "cell_type": "markdown",
   "metadata": {},
   "source": [
    "Correlação bem próxima de 1, com p-value 0!\n",
    "\n",
    "Dessa forma, com um nível de significância de 5%, rejeitamos $H_0$, ou seja, as variáveis **são positivamente monotônicamente dependentes!**"
   ]
  },
  {
   "cell_type": "markdown",
   "metadata": {},
   "source": [
    "Caso queiramos avaliar a correlação de outras variáveis:"
   ]
  },
  {
   "cell_type": "code",
   "execution_count": null,
   "metadata": {},
   "outputs": [],
   "source": []
  }
 ],
 "metadata": {
  "kernelspec": {
   "display_name": "venv_playground",
   "language": "python",
   "name": "venv_playground"
  },
  "language_info": {
   "codemirror_mode": {
    "name": "ipython",
    "version": 3
   },
   "file_extension": ".py",
   "mimetype": "text/x-python",
   "name": "python",
   "nbconvert_exporter": "python",
   "pygments_lexer": "ipython3",
   "version": "3.9.9"
  }
 },
 "nbformat": 4,
 "nbformat_minor": 4
}
