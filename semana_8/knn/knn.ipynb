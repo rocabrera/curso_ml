{
 "cells": [
  {
   "cell_type": "markdown",
   "metadata": {},
   "source": [
    "# **K Nearest Neighbours**"
   ]
  },
  {
   "cell_type": "code",
   "execution_count": 1,
   "metadata": {},
   "outputs": [],
   "source": [
    "import numpy as np\n",
    "import pandas as pd\n",
    "import matplotlib.pyplot as plt\n",
    "plt.style.use('ggplot')\n",
    "import seaborn as sns\n",
    "sns.set_style(\"darkgrid\")\n",
    "\n",
    "from sklearn.datasets import load_boston, load_iris, load_breast_cancer\n",
    "\n",
    "from sklearn.neighbors import KNeighborsRegressor, KNeighborsClassifier\n",
    "from sklearn.preprocessing import StandardScaler\n",
    "\n",
    "from sklearn.model_selection import train_test_split, StratifiedKFold, KFold\n",
    "\n",
    "from sklearn.metrics.pairwise import euclidean_distances\n",
    "from sklearn.metrics import accuracy_score, mean_squared_error\n",
    "\n",
    "\n",
    "from IPython.core.display import display, HTML"
   ]
  },
  {
   "cell_type": "code",
   "execution_count": 2,
   "metadata": {},
   "outputs": [],
   "source": [
    "from Utils import prepareData, plot2Dimensions, plot_Kneighbors, my_final_plot_comparison, plot_decision_boundary_k"
   ]
  },
  {
   "cell_type": "markdown",
   "metadata": {},
   "source": [
    "## **TOC:**\n",
    "Na aula de hoje, vamos explorar os seguintes tópicos em Python:\n",
    "\n",
    "- 1) [Setup](#setup)\n",
    "- 2) [Um pouco de teoria](#teoria)\n",
    "- 3) [Intuição do algoritmo](#algo)\n",
    "- 4) [Implementação do algoritmo](#implementacao)\n",
    "- 5) [Sklearn Classifier](#sklearn_classifier)\n"
   ]
  },
  {
   "cell_type": "markdown",
   "metadata": {},
   "source": [
    "# **Setup** <a class=\"anchor\" id=\"intro\"></a>"
   ]
  },
  {
   "cell_type": "code",
   "execution_count": 3,
   "metadata": {},
   "outputs": [],
   "source": [
    "#Data Frame para classificação\n",
    "iris_df, description_clas = prepareData(load_iris)\n",
    "cancer_df, description_clas = prepareData(load_breast_cancer)\n",
    "#Select your data-set\n",
    "df = iris_df\n",
    "#Data Frame para regressão\n",
    "df_regr, description_regr = prepareData(load_boston)"
   ]
  },
  {
   "cell_type": "markdown",
   "metadata": {},
   "source": [
    "## **Um pouco de teoria** <a class=\"anchor\" id=\"intro\"></a>"
   ]
  },
  {
   "cell_type": "markdown",
   "metadata": {},
   "source": [
    "***Pontos Gerais:***\n",
    "\n",
    "- Usado para problemas de **classificação** e **regressão**.\n",
    "\n",
    "- Usado normalmente como benchmark para algoritmos mais complexos, isto é, antes de rodar o algoritmo mais complexo você roda o KNN.\n",
    "\n",
    "- Usado normalmente como benchmark para algoritmos mais complexos.\n",
    "\n",
    "- Possuí bons resultados em diversas áreas como econometria, compressão de dados e genética.\n",
    "\n",
    "\n",
    "***Sobre o Algoritmo:***\n",
    "\n",
    "- É um algoritmo supervisionado, isto é, precisamos de labels.\n",
    "\n",
    "- Cada exemplo é representado por um vetor no $\\mathbb{R}^n$ e seu label.\n",
    "\n",
    "- O algoritmo pode ser resumido em dois passos:\n",
    "  - Calcula a **distância** do *exemplo test* para todos os exemplos do dataset.\n",
    "  \n",
    "  - Seleciona os $K$ vizinhos mais próximos e calcula o resultado.\n",
    "\n",
    "\n",
    "***Detalhes do Algoritmo:***\n",
    "\n",
    "- É uma técnica não paramétrica, isto é, a gente não assume nenhuma distribuição para treinar o algoritmo.\n",
    "\n",
    "- **Não** possui uma fase explícita de treinamento (lazy).\n"
   ]
  },
  {
   "cell_type": "markdown",
   "metadata": {},
   "source": [
    "## **Intuição do algoritmo** <a class=\"anchor\" id=\"algo\"></a>"
   ]
  },
  {
   "cell_type": "markdown",
   "metadata": {},
   "source": [
    "Quantas features existem no nosso dataset?"
   ]
  },
  {
   "cell_type": "code",
   "execution_count": 4,
   "metadata": {},
   "outputs": [
    {
     "name": "stdout",
     "output_type": "stream",
     "text": [
      "Temos 4 features: ['feature_1', 'feature_2', 'feature_3', 'feature_4']\n",
      "\n"
     ]
    }
   ],
   "source": []
  },
  {
   "cell_type": "markdown",
   "metadata": {},
   "source": [
    "Visando simplificar o entendimento vamos aprensentar o algoritmo em duas dimensões."
   ]
  },
  {
   "cell_type": "code",
   "execution_count": 6,
   "metadata": {},
   "outputs": [],
   "source": []
  },
  {
   "cell_type": "markdown",
   "metadata": {},
   "source": [
    "### **Visualizando as duas dimensẽos**"
   ]
  },
  {
   "cell_type": "code",
   "execution_count": null,
   "metadata": {},
   "outputs": [],
   "source": []
  },
  {
   "cell_type": "markdown",
   "metadata": {},
   "source": [
    "### **Visualizando a posição de exemplos teste**"
   ]
  },
  {
   "cell_type": "code",
   "execution_count": null,
   "metadata": {},
   "outputs": [],
   "source": []
  },
  {
   "cell_type": "markdown",
   "metadata": {},
   "source": [
    "## **Implementação do algoritmo** <a class=\"anchor\" id=\"implementacao\"></a>"
   ]
  },
  {
   "cell_type": "markdown",
   "metadata": {},
   "source": [
    "Precisamos de uma forma de medir a distância entre dois pontos, isto é, precisamos de uma métrica de distância:\n",
    "\n",
    "-  Distância de Minkowski:\n",
    "$$D(X,Y) = (\\sum_{i=1}^{n} |x_i - y_i|^p)^{\\frac{1}{p}}$$\n",
    "\n",
    "-  Distância Euclidiana ($p=2$):\n",
    "\n",
    "$$D(X,Y) = (\\sum_{i=1}^{n} |x_i - y_i|^2)^{\\frac{1}{2}} = \\sqrt{\\sum_{i=1}^{n} |x_i - y_i|^2}$$\n",
    "  \n",
    "Obs: Como estamos trabalhando com distâncias, caso a escala das variáveis seja muito diferente é importante realizar **normalização** das features (variáveis)!!!"
   ]
  },
  {
   "cell_type": "code",
   "execution_count": 9,
   "metadata": {},
   "outputs": [],
   "source": []
  },
  {
   "cell_type": "markdown",
   "metadata": {},
   "source": [
    "## **Sklearn - KNeighborsClassifier** <a class=\"anchor\" id=\"sklearn_classifier\"></a>"
   ]
  },
  {
   "cell_type": "code",
   "execution_count": 14,
   "metadata": {},
   "outputs": [],
   "source": []
  },
  {
   "cell_type": "markdown",
   "metadata": {},
   "source": [
    "### **Procedimento Usual** "
   ]
  },
  {
   "cell_type": "code",
   "execution_count": 16,
   "metadata": {},
   "outputs": [],
   "source": []
  },
  {
   "cell_type": "markdown",
   "metadata": {},
   "source": [
    "### **E se $K$ for igual ao número de exemplos no Treino?** "
   ]
  },
  {
   "cell_type": "code",
   "execution_count": 19,
   "metadata": {},
   "outputs": [],
   "source": []
  },
  {
   "cell_type": "markdown",
   "metadata": {},
   "source": [
    "Resumindo, não estou levando as features em consideração, estamos prevendo utilizando simplesmente a probabilidade a priori."
   ]
  },
  {
   "cell_type": "markdown",
   "metadata": {},
   "source": [
    "### **Como selecionar o K correto ?** "
   ]
  },
  {
   "cell_type": "markdown",
   "metadata": {},
   "source": [
    "Função para plot de fronteira de decisão baseado no seguinte site:\n",
    "\n",
    "https://scikit-learn.org/stable/auto_examples/neighbors/plot_classification.html#sphx-glr-auto-examples-neighbors-plot-classification-py"
   ]
  },
  {
   "cell_type": "markdown",
   "metadata": {},
   "source": [
    "#### **Como o k influencia na fronteira de decisão?**"
   ]
  },
  {
   "cell_type": "code",
   "execution_count": null,
   "metadata": {},
   "outputs": [],
   "source": []
  },
  {
   "cell_type": "markdown",
   "metadata": {},
   "source": [
    "- Maior: $K \\rightarrow $ underfitting\n",
    "- Menor: $K \\rightarrow $ overfitting."
   ]
  },
  {
   "cell_type": "markdown",
   "metadata": {},
   "source": [
    "#### **Cross Validation**"
   ]
  },
  {
   "cell_type": "markdown",
   "metadata": {},
   "source": [
    "<details><summary><b>Open</b></summary>\n",
    "<center><img style=\"width: 400px;\" src=\"figures/cross_val.png\"></center>\n",
    "    \n",
    "https://scikit-learn.org/stable/modules/cross_validation.html#cross-validation"
   ]
  },
  {
   "cell_type": "code",
   "execution_count": 24,
   "metadata": {},
   "outputs": [],
   "source": [
    "    "
   ]
  },
  {
   "cell_type": "markdown",
   "metadata": {},
   "source": [
    "## **Regressão**"
   ]
  },
  {
   "cell_type": "code",
   "execution_count": null,
   "metadata": {},
   "outputs": [],
   "source": []
  },
  {
   "cell_type": "markdown",
   "metadata": {},
   "source": [
    "### **Procedimento Padrão**"
   ]
  },
  {
   "cell_type": "code",
   "execution_count": null,
   "metadata": {},
   "outputs": [],
   "source": []
  },
  {
   "cell_type": "markdown",
   "metadata": {},
   "source": [
    "### **Será que a gente consegue fazer melhor?**"
   ]
  },
  {
   "cell_type": "code",
   "execution_count": null,
   "metadata": {},
   "outputs": [],
   "source": []
  },
  {
   "cell_type": "markdown",
   "metadata": {},
   "source": [
    "## **Extra**"
   ]
  },
  {
   "cell_type": "markdown",
   "metadata": {},
   "source": [
    "Pontos Importantes para se lembrar:\n",
    "\n",
    "- Como não tem uma fase de treinamento é útil para testar um dataset e assim ter um benchmark inicial.\n",
    "\n",
    "- Pode ser usado tanto para regressão (***KNeighborsRegressor***) quanto classificação (***KNeighborsClassifier***). **Não esquecer de utilizar a métrica correta para avaliar o modelo.**\n",
    "\n",
    "- Quanto menor o valor de k mais provável é que seu modelo está overfitando os dados. Utilizar cross validation para escolher o melhor K.\n",
    "\n",
    "- Se os dados tem escalas diferentes normalização pode melhorar a performance do seu modelo.\n",
    "\n",
    "Próximos passos:\n",
    "\n",
    "- Como técnicas de redução dimensional podem melhorar os resultados?\n",
    "\n",
    "- Qual a métrica de distância correta a ser utilizada?\n",
    "\n",
    "- Quais são os algoritmos utilizados para calcular os $K$ vizinhos mais próximos?"
   ]
  }
 ],
 "metadata": {
  "kernelspec": {
   "display_name": "venv_playground",
   "language": "python",
   "name": "venv_playground"
  },
  "language_info": {
   "codemirror_mode": {
    "name": "ipython",
    "version": 3
   },
   "file_extension": ".py",
   "mimetype": "text/x-python",
   "name": "python",
   "nbconvert_exporter": "python",
   "pygments_lexer": "ipython3",
   "version": "3.9.9"
  }
 },
 "nbformat": 4,
 "nbformat_minor": 4
}
