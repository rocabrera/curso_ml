{
 "cells": [
  {
   "cell_type": "code",
   "execution_count": 19,
   "id": "ec589d9c-c732-431b-a533-8f98945c4c50",
   "metadata": {},
   "outputs": [],
   "source": [
    "import pandas as pd\n",
    "from IPython.display import display\n",
    "\n",
    "import seaborn as sns\n",
    "import matplotlib.pyplot as plt"
   ]
  },
  {
   "cell_type": "code",
   "execution_count": 20,
   "id": "bcead46d-8f64-4d55-ad32-44fede63b98c",
   "metadata": {},
   "outputs": [],
   "source": [
    "train = pd.read_parquet(\"data/tidy/train.parquet\")"
   ]
  },
  {
   "cell_type": "markdown",
   "id": "b38ac9db-5775-4746-9ec9-c097819e2947",
   "metadata": {},
   "source": [
    "# **Validação da base**"
   ]
  },
  {
   "cell_type": "markdown",
   "id": "953809c7-d9e7-447e-b046-e346991c6f3d",
   "metadata": {},
   "source": [
    "---\n",
    "\n",
    "- Os minimos e máximos das variáveis fazem sentido?\n",
    "- Quais colunas tem dados faltantes?\n",
    "- Existem amostras duplicadas?\n"
   ]
  },
  {
   "cell_type": "code",
   "execution_count": null,
   "id": "b32be524-ef2b-4740-9cb2-01ac9bcfe22f",
   "metadata": {},
   "outputs": [],
   "source": []
  },
  {
   "cell_type": "markdown",
   "id": "d178f97c-5343-4548-97d8-da9a8b381a28",
   "metadata": {},
   "source": [
    "---\n",
    "- Qual a nota das pessoas que faltaram nas provas ? \n",
    "\n",
    "    - TP_PRESENCA_CN\n",
    "    - TP_PRESENCA_CH\n",
    "    - TP_PRESENCA_LC\n",
    "    - TP_PRESENCA_MT"
   ]
  },
  {
   "cell_type": "code",
   "execution_count": 21,
   "id": "ae487753-7844-4825-b38e-922b68f135a5",
   "metadata": {},
   "outputs": [
    {
     "name": "stdout",
     "output_type": "stream",
     "text": [
      "TP_PRESENCA_CN: True\n",
      "TP_PRESENCA_CH: True\n",
      "TP_PRESENCA_LC: True\n",
      "TP_PRESENCA_MT: True\n"
     ]
    }
   ],
   "source": [
    "tp_mapping = {\"TP_PRESENCA_CN\": \"NU_NOTA_CN\",\n",
    "              \"TP_PRESENCA_CH\": \"NU_NOTA_CH\",\n",
    "              \"TP_PRESENCA_LC\": \"NU_NOTA_LC\",\n",
    "              \"TP_PRESENCA_MT\": \"NU_NOTA_MT\"}\n",
    "\n",
    "# 0 significa faltou e 2 eliminado\n",
    "for presence, nota in tp_mapping.items():\n",
    "    aux = (train.query(f\"{presence} == 0 | {presence} == 2\")\n",
    "                .loc[:,nota]\n",
    "                .isna()\n",
    "                .all())\n",
    "    print(f\"{presence}: {aux}\")"
   ]
  },
  {
   "cell_type": "markdown",
   "id": "964455ec-6302-4868-8f8b-e56c6bfa21c9",
   "metadata": {},
   "source": [
    "--- \n",
    "\n",
    "- Qual a nota das pessoas que faltaram em 1 dia? \n",
    "\n",
    "    - TP_PRESENCA_CN\n",
    "    - TP_PRESENCA_CH\n",
    "    - TP_PRESENCA_LC\n",
    "    - TP_PRESENCA_MT\n"
   ]
  },
  {
   "cell_type": "markdown",
   "id": "f7c59d2b-171d-4ca5-8046-fbb52681feb3",
   "metadata": {},
   "source": [
    "O enem possuí dois dias de prova. No primeiro dia são aplicadas as provas de Linguagens, Códigos e suas Tecnologias ```TP_PRESENCA_LC```, Ciências Humanas e suas Tecnologias  (```TP_PRESENCA_CH```) e Redação. No segundo dia são aplicadas as provas de Ciências da Natureza e suas Tecnologias (```TP_PRESENCA_CN```) e Matemática e suas Tecnologias  (```TP_PRESENCA_MT```). Isto é, se faltou em um dia as notas daquele dia devem todas estarem zeradas."
   ]
  },
  {
   "cell_type": "code",
   "execution_count": 22,
   "id": "eaeffdc3-ae09-4687-a71b-8d3c56c4610c",
   "metadata": {
    "tags": []
   },
   "outputs": [
    {
     "name": "stdout",
     "output_type": "stream",
     "text": [
      "DAY_ONE:\n",
      "NU_NOTA_LC         True\n",
      "NU_NOTA_CH         True\n",
      "NU_NOTA_REDACAO    True\n",
      "dtype: bool\n",
      "\n",
      "DAY_TWO:\n",
      "NU_NOTA_CN    True\n",
      "NU_NOTA_MT    True\n",
      "dtype: bool\n",
      "\n"
     ]
    }
   ],
   "source": [
    "day_mapping = {\"DAY_ONE\":((\"TP_PRESENCA_LC\", \"TP_PRESENCA_CH\"), (\"NU_NOTA_LC\", \"NU_NOTA_CH\", \"NU_NOTA_REDACAO\")),\n",
    "               \"DAY_TWO\":((\"TP_PRESENCA_CN\", \"TP_PRESENCA_MT\"), (\"NU_NOTA_CN\", \"NU_NOTA_MT\"))}\n",
    "\n",
    "for day, val in day_mapping.items():\n",
    "    (presence1, presence2), (notas) = val\n",
    "    aux = (train.query(f\"({presence1} == 0 | {presence1} == 2) & ({presence2} == 2 | {presence2} == 0)\")\n",
    "                .loc[:,notas]\n",
    "                .isna()\n",
    "                .all())\n",
    "    print(f\"{day}:\")\n",
    "    print(f\"{aux}\\n\")"
   ]
  },
  {
   "cell_type": "markdown",
   "id": "0ebf66ae-3666-4b61-85f8-37a7dd2405ed",
   "metadata": {},
   "source": [
    "# **Questões**\n",
    "---\n",
    "- Qual a distribuição das notas por sexo? \n",
    "\n",
    "    - TP_SEXO\n",
    "    - NU_NOTA_MT\n",
    "    \n"
   ]
  },
  {
   "cell_type": "code",
   "execution_count": 23,
   "id": "518d52f7-de2b-4053-9d94-40ff5f221d02",
   "metadata": {},
   "outputs": [
    {
     "data": {
      "text/plain": [
       "Index(['NU_NOTA_CN', 'NU_NOTA_CH', 'NU_NOTA_LC', 'NU_NOTA_MT',\n",
       "       'NU_NOTA_REDACAO'],\n",
       "      dtype='object')"
      ]
     },
     "execution_count": 23,
     "metadata": {},
     "output_type": "execute_result"
    }
   ],
   "source": [
    "train.filter(regex=\"NU_NOTA\").columns"
   ]
  },
  {
   "cell_type": "code",
   "execution_count": 24,
   "id": "ab9d115f-7b9b-4daa-a04f-45e9c7c94037",
   "metadata": {},
   "outputs": [
    {
     "data": {
      "text/html": [
       "<div>\n",
       "<style scoped>\n",
       "    .dataframe tbody tr th:only-of-type {\n",
       "        vertical-align: middle;\n",
       "    }\n",
       "\n",
       "    .dataframe tbody tr th {\n",
       "        vertical-align: top;\n",
       "    }\n",
       "\n",
       "    .dataframe thead th {\n",
       "        text-align: right;\n",
       "    }\n",
       "</style>\n",
       "<table border=\"1\" class=\"dataframe\">\n",
       "  <thead>\n",
       "    <tr style=\"text-align: right;\">\n",
       "      <th></th>\n",
       "      <th>TP_SEXO</th>\n",
       "      <th>PROVAS</th>\n",
       "      <th>NOTA</th>\n",
       "    </tr>\n",
       "  </thead>\n",
       "  <tbody>\n",
       "    <tr>\n",
       "      <th>0</th>\n",
       "      <td>F</td>\n",
       "      <td>NU_NOTA_CN</td>\n",
       "      <td>426.500000</td>\n",
       "    </tr>\n",
       "    <tr>\n",
       "      <th>1</th>\n",
       "      <td>F</td>\n",
       "      <td>NU_NOTA_CN</td>\n",
       "      <td>463.000000</td>\n",
       "    </tr>\n",
       "    <tr>\n",
       "      <th>2</th>\n",
       "      <td>M</td>\n",
       "      <td>NU_NOTA_CN</td>\n",
       "      <td>381.700012</td>\n",
       "    </tr>\n",
       "    <tr>\n",
       "      <th>3</th>\n",
       "      <td>M</td>\n",
       "      <td>NU_NOTA_CN</td>\n",
       "      <td>426.700012</td>\n",
       "    </tr>\n",
       "    <tr>\n",
       "      <th>4</th>\n",
       "      <td>M</td>\n",
       "      <td>NU_NOTA_CN</td>\n",
       "      <td>623.700012</td>\n",
       "    </tr>\n",
       "  </tbody>\n",
       "</table>\n",
       "</div>"
      ],
      "text/plain": [
       "  TP_SEXO      PROVAS        NOTA\n",
       "0       F  NU_NOTA_CN  426.500000\n",
       "1       F  NU_NOTA_CN  463.000000\n",
       "2       M  NU_NOTA_CN  381.700012\n",
       "3       M  NU_NOTA_CN  426.700012\n",
       "4       M  NU_NOTA_CN  623.700012"
      ]
     },
     "execution_count": 24,
     "metadata": {},
     "output_type": "execute_result"
    }
   ],
   "source": [
    "notas_columns = ['NU_NOTA_CN', 'NU_NOTA_CH', 'NU_NOTA_LC', 'NU_NOTA_MT', 'NU_NOTA_REDACAO']\n",
    "\n",
    "temp = (train.reset_index()\n",
    "             .melt(id_vars=\"TP_SEXO\", value_vars=notas_columns, var_name=\"PROVAS\", value_name=\"NOTA\"))\n",
    "temp.head()"
   ]
  },
  {
   "cell_type": "code",
   "execution_count": 33,
   "id": "8a56fcd3-2fb6-4f9d-86e9-fcd0b35c98cd",
   "metadata": {},
   "outputs": [
    {
     "data": {
      "text/plain": [
       "<seaborn.axisgrid.FacetGrid at 0x7fbf05b5e250>"
      ]
     },
     "execution_count": 33,
     "metadata": {},
     "output_type": "execute_result"
    },
    {
     "data": {
      "image/png": "[encoded data removed]",
      "text/plain": [
       "<Figure size 915.5x576 with 5 Axes>"
      ]
     },
     "metadata": {
      "needs_background": "light"
     },
     "output_type": "display_data"
    }
   ],
   "source": [
    "g = sns.FacetGrid(temp, col=\"PROVAS\", hue=\"TP_SEXO\", col_wrap=3, height=4, sharex=False, sharey=False)\n",
    "g.map_dataframe(sns.histplot, x=\"NOTA\")\n",
    "g.add_legend()"
   ]
  },
  {
   "cell_type": "markdown",
   "id": "853415cc-b8f8-480d-a492-41111cd946f8",
   "metadata": {},
   "source": [
    "---\n",
    "\n",
    "- Qual a distribuição das notas por cor/raça? \n",
    "\n",
    "    - TP_COR_RACA"
   ]
  },
  {
   "cell_type": "code",
   "execution_count": null,
   "id": "53ad3879-6069-4aee-989c-8cff011f6bb5",
   "metadata": {},
   "outputs": [],
   "source": []
  },
  {
   "cell_type": "markdown",
   "id": "7d0eace8-9db2-4323-8c99-b7cee90b582d",
   "metadata": {},
   "source": [
    "---\n",
    "\n",
    "- Qual a distribuição das notas por estado civil? \n",
    "\n",
    "    - TP_ESTADO_CIVIL"
   ]
  },
  {
   "cell_type": "code",
   "execution_count": null,
   "id": "be2e6503-706e-4a0c-96eb-9936241e4f73",
   "metadata": {},
   "outputs": [],
   "source": []
  },
  {
   "cell_type": "markdown",
   "id": "abf3548c-ea50-4437-b5da-101d5b796194",
   "metadata": {},
   "source": [
    "---\n",
    "\n",
    "- Ter alguma deficiência impacta na nota?\n",
    "\n",
    "    - IN_BAIXA_VISAO \n",
    "    - IN_CEGUEIRA \n",
    "    - IN_SURDEZ \n",
    "    - IN_DEFICIENCIA_AUDITIVA \n",
    "    - IN_SURDO_CEGUEIRA\n",
    "    - IN_DEFICIENCIA_FISICA\n",
    "    - IN_DEFICIENCIA_MENTAL\n",
    "    - IN_DEFICIT_ATENCAO\n",
    "    - IN_DISLEXIA\n",
    "    - IN_DISCALCULIA\n",
    "    - IN_AUTISMO\n",
    "    - IN_VISAO_MONOCULAR\n",
    "    - IN_OUTRA_DEF\n",
    "  "
   ]
  },
  {
   "cell_type": "code",
   "execution_count": null,
   "id": "75826e5f-d0e9-4ed0-9b09-9488b4b0ff4d",
   "metadata": {},
   "outputs": [],
   "source": []
  },
  {
   "cell_type": "markdown",
   "id": "16316dcb-a80b-43ef-9dd4-84eb018eab5a",
   "metadata": {},
   "source": [
    "---    \n",
    "- Existe diferença entre a nota dos jovens e idosos?\n",
    "\n",
    "    - IN_IDOSO"
   ]
  },
  {
   "cell_type": "code",
   "execution_count": null,
   "id": "0ab9e588-1750-4c85-95de-f7082f6d7878",
   "metadata": {},
   "outputs": [],
   "source": []
  },
  {
   "cell_type": "markdown",
   "id": "67eb944c-75c6-4854-9705-567d1fcfca4c",
   "metadata": {},
   "source": [
    "---\n",
    "- Existe diferença entre a nota das pessoas que precisam de recurso?\n",
    "\n",
    "    - IN_SEM_RECURSO"
   ]
  },
  {
   "cell_type": "code",
   "execution_count": null,
   "id": "1c5658ae-6330-4d15-9ce3-27f9fe9f426d",
   "metadata": {},
   "outputs": [],
   "source": []
  },
  {
   "cell_type": "markdown",
   "id": "987e6f93-e813-49d1-a04e-62f498a7b18e",
   "metadata": {},
   "source": [
    "---\n",
    "- Como as seguintes variáveis estão relacionadas?\n",
    "\n",
    "    - IN_CEGUEIRA \n",
    "    - IN_BRAILLE\n",
    "    - IN_LIBRAS\n",
    "    "
   ]
  },
  {
   "cell_type": "code",
   "execution_count": null,
   "id": "74709381-a9bd-4f31-aeee-b97373134908",
   "metadata": {},
   "outputs": [],
   "source": []
  },
  {
   "cell_type": "markdown",
   "id": "f951d780-693d-47a9-a12a-6042018c7d77",
   "metadata": {},
   "source": [
    "---\n",
    "    \n",
    "- Alunos que fizeram a prova em sala particular performam melhor que o resto? \n",
    "\n",
    "    - IN_SALA_INDIVIDUAL"
   ]
  },
  {
   "cell_type": "code",
   "execution_count": null,
   "id": "7e77e7df-7114-4d5a-a79e-0bf90ba33dda",
   "metadata": {},
   "outputs": [],
   "source": []
  },
  {
   "cell_type": "markdown",
   "id": "23784b5a-cf30-4e0c-a7ec-f7c56071353c",
   "metadata": {},
   "source": [
    "---\n",
    "- Existe diferença entre as notas de quem escolheu inglês ou espanhol?\n",
    "\n",
    "    - TP_LINGUA\n",
    "    "
   ]
  },
  {
   "cell_type": "code",
   "execution_count": null,
   "id": "761ff5bc-f3b4-430d-8ce2-96cfc515722f",
   "metadata": {},
   "outputs": [],
   "source": []
  },
  {
   "cell_type": "markdown",
   "id": "d0c17230-1851-41a7-92e9-fa80e57ff870",
   "metadata": {},
   "source": [
    "---\n",
    "- Analise as perguntas uma a uma. "
   ]
  },
  {
   "cell_type": "code",
   "execution_count": null,
   "id": "68ab65c7-3472-4b11-97ba-d242ea8ef66e",
   "metadata": {},
   "outputs": [],
   "source": []
  }
 ],
 "metadata": {
  "kernelspec": {
   "display_name": "venv_playground",
   "language": "python",
   "name": "venv_playground"
  },
  "language_info": {
   "codemirror_mode": {
    "name": "ipython",
    "version": 3
   },
   "file_extension": ".py",
   "mimetype": "text/x-python",
   "name": "python",
   "nbconvert_exporter": "python",
   "pygments_lexer": "ipython3",
   "version": "3.9.9"
  }
 },
 "nbformat": 4,
 "nbformat_minor": 5
}
