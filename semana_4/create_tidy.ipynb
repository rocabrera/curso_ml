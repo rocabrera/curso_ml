{
 "cells": [
  {
   "cell_type": "code",
   "execution_count": 1,
   "id": "e42f810c-e45f-4449-b90f-4965a4dd5c90",
   "metadata": {},
   "outputs": [],
   "source": [
    "import pandas as pd\n",
    "\n",
    "from cleaner import assign_correct_types"
   ]
  },
  {
   "cell_type": "code",
   "execution_count": 2,
   "id": "202c1e53-e1fb-4b5e-a690-8151dec1fd90",
   "metadata": {
    "tags": []
   },
   "outputs": [
    {
     "name": "stdout",
     "output_type": "stream",
     "text": [
      "<class 'pandas.core.frame.DataFrame'>\n",
      "RangeIndex: 3311925 entries, 0 to 3311924\n",
      "Columns: 118 entries, NU_INSCRICAO to Q025\n",
      "dtypes: float64(16), int64(68), object(34)\n",
      "memory usage: 2.9+ GB\n"
     ]
    }
   ],
   "source": [
    "df_train = pd.read_csv(\"data/raw/train.csv\")\n",
    "df_train.info()"
   ]
  },
  {
   "cell_type": "code",
   "execution_count": 3,
   "id": "5897e9b9-cdb9-4621-9170-06b09b836c28",
   "metadata": {},
   "outputs": [
    {
     "name": "stdout",
     "output_type": "stream",
     "text": [
      "<class 'pandas.core.frame.DataFrame'>\n",
      "RangeIndex: 1783345 entries, 0 to 1783344\n",
      "Columns: 113 entries, NU_INSCRICAO to Q025\n",
      "dtypes: float64(11), int64(68), object(34)\n",
      "memory usage: 1.5+ GB\n"
     ]
    }
   ],
   "source": [
    "df_test = pd.read_csv(\"data/raw/test.csv\")\n",
    "df_test.info()"
   ]
  },
  {
   "cell_type": "code",
   "execution_count": 4,
   "id": "af95a5a6-434f-4c2e-9a3c-947302c98034",
   "metadata": {},
   "outputs": [],
   "source": [
    "columns2drop = [\"CO_UF_NASCIMENTO\", \"CO_UF_RESIDENCIA\", \"CO_UF_ESC\", \"CO_UF_PROVA\",\n",
    "                \"CO_MUNICIPIO_NASCIMENTO\",\"CO_MUNICIPIO_RESIDENCIA\", \"CO_MUNICIPIO_ESC\", \"CO_MUNICIPIO_PROVA\"]"
   ]
  },
  {
   "cell_type": "code",
   "execution_count": 5,
   "id": "9be6a419-ace0-4542-9ce1-17db96888e38",
   "metadata": {
    "tags": []
   },
   "outputs": [
    {
     "name": "stdout",
     "output_type": "stream",
     "text": [
      "<class 'pandas.core.frame.DataFrame'>\n",
      "RangeIndex: 3311925 entries, 0 to 3311924\n",
      "Columns: 110 entries, NU_INSCRICAO to Q025\n",
      "dtypes: bool(52), category(33), float32(12), object(1), uint8(12)\n",
      "memory usage: 496.5+ MB\n"
     ]
    }
   ],
   "source": [
    "df_train = (df_train.pipe(assign_correct_types, is_train_dataset=True)\n",
    "                    .drop(columns=columns2drop))\n",
    "\n",
    "df_train.to_parquet(\"data/tidy/train.parquet\")\n",
    "df_train.info()"
   ]
  },
  {
   "cell_type": "code",
   "execution_count": 6,
   "id": "1ccd58d2-64a8-4fd1-bc69-d0aa5a7864cf",
   "metadata": {
    "tags": []
   },
   "outputs": [
    {
     "name": "stdout",
     "output_type": "stream",
     "text": [
      "<class 'pandas.core.frame.DataFrame'>\n",
      "RangeIndex: 1783345 entries, 0 to 1783344\n",
      "Columns: 105 entries, NU_INSCRICAO to Q025\n",
      "dtypes: bool(52), category(33), float32(7), object(1), uint8(12)\n",
      "memory usage: 233.6+ MB\n"
     ]
    }
   ],
   "source": [
    "df_test = (df_test.pipe(assign_correct_types, is_train_dataset=False)\n",
    "                  .drop(columns=columns2drop))\n",
    "\n",
    "df_test.to_parquet(\"data/tidy/test.parquet\")\n",
    "df_test.info()"
   ]
  }
 ],
 "metadata": {
  "kernelspec": {
   "display_name": "venv_playground",
   "language": "python",
   "name": "venv_playground"
  },
  "language_info": {
   "codemirror_mode": {
    "name": "ipython",
    "version": 3
   },
   "file_extension": ".py",
   "mimetype": "text/x-python",
   "name": "python",
   "nbconvert_exporter": "python",
   "pygments_lexer": "ipython3",
   "version": "3.9.9"
  }
 },
 "nbformat": 4,
 "nbformat_minor": 5
}
