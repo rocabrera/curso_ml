{
 "cells": [
  {
   "cell_type": "markdown",
   "id": "c35d5d06-8d26-4a2e-93b6-6cbb88c217ee",
   "metadata": {
    "tags": []
   },
   "source": [
    "# **Estatistica descritiva básica**"
   ]
  },
  {
   "cell_type": "code",
   "execution_count": 45,
   "id": "cd76b049-0b06-4229-b242-b7d232f4a415",
   "metadata": {},
   "outputs": [],
   "source": [
    "import seaborn as sns\n",
    "sns.set_palette(\"Set1\", 8, .75)\n",
    "import matplotlib.pyplot as plt\n",
    "\n",
    "import numpy as np\n",
    "import pandas as pd\n",
    "from src.intro_desc_stats import prepare_data, display_side_by_side\n"
   ]
  },
  {
   "cell_type": "markdown",
   "id": "8720b2a9-95ee-42a6-a7d5-745cc0058821",
   "metadata": {
    "jp-MarkdownHeadingCollapsed": true,
    "tags": []
   },
   "source": [
    "## **TOC:**\n",
    "- [Tipo de variáveis](#variables_types)\n",
    "\n",
    "---\n",
    "\n",
    "- [Probabilidade](#proba)\n",
    "\n",
    "    - [Variáveis Aleatórias](#random_var)\n",
    "    \n",
    "    - [Espaço amostral](#espaco_amostral)\n",
    "    \n",
    "    - [Conjuntos](#conjuntos)\n",
    "    \n",
    "    - [Definição de Probabilidade](#def_prob)\n",
    "\n",
    "---\n",
    "\n",
    "- [Distribuição de Probabilidade](#dist_proba)\n",
    "\n",
    "    - [Distribuição Uniforme](#dist_uni)\n",
    "    - [Distribuição Gaussiana](#dist_gaus)\n",
    "\n",
    "---\n",
    "\n",
    "- [Estatística Descritiva](#desc_stat)\n",
    "\n",
    "    - [Medidas de Tendência Central](#tendencia_central)\n",
    "    - [Medidas de Dispersão](#medidas_dispersao)\n",
    "\n",
    "---\n",
    "\n",
    "- [Outliers](#outliers)\n",
    "    - [Z score](#z_score)\n",
    "    - [Boxplot whisker (IQR)](#iqr_outlier)"
   ]
  },
  {
   "cell_type": "markdown",
   "id": "916ce654-3fd9-4e24-ab66-36dc3b34c45b",
   "metadata": {
    "tags": []
   },
   "source": [
    "## **Tipos de variáveis** <a class=\"anchor\" id=\"variables_types\"></a>"
   ]
  },
  {
   "cell_type": "markdown",
   "id": "ec97e853-08dd-4d95-9b49-50e5f8098870",
   "metadata": {},
   "source": [
    "* **Nominal**: Escala de medição em que os números servem apenas como rótulos e não indicam nenhuma relação quantitativa. Exemplos: sexo, estado civil, país de origem, ser fumante ou não, etc.\n",
    "\n",
    "* **Ordinais**: Escala de medição em que os números são postos; diferenças iguais entre números não representam diferenças iguais entre as coisas medidas. Exemplo: escolaridade, resposta de um paciente(piora, igual, melhora), classe social(alta, média,baixa)\n",
    "\n",
    "* **Interval**: Escala de medição na qual diferenças iguais entre números representam diferenças iguais na coisa medida. O ponto zero é definido arbitrariamente.\n",
    "\n",
    "* **Ratio Variables**: Escala de medição com características de escala intervalar, mas possui um *ponto zero verdadeiro*."
   ]
  },
  {
   "cell_type": "markdown",
   "id": "602d7df2-d133-4ec9-95d1-638a0fb164dd",
   "metadata": {},
   "source": [
    "\n",
    "\\begin{array}{lcccl}\n",
    "\\hline \\text{Tipo de variavel}  & \\text{transmite} \\leq & \\text{transmite} = & \\text{Possuí zero verdadeiro} & \\text{Exemplo}\\\\\\hline\n",
    "       \\text{Nominal ou Categorical}               & Não                   & Não                & Não  & \\text{Diagnóstico psicólogico, Tipos de Personalidade}\\\\\n",
    "       \\text{Ordinal ou Ranked}               & Sim                  & Não                & Não  & \\text{Posição de chegada de uma corrida}\\\\\n",
    "       \\text{Interval}              & Sim                  & Sim               & Não  & \\text{Celsius, Teste de QI}\\\\\n",
    "       \\text{Ratio}                 & Sim                  & Sim               & Sim & \\text{Altura, Peso}\\\\\n",
    "\\hline\n",
    "\\end{array}"
   ]
  },
  {
   "cell_type": "markdown",
   "id": "ebb5f77a-b283-4fd5-96a7-e27ff19668ea",
   "metadata": {},
   "source": [
    "Diferença entre variáveis ***Interval*** e ***Ratio***:\n",
    "\n",
    "- Converta $ 100 ^\\circ C$ e $ 50 ^\\circ C$ para Fahrenheit (F = 1,8C + 32) e de repente a relação \"duas vezes mais\" desaparece.\n",
    "- Converta 16 kg e 4 kg para libras (1 kg = 2,2 lbs) e a relação \"quatro vezes mais pesado\" é mantido.\n",
    "\n",
    "A diferença é sutil. Portanto, essas variáveis são referenciadas como <font color=\"orange\"><b>variáveis contínuas</b></font>."
   ]
  },
  {
   "cell_type": "markdown",
   "id": "87528320-fc4d-4d8e-a85a-998f16f4197e",
   "metadata": {
    "tags": []
   },
   "source": [
    "## **Probabilidade** <a class=\"anchor\" id=\"proba\"></a>"
   ]
  },
  {
   "cell_type": "markdown",
   "id": "5efa62f4-f3e5-41dc-9fd3-596da1341dc7",
   "metadata": {},
   "source": [
    "<center><img src=\"figures/pop_amostral.png\" align=\"center\" width=450/></center>"
   ]
  },
  {
   "cell_type": "markdown",
   "id": "04f3d983-aef5-433e-9ad2-640a3c676498",
   "metadata": {},
   "source": [
    "Probabilidade é a área da matemática que estuda eventos aleatórios, cujos resultados são probabilísticos ou estocásticos.\n",
    "\n",
    "Existem poucos sistemas na natureza que são de fato inerentemente aleatórias e não-determinísticas. No entanto, uma descrição determinística pode ser muito complicada, de modo que se torna conveniente tratar o sistema como um sistema estocástico.\n",
    "\n",
    "Exemplos: lanaçamento de moeda, lançamento de dados, etc.\n",
    "\n",
    "O objetivo da estatística é similar: analisar dados ou criar modelos que generalizem relações que não podem ser determinadas diretamente uma vez que não temos acesso à população. Neste sentido, há muita probabilidade envolvida em estatística, e é por isso que vamos olhar para os principais conceitos de probabilidade."
   ]
  },
  {
   "cell_type": "markdown",
   "id": "603a806d-42b4-4f01-9328-91843c2cb877",
   "metadata": {
    "tags": []
   },
   "source": [
    "### **Variável aleatória** <a class=\"anchor\" id=\"random_var\"></a>"
   ]
  },
  {
   "cell_type": "markdown",
   "id": "a2732965-28e3-4312-a465-067d5337c87d",
   "metadata": {},
   "source": [
    "Variáveis aleatórias são normalmente denotadas por uma letra capital como **X**.\n",
    "\n",
    "**Mais formalmente:** Uma função que mapeia um \"espaço de probabilidades\" na reta real $\\mathbb{R}$.\n",
    "\n",
    "**Menos formal:** Uma função que mapeia o desfecho de um processo aleatório (Exemplo: jogar uma moeda) para números reais (probabilidades). "
   ]
  },
  {
   "cell_type": "markdown",
   "id": "3561d45a-9e4b-4cd3-bb25-09048dd603fb",
   "metadata": {
    "tags": []
   },
   "source": [
    "### **Espaço amostral**  <a class=\"anchor\" id=\"espaco_amostral\"></a>"
   ]
  },
  {
   "cell_type": "markdown",
   "id": "bb4c822f-c9e3-4f23-951c-10feedfd4ed4",
   "metadata": {},
   "source": [
    "Chamamos de **espaço amostral** o conjunto de **todos os resultados possíveis de um certo fenômeno aleatório**, ou seja, os valores possíveis que a **variável aleatória de interesse pode assumir**. Representamos o espaço amostral pela letra grega $\\omega$."
   ]
  },
  {
   "cell_type": "markdown",
   "id": "2a0ebba1-0157-4123-aa7c-b461ad135e7a",
   "metadata": {},
   "source": [
    "Os subconjuntos de $\\omega$ são denominados **eventos** e representados pelas letras maiúsculas A, B, etc...\n",
    "\n",
    "\n",
    "**Exemplo:** Qual o espaço amostral dos resultadosdo lançamento de um dado?\n",
    "\n",
    "$$\n",
    "\\omega = \\{1,2,3,4,5,6\\}\n",
    "$$\n",
    "\n",
    "Alguns eventos possíveis são:\n",
    "\n",
    "- Evento A = \\{3\\}: o resultado do lançamento do dado foi 3;\n",
    "- Evento B = \\{5\\}: o resultado do lançamento do dado foi 5;"
   ]
  },
  {
   "cell_type": "markdown",
   "id": "291d9f05-6b4c-4959-9815-0f8873559c47",
   "metadata": {},
   "source": [
    "**Exercicio 1:** Qual o espaço amostral do resultado do lançamento de uma moeda?"
   ]
  },
  {
   "cell_type": "markdown",
   "id": "e4823405-2206-4c19-b5e6-7d6b9ed55e66",
   "metadata": {},
   "source": [
    "$\\omega$ = \\{K, C\\}"
   ]
  },
  {
   "cell_type": "markdown",
   "id": "2debb491-e495-4ed3-aeaa-473d6d9cffb9",
   "metadata": {},
   "source": [
    "A = {K}"
   ]
  },
  {
   "cell_type": "markdown",
   "id": "3d49c95e-c19f-469b-85e6-ad03c21039a1",
   "metadata": {},
   "source": [
    "**Exercicio 2:** Qual o espaço amostral do resultado do lançamento de duas moedas?"
   ]
  },
  {
   "cell_type": "markdown",
   "id": "5018e667-0be8-4924-8272-f17de2b455fc",
   "metadata": {},
   "source": [
    "$\\omega = \\{(K,C), (C,K), (K, K), (C, C) \\}$"
   ]
  },
  {
   "cell_type": "markdown",
   "id": "a54ef321-a735-4415-9eff-4823b3f81b44",
   "metadata": {},
   "source": [
    "Qual a probabilidade de cair cara cara:\n",
    "\n",
    "\n",
    "\n",
    "$A = \\{(C, C)\\}$ ; 1/2 e 1/2 -> 0.25=1/4\n",
    "\n",
    "Qual a probabilidade de sair pelo menos uma cara: -> 1 - a probabilidade de não sair nenhuma cara = 1 - a probabilidade de sair duas coroas -> 1- 0.25 = 0.75\n",
    "\n",
    "$B = \\{(C, C), (C, K), (K,C)\\}$ ; \n",
    "\n",
    "Qual a probabilidade de sair uma cara na primeira rodada:\n",
    "\n",
    "\n",
    "$B = \\{(C, C), (C, K)\\}$\n",
    "\n"
   ]
  },
  {
   "cell_type": "markdown",
   "id": "196a9a1d-30f1-41d7-94ce-2f6fa72ad645",
   "metadata": {
    "tags": []
   },
   "source": [
    "### **Conjuntos** <a class=\"anchor\" id=\"conjuntos\"></a>"
   ]
  },
  {
   "cell_type": "code",
   "execution_count": 46,
   "id": "446cc002-583d-4b39-83cb-a9b7cff458fa",
   "metadata": {},
   "outputs": [],
   "source": [
    "U = {1,2,3,4,5,6}\n",
    "A = {2,4,6}\n",
    "B = {2,3,5}"
   ]
  },
  {
   "cell_type": "markdown",
   "id": "d49fd7a7-0879-4ab1-b3da-c5ec50a67236",
   "metadata": {},
   "source": [
    "- O conjunto vazio é denotado por $\\emptyset$ e equivale a um conjunto sem nenhum elemento.\n",
    "- A <font color=\"orange\"><b>união</b></font> de dois eventos A e B, denotado por $\\cup$ representa a ocorrência de pelo menos um dos eventos A ou B.\n",
    "- A <font color=\"orange\"><b>intersecção</b></font> do evento A com B, denotado por $\\cap$ é a ocorrência simultânea de A e B."
   ]
  },
  {
   "cell_type": "markdown",
   "id": "dd153f93-af76-49ad-a811-a12b1fb7fa57",
   "metadata": {},
   "source": [
    "<center><img src=\"figures/union_intersection.png\" align=\"center\" width=250/></center>"
   ]
  },
  {
   "cell_type": "code",
   "execution_count": 47,
   "id": "57729f52-f1b8-434a-8e72-ac62c8f3a16b",
   "metadata": {},
   "outputs": [
    {
     "name": "stdout",
     "output_type": "stream",
     "text": [
      "{2, 3, 4, 5, 6}\n",
      "{2}\n"
     ]
    }
   ],
   "source": [
    "print(A.union(B))\n",
    "print(A.intersection(B))"
   ]
  },
  {
   "cell_type": "markdown",
   "id": "f7868d34-c638-483d-a9ac-6ea4c717e142",
   "metadata": {},
   "source": [
    "Dois eventos A e B são disjuntos ou <font color=\"orange\"><b>mutualmente exclusivos</b></font> quando não têm elemento em comum. Isto é, A $\\cap$ B = $\\emptyset$."
   ]
  },
  {
   "cell_type": "markdown",
   "id": "501ca7d8-a1ec-4020-bfa9-05258d2f0f3b",
   "metadata": {},
   "source": [
    "<center><img src=\"figures/mutu_exclusive.png\" align=\"center\" width=200/></center>\n"
   ]
  },
  {
   "cell_type": "code",
   "execution_count": 48,
   "id": "8aba9e2e-d007-4390-a100-6ecc9e39d042",
   "metadata": {},
   "outputs": [
    {
     "data": {
      "text/plain": [
       "set()"
      ]
     },
     "execution_count": 48,
     "metadata": {},
     "output_type": "execute_result"
    }
   ],
   "source": [
    "X = {1,2,3}\n",
    "Y = {4,5,6}\n",
    "X.intersection(Y)"
   ]
  },
  {
   "cell_type": "markdown",
   "id": "3f848412-853a-485f-aa20-ffa93aefa750",
   "metadata": {},
   "source": [
    "Dois eventos A e B são <font color=\"orange\"><b>complementares</b></font> se sua união é o espaço amostral e sua intersecção é vazia. O complementar de A será representado por $A^c$"
   ]
  },
  {
   "cell_type": "markdown",
   "id": "7b8492a3-83af-4945-b79c-427245de68f3",
   "metadata": {},
   "source": [
    "<center><img src=\"figures/complementar.png\" align=\"center\" width=200/></center>"
   ]
  },
  {
   "cell_type": "code",
   "execution_count": 49,
   "id": "a5571987-5274-48b5-9d13-12ba9061c903",
   "metadata": {},
   "outputs": [
    {
     "data": {
      "text/plain": [
       "True"
      ]
     },
     "execution_count": 49,
     "metadata": {},
     "output_type": "execute_result"
    }
   ],
   "source": [
    "cond1 = X.union(Y) == U\n",
    "cond2 = X.intersection(Y) == set()\n",
    "\n",
    "cond1 and cond2"
   ]
  },
  {
   "cell_type": "markdown",
   "id": "13d0c097-262f-4519-b114-284212647efe",
   "metadata": {
    "tags": []
   },
   "source": [
    "### **Definição de probabilidade** <a class=\"anchor\" id=\"def_prob\"></a>"
   ]
  },
  {
   "cell_type": "markdown",
   "id": "e73e4a66-cade-4409-8846-973b9c6bcc14",
   "metadata": {},
   "source": [
    "Definimos uma função $P(.)$ denominada probabilidade que deve satisfazer as seguintes propriedades:\n",
    "\n",
    "1. $0 \\leq P(A) \\leq 1 $\n",
    "2. $P(\\omega) = 1$\n",
    "3. $P(\\cup A_j) = \\sum_{j=1}^{n}P(A_j) $"
   ]
  },
  {
   "cell_type": "markdown",
   "id": "2f8235df-1b09-4026-9f93-ffddf928871e",
   "metadata": {},
   "source": [
    "**Exemplo:** Suponha o lançamento de uma moeda. Temos $\\omega = \\{K, C\\}$. \n",
    "1. Qualquer evento $A$ deve ter uma probabilidade entre 0 e 1.\n",
    "2. A probabilidade de lançarmos uma moeda e ter um desfecho que esteja compreendido em $\\omega$ é 1.\n",
    "3. Seja $\\{K\\} = A_1$ e $\\{C\\} = A_2$ temos $P(A_1 \\cup A_2)= P(A_1) + P(A_2)$"
   ]
  },
  {
   "cell_type": "code",
   "execution_count": 50,
   "id": "1be46f80-0c74-4cb1-9d23-e013928ef520",
   "metadata": {
    "tags": []
   },
   "outputs": [
    {
     "data": {
      "text/plain": [
       "array(['K', 'K', 'K', 'K', 'C', 'C', 'K', 'C', 'K', 'C', 'C', 'C', 'K',\n",
       "       'K', 'K', 'C', 'K', 'K', 'K', 'C', 'C', 'K', 'K', 'K', 'K', 'K',\n",
       "       'K', 'K', 'K', 'C', 'K', 'K', 'K', 'K', 'K', 'C', 'K', 'C', 'C',\n",
       "       'C', 'C', 'C', 'K', 'K', 'C', 'K', 'C', 'K', 'C', 'K', 'K', 'C',\n",
       "       'C', 'K', 'C', 'C', 'K', 'C', 'C', 'K', 'C', 'K', 'K', 'C', 'C',\n",
       "       'K', 'C', 'C', 'C', 'K', 'C', 'K', 'K', 'C', 'K', 'K', 'C', 'C',\n",
       "       'C', 'C', 'K', 'K', 'K', 'C', 'K', 'C', 'C', 'C', 'C', 'K', 'C',\n",
       "       'C', 'K', 'C', 'C', 'K', 'C', 'C', 'C', 'C', 'C', 'K', 'C', 'C',\n",
       "       'C', 'C', 'K', 'C', 'C', 'C', 'C', 'C', 'K', 'C', 'K', 'K', 'K',\n",
       "       'K', 'K', 'K', 'K', 'K', 'K', 'K', 'K', 'C', 'K', 'K', 'K', 'C',\n",
       "       'C', 'K', 'C', 'C', 'C', 'C', 'C', 'K', 'C', 'K', 'C', 'C', 'C',\n",
       "       'K', 'K', 'K', 'K', 'K', 'K', 'K', 'K', 'C', 'C', 'K', 'K', 'K',\n",
       "       'C', 'C', 'C', 'C', 'K', 'K', 'C', 'C', 'C', 'K', 'C', 'C', 'K',\n",
       "       'C', 'C', 'K', 'K', 'C', 'K', 'C', 'K', 'C', 'K', 'C', 'C', 'K',\n",
       "       'C', 'K', 'K', 'K', 'K', 'C', 'C', 'C', 'K', 'K', 'K', 'C', 'C',\n",
       "       'K', 'C', 'K', 'K', 'C', 'C', 'K', 'C', 'K', 'C', 'C', 'C', 'C',\n",
       "       'K', 'C', 'K', 'K', 'K', 'K', 'K', 'K', 'K', 'C', 'C', 'K', 'C',\n",
       "       'K', 'C', 'C', 'C', 'K', 'C', 'K', 'C', 'K', 'K', 'K', 'C', 'C',\n",
       "       'C', 'C', 'C', 'K', 'C', 'K', 'K', 'K', 'C', 'C', 'K', 'K', 'K',\n",
       "       'C', 'C', 'K', 'K', 'C', 'C', 'K', 'C', 'C', 'C', 'K', 'C', 'K',\n",
       "       'C', 'C', 'K', 'K', 'C', 'C', 'K', 'K', 'C', 'K', 'K', 'C', 'C',\n",
       "       'K', 'K', 'K', 'K', 'K', 'K', 'K', 'K', 'C', 'K', 'C', 'K', 'C',\n",
       "       'C', 'K', 'K', 'K', 'K', 'K', 'K', 'K', 'K', 'K', 'K', 'K', 'K',\n",
       "       'K', 'K', 'K', 'K', 'C', 'C', 'C', 'K', 'C', 'C', 'C', 'C', 'C',\n",
       "       'K', 'C', 'C', 'C', 'K', 'K', 'K', 'C', 'C', 'K', 'K', 'K', 'C',\n",
       "       'K', 'K', 'C', 'K', 'C', 'K', 'C', 'C', 'K', 'C', 'C', 'K', 'C',\n",
       "       'C', 'C', 'K', 'K', 'K', 'C', 'C', 'K', 'C', 'K', 'C', 'K', 'C',\n",
       "       'C', 'C', 'K', 'K', 'K', 'K', 'K', 'C', 'C', 'C', 'K', 'K', 'C',\n",
       "       'K', 'C', 'K', 'K', 'C', 'K', 'K', 'K', 'C', 'C', 'C', 'C', 'C',\n",
       "       'K', 'C', 'K', 'K', 'C', 'K', 'C', 'K', 'C', 'C', 'C', 'C', 'K',\n",
       "       'K', 'C', 'C', 'K', 'C', 'K', 'K', 'K', 'K', 'K', 'C', 'C', 'K',\n",
       "       'C', 'K', 'K', 'K', 'C', 'C', 'C', 'K', 'K', 'K', 'C', 'K', 'K',\n",
       "       'C', 'K', 'K', 'K', 'K', 'C', 'C', 'K', 'C', 'K', 'K', 'C', 'K',\n",
       "       'C', 'C', 'C', 'C', 'K', 'K', 'K', 'C', 'C', 'C', 'K', 'K', 'C',\n",
       "       'K', 'C', 'K', 'C', 'K', 'C', 'K', 'C', 'C', 'C', 'K', 'C', 'C',\n",
       "       'C', 'K', 'K', 'K', 'C', 'K', 'C', 'C', 'C', 'C', 'C', 'C', 'C',\n",
       "       'C', 'C', 'K', 'C', 'K', 'K', 'K', 'C', 'K', 'C', 'C', 'C', 'C',\n",
       "       'C', 'K', 'C', 'C', 'K', 'K', 'C', 'C', 'C', 'C', 'C', 'C', 'C',\n",
       "       'C', 'C', 'K', 'K', 'K', 'K', 'K', 'K', 'C', 'C', 'K', 'K', 'C',\n",
       "       'K', 'C', 'C', 'C', 'K', 'K', 'C', 'K', 'K', 'C', 'K', 'K', 'C',\n",
       "       'K', 'C', 'K', 'C', 'K', 'K', 'K', 'K', 'K', 'K', 'C', 'C', 'K',\n",
       "       'C', 'K', 'K', 'K', 'C', 'K', 'K', 'K', 'K', 'C', 'C', 'C', 'C',\n",
       "       'K', 'C', 'K', 'C', 'K', 'C', 'K', 'C', 'C', 'C', 'K', 'K', 'K',\n",
       "       'C', 'K', 'K', 'K', 'C', 'C', 'C', 'C', 'C', 'C', 'C', 'C', 'K',\n",
       "       'K', 'C', 'K', 'K', 'C', 'C', 'K', 'C', 'K', 'C', 'K', 'K', 'C',\n",
       "       'C', 'K', 'C', 'C', 'C', 'K', 'C', 'C', 'K', 'C', 'K', 'C', 'C',\n",
       "       'C', 'C', 'C', 'C', 'K', 'C', 'C', 'K', 'K', 'K', 'K', 'C', 'C',\n",
       "       'K', 'K', 'C', 'K', 'C', 'C', 'K', 'C', 'C', 'C', 'C', 'C', 'K',\n",
       "       'K', 'C', 'K', 'K', 'K', 'C', 'K', 'C', 'C', 'K', 'C', 'K', 'K',\n",
       "       'K', 'K', 'K', 'K', 'C', 'C', 'K', 'C', 'C', 'K', 'C', 'C', 'C',\n",
       "       'K', 'C', 'C', 'K', 'K', 'K', 'K', 'C', 'C', 'C', 'K', 'K', 'K',\n",
       "       'K', 'C', 'C', 'K', 'K', 'K', 'K', 'K', 'C', 'K', 'C', 'C', 'K',\n",
       "       'C', 'C', 'K', 'K', 'K', 'K', 'C', 'K', 'K', 'K', 'C', 'K', 'C',\n",
       "       'K', 'C', 'C', 'K', 'K', 'K', 'K', 'C', 'C', 'C', 'C', 'C', 'C',\n",
       "       'K', 'C', 'K', 'K', 'K', 'K', 'K', 'C', 'C', 'K', 'C', 'C', 'C',\n",
       "       'K', 'C', 'C', 'K', 'C', 'K', 'C', 'C', 'K', 'K', 'C', 'K', 'C',\n",
       "       'C', 'C', 'K', 'C', 'C', 'C', 'K', 'C', 'K', 'C', 'K', 'K', 'C',\n",
       "       'K', 'C', 'K', 'K', 'K', 'C', 'C', 'C', 'C', 'C', 'C', 'C', 'K',\n",
       "       'K', 'C', 'K', 'K', 'K', 'C', 'K', 'C', 'K', 'K', 'C', 'K', 'C',\n",
       "       'C', 'C', 'K', 'K', 'C', 'K', 'K', 'K', 'C', 'K', 'K', 'C', 'K',\n",
       "       'C', 'C', 'K', 'C', 'C', 'K', 'K', 'K', 'C', 'C', 'K', 'C', 'K',\n",
       "       'C', 'K', 'K', 'C', 'C', 'K', 'K', 'K', 'K', 'C', 'K', 'K', 'C',\n",
       "       'K', 'C', 'C', 'C', 'K', 'K', 'C', 'K', 'C', 'K', 'K', 'C', 'K',\n",
       "       'C', 'K', 'C', 'K', 'K', 'C', 'K', 'C', 'C', 'C', 'K', 'C', 'C',\n",
       "       'K', 'C', 'K', 'C', 'K', 'K', 'C', 'C', 'K', 'C', 'C', 'K', 'K',\n",
       "       'K', 'C', 'C', 'K', 'K', 'C', 'K', 'C', 'C', 'K', 'C', 'C', 'C',\n",
       "       'C', 'K', 'C', 'K', 'C', 'C', 'K', 'C', 'K', 'K', 'C', 'C', 'K',\n",
       "       'K', 'K', 'C', 'K', 'K', 'K', 'C', 'K', 'K', 'C', 'C', 'K', 'K',\n",
       "       'C', 'K', 'K', 'K', 'K', 'K', 'K', 'K', 'K', 'C', 'C', 'K', 'C',\n",
       "       'K', 'C', 'K', 'C', 'K', 'C', 'K', 'C', 'K', 'C', 'K', 'C', 'K',\n",
       "       'K', 'K', 'C', 'C', 'K', 'K', 'K', 'K', 'C', 'C', 'C', 'K', 'C',\n",
       "       'K', 'C', 'K', 'C', 'K', 'K', 'C', 'C', 'K', 'K', 'K', 'C', 'K',\n",
       "       'C', 'K', 'K', 'K', 'K', 'C', 'K', 'K', 'K', 'C', 'C', 'K', 'C',\n",
       "       'C', 'C', 'K', 'K', 'K', 'C', 'K', 'C', 'C', 'K', 'C', 'C', 'C',\n",
       "       'C', 'C', 'C', 'C', 'C', 'C', 'C', 'C', 'K', 'K', 'K', 'C', 'C',\n",
       "       'C', 'C', 'K', 'C', 'K', 'C', 'C', 'K', 'K', 'K', 'C', 'C', 'C',\n",
       "       'C', 'C', 'C', 'K', 'K', 'K', 'K', 'K', 'C', 'K', 'K', 'K'],\n",
       "      dtype='<U1')"
      ]
     },
     "execution_count": 50,
     "metadata": {},
     "output_type": "execute_result"
    }
   ],
   "source": [
    "import numpy as np\n",
    "import pandas as pd\n",
    "p=0.5\n",
    "amostras = np.where(np.random.uniform(0,1,1000)<=p, \"K\", \"C\") \n",
    "amostras"
   ]
  },
  {
   "cell_type": "code",
   "execution_count": 51,
   "id": "dc547c65-c4e6-472c-bc8e-af656b4632b1",
   "metadata": {},
   "outputs": [
    {
     "data": {
      "text/plain": [
       "K    0.505\n",
       "C    0.495\n",
       "dtype: float64"
      ]
     },
     "execution_count": 51,
     "metadata": {},
     "output_type": "execute_result"
    }
   ],
   "source": [
    "pd.Series(amostras).value_counts(normalize=True)"
   ]
  },
  {
   "cell_type": "markdown",
   "id": "6c9dcf75-d032-453e-94a0-2149b3a3f03e",
   "metadata": {},
   "source": [
    "## **Distribuições de probabilidades** <a class=\"anchor\" id=\"dist_proba\"></a>"
   ]
  },
  {
   "cell_type": "markdown",
   "id": "5a79e20e-7ac8-4ed7-9ced-748a4843a2af",
   "metadata": {},
   "source": [
    "Uma <font color=\"orange\"><b>distribuição de probabilidade</b></font> é uma função que descreve o comportamento aleatório de um fenômeno dependente do acaso.\n",
    "\n",
    "A distribuição de probabilidade pode modelar incertezas e descrever fenômenos físicos, biológicos, econômicos, entre outros.\n",
    "\n",
    "Para representar a distribuição matematicamente, frequentemente utilizamos a [função densidade de probabilidade](https://en.wikipedia.org/wiki/Probability_density_function). <font color=\"orange\"><b>Esta função é tal que a probabilidade do desfecho da variável aleatória cair em uma faixa particular é dada pela integral da densidade dessa variável sobre tal faixa</b></font> - isto é, é dada pela área abaixo da função densidade mas acima do eixo horizontal e entre o menor e o maior valor dessa faixa.\n",
    "\n"
   ]
  },
  {
   "cell_type": "markdown",
   "id": "fbe0af3d-72ee-421f-af3f-964a6db3b9d5",
   "metadata": {},
   "source": [
    "<center><img src=\"figures/density_func.png\" align=\"center\" width=450/></center>"
   ]
  },
  {
   "cell_type": "markdown",
   "id": "f832b3a4-357b-4f50-a6a6-fee951c67757",
   "metadata": {},
   "source": [
    "### **Distribuição uniforme** <a class=\"anchor\" id=\"dist_uni\"></a>"
   ]
  },
  {
   "cell_type": "code",
   "execution_count": 52,
   "id": "a502b2d5-e062-46a8-8841-0758ff79b25f",
   "metadata": {},
   "outputs": [
    {
     "data": {
      "image/png": "[encoded data removed]",
      "text/plain": [
       "<Figure size 1152x288 with 3 Axes>"
      ]
     },
     "metadata": {
      "needs_background": "light"
     },
     "output_type": "display_data"
    }
   ],
   "source": [
    "n_samples = 1_000\n",
    "x = np.random.uniform(0,1, n_samples)\n",
    "\n",
    "fig, axs = plt.subplots(1,3,figsize=(16,4))\n",
    "\n",
    "def plot_distribution(func, x, ax, title, **kwargs):\n",
    "    g = func(x, ax=ax, **kwargs)\n",
    "    g.set_title(title)\n",
    "    \n",
    "plot_distribution(sns.histplot, x, axs[0], \"Histograma\")\n",
    "plot_distribution(sns.kdeplot, x, axs[1], \"Kernel density Estimation - KDE\")\n",
    "plot_distribution(sns.ecdfplot, x, axs[2], \"Empirical cumulative distribution function - ECDF\")\n",
    "\n",
    "plt.tight_layout()\n",
    "plt.show()"
   ]
  },
  {
   "cell_type": "markdown",
   "id": "132687a6-6b89-46c2-b9ea-f867f748fb8f",
   "metadata": {},
   "source": [
    "### **Distribuição Gaussiana** <a class=\"anchor\" id=\"dist_gaus\"></a>"
   ]
  },
  {
   "cell_type": "markdown",
   "id": "3b23a2a8-bb1d-417f-bf78-287d39a1b040",
   "metadata": {},
   "source": [
    "É representada por uma curva simétrica em torno do seu ponto médio, apresentando assim seu famoso formato de sino (bell shape).\n",
    "\n",
    "A curva de distribuição normal representa o comportamento de diversos processos e fenômenos comuns, como por exemplo: altura ou peso de uma população, a pressão sanguínea de um grupo de pessoas, o tempo que um grupo de estudantes gasta para realizar uma prova, etc.\n",
    "\n",
    "<font color = \"orange\"><b>A distribuição normal serve também como base para a inferência estatística clássica, sendo a premissa em diversos modelos e métodos</b></font>.\n",
    "\n",
    "Na distribuição normal, a média, mediana e moda dos dados possuem o mesmo valor.\n",
    "\n",
    "A fórmula da da distribuição gaussiana é:\n",
    "\n",
    "$$\n",
    "f(x) = \\frac{1}{\\sigma\\sqrt{2\\pi}}e^{\\frac{-(x-\\mu)^2}{2\\sigma^2}}\n",
    "$$\n",
    "\n",
    "onde $\\mu$ é a média e $\\sigma$ é o desvio padrão."
   ]
  },
  {
   "cell_type": "code",
   "execution_count": 53,
   "id": "9e9acd0d-943a-4e6b-95a6-c94fd7301eb4",
   "metadata": {},
   "outputs": [
    {
     "data": {
      "image/png": "[encoded data removed]",
      "text/plain": [
       "<Figure size 1152x288 with 3 Axes>"
      ]
     },
     "metadata": {
      "needs_background": "light"
     },
     "output_type": "display_data"
    }
   ],
   "source": [
    "n_samples = 1000\n",
    "x = np.random.normal(0, 1, n_samples)\n",
    "\n",
    "fig, axs = plt.subplots(1,3,figsize=(16,4))\n",
    "\n",
    "def plot_distribution(func, x, ax, title, **kwargs):\n",
    "    g = func(x, ax=ax, **kwargs)\n",
    "    g.set_title(title)\n",
    "    \n",
    "plot_distribution(sns.histplot, x, axs[0], \"Histograma\")\n",
    "plot_distribution(sns.kdeplot, x, axs[1], \"Kernel density Estimation - KDE\")\n",
    "plot_distribution(sns.ecdfplot, x, axs[2], \"Empirical cumulative distribution function - ECDF\")\n",
    "\n",
    "plt.tight_layout()\n",
    "plt.show()"
   ]
  },
  {
   "cell_type": "code",
   "execution_count": 1,
   "id": "3dadcc5c-aac5-4c1c-b69b-2e1e16b7eeec",
   "metadata": {},
   "outputs": [],
   "source": [
    "import seaborn as sns"
   ]
  },
  {
   "cell_type": "code",
   "execution_count": 3,
   "id": "c4e87c3b-df1f-4ff8-aeaa-7beea94d13ce",
   "metadata": {},
   "outputs": [],
   "source": [
    "df = sns.load_dataset(\"tips\")"
   ]
  },
  {
   "cell_type": "code",
   "execution_count": 4,
   "id": "bebb01f2-898d-4d4b-afeb-0e2a4835af65",
   "metadata": {},
   "outputs": [
    {
     "data": {
      "text/html": [
       "<div>\n",
       "<style scoped>\n",
       "    .dataframe tbody tr th:only-of-type {\n",
       "        vertical-align: middle;\n",
       "    }\n",
       "\n",
       "    .dataframe tbody tr th {\n",
       "        vertical-align: top;\n",
       "    }\n",
       "\n",
       "    .dataframe thead th {\n",
       "        text-align: right;\n",
       "    }\n",
       "</style>\n",
       "<table border=\"1\" class=\"dataframe\">\n",
       "  <thead>\n",
       "    <tr style=\"text-align: right;\">\n",
       "      <th></th>\n",
       "      <th>total_bill</th>\n",
       "      <th>tip</th>\n",
       "      <th>sex</th>\n",
       "      <th>smoker</th>\n",
       "      <th>day</th>\n",
       "      <th>time</th>\n",
       "      <th>size</th>\n",
       "    </tr>\n",
       "  </thead>\n",
       "  <tbody>\n",
       "    <tr>\n",
       "      <th>0</th>\n",
       "      <td>16.99</td>\n",
       "      <td>1.01</td>\n",
       "      <td>Female</td>\n",
       "      <td>No</td>\n",
       "      <td>Sun</td>\n",
       "      <td>Dinner</td>\n",
       "      <td>2</td>\n",
       "    </tr>\n",
       "    <tr>\n",
       "      <th>1</th>\n",
       "      <td>10.34</td>\n",
       "      <td>1.66</td>\n",
       "      <td>Male</td>\n",
       "      <td>No</td>\n",
       "      <td>Sun</td>\n",
       "      <td>Dinner</td>\n",
       "      <td>3</td>\n",
       "    </tr>\n",
       "    <tr>\n",
       "      <th>2</th>\n",
       "      <td>21.01</td>\n",
       "      <td>3.50</td>\n",
       "      <td>Male</td>\n",
       "      <td>No</td>\n",
       "      <td>Sun</td>\n",
       "      <td>Dinner</td>\n",
       "      <td>3</td>\n",
       "    </tr>\n",
       "    <tr>\n",
       "      <th>3</th>\n",
       "      <td>23.68</td>\n",
       "      <td>3.31</td>\n",
       "      <td>Male</td>\n",
       "      <td>No</td>\n",
       "      <td>Sun</td>\n",
       "      <td>Dinner</td>\n",
       "      <td>2</td>\n",
       "    </tr>\n",
       "    <tr>\n",
       "      <th>4</th>\n",
       "      <td>24.59</td>\n",
       "      <td>3.61</td>\n",
       "      <td>Female</td>\n",
       "      <td>No</td>\n",
       "      <td>Sun</td>\n",
       "      <td>Dinner</td>\n",
       "      <td>4</td>\n",
       "    </tr>\n",
       "    <tr>\n",
       "      <th>...</th>\n",
       "      <td>...</td>\n",
       "      <td>...</td>\n",
       "      <td>...</td>\n",
       "      <td>...</td>\n",
       "      <td>...</td>\n",
       "      <td>...</td>\n",
       "      <td>...</td>\n",
       "    </tr>\n",
       "    <tr>\n",
       "      <th>239</th>\n",
       "      <td>29.03</td>\n",
       "      <td>5.92</td>\n",
       "      <td>Male</td>\n",
       "      <td>No</td>\n",
       "      <td>Sat</td>\n",
       "      <td>Dinner</td>\n",
       "      <td>3</td>\n",
       "    </tr>\n",
       "    <tr>\n",
       "      <th>240</th>\n",
       "      <td>27.18</td>\n",
       "      <td>2.00</td>\n",
       "      <td>Female</td>\n",
       "      <td>Yes</td>\n",
       "      <td>Sat</td>\n",
       "      <td>Dinner</td>\n",
       "      <td>2</td>\n",
       "    </tr>\n",
       "    <tr>\n",
       "      <th>241</th>\n",
       "      <td>22.67</td>\n",
       "      <td>2.00</td>\n",
       "      <td>Male</td>\n",
       "      <td>Yes</td>\n",
       "      <td>Sat</td>\n",
       "      <td>Dinner</td>\n",
       "      <td>2</td>\n",
       "    </tr>\n",
       "    <tr>\n",
       "      <th>242</th>\n",
       "      <td>17.82</td>\n",
       "      <td>1.75</td>\n",
       "      <td>Male</td>\n",
       "      <td>No</td>\n",
       "      <td>Sat</td>\n",
       "      <td>Dinner</td>\n",
       "      <td>2</td>\n",
       "    </tr>\n",
       "    <tr>\n",
       "      <th>243</th>\n",
       "      <td>18.78</td>\n",
       "      <td>3.00</td>\n",
       "      <td>Female</td>\n",
       "      <td>No</td>\n",
       "      <td>Thur</td>\n",
       "      <td>Dinner</td>\n",
       "      <td>2</td>\n",
       "    </tr>\n",
       "  </tbody>\n",
       "</table>\n",
       "<p>244 rows × 7 columns</p>\n",
       "</div>"
      ],
      "text/plain": [
       "     total_bill   tip     sex smoker   day    time  size\n",
       "0         16.99  1.01  Female     No   Sun  Dinner     2\n",
       "1         10.34  1.66    Male     No   Sun  Dinner     3\n",
       "2         21.01  3.50    Male     No   Sun  Dinner     3\n",
       "3         23.68  3.31    Male     No   Sun  Dinner     2\n",
       "4         24.59  3.61  Female     No   Sun  Dinner     4\n",
       "..          ...   ...     ...    ...   ...     ...   ...\n",
       "239       29.03  5.92    Male     No   Sat  Dinner     3\n",
       "240       27.18  2.00  Female    Yes   Sat  Dinner     2\n",
       "241       22.67  2.00    Male    Yes   Sat  Dinner     2\n",
       "242       17.82  1.75    Male     No   Sat  Dinner     2\n",
       "243       18.78  3.00  Female     No  Thur  Dinner     2\n",
       "\n",
       "[244 rows x 7 columns]"
      ]
     },
     "execution_count": 4,
     "metadata": {},
     "output_type": "execute_result"
    }
   ],
   "source": [
    "df"
   ]
  },
  {
   "cell_type": "markdown",
   "id": "d14f19c4-497d-43f9-be0a-61a3f5468c59",
   "metadata": {},
   "source": [
    "Na distribuição normal, os dados são distribuídos de forma muito particular, tal que o **desvio padrão** determina a proporção de dados em cada faixa:\n",
    "\n",
    "<center><img src=\"figures/normal_distribution.png\" align=\"center\" width=450/></center>"
   ]
  },
  {
   "cell_type": "markdown",
   "id": "3279f93d-23e3-46e6-ae6e-4d46ab26ce02",
   "metadata": {
    "tags": []
   },
   "source": [
    "## **Estatistica Descritiva**  <a class=\"anchor\" id=\"desc_stat\"></a>"
   ]
  },
  {
   "cell_type": "markdown",
   "id": "88fb2ed5-0b10-4329-9197-4818364c7515",
   "metadata": {},
   "source": [
    "Como mencionamos, o principal objetivo da **estatística descritiva** é gerar medidas que resumam o conjunto de dados que estamos analisando, ou seja, medidas que descrevam a distribuição dos dados, de forma quantitativa. Vamos dar uma olhada nessas medidas!"
   ]
  },
  {
   "cell_type": "markdown",
   "id": "fcdb4e6d-e894-4e8a-9f96-ddbc4c85cbc9",
   "metadata": {},
   "source": [
    "<center><img src=\"figures/desc_measures.png\" align=\"center\" width=150/></center>"
   ]
  },
  {
   "cell_type": "markdown",
   "id": "bcadb50b-cee5-4670-af36-b9495a09c7b2",
   "metadata": {
    "tags": []
   },
   "source": [
    "#### **Medidas de tendencia central** <a class=\"anchor\" id=\"tendencia_central\"></a>"
   ]
  },
  {
   "cell_type": "markdown",
   "id": "67975d77-a330-4253-8c22-fb6cc70f69b5",
   "metadata": {
    "jp-MarkdownHeadingCollapsed": true,
    "tags": []
   },
   "source": [
    "##### **Média** "
   ]
  },
  {
   "cell_type": "markdown",
   "id": "7087ef1b-3d7a-4790-8bf3-2142ec449820",
   "metadata": {},
   "source": [
    "Seja $X$ uma variável quantitativa e $x_0,x_1,x_2, ...$ os valores assumidos por X. Define-se média de $\\overline{X}$ como sendo :\n",
    "\n",
    "\n",
    "$$\\overline{X} = \\frac{\\sum_{i=0}^{n-1}x_i}{n}= \\frac{x_0+ x_1 + x_2 +... +x_n}{n}$$"
   ]
  },
  {
   "cell_type": "markdown",
   "id": "b40fcd0e-1bf8-4ec0-b200-e0465848c9c7",
   "metadata": {
    "jp-MarkdownHeadingCollapsed": true,
    "tags": []
   },
   "source": [
    "##### **Mediana** "
   ]
  },
  {
   "cell_type": "markdown",
   "id": "33d71ad8-05a0-4add-a185-0fdcac93fa6f",
   "metadata": {},
   "source": [
    "A **mediana** de uma variável é um número tal que há o mesmo número de observações maiores e menores do que ele, ocupando assim a **posição central** da série de observações.\n",
    "\n",
    "Assim, para calcularmos a mediana, basta **ordenarmos os dados, do menor pro maior**, e contar o que está no meio dos dados ordenados (se houver número par de dados, pega-se a média entre os dados que estão \"no meio\")\n",
    "\n",
    "- *Exemplo*\n",
    "\n",
    "i) 3,4,**7**,8,8 **mediana=7**       (CASO ÍMPAR)\n",
    "\n",
    "ii) 3,4,**7**,**8**,8,9 **mediana=(7+8)/2=7,5**   (CASO PAR)\n",
    "\n",
    "Logo, podemos definir \n",
    "\n",
    "- - Mediana de $X = X_{\\frac{n}{2}}$ `Se tamanho da amostra par`\n",
    "\n",
    "\n",
    "- - Mediana de $X = \\frac{X_{\\frac{n-1}{2}}+ X_{\\frac{n}{2}}}{2}$ `Se tamanho da amostra ímpar`"
   ]
  },
  {
   "cell_type": "markdown",
   "id": "a8147266-6101-4206-9b46-c20dda835593",
   "metadata": {
    "jp-MarkdownHeadingCollapsed": true,
    "tags": []
   },
   "source": [
    "##### **Quartis**"
   ]
  },
  {
   "cell_type": "markdown",
   "id": "43a6972f-733a-4477-b65b-8c4538e93572",
   "metadata": {
    "jp-MarkdownHeadingCollapsed": true,
    "tags": []
   },
   "source": [
    "Quartis (Q1, Q2 e Q3): São valores dados a partir do conjunto de observações ordenado em ordem crescente, que dividem os dados **em quatro partes iguais**. \n",
    "\n",
    "- O primeiro quartil, Q1, é o número que deixa 25% das observações abaixo e 75% acima;\n",
    "- O segundo quartil, Q2 é a **mediana**, deixa 50% das observações abaixo e 50% das observações acima;\n",
    "- O terceiro quartil, Q3, deixa 75% das observações abaixo e 25% acima;\n",
    "\n",
    "\n",
    "<img src=\"https://aprendendogestao.com.br/wp-content/uploads/2016/07/QE-Figura-1.png\" width=\"700\" height=\"700\" />"
   ]
  },
  {
   "cell_type": "markdown",
   "id": "37573833-d13e-4802-b18d-6053c29bdb69",
   "metadata": {
    "jp-MarkdownHeadingCollapsed": true,
    "tags": []
   },
   "source": [
    "##### **Moda**"
   ]
  },
  {
   "cell_type": "markdown",
   "id": "e81569a5-d967-4993-8a6e-3898dfee0734",
   "metadata": {},
   "source": [
    "A **moda** é o valor que ocorre com **maior frequencia** em um conjunto de dados \n",
    "\n",
    "Dependendo do conjunto de dados, ele pode ser:\n",
    "\n",
    "- Sem moda: quando nenhum valor se repete \n",
    "\n",
    "- unimodal: Quando existe apenas um valor repetido com maior frequência \n",
    "\n",
    "- multimodal: quando existem mais de um valor com a mesma frequência máxima "
   ]
  },
  {
   "cell_type": "markdown",
   "id": "0464db88-cec1-4e14-af7d-71fbf44449e0",
   "metadata": {
    "jp-MarkdownHeadingCollapsed": true,
    "tags": []
   },
   "source": [
    "#### **Medidas de dispersão** <a class=\"anchor\" id=\"medidas_dispersao\"></a>"
   ]
  },
  {
   "cell_type": "markdown",
   "id": "ceeee8f3-807a-484a-8df8-9c00369be703",
   "metadata": {
    "tags": []
   },
   "source": [
    "##### **Intervalo Interquartílico (IQR - interquantile range)** "
   ]
  },
  {
   "cell_type": "markdown",
   "id": "45dc032f-67ed-4732-815c-6f6d5fd48b0f",
   "metadata": {
    "tags": []
   },
   "source": [
    "Por construção, aproximadamente metade dos dados estão entre o 1º e o 3º quartil, isto é, este também pode ser interpretado como **um intervalo de valores tipicamente assumidos pelas observações**, e também é uma **medida de dispersão**, pois nos dá uma ideia da variação que existe entre o Q1 e o Q3!"
   ]
  },
  {
   "cell_type": "markdown",
   "id": "d51fea66-c090-4594-8289-b75095311199",
   "metadata": {
    "tags": []
   },
   "source": [
    "##### **Amplitude**"
   ]
  },
  {
   "cell_type": "markdown",
   "id": "56073118-711e-44cf-9d2e-bd91fe30b698",
   "metadata": {},
   "source": [
    "A amplitude é a **diferença entre o maior e o menor valor observado**. \n",
    "\n",
    "- **Fortemente influenciada** por valores extremos nas observações, como outliers. "
   ]
  },
  {
   "cell_type": "markdown",
   "id": "622d894d-a583-432b-8bc4-68abf02eb69d",
   "metadata": {
    "tags": []
   },
   "source": [
    "##### **Variância**"
   ]
  },
  {
   "cell_type": "markdown",
   "id": "98b69e54-ceeb-48a5-af8b-ddfec5c42a0e",
   "metadata": {},
   "source": [
    "A variância representa **o quanto os dados se afastam da média, em geral**. Por definição, tomamos a média dos **desvios quadráticos da média**:\n",
    "\n",
    "$$ Var(X) = \\sum_{i=1}^{n}\\frac{(x-\\overline{x})^{2}}{n}$$"
   ]
  },
  {
   "cell_type": "markdown",
   "id": "2f031b34-60e0-42bc-a907-a95c7f80baa7",
   "metadata": {
    "tags": []
   },
   "source": [
    "##### **Desvio padrão**"
   ]
  },
  {
   "cell_type": "markdown",
   "id": "088c0b80-e63c-4cc0-846d-da0d16b5b972",
   "metadata": {},
   "source": [
    "Note que, da forma como foi definida, a variância é um valor **quadrático** nos dados. Para evitar isso, é comum tirar a raiz quadrada da variância, o que define o **desvio padrão**:\n",
    "\n",
    "$$ \\sigma(X) \\equiv \\sqrt{Var(X)} = \\sqrt{\\sum_{i=1}^{n}\\frac{(x-\\overline{x})^{2}}{n}}$$"
   ]
  },
  {
   "cell_type": "markdown",
   "id": "370b84af-6e11-4b4e-97b0-e5d46db5c015",
   "metadata": {
    "tags": []
   },
   "source": [
    "##### **Assimetria - skewness**"
   ]
  },
  {
   "cell_type": "markdown",
   "id": "b5539454-c9d9-4a36-a9ec-3daffe07d09b",
   "metadata": {},
   "source": [
    "É o **grau de desvio ou afastamento** da **simetria** de uma distribuição.\n",
    "\n",
    "Quando a curva é simétrica, a `média`, a `mediana` e a `moda` coincidem, num mesmo ponto, havendo um perfeito equilíbrio na distribuição. Um exemplo de distribuição simétrica é a **distribuição normal**.\n",
    "\n",
    "Quando o equilíbrio não acontece, a média, a mediana e a moda recaem em pontos diferentes da distribuição, e a distribuição se torna **assimétrica**:\n",
    "\n",
    "<center><img src=\"figures/asymmetry.png\" align=\"center\" width=550/></center>\n",
    "\n",
    "\n",
    "- Distribuição assimétrica **Negativa ou enviesada a esquerda**: quando os valores se concentram na extremidade superior da escala e se distribuem gradativamente em direção à extremidade inferior.\n",
    "\n",
    "- Distribuição assimétrica **Positiva ou enviesada a direita**: quando os valores se concentram na extremidade inferior da escala e se distribuem gradativamente em direção à extremidade superior.\n",
    "\n",
    "A medidade de assimetria é conhecida como **skewness**, sendo calculada como:\n",
    "\n",
    "$$ s(X) = \\frac{1}{\\sigma^3}\\sum_{i=1}^{n}\\frac{(x-\\overline{x})^{3}}{n}$$\n",
    "\n",
    "O valor da skewness nos indica a assimetria da distribuição:\n",
    "\n",
    "- s = 0: distribuição simétrica\n",
    "- s > 0: assimetria à direira\n",
    "- s < 0: assimetria à esquerda"
   ]
  },
  {
   "cell_type": "markdown",
   "id": "c26552ef-15d7-44b8-9687-dc998f1fdfa9",
   "metadata": {
    "tags": []
   },
   "source": [
    "## **Outliers** <a class=\"anchor\" id=\"outliers\"></a>\n",
    "\n",
    "**Outliers** ou **discrepantes** referem-se a obsevações **extremas**, que se deslocam em muito das outras observações em um conjunto de dados, ou seja, que **destoam do padrão da distribuição** dos dados.\n",
    "\n",
    "Outliers podem existir por motivos diferentes, alguns dos quais são:\n",
    "\n",
    "- erro na entrada de dados (erro humano);\n",
    "- erro na medição/coleta dos dados (erro instrumental);\n",
    "- erros experimentais (planejamento/execução dos experimentos);\n",
    "- outliers naturais (não decorrente de erros)\n",
    "\n",
    "No caso dos erros, é importante que os outliers sejam tratados (comumente são removidos).\n",
    "\n",
    "Por outro lado, outliers naturais são importantes constituintes dos dados, de modo que não devem ser eliminados -- mas, muitas vezes, devem ser tratados.\n",
    "\n",
    "De qualquer modo, antes de começarmos a pensar em como **tratar** os outliers, o primeiro passo é **identifica-los**. Para discussões interessantes sobre outliers, como identificá-los e tratá-los, dê uma olhada [neste post](https://towardsdatascience.com/5-ways-to-detect-outliers-that-every-data-scientist-should-know-python-code-70a54335a623) ou [neste](https://towardsdatascience.com/a-brief-overview-of-outlier-detection-techniques-1e0b2c19e561).\n",
    "\n",
    "---"
   ]
  },
  {
   "cell_type": "markdown",
   "id": "c7fd01d6-d10c-4882-ab2b-1c251b0ea8c1",
   "metadata": {
    "jp-MarkdownHeadingCollapsed": true,
    "tags": []
   },
   "source": [
    "### **Z-score** <a class=\"anchor\" id=\"z_score\"></a>\n",
    "\n",
    "O **z-score** de uma observação nada mais é que **o número de desvios padrões que a obervação está com relação à média**:\n",
    "\n",
    "$$ z = \\frac{x - \\mu}{\\sigma} $$\n",
    "\n",
    "$$ z \\sigma = x - \\mu $$\n",
    "\n",
    "Como vimos acima, em uma distribuição normal, 99.73% das observações são esperadas de estar entre 3 desvios-padrão da média. Assim, obervações para além desta faixa são muito improváveis de ocorrer (0.27% de chance), de forma que podem ser consideradas outliers.\n",
    "\n",
    "Assim, é comum considerar outliers os pontos tais que $|z| > 3$ (embora seja comum também variar este z-score limite, para 2.5 o, 3.5, etc.)\n",
    "\n",
    "**OBS.: naturalmente, este método é altamente dependente da hipótese de que seus dados são normalmente distribuídos! Por isso, funciona apenas aproximadamente para outros casos. Mas é uma boa aproximação, em geral.**"
   ]
  },
  {
   "cell_type": "code",
   "execution_count": null,
   "id": "a5599025-1b18-4a06-9d96-3b9df4bde3ad",
   "metadata": {},
   "outputs": [],
   "source": []
  },
  {
   "cell_type": "markdown",
   "id": "30db8b0a-19fa-47fe-95e6-7734e3528f8c",
   "metadata": {},
   "source": [
    "As variáveis numéricas parecem estar normalmente distribuídas?"
   ]
  },
  {
   "cell_type": "code",
   "execution_count": null,
   "id": "478930ba-3bb6-492f-875a-5668b59474ae",
   "metadata": {},
   "outputs": [],
   "source": []
  },
  {
   "cell_type": "markdown",
   "id": "ed9b5478-0cf3-494c-8880-b1b35214bf31",
   "metadata": {
    "jp-MarkdownHeadingCollapsed": true,
    "tags": []
   },
   "source": [
    "### **Boxplot whisker (IQR)** <a class=\"anchor\" id=\"iqr_outlier\"></a>\n",
    "\n",
    "Neste método, outliers são identificados como **os pontos que estão para além dos whiskers em um boxplot**.\n",
    "\n",
    "\n",
    "Se você estiver interessado em saber porque os whiskers são definidios comumente com este fator 1.5 no \"1.5\\*IQR\", dê uma olhada [neste post!](https://towardsdatascience.com/why-1-5-in-iqr-method-of-outlier-detection-5d07fdc82097)"
   ]
  },
  {
   "cell_type": "code",
   "execution_count": null,
   "id": "e1a551b3-786c-4531-8912-f0bd1d5bac26",
   "metadata": {},
   "outputs": [],
   "source": []
  }
 ],
 "metadata": {
  "kernelspec": {
   "display_name": "Python 3.9.9 64-bit ('venv_playground': pyenv)",
   "language": "python",
   "name": "python399jvsc74a57bd00166448f751676955cf4a1fe6c574ee94d5d4fccd125fada50440631b5feaa53"
  },
  "language_info": {
   "codemirror_mode": {
    "name": "ipython",
    "version": 3
   },
   "file_extension": ".py",
   "mimetype": "text/x-python",
   "name": "python",
   "nbconvert_exporter": "python",
   "pygments_lexer": "ipython3",
   "version": "3.9.9"
  }
 },
 "nbformat": 4,
 "nbformat_minor": 5
}
