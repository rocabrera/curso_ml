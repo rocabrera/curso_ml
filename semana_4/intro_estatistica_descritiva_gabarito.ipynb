{
 "cells": [
  {
   "cell_type": "markdown",
   "id": "c35d5d06-8d26-4a2e-93b6-6cbb88c217ee",
   "metadata": {
    "tags": []
   },
   "source": [
    "# **Estatistica descritiva básica**"
   ]
  },
  {
   "cell_type": "code",
   "execution_count": 1,
   "id": "cd76b049-0b06-4229-b242-b7d232f4a415",
   "metadata": {},
   "outputs": [],
   "source": [
    "import seaborn as sns\n",
    "sns.set_palette(\"Set1\", 8, .75)\n",
    "import matplotlib.pyplot as plt\n",
    "\n",
    "import numpy as np\n",
    "import pandas as pd\n",
    "from src.intro_desc_stats import prepare_data, display_side_by_side\n"
   ]
  },
  {
   "cell_type": "markdown",
   "id": "8720b2a9-95ee-42a6-a7d5-745cc0058821",
   "metadata": {
    "jp-MarkdownHeadingCollapsed": true,
    "tags": []
   },
   "source": [
    "## **TOC:**\n",
    "- [Tipo de variáveis](#variables_types)\n",
    "\n",
    "---\n",
    "\n",
    "- [Probabilidade](#proba)\n",
    "\n",
    "    - [Variáveis Aleatórias](#random_var)\n",
    "    \n",
    "    - [Espaço amostral](#espaco_amostral)\n",
    "    \n",
    "    - [Conjuntos](#conjuntos)\n",
    "    \n",
    "    - [Definição de Probabilidade](#def_prob)\n",
    "\n",
    "---\n",
    "\n",
    "- [Distribuição de Probabilidade](#dist_proba)\n",
    "\n",
    "    - [Distribuição Uniforme](#dist_uni)\n",
    "    - [Distribuição Gaussiana](#dist_gaus)\n",
    "\n",
    "---\n",
    "\n",
    "- [Estatística Descritiva](#desc_stat)\n",
    "\n",
    "    - [Medidas de Tendência Central](#tendencia_central)\n",
    "    - [Medidas de Dispersão](#medidas_dispersao)\n",
    "\n",
    "---\n",
    "\n",
    "- [Outliers](#outliers)\n",
    "    - [Z score](#z_score)\n",
    "    - [Boxplot whisker (IQR)](#iqr_outlier)"
   ]
  },
  {
   "cell_type": "markdown",
   "id": "916ce654-3fd9-4e24-ab66-36dc3b34c45b",
   "metadata": {
    "tags": []
   },
   "source": [
    "## **Tipos de variáveis** <a class=\"anchor\" id=\"variables_types\"></a>"
   ]
  },
  {
   "cell_type": "markdown",
   "id": "ec97e853-08dd-4d95-9b49-50e5f8098870",
   "metadata": {},
   "source": [
    "* **Nominal**: Escala de medição em que os números servem apenas como rótulos e não indicam nenhuma relação quantitativa. Exemplos: sexo, estado civil, país de origem, ser fumante ou não, etc.\n",
    "\n",
    "* **Ordinais**: Escala de medição em que os números são postos; diferenças iguais entre números não representam diferenças iguais entre as coisas medidas. Exemplo: escolaridade, resposta de um paciente(piora, igual, melhora), classe social(alta, média,baixa)\n",
    "\n",
    "* **Interval**: Escala de medição na qual diferenças iguais entre números representam diferenças iguais na coisa medida. O ponto zero é definido arbitrariamente.\n",
    "\n",
    "* **Ratio Variables**: Escala de medição com características de escala intervalar, mas possui um *ponto zero verdadeiro*."
   ]
  },
  {
   "cell_type": "markdown",
   "id": "602d7df2-d133-4ec9-95d1-638a0fb164dd",
   "metadata": {},
   "source": [
    "\n",
    "\\begin{array}{lcccl}\n",
    "\\hline \\text{Tipo de variavel}  & \\text{transmite} \\leq & \\text{transmite} = & \\text{Possuí zero verdadeiro} & \\text{Exemplo}\\\\\\hline\n",
    "       \\text{Nominal ou Categorical}               & Não                   & Não                & Não  & \\text{Diagnóstico psicólogico, Tipos de Personalidade}\\\\\n",
    "       \\text{Ordinal ou Ranked}               & Sim                  & Não                & Não  & \\text{Posição de chegada de uma corrida}\\\\\n",
    "       \\text{Interval}              & Sim                  & Sim               & Não  & \\text{Celsius, Teste de QI}\\\\\n",
    "       \\text{Ratio}                 & Sim                  & Sim               & Sim & \\text{Altura, Peso}\\\\\n",
    "\\hline\n",
    "\\end{array}"
   ]
  },
  {
   "cell_type": "markdown",
   "id": "ebb5f77a-b283-4fd5-96a7-e27ff19668ea",
   "metadata": {},
   "source": [
    "Diferença entre variáveis ***Interval*** e ***Ratio***:\n",
    "\n",
    "- Converta $ 100 ^\\circ C$ e $ 50 ^\\circ C$ para Fahrenheit (F = 1,8C + 32) e de repente a relação \"duas vezes mais\" desaparece.\n",
    "- Converta 16 kg e 4 kg para libras (1 kg = 2,2 lbs) e a relação \"quatro vezes mais pesado\" é mantido.\n",
    "\n",
    "A diferença é sutil. Portanto, essas variáveis são referenciadas como <font color=\"orange\"><b>variáveis contínuas</b></font>."
   ]
  },
  {
   "cell_type": "markdown",
   "id": "87528320-fc4d-4d8e-a85a-998f16f4197e",
   "metadata": {
    "tags": []
   },
   "source": [
    "## **Probabilidade** <a class=\"anchor\" id=\"proba\"></a>"
   ]
  },
  {
   "cell_type": "markdown",
   "id": "5efa62f4-f3e5-41dc-9fd3-596da1341dc7",
   "metadata": {},
   "source": [
    "<center><img src=\"figures/pop_amostral.png\" align=\"center\" width=450/></center>"
   ]
  },
  {
   "cell_type": "markdown",
   "id": "04f3d983-aef5-433e-9ad2-640a3c676498",
   "metadata": {},
   "source": [
    "Probabilidade é a área da matemática que estuda eventos aleatórios, cujos resultados são probabilísticos ou estocásticos.\n",
    "\n",
    "Existem poucos sistemas na natureza que são de fato inerentemente aleatórias e não-determinísticas. No entanto, uma descrição determinística pode ser muito complicada, de modo que se torna conveniente tratar o sistema como um sistema estocástico.\n",
    "\n",
    "Exemplos: lanaçamento de moeda, lançamento de dados, etc.\n",
    "\n",
    "O objetivo da estatística é similar: analisar dados ou criar modelos que generalizem relações que não podem ser determinadas diretamente uma vez que não temos acesso à população. Neste sentido, há muita probabilidade envolvida em estatística, e é por isso que vamos olhar para os principais conceitos de probabilidade."
   ]
  },
  {
   "cell_type": "markdown",
   "id": "603a806d-42b4-4f01-9328-91843c2cb877",
   "metadata": {
    "tags": []
   },
   "source": [
    "### **Variável aleatória** <a class=\"anchor\" id=\"random_var\"></a>"
   ]
  },
  {
   "cell_type": "markdown",
   "id": "a2732965-28e3-4312-a465-067d5337c87d",
   "metadata": {},
   "source": [
    "Variáveis aleatórias são normalmente denotadas por uma letra capital como **X**.\n",
    "\n",
    "**Mais formalmente:** Uma função que mapeia um \"espaço de probabilidades\" na reta real $\\mathbb{R}$.\n",
    "\n",
    "**Menos formal:** Uma função que mapeia o desfecho de um processo aleatório (Exemplo: jogar uma moeda) para números reais (probabilidades). "
   ]
  },
  {
   "cell_type": "markdown",
   "id": "3561d45a-9e4b-4cd3-bb25-09048dd603fb",
   "metadata": {
    "tags": []
   },
   "source": [
    "### **Espaço amostral**  <a class=\"anchor\" id=\"espaco_amostral\"></a>"
   ]
  },
  {
   "cell_type": "markdown",
   "id": "bb4c822f-c9e3-4f23-951c-10feedfd4ed4",
   "metadata": {},
   "source": [
    "Chamamos de **espaço amostral** o conjunto de **todos os resultados possíveis de um certo fenômeno aleatório**, ou seja, os valores possíveis que a **variável aleatória de interesse pode assumir**. Representamos o espaço amostral pela letra grega $\\omega$."
   ]
  },
  {
   "cell_type": "markdown",
   "id": "2a0ebba1-0157-4123-aa7c-b461ad135e7a",
   "metadata": {},
   "source": [
    "Os subconjuntos de $\\omega$ são denominados **eventos** e representados pelas letras maiúsculas A, B, etc...\n",
    "\n",
    "\n",
    "**Exemplo:** Qual o espaço amostral dos resultadosdo lançamento de um dado?\n",
    "\n",
    "$$\n",
    "\\omega = \\{1,2,3,4,5,6\\}\n",
    "$$\n",
    "\n",
    "Alguns eventos possíveis são:\n",
    "\n",
    "- Evento A = \\{3\\}: o resultado do lançamento do dado foi 3;\n",
    "- Evento B = \\{5\\}: o resultado do lançamento do dado foi 5;"
   ]
  },
  {
   "cell_type": "markdown",
   "id": "291d9f05-6b4c-4959-9815-0f8873559c47",
   "metadata": {},
   "source": [
    "**Exercicio 1:** Qual o espaço amostral do resultado do lançamento de uma moeda?"
   ]
  },
  {
   "cell_type": "markdown",
   "id": "3d49c95e-c19f-469b-85e6-ad03c21039a1",
   "metadata": {},
   "source": [
    "**Exercicio 2:** Qual o espaço amostral do resultado do lançamento de duas moedas?"
   ]
  },
  {
   "cell_type": "markdown",
   "id": "196a9a1d-30f1-41d7-94ce-2f6fa72ad645",
   "metadata": {
    "tags": []
   },
   "source": [
    "### **Conjuntos** <a class=\"anchor\" id=\"conjuntos\"></a>"
   ]
  },
  {
   "cell_type": "code",
   "execution_count": 2,
   "id": "446cc002-583d-4b39-83cb-a9b7cff458fa",
   "metadata": {},
   "outputs": [],
   "source": [
    "A = {2,4,6}\n",
    "B = {2,3,5}"
   ]
  },
  {
   "cell_type": "markdown",
   "id": "d49fd7a7-0879-4ab1-b3da-c5ec50a67236",
   "metadata": {},
   "source": [
    "- O conjunto vazio é denotado por $\\emptyset$ e equivale a um conjunto sem nenhum elemento.\n",
    "- A <font color=\"orange\"><b>união</b></font> de dois eventos A e B, denotado por $\\cup$ representa a ocorrência de pelo menos um dos eventos A ou B.\n",
    "- A <font color=\"orange\"><b>intersecção</b></font> do evento A com B, denotado por $\\cap$ é a ocorrência simultânea de A e B."
   ]
  },
  {
   "cell_type": "markdown",
   "id": "dd153f93-af76-49ad-a811-a12b1fb7fa57",
   "metadata": {},
   "source": [
    "<center><img src=\"figures/union_intersection.png\" align=\"center\" width=250/></center>"
   ]
  },
  {
   "cell_type": "code",
   "execution_count": 3,
   "id": "57729f52-f1b8-434a-8e72-ac62c8f3a16b",
   "metadata": {},
   "outputs": [
    {
     "name": "stdout",
     "output_type": "stream",
     "text": [
      "{2, 3, 4, 5, 6}\n",
      "{2}\n"
     ]
    }
   ],
   "source": [
    "print(A.union(B))\n",
    "print(A.intersection(B))"
   ]
  },
  {
   "cell_type": "markdown",
   "id": "f7868d34-c638-483d-a9ac-6ea4c717e142",
   "metadata": {},
   "source": [
    "Dois eventos A e B são disjuntos ou <font color=\"orange\"><b>mutualmente exclusivos</b></font> quando não têm elemento em comum. Isto é, A $\\cap$ B = $\\emptyset$."
   ]
  },
  {
   "cell_type": "markdown",
   "id": "501ca7d8-a1ec-4020-bfa9-05258d2f0f3b",
   "metadata": {},
   "source": [
    "<center><img src=\"figures/mutu_exclusive.png\" align=\"center\" width=200/></center>\n"
   ]
  },
  {
   "cell_type": "code",
   "execution_count": 4,
   "id": "8aba9e2e-d007-4390-a100-6ecc9e39d042",
   "metadata": {},
   "outputs": [
    {
     "name": "stdout",
     "output_type": "stream",
     "text": [
      "set()\n"
     ]
    }
   ],
   "source": [
    "X = {1,2,3}\n",
    "Y = {4,5,6}\n",
    "print(X.intersection(Y))"
   ]
  },
  {
   "cell_type": "markdown",
   "id": "3f848412-853a-485f-aa20-ffa93aefa750",
   "metadata": {},
   "source": [
    "Dois eventos A e B são <font color=\"orange\"><b>complementares</b></font> se sua união é o espaço amostral e sua intersecção é vazia. O complementar de A será representado por $A^c$"
   ]
  },
  {
   "cell_type": "markdown",
   "id": "7b8492a3-83af-4945-b79c-427245de68f3",
   "metadata": {},
   "source": [
    "<center><img src=\"figures/complementar.png\" align=\"center\" width=200/></center>"
   ]
  },
  {
   "cell_type": "code",
   "execution_count": 5,
   "id": "a5571987-5274-48b5-9d13-12ba9061c903",
   "metadata": {},
   "outputs": [
    {
     "name": "stdout",
     "output_type": "stream",
     "text": [
      "X e Y são complementares!\n"
     ]
    }
   ],
   "source": [
    "U = {1,2,3,4,5,6}\n",
    "\n",
    "cond1 = X.union(Y) == U\n",
    "cond2 = X.intersection(Y) == set()\n",
    "\n",
    "if cond1 and cond2:\n",
    "    print(r'X e Y são complementares!')\n",
    "else:\n",
    "    print(r'X e Y não são complementares!')"
   ]
  },
  {
   "cell_type": "markdown",
   "id": "13d0c097-262f-4519-b114-284212647efe",
   "metadata": {
    "tags": []
   },
   "source": [
    "### **Definição de probabilidade** <a class=\"anchor\" id=\"def_prob\"></a>"
   ]
  },
  {
   "cell_type": "markdown",
   "id": "e73e4a66-cade-4409-8846-973b9c6bcc14",
   "metadata": {},
   "source": [
    "Definimos uma função $P(.)$ denominada probabilidade que deve satisfazer as seguintes propriedades:\n",
    "\n",
    "1. $0 \\leq P(A) \\leq 1 $\n",
    "2. $P(\\omega) = 1$\n",
    "3. $P(\\cup A_j) = \\sum_{j=1}^{n}P(A_j) $"
   ]
  },
  {
   "cell_type": "markdown",
   "id": "2f8235df-1b09-4026-9f93-ffddf928871e",
   "metadata": {},
   "source": [
    "**Exemplo:** Suponha o lançamento de uma moeda. Temos $\\omega = \\{K, C\\}$. \n",
    "1. Qualquer evento $A$ deve ter uma probabilidade entre 0 e 1.\n",
    "2. A probabilidade de lançarmos uma moeda e ter um desfecho que esteja compreendido em $\\omega$ é 1.\n",
    "3. Seja $\\{K\\} = A_1$ e $\\{C\\} = A_2$ temos $P(A_1 \\cup A_2)= P(A_1) + P(A_2)$"
   ]
  },
  {
   "cell_type": "markdown",
   "id": "6c9dcf75-d032-453e-94a0-2149b3a3f03e",
   "metadata": {},
   "source": [
    "## **Distribuições de probabilidades** <a class=\"anchor\" id=\"dist_proba\"></a>"
   ]
  },
  {
   "cell_type": "markdown",
   "id": "5a79e20e-7ac8-4ed7-9ced-748a4843a2af",
   "metadata": {},
   "source": [
    "Uma <font color=\"orange\"><b>distribuição de probabilidade</b></font> é uma função que descreve o comportamento aleatório de um fenômeno dependente do acaso.\n",
    "\n",
    "A distribuição de probabilidade pode modelar incertezas e descrever fenômenos físicos, biológicos, econômicos, entre outros.\n",
    "\n",
    "Para representar a distribuição matematicamente, frequentemente utilizamos a [função densidade de probabilidade](https://en.wikipedia.org/wiki/Probability_density_function). <font color=\"orange\"><b>Esta função é tal que a probabilidade do desfecho da variável aleatória cair em uma faixa particular é dada pela integral da densidade dessa variável sobre tal faixa</b></font> - isto é, é dada pela área abaixo da função densidade mas acima do eixo horizontal e entre o menor e o maior valor dessa faixa.\n",
    "\n"
   ]
  },
  {
   "cell_type": "markdown",
   "id": "fbe0af3d-72ee-421f-af3f-964a6db3b9d5",
   "metadata": {},
   "source": [
    "<center><img src=\"figures/density_func.png\" align=\"center\" width=450/></center>"
   ]
  },
  {
   "cell_type": "markdown",
   "id": "f832b3a4-357b-4f50-a6a6-fee951c67757",
   "metadata": {},
   "source": [
    "### **Distribuição uniforme** <a class=\"anchor\" id=\"dist_uni\"></a>"
   ]
  },
  {
   "cell_type": "code",
   "execution_count": 6,
   "id": "a502b2d5-e062-46a8-8841-0758ff79b25f",
   "metadata": {},
   "outputs": [
    {
     "data": {
      "image/png": "[encoded data removed]",
      "text/plain": [
       "<Figure size 1152x288 with 3 Axes>"
      ]
     },
     "metadata": {
      "needs_background": "light"
     },
     "output_type": "display_data"
    }
   ],
   "source": [
    "n_samples = 100000\n",
    "x = np.random.uniform(0, 1, size=n_samples)\n",
    "\n",
    "fig, axs = plt.subplots(1,3,figsize=(16,4))\n",
    "\n",
    "def plot_distribution(func, x, ax, title, **kwargs):\n",
    "    g = func(x, ax=ax, **kwargs)\n",
    "    g.set_title(title)\n",
    "    \n",
    "plot_distribution(sns.histplot, x, axs[0], \"Histograma\", stat=\"density\")\n",
    "plot_distribution(sns.kdeplot, x, axs[1], \"Kernel density Estimation - KDE\")\n",
    "plot_distribution(sns.ecdfplot, x, axs[2], \"Empirical cumulative distribution function - ECDF\")\n",
    "\n",
    "plt.tight_layout()\n",
    "plt.show()"
   ]
  },
  {
   "cell_type": "code",
   "execution_count": 7,
   "id": "ffff0d01-13ce-42ee-8c5d-c3f0cec5315a",
   "metadata": {
    "tags": []
   },
   "outputs": [
    {
     "data": {
      "text/plain": [
       "K    0.515\n",
       "C    0.485\n",
       "dtype: float64"
      ]
     },
     "execution_count": 7,
     "metadata": {},
     "output_type": "execute_result"
    }
   ],
   "source": [
    "p=0.5\n",
    "resultados = np.where(np.random.uniform(0, 1, 1000) <= p, \"K\", \"C\")\n",
    "pd.Series(resultados).value_counts(normalize=True)"
   ]
  },
  {
   "cell_type": "markdown",
   "id": "132687a6-6b89-46c2-b9ea-f867f748fb8f",
   "metadata": {},
   "source": [
    "### **Distribuição Gaussiana** <a class=\"anchor\" id=\"dist_gaus\"></a>"
   ]
  },
  {
   "cell_type": "markdown",
   "id": "3b23a2a8-bb1d-417f-bf78-287d39a1b040",
   "metadata": {},
   "source": [
    "É representada por uma curva simétrica em torno do seu ponto médio, apresentando assim seu famoso formato de sino (bell shape).\n",
    "\n",
    "A curva de distribuição normal representa o comportamento de diversos processos e fenômenos comuns, como por exemplo: altura ou peso de uma população, a pressão sanguínea de um grupo de pessoas, o tempo que um grupo de estudantes gasta para realizar uma prova, etc.\n",
    "\n",
    "<font color = \"orange\"><b>A distribuição normal serve também como base para a inferência estatística clássica, sendo a premissa em diversos modelos e métodos</b></font>.\n",
    "\n",
    "Na distribuição normal, a média, mediana e moda dos dados possuem o mesmo valor.\n",
    "\n",
    "A fórmula da da distribuição gaussiana é:\n",
    "\n",
    "$$\n",
    "f(x) = \\frac{1}{\\sigma\\sqrt{2\\pi}}e^{\\frac{-(x-\\mu)^2}{2\\sigma^2}}\n",
    "$$\n",
    "\n",
    "onde $\\mu$ é a média e $\\sigma$ é o desvio padrão."
   ]
  },
  {
   "cell_type": "code",
   "execution_count": 8,
   "id": "9e9acd0d-943a-4e6b-95a6-c94fd7301eb4",
   "metadata": {},
   "outputs": [
    {
     "data": {
      "image/png": "[encoded data removed]",
      "text/plain": [
       "<Figure size 1152x288 with 3 Axes>"
      ]
     },
     "metadata": {
      "needs_background": "light"
     },
     "output_type": "display_data"
    }
   ],
   "source": [
    "n_samples = 100000\n",
    "x = np.random.normal(loc=0.0, scale=1.0, size=n_samples)\n",
    "\n",
    "fig, axs = plt.subplots(1,3,figsize=(16,4))\n",
    "\n",
    "def plot_distribution(func, x, ax, title, **kwargs):\n",
    "    g = func(x, ax=ax, **kwargs)\n",
    "    g.set_title(title)\n",
    "    \n",
    "plot_distribution(sns.histplot, x, axs[0], \"Histograma\", stat=\"density\")\n",
    "plot_distribution(sns.kdeplot, x, axs[1], \"Kernel density Estimation - KDE\")\n",
    "plot_distribution(sns.ecdfplot, x, axs[2], \"Empirical cumulative distribution function - ECDF\")\n",
    "\n",
    "plt.tight_layout()\n",
    "plt.show()"
   ]
  },
  {
   "cell_type": "markdown",
   "id": "d14f19c4-497d-43f9-be0a-61a3f5468c59",
   "metadata": {},
   "source": [
    "Na distribuição normal, os dados são distribuídos de forma muito particular, tal que o **desvio padrão** determina a proporção de dados em cada faixa:\n",
    "\n",
    "<center><img src=\"figures/normal_distribution.png\" align=\"center\" width=450/></center>"
   ]
  },
  {
   "cell_type": "markdown",
   "id": "3279f93d-23e3-46e6-ae6e-4d46ab26ce02",
   "metadata": {},
   "source": [
    "## **Estatistica Descritiva**  <a class=\"anchor\" id=\"desc_stat\"></a>"
   ]
  },
  {
   "cell_type": "markdown",
   "id": "88fb2ed5-0b10-4329-9197-4818364c7515",
   "metadata": {},
   "source": [
    "Como mencionamos, o principal objetivo da **estatística descritiva** é gerar medidas que resumam o conjunto de dados que estamos analisando, ou seja, medidas que descrevam a distribuição dos dados, de forma quantitativa. Vamos dar uma olhada nessas medidas!"
   ]
  },
  {
   "cell_type": "markdown",
   "id": "fcdb4e6d-e894-4e8a-9f96-ddbc4c85cbc9",
   "metadata": {},
   "source": [
    "<center><img src=\"figures/desc_measures.png\" align=\"center\" width=150/></center>"
   ]
  },
  {
   "cell_type": "markdown",
   "id": "bcadb50b-cee5-4670-af36-b9495a09c7b2",
   "metadata": {
    "tags": []
   },
   "source": [
    "#### **Medidas de tendencia central** <a class=\"anchor\" id=\"tendencia_central\"></a>"
   ]
  },
  {
   "cell_type": "markdown",
   "id": "67975d77-a330-4253-8c22-fb6cc70f69b5",
   "metadata": {
    "tags": []
   },
   "source": [
    "##### **Média** "
   ]
  },
  {
   "cell_type": "markdown",
   "id": "7087ef1b-3d7a-4790-8bf3-2142ec449820",
   "metadata": {},
   "source": [
    "Seja $X$ uma variável quantitativa e $x_0,x_1,x_2, ...$ os valores assumidos por X. Define-se média de $\\overline{X}$ como sendo :\n",
    "\n",
    "\n",
    "$$\\overline{X} = \\frac{\\sum_{i=0}^{n-1}x_i}{n}= \\frac{x_0+ x_1 + x_2 +... +x_n}{n}$$"
   ]
  },
  {
   "cell_type": "markdown",
   "id": "b40fcd0e-1bf8-4ec0-b200-e0465848c9c7",
   "metadata": {
    "tags": []
   },
   "source": [
    "##### **Mediana** "
   ]
  },
  {
   "cell_type": "markdown",
   "id": "33d71ad8-05a0-4add-a185-0fdcac93fa6f",
   "metadata": {},
   "source": [
    "A **mediana** de uma variável é um número tal que há o mesmo número de observações maiores e menores do que ele, ocupando assim a **posição central** da série de observações.\n",
    "\n",
    "Assim, para calcularmos a mediana, basta **ordenarmos os dados, do menor pro maior**, e contar o que está no meio dos dados ordenados (se houver número par de dados, pega-se a média entre os dados que estão \"no meio\")\n",
    "\n",
    "- *Exemplo*\n",
    "\n",
    "i) 3,4,**7**,8,8 **mediana=7**       (CASO ÍMPAR)\n",
    "\n",
    "ii) 3,4,**7**,**8**,8,9 **mediana=(7+8)/2=7,5**   (CASO PAR)\n",
    "\n",
    "Logo, podemos definir \n",
    "\n",
    "- - Mediana de $X = X_{\\frac{n}{2}}$ `Se tamanho da amostra par`\n",
    "\n",
    "\n",
    "- - Mediana de $X = \\frac{X_{\\frac{n-1}{2}}+ X_{\\frac{n}{2}}}{2}$ `Se tamanho da amostra ímpar`"
   ]
  },
  {
   "cell_type": "markdown",
   "id": "a8147266-6101-4206-9b46-c20dda835593",
   "metadata": {
    "tags": []
   },
   "source": [
    "##### **Quartis**"
   ]
  },
  {
   "cell_type": "markdown",
   "id": "43a6972f-733a-4477-b65b-8c4538e93572",
   "metadata": {
    "jp-MarkdownHeadingCollapsed": true,
    "tags": []
   },
   "source": [
    "Quartis (Q1, Q2 e Q3): São valores dados a partir do conjunto de observações ordenado em ordem crescente, que dividem os dados **em quatro partes iguais**. \n",
    "\n",
    "- O primeiro quartil, Q1, é o número que deixa 25% das observações abaixo e 75% acima;\n",
    "- O segundo quartil, Q2 é a **mediana**, deixa 50% das observações abaixo e 50% das observações acima;\n",
    "- O terceiro quartil, Q3, deixa 75% das observações abaixo e 25% acima;\n",
    "\n",
    "\n",
    "<img src=\"https://aprendendogestao.com.br/wp-content/uploads/2016/07/QE-Figura-1.png\" width=\"700\" height=\"700\" />"
   ]
  },
  {
   "cell_type": "markdown",
   "id": "37573833-d13e-4802-b18d-6053c29bdb69",
   "metadata": {
    "tags": []
   },
   "source": [
    "##### **Moda**"
   ]
  },
  {
   "cell_type": "markdown",
   "id": "e81569a5-d967-4993-8a6e-3898dfee0734",
   "metadata": {},
   "source": [
    "A **moda** é o valor que ocorre com **maior frequencia** em um conjunto de dados \n",
    "\n",
    "Dependendo do conjunto de dados, ele pode ser:\n",
    "\n",
    "- Sem moda: quando nenhum valor se repete \n",
    "\n",
    "- unimodal: Quando existe apenas um valor repetido com maior frequência \n",
    "\n",
    "- multimodal: quando existem mais de um valor com a mesma frequência máxima "
   ]
  },
  {
   "cell_type": "markdown",
   "id": "0464db88-cec1-4e14-af7d-71fbf44449e0",
   "metadata": {
    "tags": []
   },
   "source": [
    "#### **Medidas de dispersão** <a class=\"anchor\" id=\"medidas_dispersao\"></a>"
   ]
  },
  {
   "cell_type": "markdown",
   "id": "ceeee8f3-807a-484a-8df8-9c00369be703",
   "metadata": {
    "tags": []
   },
   "source": [
    "##### **Intervalo Interquartílico (IQR - interquantile range)** "
   ]
  },
  {
   "cell_type": "markdown",
   "id": "45dc032f-67ed-4732-815c-6f6d5fd48b0f",
   "metadata": {
    "tags": []
   },
   "source": [
    "Por construção, aproximadamente metade dos dados estão entre o 1º e o 3º quartil, isto é, este também pode ser interpretado como **um intervalo de valores tipicamente assumidos pelas observações**, e também é uma **medida de dispersão**, pois nos dá uma ideia da variação que existe entre o Q1 e o Q3!"
   ]
  },
  {
   "cell_type": "markdown",
   "id": "d51fea66-c090-4594-8289-b75095311199",
   "metadata": {
    "tags": []
   },
   "source": [
    "##### **Amplitude**"
   ]
  },
  {
   "cell_type": "markdown",
   "id": "56073118-711e-44cf-9d2e-bd91fe30b698",
   "metadata": {},
   "source": [
    "A amplitude é a **diferença entre o maior e o menor valor observado**. \n",
    "\n",
    "- **Fortemente influenciada** por valores extremos nas observações, como outliers. "
   ]
  },
  {
   "cell_type": "markdown",
   "id": "622d894d-a583-432b-8bc4-68abf02eb69d",
   "metadata": {
    "tags": []
   },
   "source": [
    "##### **Variância**"
   ]
  },
  {
   "cell_type": "markdown",
   "id": "98b69e54-ceeb-48a5-af8b-ddfec5c42a0e",
   "metadata": {},
   "source": [
    "A variância representa **o quanto os dados se afastam da média, em geral**. Por definição, tomamos a média dos **desvios quadráticos da média**:\n",
    "\n",
    "$$ Var(X) = \\sum_{i=1}^{n}\\frac{(x-\\overline{x})^{2}}{n}$$"
   ]
  },
  {
   "cell_type": "markdown",
   "id": "2f031b34-60e0-42bc-a907-a95c7f80baa7",
   "metadata": {
    "tags": []
   },
   "source": [
    "##### **Desvio padrão**"
   ]
  },
  {
   "cell_type": "markdown",
   "id": "088c0b80-e63c-4cc0-846d-da0d16b5b972",
   "metadata": {},
   "source": [
    "Note que, da forma como foi definida, a variância é um valor **quadrático** nos dados. Para evitar isso, é comum tirar a raiz quadrada da variância, o que define o **desvio padrão**:\n",
    "\n",
    "$$ \\sigma(X) \\equiv \\sqrt{Var(X)} = \\sqrt{\\sum_{i=1}^{n}\\frac{(x-\\overline{x})^{2}}{n}}$$"
   ]
  },
  {
   "cell_type": "markdown",
   "id": "370b84af-6e11-4b4e-97b0-e5d46db5c015",
   "metadata": {
    "tags": []
   },
   "source": [
    "##### **Assimetria - skewness**"
   ]
  },
  {
   "cell_type": "markdown",
   "id": "b5539454-c9d9-4a36-a9ec-3daffe07d09b",
   "metadata": {},
   "source": [
    "É o **grau de desvio ou afastamento** da **simetria** de uma distribuição.\n",
    "\n",
    "Quando a curva é simétrica, a `média`, a `mediana` e a `moda` coincidem, num mesmo ponto, havendo um perfeito equilíbrio na distribuição. Um exemplo de distribuição simétrica é a **distribuição normal**.\n",
    "\n",
    "Quando o equilíbrio não acontece, a média, a mediana e a moda recaem em pontos diferentes da distribuição, e a distribuição se torna **assimétrica**:\n",
    "\n",
    "<center><img src=\"figures/asymmetry.png\" align=\"center\" width=550/></center>\n",
    "\n",
    "\n",
    "- Distribuição assimétrica **Negativa ou enviesada a esquerda**: quando os valores se concentram na extremidade superior da escala e se distribuem gradativamente em direção à extremidade inferior.\n",
    "\n",
    "- Distribuição assimétrica **Positiva ou enviesada a direita**: quando os valores se concentram na extremidade inferior da escala e se distribuem gradativamente em direção à extremidade superior.\n",
    "\n",
    "A medidade de assimetria é conhecida como **skewness**, sendo calculada como:\n",
    "\n",
    "$$ s(X) = \\frac{1}{\\sigma^3}\\sum_{i=1}^{n}\\frac{(x-\\overline{x})^{3}}{n}$$\n",
    "\n",
    "O valor da skewness nos indica a assimetria da distribuição:\n",
    "\n",
    "- s = 0: distribuição simétrica\n",
    "- s > 0: assimetria à direira\n",
    "- s < 0: assimetria à esquerda"
   ]
  },
  {
   "cell_type": "markdown",
   "id": "c26552ef-15d7-44b8-9687-dc998f1fdfa9",
   "metadata": {},
   "source": [
    "## **Outliers** <a class=\"anchor\" id=\"outliers\"></a>\n",
    "\n",
    "**Outliers** ou **discrepantes** referem-se a obsevações **extremas**, que se deslocam em muito das outras observações em um conjunto de dados, ou seja, que **destoam do padrão da distribuição** dos dados.\n",
    "\n",
    "Outliers podem existir por motivos diferentes, alguns dos quais são:\n",
    "\n",
    "- erro na entrada de dados (erro humano);\n",
    "- erro na medição/coleta dos dados (erro instrumental);\n",
    "- erros experimentais (planejamento/execução dos experimentos);\n",
    "- outliers naturais (não decorrente de erros)\n",
    "\n",
    "No caso dos erros, é importante que os outliers sejam tratados (comumente são removidos).\n",
    "\n",
    "Por outro lado, outliers naturais são importantes constituintes dos dados, de modo que não devem ser eliminados -- mas, muitas vezes, devem ser tratados.\n",
    "\n",
    "De qualquer modo, antes de começarmos a pensar em como **tratar** os outliers, o primeiro passo é **identifica-los**. Para discussões interessantes sobre outliers, como identificá-los e tratá-los, dê uma olhada [neste post](https://towardsdatascience.com/5-ways-to-detect-outliers-that-every-data-scientist-should-know-python-code-70a54335a623) ou [neste](https://towardsdatascience.com/a-brief-overview-of-outlier-detection-techniques-1e0b2c19e561).\n",
    "\n",
    "---"
   ]
  },
  {
   "cell_type": "markdown",
   "id": "c7fd01d6-d10c-4882-ab2b-1c251b0ea8c1",
   "metadata": {},
   "source": [
    "### **Z-score** <a class=\"anchor\" id=\"z_score\"></a>\n",
    "\n",
    "O **z-score** de uma observação nada mais é que **o número de desvios padrões que a obervação está com relação à média**:\n",
    "\n",
    "$$ z = \\frac{x - \\mu}{\\sigma} $$\n",
    "\n",
    "$$ z \\sigma = x - \\mu $$\n",
    "\n",
    "Como vimos acima, em uma distribuição normal, 99.73% das observações são esperadas de estar entre 3 desvios-padrão da média. Assim, obervações para além desta faixa são muito improváveis de ocorrer (0.27% de chance), de forma que podem ser consideradas outliers.\n",
    "\n",
    "Assim, é comum considerar outliers os pontos tais que $|z| > 3$ (embora seja comum também variar este z-score limite, para 2.5 o, 3.5, etc.)\n",
    "\n",
    "**OBS.: naturalmente, este método é altamente dependente da hipótese de que seus dados são normalmente distribuídos! Por isso, funciona apenas aproximadamente para outros casos. Mas é uma boa aproximação, em geral.**"
   ]
  },
  {
   "cell_type": "code",
   "execution_count": 9,
   "id": "a5599025-1b18-4a06-9d96-3b9df4bde3ad",
   "metadata": {},
   "outputs": [
    {
     "data": {
      "text/html": [
       "<div>\n",
       "<style scoped>\n",
       "    .dataframe tbody tr th:only-of-type {\n",
       "        vertical-align: middle;\n",
       "    }\n",
       "\n",
       "    .dataframe tbody tr th {\n",
       "        vertical-align: top;\n",
       "    }\n",
       "\n",
       "    .dataframe thead th {\n",
       "        text-align: right;\n",
       "    }\n",
       "</style>\n",
       "<table border=\"1\" class=\"dataframe\">\n",
       "  <thead>\n",
       "    <tr style=\"text-align: right;\">\n",
       "      <th></th>\n",
       "      <th>Gender</th>\n",
       "      <th>Height</th>\n",
       "      <th>Weight</th>\n",
       "    </tr>\n",
       "  </thead>\n",
       "  <tbody>\n",
       "    <tr>\n",
       "      <th>0</th>\n",
       "      <td>Male</td>\n",
       "      <td>187.571423</td>\n",
       "      <td>109.722200</td>\n",
       "    </tr>\n",
       "    <tr>\n",
       "      <th>1</th>\n",
       "      <td>Male</td>\n",
       "      <td>174.706036</td>\n",
       "      <td>73.623547</td>\n",
       "    </tr>\n",
       "    <tr>\n",
       "      <th>2</th>\n",
       "      <td>Male</td>\n",
       "      <td>188.239668</td>\n",
       "      <td>96.498619</td>\n",
       "    </tr>\n",
       "    <tr>\n",
       "      <th>3</th>\n",
       "      <td>Male</td>\n",
       "      <td>182.196685</td>\n",
       "      <td>99.810610</td>\n",
       "    </tr>\n",
       "    <tr>\n",
       "      <th>4</th>\n",
       "      <td>Male</td>\n",
       "      <td>177.499761</td>\n",
       "      <td>93.599656</td>\n",
       "    </tr>\n",
       "    <tr>\n",
       "      <th>...</th>\n",
       "      <td>...</td>\n",
       "      <td>...</td>\n",
       "      <td>...</td>\n",
       "    </tr>\n",
       "    <tr>\n",
       "      <th>9995</th>\n",
       "      <td>Female</td>\n",
       "      <td>168.078536</td>\n",
       "      <td>62.041846</td>\n",
       "    </tr>\n",
       "    <tr>\n",
       "      <th>9996</th>\n",
       "      <td>Female</td>\n",
       "      <td>170.350573</td>\n",
       "      <td>77.505174</td>\n",
       "    </tr>\n",
       "    <tr>\n",
       "      <th>9997</th>\n",
       "      <td>Female</td>\n",
       "      <td>162.224700</td>\n",
       "      <td>58.276022</td>\n",
       "    </tr>\n",
       "    <tr>\n",
       "      <th>9998</th>\n",
       "      <td>Female</td>\n",
       "      <td>175.346978</td>\n",
       "      <td>74.322989</td>\n",
       "    </tr>\n",
       "    <tr>\n",
       "      <th>9999</th>\n",
       "      <td>Female</td>\n",
       "      <td>157.338385</td>\n",
       "      <td>51.550895</td>\n",
       "    </tr>\n",
       "  </tbody>\n",
       "</table>\n",
       "<p>10000 rows × 3 columns</p>\n",
       "</div>"
      ],
      "text/plain": [
       "      Gender      Height      Weight\n",
       "0       Male  187.571423  109.722200\n",
       "1       Male  174.706036   73.623547\n",
       "2       Male  188.239668   96.498619\n",
       "3       Male  182.196685   99.810610\n",
       "4       Male  177.499761   93.599656\n",
       "...      ...         ...         ...\n",
       "9995  Female  168.078536   62.041846\n",
       "9996  Female  170.350573   77.505174\n",
       "9997  Female  162.224700   58.276022\n",
       "9998  Female  175.346978   74.322989\n",
       "9999  Female  157.338385   51.550895\n",
       "\n",
       "[10000 rows x 3 columns]"
      ]
     },
     "execution_count": 9,
     "metadata": {},
     "output_type": "execute_result"
    }
   ],
   "source": [
    "df_wh = pd.read_csv('data/weight-height.csv')\n",
    "# passando altura de polegadas pra centimetros\n",
    "df_wh[\"Height\"] = df_wh[\"Height\"] * 2.54\n",
    "# passando peso de libras pra quilos\n",
    "df_wh[\"Weight\"] = df_wh[\"Weight\"] / 2.2046\n",
    "\n",
    "df_wh"
   ]
  },
  {
   "cell_type": "markdown",
   "id": "30db8b0a-19fa-47fe-95e6-7734e3528f8c",
   "metadata": {},
   "source": [
    "As variáveis numéricas parecem estar normalmente distribuídas?"
   ]
  },
  {
   "cell_type": "code",
   "execution_count": 10,
   "id": "85fe1dbd-5f82-496f-b2e9-ef4b10865a0e",
   "metadata": {},
   "outputs": [
    {
     "data": {
      "text/html": [
       "<div>\n",
       "<style scoped>\n",
       "    .dataframe tbody tr th:only-of-type {\n",
       "        vertical-align: middle;\n",
       "    }\n",
       "\n",
       "    .dataframe tbody tr th {\n",
       "        vertical-align: top;\n",
       "    }\n",
       "\n",
       "    .dataframe thead th {\n",
       "        text-align: right;\n",
       "    }\n",
       "</style>\n",
       "<table border=\"1\" class=\"dataframe\">\n",
       "  <thead>\n",
       "    <tr style=\"text-align: right;\">\n",
       "      <th></th>\n",
       "      <th>Height</th>\n",
       "      <th>Weight</th>\n",
       "    </tr>\n",
       "  </thead>\n",
       "  <tbody>\n",
       "    <tr>\n",
       "      <th>count</th>\n",
       "      <td>10000.000000</td>\n",
       "      <td>10000.000000</td>\n",
       "    </tr>\n",
       "    <tr>\n",
       "      <th>mean</th>\n",
       "      <td>168.573602</td>\n",
       "      <td>73.228865</td>\n",
       "    </tr>\n",
       "    <tr>\n",
       "      <th>std</th>\n",
       "      <td>9.772721</td>\n",
       "      <td>14.564292</td>\n",
       "    </tr>\n",
       "    <tr>\n",
       "      <th>min</th>\n",
       "      <td>137.828359</td>\n",
       "      <td>29.347785</td>\n",
       "    </tr>\n",
       "    <tr>\n",
       "      <th>25%</th>\n",
       "      <td>161.304276</td>\n",
       "      <td>61.606664</td>\n",
       "    </tr>\n",
       "    <tr>\n",
       "      <th>50%</th>\n",
       "      <td>168.447898</td>\n",
       "      <td>73.125704</td>\n",
       "    </tr>\n",
       "    <tr>\n",
       "      <th>75%</th>\n",
       "      <td>175.702625</td>\n",
       "      <td>84.899540</td>\n",
       "    </tr>\n",
       "    <tr>\n",
       "      <th>max</th>\n",
       "      <td>200.656806</td>\n",
       "      <td>122.466524</td>\n",
       "    </tr>\n",
       "  </tbody>\n",
       "</table>\n",
       "</div>"
      ],
      "text/plain": [
       "             Height        Weight\n",
       "count  10000.000000  10000.000000\n",
       "mean     168.573602     73.228865\n",
       "std        9.772721     14.564292\n",
       "min      137.828359     29.347785\n",
       "25%      161.304276     61.606664\n",
       "50%      168.447898     73.125704\n",
       "75%      175.702625     84.899540\n",
       "max      200.656806    122.466524"
      ]
     },
     "metadata": {},
     "output_type": "display_data"
    },
    {
     "name": "stdout",
     "output_type": "stream",
     "text": [
      "Parece que sim, pois a média e mediana são bem próximas!\n"
     ]
    }
   ],
   "source": [
    "display(df_wh.describe())\n",
    "\n",
    "print(\"Parece que sim, pois a média e mediana são bem próximas!\")"
   ]
  },
  {
   "cell_type": "code",
   "execution_count": 11,
   "id": "478930ba-3bb6-492f-875a-5668b59474ae",
   "metadata": {},
   "outputs": [],
   "source": [
    "\n",
    "male = df_wh[df_wh[\"Gender\"] == \"Male\"].copy()\n",
    "female = df_wh[df_wh[\"Gender\"] == \"Female\"].copy()\n",
    "\n",
    "male[\"z_height\"] = male[\"Height\"].apply(lambda x: (x-male[\"Height\"].mean())/male[\"Height\"].std())\n",
    "male[\"z_weight\"] = male[\"Weight\"].apply(lambda x: (x-male[\"Weight\"].mean())/male[\"Weight\"].std())\n",
    "\n",
    "female[\"z_height\"] = female[\"Height\"].apply(lambda x: (x-female[\"Height\"].mean())/female[\"Height\"].std())\n",
    "female[\"z_weight\"] = female[\"Weight\"].apply(lambda x: (x-female[\"Weight\"].mean())/female[\"Weight\"].std())"
   ]
  },
  {
   "cell_type": "code",
   "execution_count": 12,
   "id": "445ab014-b200-4eab-bbc1-4c4cb9bf23f9",
   "metadata": {
    "tags": []
   },
   "outputs": [
    {
     "name": "stdout",
     "output_type": "stream",
     "text": [
      "Outliers homens apenas para a altura:\n"
     ]
    },
    {
     "data": {
      "text/html": [
       "<div>\n",
       "<style scoped>\n",
       "    .dataframe tbody tr th:only-of-type {\n",
       "        vertical-align: middle;\n",
       "    }\n",
       "\n",
       "    .dataframe tbody tr th {\n",
       "        vertical-align: top;\n",
       "    }\n",
       "\n",
       "    .dataframe thead th {\n",
       "        text-align: right;\n",
       "    }\n",
       "</style>\n",
       "<table border=\"1\" class=\"dataframe\">\n",
       "  <thead>\n",
       "    <tr style=\"text-align: right;\">\n",
       "      <th></th>\n",
       "      <th>Gender</th>\n",
       "      <th>Height</th>\n",
       "      <th>Weight</th>\n",
       "      <th>z_height</th>\n",
       "      <th>z_weight</th>\n",
       "    </tr>\n",
       "  </thead>\n",
       "  <tbody>\n",
       "    <tr>\n",
       "      <th>994</th>\n",
       "      <td>Male</td>\n",
       "      <td>198.363503</td>\n",
       "      <td>115.980602</td>\n",
       "      <td>3.167438</td>\n",
       "      <td>3.471497</td>\n",
       "    </tr>\n",
       "    <tr>\n",
       "      <th>1238</th>\n",
       "      <td>Male</td>\n",
       "      <td>153.322811</td>\n",
       "      <td>60.848611</td>\n",
       "      <td>-3.025476</td>\n",
       "      <td>-2.672937</td>\n",
       "    </tr>\n",
       "    <tr>\n",
       "      <th>1317</th>\n",
       "      <td>Male</td>\n",
       "      <td>199.293614</td>\n",
       "      <td>103.121911</td>\n",
       "      <td>3.295324</td>\n",
       "      <td>2.038402</td>\n",
       "    </tr>\n",
       "    <tr>\n",
       "      <th>1942</th>\n",
       "      <td>Male</td>\n",
       "      <td>152.353937</td>\n",
       "      <td>51.212437</td>\n",
       "      <td>-3.158693</td>\n",
       "      <td>-3.746883</td>\n",
       "    </tr>\n",
       "    <tr>\n",
       "      <th>2014</th>\n",
       "      <td>Male</td>\n",
       "      <td>200.656806</td>\n",
       "      <td>122.466524</td>\n",
       "      <td>3.482758</td>\n",
       "      <td>4.194350</td>\n",
       "    </tr>\n",
       "    <tr>\n",
       "      <th>2191</th>\n",
       "      <td>Male</td>\n",
       "      <td>152.244170</td>\n",
       "      <td>64.165644</td>\n",
       "      <td>-3.173785</td>\n",
       "      <td>-2.303255</td>\n",
       "    </tr>\n",
       "    <tr>\n",
       "      <th>2334</th>\n",
       "      <td>Male</td>\n",
       "      <td>150.826850</td>\n",
       "      <td>61.866554</td>\n",
       "      <td>-3.368661</td>\n",
       "      <td>-2.559487</td>\n",
       "    </tr>\n",
       "    <tr>\n",
       "      <th>2527</th>\n",
       "      <td>Male</td>\n",
       "      <td>153.083534</td>\n",
       "      <td>57.359890</td>\n",
       "      <td>-3.058376</td>\n",
       "      <td>-3.061753</td>\n",
       "    </tr>\n",
       "    <tr>\n",
       "      <th>2974</th>\n",
       "      <td>Male</td>\n",
       "      <td>153.078663</td>\n",
       "      <td>60.304898</td>\n",
       "      <td>-3.059046</td>\n",
       "      <td>-2.733533</td>\n",
       "    </tr>\n",
       "    <tr>\n",
       "      <th>3020</th>\n",
       "      <td>Male</td>\n",
       "      <td>152.951227</td>\n",
       "      <td>66.659097</td>\n",
       "      <td>-3.076568</td>\n",
       "      <td>-2.025361</td>\n",
       "    </tr>\n",
       "    <tr>\n",
       "      <th>3285</th>\n",
       "      <td>Male</td>\n",
       "      <td>199.461654</td>\n",
       "      <td>115.163297</td>\n",
       "      <td>3.318429</td>\n",
       "      <td>3.380409</td>\n",
       "    </tr>\n",
       "    <tr>\n",
       "      <th>3757</th>\n",
       "      <td>Male</td>\n",
       "      <td>199.698290</td>\n",
       "      <td>111.464113</td>\n",
       "      <td>3.350966</td>\n",
       "      <td>2.968136</td>\n",
       "    </tr>\n",
       "    <tr>\n",
       "      <th>4170</th>\n",
       "      <td>Male</td>\n",
       "      <td>153.019044</td>\n",
       "      <td>69.777479</td>\n",
       "      <td>-3.067243</td>\n",
       "      <td>-1.677819</td>\n",
       "    </tr>\n",
       "    <tr>\n",
       "      <th>4637</th>\n",
       "      <td>Male</td>\n",
       "      <td>152.064918</td>\n",
       "      <td>53.435472</td>\n",
       "      <td>-3.198432</td>\n",
       "      <td>-3.499127</td>\n",
       "    </tr>\n",
       "    <tr>\n",
       "      <th>4794</th>\n",
       "      <td>Male</td>\n",
       "      <td>148.353539</td>\n",
       "      <td>55.038702</td>\n",
       "      <td>-3.708731</td>\n",
       "      <td>-3.320448</td>\n",
       "    </tr>\n",
       "  </tbody>\n",
       "</table>\n",
       "</div>"
      ],
      "text/plain": [
       "     Gender      Height      Weight  z_height  z_weight\n",
       "994    Male  198.363503  115.980602  3.167438  3.471497\n",
       "1238   Male  153.322811   60.848611 -3.025476 -2.672937\n",
       "1317   Male  199.293614  103.121911  3.295324  2.038402\n",
       "1942   Male  152.353937   51.212437 -3.158693 -3.746883\n",
       "2014   Male  200.656806  122.466524  3.482758  4.194350\n",
       "2191   Male  152.244170   64.165644 -3.173785 -2.303255\n",
       "2334   Male  150.826850   61.866554 -3.368661 -2.559487\n",
       "2527   Male  153.083534   57.359890 -3.058376 -3.061753\n",
       "2974   Male  153.078663   60.304898 -3.059046 -2.733533\n",
       "3020   Male  152.951227   66.659097 -3.076568 -2.025361\n",
       "3285   Male  199.461654  115.163297  3.318429  3.380409\n",
       "3757   Male  199.698290  111.464113  3.350966  2.968136\n",
       "4170   Male  153.019044   69.777479 -3.067243 -1.677819\n",
       "4637   Male  152.064918   53.435472 -3.198432 -3.499127\n",
       "4794   Male  148.353539   55.038702 -3.708731 -3.320448"
      ]
     },
     "metadata": {},
     "output_type": "display_data"
    },
    {
     "name": "stdout",
     "output_type": "stream",
     "text": [
      "\n",
      "Outliers homens apenas para o peso:\n"
     ]
    },
    {
     "data": {
      "text/html": [
       "<div>\n",
       "<style scoped>\n",
       "    .dataframe tbody tr th:only-of-type {\n",
       "        vertical-align: middle;\n",
       "    }\n",
       "\n",
       "    .dataframe tbody tr th {\n",
       "        vertical-align: top;\n",
       "    }\n",
       "\n",
       "    .dataframe thead th {\n",
       "        text-align: right;\n",
       "    }\n",
       "</style>\n",
       "<table border=\"1\" class=\"dataframe\">\n",
       "  <thead>\n",
       "    <tr style=\"text-align: right;\">\n",
       "      <th></th>\n",
       "      <th>Gender</th>\n",
       "      <th>Height</th>\n",
       "      <th>Weight</th>\n",
       "      <th>z_height</th>\n",
       "      <th>z_weight</th>\n",
       "    </tr>\n",
       "  </thead>\n",
       "  <tbody>\n",
       "    <tr>\n",
       "      <th>565</th>\n",
       "      <td>Male</td>\n",
       "      <td>156.855185</td>\n",
       "      <td>56.031998</td>\n",
       "      <td>-2.539789</td>\n",
       "      <td>-3.209746</td>\n",
       "    </tr>\n",
       "    <tr>\n",
       "      <th>994</th>\n",
       "      <td>Male</td>\n",
       "      <td>198.363503</td>\n",
       "      <td>115.980602</td>\n",
       "      <td>3.167438</td>\n",
       "      <td>3.471497</td>\n",
       "    </tr>\n",
       "    <tr>\n",
       "      <th>1506</th>\n",
       "      <td>Male</td>\n",
       "      <td>192.274490</td>\n",
       "      <td>113.202226</td>\n",
       "      <td>2.330223</td>\n",
       "      <td>3.161848</td>\n",
       "    </tr>\n",
       "    <tr>\n",
       "      <th>1610</th>\n",
       "      <td>Male</td>\n",
       "      <td>194.608567</td>\n",
       "      <td>116.058844</td>\n",
       "      <td>2.651149</td>\n",
       "      <td>3.480217</td>\n",
       "    </tr>\n",
       "    <tr>\n",
       "      <th>1750</th>\n",
       "      <td>Male</td>\n",
       "      <td>189.495857</td>\n",
       "      <td>113.374890</td>\n",
       "      <td>1.948172</td>\n",
       "      <td>3.181092</td>\n",
       "    </tr>\n",
       "    <tr>\n",
       "      <th>1942</th>\n",
       "      <td>Male</td>\n",
       "      <td>152.353937</td>\n",
       "      <td>51.212437</td>\n",
       "      <td>-3.158693</td>\n",
       "      <td>-3.746883</td>\n",
       "    </tr>\n",
       "    <tr>\n",
       "      <th>2014</th>\n",
       "      <td>Male</td>\n",
       "      <td>200.656806</td>\n",
       "      <td>122.466524</td>\n",
       "      <td>3.482758</td>\n",
       "      <td>4.194350</td>\n",
       "    </tr>\n",
       "    <tr>\n",
       "      <th>2070</th>\n",
       "      <td>Male</td>\n",
       "      <td>196.762546</td>\n",
       "      <td>114.558963</td>\n",
       "      <td>2.947312</td>\n",
       "      <td>3.313056</td>\n",
       "    </tr>\n",
       "    <tr>\n",
       "      <th>2417</th>\n",
       "      <td>Male</td>\n",
       "      <td>160.411852</td>\n",
       "      <td>54.088205</td>\n",
       "      <td>-2.050762</td>\n",
       "      <td>-3.426381</td>\n",
       "    </tr>\n",
       "    <tr>\n",
       "      <th>2500</th>\n",
       "      <td>Male</td>\n",
       "      <td>155.129197</td>\n",
       "      <td>55.647334</td>\n",
       "      <td>-2.777105</td>\n",
       "      <td>-3.252616</td>\n",
       "    </tr>\n",
       "    <tr>\n",
       "      <th>2527</th>\n",
       "      <td>Male</td>\n",
       "      <td>153.083534</td>\n",
       "      <td>57.359890</td>\n",
       "      <td>-3.058376</td>\n",
       "      <td>-3.061753</td>\n",
       "    </tr>\n",
       "    <tr>\n",
       "      <th>2873</th>\n",
       "      <td>Male</td>\n",
       "      <td>155.286648</td>\n",
       "      <td>57.074763</td>\n",
       "      <td>-2.755457</td>\n",
       "      <td>-3.093530</td>\n",
       "    </tr>\n",
       "    <tr>\n",
       "      <th>2971</th>\n",
       "      <td>Male</td>\n",
       "      <td>190.898472</td>\n",
       "      <td>113.543115</td>\n",
       "      <td>2.141026</td>\n",
       "      <td>3.199840</td>\n",
       "    </tr>\n",
       "    <tr>\n",
       "      <th>3228</th>\n",
       "      <td>Male</td>\n",
       "      <td>193.722416</td>\n",
       "      <td>112.213890</td>\n",
       "      <td>2.529307</td>\n",
       "      <td>3.051699</td>\n",
       "    </tr>\n",
       "    <tr>\n",
       "      <th>3285</th>\n",
       "      <td>Male</td>\n",
       "      <td>199.461654</td>\n",
       "      <td>115.163297</td>\n",
       "      <td>3.318429</td>\n",
       "      <td>3.380409</td>\n",
       "    </tr>\n",
       "    <tr>\n",
       "      <th>3332</th>\n",
       "      <td>Male</td>\n",
       "      <td>154.231542</td>\n",
       "      <td>56.077456</td>\n",
       "      <td>-2.900529</td>\n",
       "      <td>-3.204680</td>\n",
       "    </tr>\n",
       "    <tr>\n",
       "      <th>3669</th>\n",
       "      <td>Male</td>\n",
       "      <td>195.601174</td>\n",
       "      <td>114.045655</td>\n",
       "      <td>2.787628</td>\n",
       "      <td>3.255848</td>\n",
       "    </tr>\n",
       "    <tr>\n",
       "      <th>3909</th>\n",
       "      <td>Male</td>\n",
       "      <td>195.751082</td>\n",
       "      <td>112.995664</td>\n",
       "      <td>2.808240</td>\n",
       "      <td>3.138827</td>\n",
       "    </tr>\n",
       "    <tr>\n",
       "      <th>4077</th>\n",
       "      <td>Male</td>\n",
       "      <td>190.441460</td>\n",
       "      <td>112.877108</td>\n",
       "      <td>2.078189</td>\n",
       "      <td>3.125614</td>\n",
       "    </tr>\n",
       "    <tr>\n",
       "      <th>4331</th>\n",
       "      <td>Male</td>\n",
       "      <td>195.195854</td>\n",
       "      <td>115.308479</td>\n",
       "      <td>2.731899</td>\n",
       "      <td>3.396589</td>\n",
       "    </tr>\n",
       "    <tr>\n",
       "      <th>4637</th>\n",
       "      <td>Male</td>\n",
       "      <td>152.064918</td>\n",
       "      <td>53.435472</td>\n",
       "      <td>-3.198432</td>\n",
       "      <td>-3.499127</td>\n",
       "    </tr>\n",
       "    <tr>\n",
       "      <th>4794</th>\n",
       "      <td>Male</td>\n",
       "      <td>148.353539</td>\n",
       "      <td>55.038702</td>\n",
       "      <td>-3.708731</td>\n",
       "      <td>-3.320448</td>\n",
       "    </tr>\n",
       "  </tbody>\n",
       "</table>\n",
       "</div>"
      ],
      "text/plain": [
       "     Gender      Height      Weight  z_height  z_weight\n",
       "565    Male  156.855185   56.031998 -2.539789 -3.209746\n",
       "994    Male  198.363503  115.980602  3.167438  3.471497\n",
       "1506   Male  192.274490  113.202226  2.330223  3.161848\n",
       "1610   Male  194.608567  116.058844  2.651149  3.480217\n",
       "1750   Male  189.495857  113.374890  1.948172  3.181092\n",
       "1942   Male  152.353937   51.212437 -3.158693 -3.746883\n",
       "2014   Male  200.656806  122.466524  3.482758  4.194350\n",
       "2070   Male  196.762546  114.558963  2.947312  3.313056\n",
       "2417   Male  160.411852   54.088205 -2.050762 -3.426381\n",
       "2500   Male  155.129197   55.647334 -2.777105 -3.252616\n",
       "2527   Male  153.083534   57.359890 -3.058376 -3.061753\n",
       "2873   Male  155.286648   57.074763 -2.755457 -3.093530\n",
       "2971   Male  190.898472  113.543115  2.141026  3.199840\n",
       "3228   Male  193.722416  112.213890  2.529307  3.051699\n",
       "3285   Male  199.461654  115.163297  3.318429  3.380409\n",
       "3332   Male  154.231542   56.077456 -2.900529 -3.204680\n",
       "3669   Male  195.601174  114.045655  2.787628  3.255848\n",
       "3909   Male  195.751082  112.995664  2.808240  3.138827\n",
       "4077   Male  190.441460  112.877108  2.078189  3.125614\n",
       "4331   Male  195.195854  115.308479  2.731899  3.396589\n",
       "4637   Male  152.064918   53.435472 -3.198432 -3.499127\n",
       "4794   Male  148.353539   55.038702 -3.708731 -3.320448"
      ]
     },
     "metadata": {},
     "output_type": "display_data"
    },
    {
     "name": "stdout",
     "output_type": "stream",
     "text": [
      "\n",
      " ############################################### \n",
      "\n",
      "Outliers mulheres apenas para a altura:\n"
     ]
    },
    {
     "data": {
      "text/html": [
       "<div>\n",
       "<style scoped>\n",
       "    .dataframe tbody tr th:only-of-type {\n",
       "        vertical-align: middle;\n",
       "    }\n",
       "\n",
       "    .dataframe tbody tr th {\n",
       "        vertical-align: top;\n",
       "    }\n",
       "\n",
       "    .dataframe thead th {\n",
       "        text-align: right;\n",
       "    }\n",
       "</style>\n",
       "<table border=\"1\" class=\"dataframe\">\n",
       "  <thead>\n",
       "    <tr style=\"text-align: right;\">\n",
       "      <th></th>\n",
       "      <th>Gender</th>\n",
       "      <th>Height</th>\n",
       "      <th>Weight</th>\n",
       "      <th>z_height</th>\n",
       "      <th>z_weight</th>\n",
       "    </tr>\n",
       "  </thead>\n",
       "  <tbody>\n",
       "    <tr>\n",
       "      <th>5103</th>\n",
       "      <td>Female</td>\n",
       "      <td>182.857792</td>\n",
       "      <td>80.452691</td>\n",
       "      <td>3.071814</td>\n",
       "      <td>2.181941</td>\n",
       "    </tr>\n",
       "    <tr>\n",
       "      <th>5345</th>\n",
       "      <td>Female</td>\n",
       "      <td>140.554691</td>\n",
       "      <td>40.082819</td>\n",
       "      <td>-3.105118</td>\n",
       "      <td>-2.496706</td>\n",
       "    </tr>\n",
       "    <tr>\n",
       "      <th>6624</th>\n",
       "      <td>Female</td>\n",
       "      <td>138.726819</td>\n",
       "      <td>32.383992</td>\n",
       "      <td>-3.372017</td>\n",
       "      <td>-3.388958</td>\n",
       "    </tr>\n",
       "    <tr>\n",
       "      <th>7162</th>\n",
       "      <td>Female</td>\n",
       "      <td>183.971618</td>\n",
       "      <td>80.726450</td>\n",
       "      <td>3.234451</td>\n",
       "      <td>2.213669</td>\n",
       "    </tr>\n",
       "    <tr>\n",
       "      <th>7294</th>\n",
       "      <td>Female</td>\n",
       "      <td>139.379268</td>\n",
       "      <td>35.655752</td>\n",
       "      <td>-3.276749</td>\n",
       "      <td>-3.009779</td>\n",
       "    </tr>\n",
       "    <tr>\n",
       "      <th>7311</th>\n",
       "      <td>Female</td>\n",
       "      <td>186.409548</td>\n",
       "      <td>86.219146</td>\n",
       "      <td>3.590427</td>\n",
       "      <td>2.850242</td>\n",
       "    </tr>\n",
       "    <tr>\n",
       "      <th>7617</th>\n",
       "      <td>Female</td>\n",
       "      <td>140.077336</td>\n",
       "      <td>40.285046</td>\n",
       "      <td>-3.174820</td>\n",
       "      <td>-2.473269</td>\n",
       "    </tr>\n",
       "    <tr>\n",
       "      <th>7856</th>\n",
       "      <td>Female</td>\n",
       "      <td>183.552461</td>\n",
       "      <td>85.474601</td>\n",
       "      <td>3.173247</td>\n",
       "      <td>2.763953</td>\n",
       "    </tr>\n",
       "    <tr>\n",
       "      <th>8635</th>\n",
       "      <td>Female</td>\n",
       "      <td>183.105329</td>\n",
       "      <td>87.331427</td>\n",
       "      <td>3.107958</td>\n",
       "      <td>2.979149</td>\n",
       "    </tr>\n",
       "    <tr>\n",
       "      <th>9285</th>\n",
       "      <td>Female</td>\n",
       "      <td>137.828359</td>\n",
       "      <td>29.347785</td>\n",
       "      <td>-3.503207</td>\n",
       "      <td>-3.740838</td>\n",
       "    </tr>\n",
       "  </tbody>\n",
       "</table>\n",
       "</div>"
      ],
      "text/plain": [
       "      Gender      Height     Weight  z_height  z_weight\n",
       "5103  Female  182.857792  80.452691  3.071814  2.181941\n",
       "5345  Female  140.554691  40.082819 -3.105118 -2.496706\n",
       "6624  Female  138.726819  32.383992 -3.372017 -3.388958\n",
       "7162  Female  183.971618  80.726450  3.234451  2.213669\n",
       "7294  Female  139.379268  35.655752 -3.276749 -3.009779\n",
       "7311  Female  186.409548  86.219146  3.590427  2.850242\n",
       "7617  Female  140.077336  40.285046 -3.174820 -2.473269\n",
       "7856  Female  183.552461  85.474601  3.173247  2.763953\n",
       "8635  Female  183.105329  87.331427  3.107958  2.979149\n",
       "9285  Female  137.828359  29.347785 -3.503207 -3.740838"
      ]
     },
     "metadata": {},
     "output_type": "display_data"
    },
    {
     "name": "stdout",
     "output_type": "stream",
     "text": [
      "\n",
      "Outliers mulheres apenas para o peso:\n"
     ]
    },
    {
     "data": {
      "text/html": [
       "<div>\n",
       "<style scoped>\n",
       "    .dataframe tbody tr th:only-of-type {\n",
       "        vertical-align: middle;\n",
       "    }\n",
       "\n",
       "    .dataframe tbody tr th {\n",
       "        vertical-align: top;\n",
       "    }\n",
       "\n",
       "    .dataframe thead th {\n",
       "        text-align: right;\n",
       "    }\n",
       "</style>\n",
       "<table border=\"1\" class=\"dataframe\">\n",
       "  <thead>\n",
       "    <tr style=\"text-align: right;\">\n",
       "      <th></th>\n",
       "      <th>Gender</th>\n",
       "      <th>Height</th>\n",
       "      <th>Weight</th>\n",
       "      <th>z_height</th>\n",
       "      <th>z_weight</th>\n",
       "    </tr>\n",
       "  </thead>\n",
       "  <tbody>\n",
       "    <tr>\n",
       "      <th>5360</th>\n",
       "      <td>Female</td>\n",
       "      <td>141.397233</td>\n",
       "      <td>31.290270</td>\n",
       "      <td>-2.982094</td>\n",
       "      <td>-3.515714</td>\n",
       "    </tr>\n",
       "    <tr>\n",
       "      <th>6258</th>\n",
       "      <td>Female</td>\n",
       "      <td>179.182537</td>\n",
       "      <td>88.953604</td>\n",
       "      <td>2.535168</td>\n",
       "      <td>3.167151</td>\n",
       "    </tr>\n",
       "    <tr>\n",
       "      <th>6624</th>\n",
       "      <td>Female</td>\n",
       "      <td>138.726819</td>\n",
       "      <td>32.383992</td>\n",
       "      <td>-3.372017</td>\n",
       "      <td>-3.388958</td>\n",
       "    </tr>\n",
       "    <tr>\n",
       "      <th>7294</th>\n",
       "      <td>Female</td>\n",
       "      <td>139.379268</td>\n",
       "      <td>35.655752</td>\n",
       "      <td>-3.276749</td>\n",
       "      <td>-3.009779</td>\n",
       "    </tr>\n",
       "    <tr>\n",
       "      <th>7921</th>\n",
       "      <td>Female</td>\n",
       "      <td>179.397763</td>\n",
       "      <td>88.798539</td>\n",
       "      <td>2.566594</td>\n",
       "      <td>3.149180</td>\n",
       "    </tr>\n",
       "    <tr>\n",
       "      <th>7923</th>\n",
       "      <td>Female</td>\n",
       "      <td>177.679266</td>\n",
       "      <td>88.106850</td>\n",
       "      <td>2.315666</td>\n",
       "      <td>3.069017</td>\n",
       "    </tr>\n",
       "    <tr>\n",
       "      <th>7935</th>\n",
       "      <td>Female</td>\n",
       "      <td>147.857591</td>\n",
       "      <td>35.164553</td>\n",
       "      <td>-2.038778</td>\n",
       "      <td>-3.066706</td>\n",
       "    </tr>\n",
       "    <tr>\n",
       "      <th>8241</th>\n",
       "      <td>Female</td>\n",
       "      <td>142.664940</td>\n",
       "      <td>35.334555</td>\n",
       "      <td>-2.796988</td>\n",
       "      <td>-3.047004</td>\n",
       "    </tr>\n",
       "    <tr>\n",
       "      <th>8736</th>\n",
       "      <td>Female</td>\n",
       "      <td>180.214674</td>\n",
       "      <td>87.646705</td>\n",
       "      <td>2.685876</td>\n",
       "      <td>3.015688</td>\n",
       "    </tr>\n",
       "    <tr>\n",
       "      <th>8748</th>\n",
       "      <td>Female</td>\n",
       "      <td>179.570743</td>\n",
       "      <td>88.019962</td>\n",
       "      <td>2.591852</td>\n",
       "      <td>3.058947</td>\n",
       "    </tr>\n",
       "    <tr>\n",
       "      <th>9285</th>\n",
       "      <td>Female</td>\n",
       "      <td>137.828359</td>\n",
       "      <td>29.347785</td>\n",
       "      <td>-3.503207</td>\n",
       "      <td>-3.740838</td>\n",
       "    </tr>\n",
       "    <tr>\n",
       "      <th>9566</th>\n",
       "      <td>Female</td>\n",
       "      <td>145.676856</td>\n",
       "      <td>32.999249</td>\n",
       "      <td>-2.357200</td>\n",
       "      <td>-3.317653</td>\n",
       "    </tr>\n",
       "    <tr>\n",
       "      <th>9633</th>\n",
       "      <td>Female</td>\n",
       "      <td>178.689039</td>\n",
       "      <td>91.734198</td>\n",
       "      <td>2.463109</td>\n",
       "      <td>3.489406</td>\n",
       "    </tr>\n",
       "  </tbody>\n",
       "</table>\n",
       "</div>"
      ],
      "text/plain": [
       "      Gender      Height     Weight  z_height  z_weight\n",
       "5360  Female  141.397233  31.290270 -2.982094 -3.515714\n",
       "6258  Female  179.182537  88.953604  2.535168  3.167151\n",
       "6624  Female  138.726819  32.383992 -3.372017 -3.388958\n",
       "7294  Female  139.379268  35.655752 -3.276749 -3.009779\n",
       "7921  Female  179.397763  88.798539  2.566594  3.149180\n",
       "7923  Female  177.679266  88.106850  2.315666  3.069017\n",
       "7935  Female  147.857591  35.164553 -2.038778 -3.066706\n",
       "8241  Female  142.664940  35.334555 -2.796988 -3.047004\n",
       "8736  Female  180.214674  87.646705  2.685876  3.015688\n",
       "8748  Female  179.570743  88.019962  2.591852  3.058947\n",
       "9285  Female  137.828359  29.347785 -3.503207 -3.740838\n",
       "9566  Female  145.676856  32.999249 -2.357200 -3.317653\n",
       "9633  Female  178.689039  91.734198  2.463109  3.489406"
      ]
     },
     "metadata": {},
     "output_type": "display_data"
    }
   ],
   "source": [
    "print(\"Outliers homens apenas para a altura:\")\n",
    "display(male[male[\"z_height\"].abs() > 3])\n",
    "\n",
    "print(\"\\nOutliers homens apenas para o peso:\")\n",
    "display(male[male[\"z_weight\"].abs() > 3])\n",
    "\n",
    "print(\"\\n ############################################### \\n\")\n",
    "\n",
    "print(\"Outliers mulheres apenas para a altura:\")\n",
    "display(female[female[\"z_height\"].abs() > 3])\n",
    "\n",
    "print(\"\\nOutliers mulheres apenas para o peso:\")\n",
    "display(female[female[\"z_weight\"].abs() > 3])"
   ]
  },
  {
   "cell_type": "markdown",
   "id": "ed9b5478-0cf3-494c-8880-b1b35214bf31",
   "metadata": {},
   "source": [
    "### **Boxplot whisker (IQR)** <a class=\"anchor\" id=\"iqr_outlier\"></a>\n",
    "\n",
    "Neste método, outliers são identificados como **os pontos que estão para além dos whiskers em um boxplot**.\n",
    "\n",
    "\n",
    "Se você estiver interessado em saber porque os whiskers são definidios comumente com este fator 1.5 no \"1.5\\*IQR\", dê uma olhada [neste post!](https://towardsdatascience.com/why-1-5-in-iqr-method-of-outlier-detection-5d07fdc82097)"
   ]
  },
  {
   "cell_type": "code",
   "execution_count": 13,
   "id": "e1a551b3-786c-4531-8912-f0bd1d5bac26",
   "metadata": {},
   "outputs": [
    {
     "name": "stdout",
     "output_type": "stream",
     "text": [
      "IQR homens altura: 9.687723994808607 \tIQR homens peso: 12.006728870444846\n",
      "\n",
      "############################################\n",
      "\n",
      "IQR mulheres altura: 9.319574184704067 \tIQR mulheres peso: 11.737653127823421\n"
     ]
    }
   ],
   "source": [
    "# calcule o IQR das variáveis numericas dos dois dataframes\n",
    "\n",
    "q1_mh = male[\"Height\"].quantile(0.25)\n",
    "q3_mh = male[\"Height\"].quantile(0.75)\n",
    "iqr_mh = q3_mh - q1_mh\n",
    "\n",
    "q1_mw = male[\"Weight\"].quantile(0.25)\n",
    "q3_mw = male[\"Weight\"].quantile(0.75)\n",
    "iqr_mw = q3_mw - q1_mw\n",
    "\n",
    "print(\"IQR homens altura:\", iqr_mh, \"\\tIQR homens peso:\", iqr_mw)\n",
    "\n",
    "print(\"\\n############################################\\n\")\n",
    "\n",
    "q1_fh = female[\"Height\"].quantile(0.25)\n",
    "q3_fh = female[\"Height\"].quantile(0.75)\n",
    "iqr_fh = q3_fh - q1_fh\n",
    "\n",
    "q1_fw = female[\"Weight\"].quantile(0.25)\n",
    "q3_fw = female[\"Weight\"].quantile(0.75)\n",
    "iqr_fw = q3_fw - q1_fw\n",
    "\n",
    "print(\"IQR mulheres altura:\", iqr_fh, \"\\tIQR mulheres peso:\", iqr_fw)"
   ]
  },
  {
   "cell_type": "code",
   "execution_count": 14,
   "id": "078472e1-3af1-4965-8239-88d00dbd94cb",
   "metadata": {},
   "outputs": [
    {
     "name": "stdout",
     "output_type": "stream",
     "text": [
      "Whiskers homens altura: 156.09209884343895 194.84299482267338\n",
      "Whiskers homens peso: 60.86488053730561 108.89179601908499\n",
      "Whiskers mulheres altura: 143.23252010330015 180.5108168421164\n",
      "Whiskers mulheres peso: 38.15606053097511 85.1066730422688\n"
     ]
    }
   ],
   "source": [
    "# calcule os whiskers das variaveis numericas dos dois datraframes\n",
    "\n",
    "max_mh = q3_mh + 1.5*iqr_mh\n",
    "min_mh = q1_mh - 1.5*iqr_mh\n",
    "\n",
    "max_mw = q3_mw + 1.5*iqr_mw\n",
    "min_mw = q1_mw - 1.5*iqr_mw\n",
    "\n",
    "print(\"Whiskers homens altura:\", min_mh, max_mh)\n",
    "print(\"Whiskers homens peso:\", min_mw, max_mw)\n",
    "\n",
    "\n",
    "max_fh = q3_fh + 1.5*iqr_fh\n",
    "min_fh = q1_fh - 1.5*iqr_fh\n",
    "\n",
    "max_fw = q3_fw + 1.5*iqr_fw\n",
    "min_fw = q1_fw - 1.5*iqr_fw\n",
    "\n",
    "print(\"Whiskers mulheres altura:\", min_fh, max_fh)\n",
    "print(\"Whiskers mulheres peso:\", min_fw, max_fw)"
   ]
  }
 ],
 "metadata": {
  "kernelspec": {
   "display_name": "Python 3.9.9 64-bit ('venv_playground': pyenv)",
   "language": "python",
   "name": "python399jvsc74a57bd00166448f751676955cf4a1fe6c574ee94d5d4fccd125fada50440631b5feaa53"
  },
  "language_info": {
   "codemirror_mode": {
    "name": "ipython",
    "version": 3
   },
   "file_extension": ".py",
   "mimetype": "text/x-python",
   "name": "python",
   "nbconvert_exporter": "python",
   "pygments_lexer": "ipython3",
   "version": "3.9.9"
  }
 },
 "nbformat": 4,
 "nbformat_minor": 5
}
