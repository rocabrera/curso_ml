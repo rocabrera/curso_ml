{
 "cells": [
  {
   "cell_type": "code",
   "execution_count": 1,
   "id": "e42f810c-e45f-4449-b90f-4965a4dd5c90",
   "metadata": {},
   "outputs": [],
   "source": [
    "import pandas as pd"
   ]
  },
  {
   "cell_type": "code",
   "execution_count": 2,
   "id": "7b0f745e-f4b1-49b7-9b2f-61a533da3f39",
   "metadata": {},
   "outputs": [],
   "source": [
    "targets = [\"NU_NOTA_CN\",\n",
    "           \"NU_NOTA_CH\",\n",
    "           \"NU_NOTA_LC\",\n",
    "           \"NU_NOTA_MT\",\n",
    "           \"NU_NOTA_REDACAO\"]"
   ]
  },
  {
   "cell_type": "code",
   "execution_count": 3,
   "id": "202c1e53-e1fb-4b5e-a690-8151dec1fd90",
   "metadata": {
    "tags": []
   },
   "outputs": [
    {
     "name": "stdout",
     "output_type": "stream",
     "text": [
      "<class 'pandas.core.frame.DataFrame'>\n",
      "RangeIndex: 3311925 entries, 0 to 3311924\n",
      "Columns: 118 entries, NU_INSCRICAO to Q025\n",
      "dtypes: float64(16), int64(69), object(33)\n",
      "memory usage: 2.9+ GB\n"
     ]
    }
   ],
   "source": [
    "df = pd.read_parquet(\"data/tidy/train.parquet\")\n",
    "# Cleaning\n",
    "df[\"TP_SEXO\"] = df[\"TP_SEXO\"].replace({\"F\":0, \"M\":1})\n",
    "df.info()"
   ]
  },
  {
   "cell_type": "code",
   "execution_count": 4,
   "id": "41719784-c671-4965-ae5e-1939469c3692",
   "metadata": {
    "tags": []
   },
   "outputs": [
    {
     "name": "stdout",
     "output_type": "stream",
     "text": [
      "<class 'pandas.core.frame.DataFrame'>\n",
      "RangeIndex: 3311925 entries, 0 to 3311924\n",
      "Columns: 118 entries, NU_INSCRICAO to Q025\n",
      "dtypes: bool(52), float32(5), float64(11), int64(5), object(33), uint8(12)\n",
      "memory usage: 1.5+ GB\n"
     ]
    }
   ],
   "source": [
    "tp_columns = df.filter(regex=\"TP_\").columns\n",
    "tp_mapping = {column:(\"float32\" if df.loc[:,column].hasnans else \"uint8\") for column in tp_columns}\n",
    " \n",
    "in_columns = df.filter(regex=\"IN_\").columns\n",
    "in_mapping = {column:(\"float32\" if df.loc[:,column].hasnans else \"bool\") for column in in_columns}\n",
    "\n",
    "types_mapping = {**tp_mapping, **in_mapping}\n",
    "\n",
    "df.astype(types_mapping).info()"
   ]
  },
  {
   "cell_type": "code",
   "execution_count": null,
   "id": "576aca6d-cd26-4ea1-b251-688a8eb05cf9",
   "metadata": {},
   "outputs": [],
   "source": []
  }
 ],
 "metadata": {
  "kernelspec": {
   "display_name": "venv_playground",
   "language": "python",
   "name": "venv_playground"
  },
  "language_info": {
   "codemirror_mode": {
    "name": "ipython",
    "version": 3
   },
   "file_extension": ".py",
   "mimetype": "text/x-python",
   "name": "python",
   "nbconvert_exporter": "python",
   "pygments_lexer": "ipython3",
   "version": "3.9.9"
  }
 },
 "nbformat": 4,
 "nbformat_minor": 5
}
