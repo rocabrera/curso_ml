{
 "cells": [
  {
   "cell_type": "code",
   "execution_count": 1,
   "id": "ec589d9c-c732-431b-a533-8f98945c4c50",
   "metadata": {},
   "outputs": [],
   "source": [
    "import numpy as np\n",
    "import pandas as pd\n",
    "from IPython.display import display\n",
    "\n",
    "import seaborn as sns\n",
    "import matplotlib.pyplot as plt"
   ]
  },
  {
   "cell_type": "code",
   "execution_count": 2,
   "id": "bcead46d-8f64-4d55-ad32-44fede63b98c",
   "metadata": {},
   "outputs": [],
   "source": [
    "train = pd.read_parquet(\"data/tidy/train.parquet\")"
   ]
  },
  {
   "cell_type": "markdown",
   "id": "b38ac9db-5775-4746-9ec9-c097819e2947",
   "metadata": {},
   "source": [
    "# **Validação da base**"
   ]
  },
  {
   "cell_type": "markdown",
   "id": "953809c7-d9e7-447e-b046-e346991c6f3d",
   "metadata": {},
   "source": [
    "---\n",
    "\n",
    "- Os minimos e máximos das variáveis fazem sentido?\n",
    "- Quais colunas tem dados faltantes?\n",
    "- Existem amostras duplicadas?\n"
   ]
  },
  {
   "cell_type": "code",
   "execution_count": 5,
   "id": "b32be524-ef2b-4740-9cb2-01ac9bcfe22f",
   "metadata": {
    "collapsed": true,
    "jupyter": {
     "outputs_hidden": true
    },
    "tags": []
   },
   "outputs": [
    {
     "data": {
      "text/html": [
       "<div>\n",
       "<style scoped>\n",
       "    .dataframe tbody tr th:only-of-type {\n",
       "        vertical-align: middle;\n",
       "    }\n",
       "\n",
       "    .dataframe tbody tr th {\n",
       "        vertical-align: top;\n",
       "    }\n",
       "\n",
       "    .dataframe thead th {\n",
       "        text-align: right;\n",
       "    }\n",
       "</style>\n",
       "<table border=\"1\" class=\"dataframe\">\n",
       "  <thead>\n",
       "    <tr style=\"text-align: right;\">\n",
       "      <th></th>\n",
       "      <th>min</th>\n",
       "      <th>max</th>\n",
       "    </tr>\n",
       "  </thead>\n",
       "  <tbody>\n",
       "    <tr>\n",
       "      <th>NU_IDADE</th>\n",
       "      <td>10.0</td>\n",
       "      <td>9.400000e+01</td>\n",
       "    </tr>\n",
       "    <tr>\n",
       "      <th>TP_ESTADO_CIVIL</th>\n",
       "      <td>0.0</td>\n",
       "      <td>4.000000e+00</td>\n",
       "    </tr>\n",
       "    <tr>\n",
       "      <th>TP_COR_RACA</th>\n",
       "      <td>0.0</td>\n",
       "      <td>5.000000e+00</td>\n",
       "    </tr>\n",
       "    <tr>\n",
       "      <th>TP_NACIONALIDADE</th>\n",
       "      <td>0.0</td>\n",
       "      <td>4.000000e+00</td>\n",
       "    </tr>\n",
       "    <tr>\n",
       "      <th>TP_ST_CONCLUSAO</th>\n",
       "      <td>1.0</td>\n",
       "      <td>4.000000e+00</td>\n",
       "    </tr>\n",
       "    <tr>\n",
       "      <th>TP_ANO_CONCLUIU</th>\n",
       "      <td>0.0</td>\n",
       "      <td>1.300000e+01</td>\n",
       "    </tr>\n",
       "    <tr>\n",
       "      <th>TP_ESCOLA</th>\n",
       "      <td>1.0</td>\n",
       "      <td>3.000000e+00</td>\n",
       "    </tr>\n",
       "    <tr>\n",
       "      <th>TP_ENSINO</th>\n",
       "      <td>1.0</td>\n",
       "      <td>2.000000e+00</td>\n",
       "    </tr>\n",
       "    <tr>\n",
       "      <th>CO_ESCOLA</th>\n",
       "      <td>11000058.0</td>\n",
       "      <td>5.308802e+07</td>\n",
       "    </tr>\n",
       "    <tr>\n",
       "      <th>TP_DEPENDENCIA_ADM_ESC</th>\n",
       "      <td>1.0</td>\n",
       "      <td>4.000000e+00</td>\n",
       "    </tr>\n",
       "    <tr>\n",
       "      <th>TP_LOCALIZACAO_ESC</th>\n",
       "      <td>1.0</td>\n",
       "      <td>2.000000e+00</td>\n",
       "    </tr>\n",
       "    <tr>\n",
       "      <th>TP_SIT_FUNC_ESC</th>\n",
       "      <td>1.0</td>\n",
       "      <td>4.000000e+00</td>\n",
       "    </tr>\n",
       "    <tr>\n",
       "      <th>TP_PRESENCA_CN</th>\n",
       "      <td>0.0</td>\n",
       "      <td>2.000000e+00</td>\n",
       "    </tr>\n",
       "    <tr>\n",
       "      <th>TP_PRESENCA_CH</th>\n",
       "      <td>0.0</td>\n",
       "      <td>2.000000e+00</td>\n",
       "    </tr>\n",
       "    <tr>\n",
       "      <th>TP_PRESENCA_LC</th>\n",
       "      <td>0.0</td>\n",
       "      <td>2.000000e+00</td>\n",
       "    </tr>\n",
       "    <tr>\n",
       "      <th>TP_PRESENCA_MT</th>\n",
       "      <td>0.0</td>\n",
       "      <td>2.000000e+00</td>\n",
       "    </tr>\n",
       "    <tr>\n",
       "      <th>NU_NOTA_CN</th>\n",
       "      <td>0.0</td>\n",
       "      <td>8.609000e+02</td>\n",
       "    </tr>\n",
       "    <tr>\n",
       "      <th>NU_NOTA_CH</th>\n",
       "      <td>0.0</td>\n",
       "      <td>8.351000e+02</td>\n",
       "    </tr>\n",
       "    <tr>\n",
       "      <th>NU_NOTA_LC</th>\n",
       "      <td>0.0</td>\n",
       "      <td>8.017000e+02</td>\n",
       "    </tr>\n",
       "    <tr>\n",
       "      <th>NU_NOTA_MT</th>\n",
       "      <td>0.0</td>\n",
       "      <td>9.855000e+02</td>\n",
       "    </tr>\n",
       "    <tr>\n",
       "      <th>TP_LINGUA</th>\n",
       "      <td>0.0</td>\n",
       "      <td>1.000000e+00</td>\n",
       "    </tr>\n",
       "    <tr>\n",
       "      <th>TP_STATUS_REDACAO</th>\n",
       "      <td>1.0</td>\n",
       "      <td>9.000000e+00</td>\n",
       "    </tr>\n",
       "    <tr>\n",
       "      <th>NU_NOTA_REDACAO</th>\n",
       "      <td>0.0</td>\n",
       "      <td>1.000000e+03</td>\n",
       "    </tr>\n",
       "    <tr>\n",
       "      <th>Q005</th>\n",
       "      <td>1.0</td>\n",
       "      <td>2.000000e+01</td>\n",
       "    </tr>\n",
       "  </tbody>\n",
       "</table>\n",
       "</div>"
      ],
      "text/plain": [
       "                               min           max\n",
       "NU_IDADE                      10.0  9.400000e+01\n",
       "TP_ESTADO_CIVIL                0.0  4.000000e+00\n",
       "TP_COR_RACA                    0.0  5.000000e+00\n",
       "TP_NACIONALIDADE               0.0  4.000000e+00\n",
       "TP_ST_CONCLUSAO                1.0  4.000000e+00\n",
       "TP_ANO_CONCLUIU                0.0  1.300000e+01\n",
       "TP_ESCOLA                      1.0  3.000000e+00\n",
       "TP_ENSINO                      1.0  2.000000e+00\n",
       "CO_ESCOLA               11000058.0  5.308802e+07\n",
       "TP_DEPENDENCIA_ADM_ESC         1.0  4.000000e+00\n",
       "TP_LOCALIZACAO_ESC             1.0  2.000000e+00\n",
       "TP_SIT_FUNC_ESC                1.0  4.000000e+00\n",
       "TP_PRESENCA_CN                 0.0  2.000000e+00\n",
       "TP_PRESENCA_CH                 0.0  2.000000e+00\n",
       "TP_PRESENCA_LC                 0.0  2.000000e+00\n",
       "TP_PRESENCA_MT                 0.0  2.000000e+00\n",
       "NU_NOTA_CN                     0.0  8.609000e+02\n",
       "NU_NOTA_CH                     0.0  8.351000e+02\n",
       "NU_NOTA_LC                     0.0  8.017000e+02\n",
       "NU_NOTA_MT                     0.0  9.855000e+02\n",
       "TP_LINGUA                      0.0  1.000000e+00\n",
       "TP_STATUS_REDACAO              1.0  9.000000e+00\n",
       "NU_NOTA_REDACAO                0.0  1.000000e+03\n",
       "Q005                           1.0  2.000000e+01"
      ]
     },
     "execution_count": 5,
     "metadata": {},
     "output_type": "execute_result"
    }
   ],
   "source": [
    "train.describe().loc[[\"min\", \"max\"]].T"
   ]
  },
  {
   "cell_type": "code",
   "execution_count": 19,
   "id": "0a8fe217-66ce-463d-a4e2-d482299669f9",
   "metadata": {},
   "outputs": [
    {
     "data": {
      "text/plain": [
       "Index(['NU_IDADE', 'NO_MUNICIPIO_NASCIMENTO', 'SG_UF_NASCIMENTO', 'TP_ENSINO',\n",
       "       'CO_ESCOLA', 'NO_MUNICIPIO_ESC', 'SG_UF_ESC', 'TP_DEPENDENCIA_ADM_ESC',\n",
       "       'TP_LOCALIZACAO_ESC', 'TP_SIT_FUNC_ESC', 'NU_NOTA_CN', 'NU_NOTA_CH',\n",
       "       'NU_NOTA_LC', 'NU_NOTA_MT', 'TP_STATUS_REDACAO', 'NU_NOTA_REDACAO'],\n",
       "      dtype='object')"
      ]
     },
     "execution_count": 19,
     "metadata": {},
     "output_type": "execute_result"
    }
   ],
   "source": [
    "cond = train.isna().sum() > 0\n",
    "\n",
    "train.columns[cond]"
   ]
  },
  {
   "cell_type": "code",
   "execution_count": 23,
   "id": "447152fa-a7e6-414e-b83d-210b5b96e23d",
   "metadata": {},
   "outputs": [
    {
     "data": {
      "text/plain": [
       "False"
      ]
     },
     "execution_count": 23,
     "metadata": {},
     "output_type": "execute_result"
    }
   ],
   "source": [
    "train.duplicated().any()"
   ]
  },
  {
   "cell_type": "markdown",
   "id": "d178f97c-5343-4548-97d8-da9a8b381a28",
   "metadata": {},
   "source": [
    "---\n",
    "- Qual a nota das pessoas que faltaram nas provas ? \n",
    "\n",
    "    - TP_PRESENCA_CN\n",
    "    - TP_PRESENCA_CH\n",
    "    - TP_PRESENCA_LC\n",
    "    - TP_PRESENCA_MT"
   ]
  },
  {
   "cell_type": "code",
   "execution_count": 24,
   "id": "ae487753-7844-4825-b38e-922b68f135a5",
   "metadata": {},
   "outputs": [
    {
     "name": "stdout",
     "output_type": "stream",
     "text": [
      "TP_PRESENCA_CN: True\n",
      "TP_PRESENCA_CH: True\n",
      "TP_PRESENCA_LC: True\n",
      "TP_PRESENCA_MT: True\n"
     ]
    }
   ],
   "source": [
    "tp_mapping = {\"TP_PRESENCA_CN\": \"NU_NOTA_CN\",\n",
    "              \"TP_PRESENCA_CH\": \"NU_NOTA_CH\",\n",
    "              \"TP_PRESENCA_LC\": \"NU_NOTA_LC\",\n",
    "              \"TP_PRESENCA_MT\": \"NU_NOTA_MT\"}\n",
    "\n",
    "# 0 significa faltou e 2 eliminado\n",
    "for presence, nota in tp_mapping.items():\n",
    "    aux = (train.query(f\"{presence} == 0 | {presence} == 2\")\n",
    "                .loc[:,nota]\n",
    "                .isna()\n",
    "                .all())\n",
    "    print(f\"{presence}: {aux}\")"
   ]
  },
  {
   "cell_type": "markdown",
   "id": "964455ec-6302-4868-8f8b-e56c6bfa21c9",
   "metadata": {},
   "source": [
    "--- \n",
    "\n",
    "- Qual a nota das pessoas que faltaram em 1 dia? \n",
    "\n",
    "    - TP_PRESENCA_CN\n",
    "    - TP_PRESENCA_CH\n",
    "    - TP_PRESENCA_LC\n",
    "    - TP_PRESENCA_MT\n"
   ]
  },
  {
   "cell_type": "markdown",
   "id": "f7c59d2b-171d-4ca5-8046-fbb52681feb3",
   "metadata": {},
   "source": [
    "O enem possuí dois dias de prova. No primeiro dia são aplicadas as provas de Linguagens, Códigos e suas Tecnologias ```TP_PRESENCA_LC```, Ciências Humanas e suas Tecnologias  (```TP_PRESENCA_CH```) e Redação. No segundo dia são aplicadas as provas de Ciências da Natureza e suas Tecnologias (```TP_PRESENCA_CN```) e Matemática e suas Tecnologias  (```TP_PRESENCA_MT```). Isto é, se faltou em um dia as notas daquele dia devem todas estarem zeradas."
   ]
  },
  {
   "cell_type": "code",
   "execution_count": 25,
   "id": "eaeffdc3-ae09-4687-a71b-8d3c56c4610c",
   "metadata": {
    "tags": []
   },
   "outputs": [
    {
     "name": "stdout",
     "output_type": "stream",
     "text": [
      "DAY_ONE:\n",
      "NU_NOTA_LC         True\n",
      "NU_NOTA_CH         True\n",
      "NU_NOTA_REDACAO    True\n",
      "dtype: bool\n",
      "\n",
      "DAY_TWO:\n",
      "NU_NOTA_CN    True\n",
      "NU_NOTA_MT    True\n",
      "dtype: bool\n",
      "\n"
     ]
    }
   ],
   "source": [
    "day_mapping = {\"DAY_ONE\":((\"TP_PRESENCA_LC\", \"TP_PRESENCA_CH\"), (\"NU_NOTA_LC\", \"NU_NOTA_CH\", \"NU_NOTA_REDACAO\")),\n",
    "               \"DAY_TWO\":((\"TP_PRESENCA_CN\", \"TP_PRESENCA_MT\"), (\"NU_NOTA_CN\", \"NU_NOTA_MT\"))}\n",
    "\n",
    "for day, val in day_mapping.items():\n",
    "    (presence1, presence2), (notas) = val\n",
    "    aux = (train.query(f\"({presence1} == 0 | {presence1} == 2) & ({presence2} == 2 | {presence2} == 0)\")\n",
    "                .loc[:,notas]\n",
    "                .isna()\n",
    "                .all())\n",
    "    print(f\"{day}:\")\n",
    "    print(f\"{aux}\\n\")"
   ]
  },
  {
   "cell_type": "markdown",
   "id": "0ebf66ae-3666-4b61-85f8-37a7dd2405ed",
   "metadata": {
    "tags": []
   },
   "source": [
    "# **Exemplo**\n",
    "---\n",
    "- Qual a distribuição das notas por sexo? \n",
    "\n",
    "    - TP_SEXO\n",
    "    - NU_NOTA_MT\n",
    "    "
   ]
  },
  {
   "cell_type": "code",
   "execution_count": 32,
   "id": "518d52f7-de2b-4053-9d94-40ff5f221d02",
   "metadata": {},
   "outputs": [
    {
     "data": {
      "text/plain": [
       "Index(['NU_NOTA_CN', 'NU_NOTA_CH', 'NU_NOTA_LC', 'NU_NOTA_MT',\n",
       "       'NU_NOTA_REDACAO'],\n",
       "      dtype='object')"
      ]
     },
     "execution_count": 32,
     "metadata": {},
     "output_type": "execute_result"
    }
   ],
   "source": [
    "train.filter(regex=\"NU_NOTA\").columns"
   ]
  },
  {
   "cell_type": "code",
   "execution_count": 33,
   "id": "ab9d115f-7b9b-4daa-a04f-45e9c7c94037",
   "metadata": {},
   "outputs": [
    {
     "data": {
      "text/html": [
       "<div>\n",
       "<style scoped>\n",
       "    .dataframe tbody tr th:only-of-type {\n",
       "        vertical-align: middle;\n",
       "    }\n",
       "\n",
       "    .dataframe tbody tr th {\n",
       "        vertical-align: top;\n",
       "    }\n",
       "\n",
       "    .dataframe thead th {\n",
       "        text-align: right;\n",
       "    }\n",
       "</style>\n",
       "<table border=\"1\" class=\"dataframe\">\n",
       "  <thead>\n",
       "    <tr style=\"text-align: right;\">\n",
       "      <th></th>\n",
       "      <th>TP_SEXO</th>\n",
       "      <th>PROVAS</th>\n",
       "      <th>NOTA</th>\n",
       "    </tr>\n",
       "  </thead>\n",
       "  <tbody>\n",
       "    <tr>\n",
       "      <th>0</th>\n",
       "      <td>F</td>\n",
       "      <td>NU_NOTA_CN</td>\n",
       "      <td>426.500000</td>\n",
       "    </tr>\n",
       "    <tr>\n",
       "      <th>1</th>\n",
       "      <td>F</td>\n",
       "      <td>NU_NOTA_CN</td>\n",
       "      <td>463.000000</td>\n",
       "    </tr>\n",
       "    <tr>\n",
       "      <th>2</th>\n",
       "      <td>M</td>\n",
       "      <td>NU_NOTA_CN</td>\n",
       "      <td>381.700012</td>\n",
       "    </tr>\n",
       "    <tr>\n",
       "      <th>3</th>\n",
       "      <td>M</td>\n",
       "      <td>NU_NOTA_CN</td>\n",
       "      <td>426.700012</td>\n",
       "    </tr>\n",
       "    <tr>\n",
       "      <th>4</th>\n",
       "      <td>M</td>\n",
       "      <td>NU_NOTA_CN</td>\n",
       "      <td>623.700012</td>\n",
       "    </tr>\n",
       "  </tbody>\n",
       "</table>\n",
       "</div>"
      ],
      "text/plain": [
       "  TP_SEXO      PROVAS        NOTA\n",
       "0       F  NU_NOTA_CN  426.500000\n",
       "1       F  NU_NOTA_CN  463.000000\n",
       "2       M  NU_NOTA_CN  381.700012\n",
       "3       M  NU_NOTA_CN  426.700012\n",
       "4       M  NU_NOTA_CN  623.700012"
      ]
     },
     "execution_count": 33,
     "metadata": {},
     "output_type": "execute_result"
    }
   ],
   "source": [
    "notas_columns = ['NU_NOTA_CN', 'NU_NOTA_CH', 'NU_NOTA_LC', 'NU_NOTA_MT', 'NU_NOTA_REDACAO']\n",
    "\n",
    "temp = (train.reset_index()\n",
    "             .melt(id_vars=\"TP_SEXO\", value_vars=notas_columns, var_name=\"PROVAS\", value_name=\"NOTA\"))\n",
    "temp.head()"
   ]
  },
  {
   "cell_type": "code",
   "execution_count": 35,
   "id": "8a56fcd3-2fb6-4f9d-86e9-fcd0b35c98cd",
   "metadata": {
    "collapsed": true,
    "jupyter": {
     "outputs_hidden": true
    },
    "tags": []
   },
   "outputs": [
    {
     "data": {
      "image/png": "[encoded data removed]",
      "text/plain": [
       "<Figure size 915.5x576 with 5 Axes>"
      ]
     },
     "metadata": {
      "needs_background": "light"
     },
     "output_type": "display_data"
    }
   ],
   "source": [
    "g = sns.FacetGrid(temp, col=\"PROVAS\", hue=\"TP_SEXO\", col_wrap=3, height=4, sharex=False, sharey=False)\n",
    "g.map_dataframe(sns.histplot, x=\"NOTA\",stat=\"density\")\n",
    "g.add_legend()\n",
    "plt.show()"
   ]
  },
  {
   "cell_type": "markdown",
   "id": "6ea3fdc7-6342-4a69-bb2a-10ebf13a0293",
   "metadata": {},
   "source": [
    "- Calcule uma medida de tendência central e uma medida de dispersão (Calcule para cada grupo)."
   ]
  },
  {
   "cell_type": "code",
   "execution_count": 40,
   "id": "69c7841b-99a2-445b-8711-3a1d23cd098e",
   "metadata": {
    "collapsed": true,
    "jupyter": {
     "outputs_hidden": true
    },
    "tags": []
   },
   "outputs": [
    {
     "data": {
      "text/html": [
       "<div>\n",
       "<style scoped>\n",
       "    .dataframe tbody tr th:only-of-type {\n",
       "        vertical-align: middle;\n",
       "    }\n",
       "\n",
       "    .dataframe tbody tr th {\n",
       "        vertical-align: top;\n",
       "    }\n",
       "\n",
       "    .dataframe thead th {\n",
       "        text-align: right;\n",
       "    }\n",
       "</style>\n",
       "<table border=\"1\" class=\"dataframe\">\n",
       "  <thead>\n",
       "    <tr style=\"text-align: right;\">\n",
       "      <th></th>\n",
       "      <th></th>\n",
       "      <th>0</th>\n",
       "      <th>1</th>\n",
       "    </tr>\n",
       "  </thead>\n",
       "  <tbody>\n",
       "    <tr>\n",
       "      <th>TP_SEXO</th>\n",
       "      <th></th>\n",
       "      <td>F</td>\n",
       "      <td>M</td>\n",
       "    </tr>\n",
       "    <tr>\n",
       "      <th rowspan=\"5\" valign=\"top\">NU_NOTA_CN</th>\n",
       "      <th>mean</th>\n",
       "      <td>469.987457</td>\n",
       "      <td>489.297943</td>\n",
       "    </tr>\n",
       "    <tr>\n",
       "      <th>std</th>\n",
       "      <td>73.650955</td>\n",
       "      <td>78.126811</td>\n",
       "    </tr>\n",
       "    <tr>\n",
       "      <th>median</th>\n",
       "      <td>461.100006</td>\n",
       "      <td>485.399994</td>\n",
       "    </tr>\n",
       "    <tr>\n",
       "      <th>iqr</th>\n",
       "      <td>109.200012</td>\n",
       "      <td>120.200012</td>\n",
       "    </tr>\n",
       "    <tr>\n",
       "      <th>skew</th>\n",
       "      <td>0.437027</td>\n",
       "      <td>0.214004</td>\n",
       "    </tr>\n",
       "    <tr>\n",
       "      <th rowspan=\"5\" valign=\"top\">NU_NOTA_CH</th>\n",
       "      <th>mean</th>\n",
       "      <td>501.879059</td>\n",
       "      <td>515.132202</td>\n",
       "    </tr>\n",
       "    <tr>\n",
       "      <th>std</th>\n",
       "      <td>79.762396</td>\n",
       "      <td>85.599432</td>\n",
       "    </tr>\n",
       "    <tr>\n",
       "      <th>median</th>\n",
       "      <td>504.0</td>\n",
       "      <td>521.299988</td>\n",
       "    </tr>\n",
       "    <tr>\n",
       "      <th>iqr</th>\n",
       "      <td>114.300018</td>\n",
       "      <td>123.900024</td>\n",
       "    </tr>\n",
       "    <tr>\n",
       "      <th>skew</th>\n",
       "      <td>-0.27669</td>\n",
       "      <td>-0.437155</td>\n",
       "    </tr>\n",
       "    <tr>\n",
       "      <th rowspan=\"5\" valign=\"top\">NU_NOTA_LC</th>\n",
       "      <th>mean</th>\n",
       "      <td>519.755493</td>\n",
       "      <td>521.620178</td>\n",
       "    </tr>\n",
       "    <tr>\n",
       "      <th>std</th>\n",
       "      <td>62.157821</td>\n",
       "      <td>66.967581</td>\n",
       "    </tr>\n",
       "    <tr>\n",
       "      <th>median</th>\n",
       "      <td>524.099976</td>\n",
       "      <td>529.700012</td>\n",
       "    </tr>\n",
       "    <tr>\n",
       "      <th>iqr</th>\n",
       "      <td>78.299988</td>\n",
       "      <td>87.200012</td>\n",
       "    </tr>\n",
       "    <tr>\n",
       "      <th>skew</th>\n",
       "      <td>-0.740422</td>\n",
       "      <td>-0.872956</td>\n",
       "    </tr>\n",
       "    <tr>\n",
       "      <th rowspan=\"5\" valign=\"top\">NU_NOTA_MT</th>\n",
       "      <th>mean</th>\n",
       "      <td>506.153564</td>\n",
       "      <td>547.96759</td>\n",
       "    </tr>\n",
       "    <tr>\n",
       "      <th>std</th>\n",
       "      <td>100.79433</td>\n",
       "      <td>115.795321</td>\n",
       "    </tr>\n",
       "    <tr>\n",
       "      <th>median</th>\n",
       "      <td>483.700012</td>\n",
       "      <td>534.700012</td>\n",
       "    </tr>\n",
       "    <tr>\n",
       "      <th>iqr</th>\n",
       "      <td>141.700012</td>\n",
       "      <td>181.099976</td>\n",
       "    </tr>\n",
       "    <tr>\n",
       "      <th>skew</th>\n",
       "      <td>0.829805</td>\n",
       "      <td>0.450041</td>\n",
       "    </tr>\n",
       "    <tr>\n",
       "      <th rowspan=\"5\" valign=\"top\">NU_NOTA_REDACAO</th>\n",
       "      <th>mean</th>\n",
       "      <td>577.005127</td>\n",
       "      <td>562.471069</td>\n",
       "    </tr>\n",
       "    <tr>\n",
       "      <th>std</th>\n",
       "      <td>187.537191</td>\n",
       "      <td>190.097872</td>\n",
       "    </tr>\n",
       "    <tr>\n",
       "      <th>median</th>\n",
       "      <td>580.0</td>\n",
       "      <td>580.0</td>\n",
       "    </tr>\n",
       "    <tr>\n",
       "      <th>iqr</th>\n",
       "      <td>200.0</td>\n",
       "      <td>180.0</td>\n",
       "    </tr>\n",
       "    <tr>\n",
       "      <th>skew</th>\n",
       "      <td>-0.672589</td>\n",
       "      <td>-0.7546</td>\n",
       "    </tr>\n",
       "  </tbody>\n",
       "</table>\n",
       "</div>"
      ],
      "text/plain": [
       "                                 0           1\n",
       "TP_SEXO                          F           M\n",
       "NU_NOTA_CN      mean    469.987457  489.297943\n",
       "                std      73.650955   78.126811\n",
       "                median  461.100006  485.399994\n",
       "                iqr     109.200012  120.200012\n",
       "                skew      0.437027    0.214004\n",
       "NU_NOTA_CH      mean    501.879059  515.132202\n",
       "                std      79.762396   85.599432\n",
       "                median       504.0  521.299988\n",
       "                iqr     114.300018  123.900024\n",
       "                skew      -0.27669   -0.437155\n",
       "NU_NOTA_LC      mean    519.755493  521.620178\n",
       "                std      62.157821   66.967581\n",
       "                median  524.099976  529.700012\n",
       "                iqr      78.299988   87.200012\n",
       "                skew     -0.740422   -0.872956\n",
       "NU_NOTA_MT      mean    506.153564   547.96759\n",
       "                std      100.79433  115.795321\n",
       "                median  483.700012  534.700012\n",
       "                iqr     141.700012  181.099976\n",
       "                skew      0.829805    0.450041\n",
       "NU_NOTA_REDACAO mean    577.005127  562.471069\n",
       "                std     187.537191  190.097872\n",
       "                median       580.0       580.0\n",
       "                iqr          200.0       180.0\n",
       "                skew     -0.672589     -0.7546"
      ]
     },
     "execution_count": 40,
     "metadata": {},
     "output_type": "execute_result"
    }
   ],
   "source": [
    "def iqr(x):\n",
    "    return x.quantile(0.75) - x.quantile(0.25)\n",
    "\n",
    "stats = [\"mean\", \"std\", \"median\", iqr, \"skew\"]\n",
    "\n",
    "(train.groupby(\"TP_SEXO\", as_index=False)\n",
    "      .agg({\"NU_NOTA_CN\":stats, \n",
    "            \"NU_NOTA_CH\":stats,\n",
    "            \"NU_NOTA_LC\":stats,\n",
    "            \"NU_NOTA_MT\":stats,\n",
    "            \"NU_NOTA_REDACAO\":stats})\n",
    "     .T)"
   ]
  },
  {
   "cell_type": "markdown",
   "id": "b3385703-e340-4796-ae4c-7541e030ba05",
   "metadata": {},
   "source": [
    "- Encontre os outliers (utilize alguns dos métodos vistos em aulas)."
   ]
  },
  {
   "cell_type": "code",
   "execution_count": 61,
   "id": "0d6439c4-a978-4a10-bad4-15c51ece52cb",
   "metadata": {},
   "outputs": [
    {
     "data": {
      "text/html": [
       "<div>\n",
       "<style scoped>\n",
       "    .dataframe tbody tr th:only-of-type {\n",
       "        vertical-align: middle;\n",
       "    }\n",
       "\n",
       "    .dataframe tbody tr th {\n",
       "        vertical-align: top;\n",
       "    }\n",
       "\n",
       "    .dataframe thead th {\n",
       "        text-align: right;\n",
       "    }\n",
       "</style>\n",
       "<table border=\"1\" class=\"dataframe\">\n",
       "  <thead>\n",
       "    <tr style=\"text-align: right;\">\n",
       "      <th></th>\n",
       "      <th>NU_NOTA_CN</th>\n",
       "      <th>NU_NOTA_CH</th>\n",
       "      <th>NU_NOTA_LC</th>\n",
       "      <th>NU_NOTA_MT</th>\n",
       "      <th>NU_NOTA_REDACAO</th>\n",
       "    </tr>\n",
       "  </thead>\n",
       "  <tbody>\n",
       "    <tr>\n",
       "      <th>0</th>\n",
       "      <td>477.814270</td>\n",
       "      <td>507.235748</td>\n",
       "      <td>520.509338</td>\n",
       "      <td>523.10199</td>\n",
       "      <td>571.130615</td>\n",
       "    </tr>\n",
       "    <tr>\n",
       "      <th>1</th>\n",
       "      <td>76.090034</td>\n",
       "      <td>82.428574</td>\n",
       "      <td>64.151833</td>\n",
       "      <td>109.07724</td>\n",
       "      <td>188.711166</td>\n",
       "    </tr>\n",
       "  </tbody>\n",
       "</table>\n",
       "</div>"
      ],
      "text/plain": [
       "   NU_NOTA_CN  NU_NOTA_CH  NU_NOTA_LC  NU_NOTA_MT  NU_NOTA_REDACAO\n",
       "0  477.814270  507.235748  520.509338   523.10199       571.130615\n",
       "1   76.090034   82.428574   64.151833   109.07724       188.711166"
      ]
     },
     "execution_count": 61,
     "metadata": {},
     "output_type": "execute_result"
    }
   ],
   "source": [
    "data_structure = (train.loc[:, notas_columns]\n",
    "                       .apply(lambda x: (x.mean(), x.std())))\n",
    "data_structure"
   ]
  },
  {
   "cell_type": "code",
   "execution_count": 141,
   "id": "d13c8c4b-af8a-4df8-9b41-833044f6fe85",
   "metadata": {
    "tags": []
   },
   "outputs": [
    {
     "data": {
      "text/html": [
       "<div>\n",
       "<style scoped>\n",
       "    .dataframe tbody tr th:only-of-type {\n",
       "        vertical-align: middle;\n",
       "    }\n",
       "\n",
       "    .dataframe tbody tr th {\n",
       "        vertical-align: top;\n",
       "    }\n",
       "\n",
       "    .dataframe thead th {\n",
       "        text-align: right;\n",
       "    }\n",
       "</style>\n",
       "<table border=\"1\" class=\"dataframe\">\n",
       "  <thead>\n",
       "    <tr style=\"text-align: right;\">\n",
       "      <th></th>\n",
       "      <th>NU_NOTA_CN_ZSCORE</th>\n",
       "      <th>NU_NOTA_CH_ZSCORE</th>\n",
       "      <th>NU_NOTA_LC_ZSCORE</th>\n",
       "      <th>NU_NOTA_MT_ZSCORE</th>\n",
       "      <th>NU_NOTA_REDACAO_ZSCORE</th>\n",
       "    </tr>\n",
       "  </thead>\n",
       "  <tbody>\n",
       "    <tr>\n",
       "      <th>0</th>\n",
       "      <td>-0.674389</td>\n",
       "      <td>-0.240642</td>\n",
       "      <td>0.161970</td>\n",
       "      <td>-0.988309</td>\n",
       "      <td>0.576910</td>\n",
       "    </tr>\n",
       "    <tr>\n",
       "      <th>1</th>\n",
       "      <td>-0.194694</td>\n",
       "      <td>-0.666465</td>\n",
       "      <td>-0.996220</td>\n",
       "      <td>-1.062568</td>\n",
       "      <td>-0.270946</td>\n",
       "    </tr>\n",
       "    <tr>\n",
       "      <th>2</th>\n",
       "      <td>-1.263165</td>\n",
       "      <td>-0.398354</td>\n",
       "      <td>0.157293</td>\n",
       "      <td>0.914013</td>\n",
       "      <td>0.152982</td>\n",
       "    </tr>\n",
       "    <tr>\n",
       "      <th>3</th>\n",
       "      <td>-0.671760</td>\n",
       "      <td>-1.981543</td>\n",
       "      <td>-1.189511</td>\n",
       "      <td>-0.147620</td>\n",
       "      <td>0.470928</td>\n",
       "    </tr>\n",
       "    <tr>\n",
       "      <th>4</th>\n",
       "      <td>1.917278</td>\n",
       "      <td>1.235788</td>\n",
       "      <td>1.817417</td>\n",
       "      <td>2.587139</td>\n",
       "      <td>1.424767</td>\n",
       "    </tr>\n",
       "    <tr>\n",
       "      <th>...</th>\n",
       "      <td>...</td>\n",
       "      <td>...</td>\n",
       "      <td>...</td>\n",
       "      <td>...</td>\n",
       "      <td>...</td>\n",
       "    </tr>\n",
       "    <tr>\n",
       "      <th>3311920</th>\n",
       "      <td>0.006383</td>\n",
       "      <td>-0.659186</td>\n",
       "      <td>0.238351</td>\n",
       "      <td>-0.522584</td>\n",
       "      <td>0.152982</td>\n",
       "    </tr>\n",
       "    <tr>\n",
       "      <th>3311921</th>\n",
       "      <td>-0.368173</td>\n",
       "      <td>0.634055</td>\n",
       "      <td>0.654551</td>\n",
       "      <td>0.007316</td>\n",
       "      <td>0.152982</td>\n",
       "    </tr>\n",
       "    <tr>\n",
       "      <th>3311922</th>\n",
       "      <td>-0.507481</td>\n",
       "      <td>0.338041</td>\n",
       "      <td>0.637405</td>\n",
       "      <td>-0.807703</td>\n",
       "      <td>-1.330767</td>\n",
       "    </tr>\n",
       "    <tr>\n",
       "      <th>3311923</th>\n",
       "      <td>NaN</td>\n",
       "      <td>NaN</td>\n",
       "      <td>NaN</td>\n",
       "      <td>NaN</td>\n",
       "      <td>NaN</td>\n",
       "    </tr>\n",
       "    <tr>\n",
       "      <th>3311924</th>\n",
       "      <td>2.086813</td>\n",
       "      <td>1.286741</td>\n",
       "      <td>1.134662</td>\n",
       "      <td>1.451247</td>\n",
       "      <td>1.424767</td>\n",
       "    </tr>\n",
       "  </tbody>\n",
       "</table>\n",
       "<p>3311925 rows × 5 columns</p>\n",
       "</div>"
      ],
      "text/plain": [
       "         NU_NOTA_CN_ZSCORE  NU_NOTA_CH_ZSCORE  NU_NOTA_LC_ZSCORE  \\\n",
       "0                -0.674389          -0.240642           0.161970   \n",
       "1                -0.194694          -0.666465          -0.996220   \n",
       "2                -1.263165          -0.398354           0.157293   \n",
       "3                -0.671760          -1.981543          -1.189511   \n",
       "4                 1.917278           1.235788           1.817417   \n",
       "...                    ...                ...                ...   \n",
       "3311920           0.006383          -0.659186           0.238351   \n",
       "3311921          -0.368173           0.634055           0.654551   \n",
       "3311922          -0.507481           0.338041           0.637405   \n",
       "3311923                NaN                NaN                NaN   \n",
       "3311924           2.086813           1.286741           1.134662   \n",
       "\n",
       "         NU_NOTA_MT_ZSCORE  NU_NOTA_REDACAO_ZSCORE  \n",
       "0                -0.988309                0.576910  \n",
       "1                -1.062568               -0.270946  \n",
       "2                 0.914013                0.152982  \n",
       "3                -0.147620                0.470928  \n",
       "4                 2.587139                1.424767  \n",
       "...                    ...                     ...  \n",
       "3311920          -0.522584                0.152982  \n",
       "3311921           0.007316                0.152982  \n",
       "3311922          -0.807703               -1.330767  \n",
       "3311923                NaN                     NaN  \n",
       "3311924           1.451247                1.424767  \n",
       "\n",
       "[3311925 rows x 5 columns]"
      ]
     },
     "execution_count": 141,
     "metadata": {},
     "output_type": "execute_result"
    }
   ],
   "source": [
    "def z_score(x, data_structure):\n",
    "    u = data_structure.loc[0, x.name]\n",
    "    sigma = data_structure.loc[1, x.name]\n",
    "    return (x - u)/sigma\n",
    "\n",
    "\n",
    "z_scores = train.loc[:, notas_columns].apply(lambda x: z_score(x,data_structure))\n",
    "z_scores.columns = [column + \"_ZSCORE\" for column in z_scores.columns]\n",
    "z_scores"
   ]
  },
  {
   "cell_type": "code",
   "execution_count": 143,
   "id": "e90ba180-3ee3-478a-a9de-21fc10780333",
   "metadata": {},
   "outputs": [
    {
     "data": {
      "image/png": "[encoded data removed]",
      "text/plain": [
       "<Figure size 432x288 with 1 Axes>"
      ]
     },
     "metadata": {
      "needs_background": "light"
     },
     "output_type": "display_data"
    }
   ],
   "source": [
    "var = \"NU_NOTA_MT_ZSCORE\"\n",
    "amostras_a = pd.concat([train, z_scores], axis =1).query(f\"{var} > 3 or {var} < -3\").loc[:, var.split(\"_ZSCORE\")[0]]\n",
    "amostras_b = pd.concat([train, z_scores], axis =1).query(f\"{var} <= 3 and {var} >= -3\").loc[:, var.split(\"_ZSCORE\")[0]]\n",
    "\n",
    "g = plt.hist([amostras_a, amostras_b], bins=100)\n",
    "\n",
    "plt.show()"
   ]
  },
  {
   "cell_type": "markdown",
   "id": "f347dc7b-8893-4816-a01a-d67e97a7d2f9",
   "metadata": {},
   "source": [
    "# **Questões** "
   ]
  },
  {
   "cell_type": "markdown",
   "id": "853415cc-b8f8-480d-a492-41111cd946f8",
   "metadata": {},
   "source": [
    "---\n",
    "\n",
    "- Qual a distribuição das notas por cor/raça? \n",
    "\n",
    "    - TP_COR_RACA\n",
    "    \n",
    "- Calcule uma medida de tendência central e uma medida de dispersão. (Calcule para cada grupo)\n",
    "\n",
    "- Encontre os outliers (utilize alguns dos métodos vistos em aulas)."
   ]
  },
  {
   "cell_type": "code",
   "execution_count": null,
   "id": "53ad3879-6069-4aee-989c-8cff011f6bb5",
   "metadata": {},
   "outputs": [],
   "source": []
  },
  {
   "cell_type": "markdown",
   "id": "7d0eace8-9db2-4323-8c99-b7cee90b582d",
   "metadata": {},
   "source": [
    "---\n",
    "\n",
    "- Qual a distribuição das notas por estado civil? \n",
    "\n",
    "    - TP_ESTADO_CIVIL\n",
    "    \n",
    "- Calcule uma medida de tendência central e uma medida de dispersão. (Calcule para cada grupo)\n",
    "\n",
    "- Encontre os outliers (utilize alguns dos métodos vistos em aulas)."
   ]
  },
  {
   "cell_type": "code",
   "execution_count": null,
   "id": "be2e6503-706e-4a0c-96eb-9936241e4f73",
   "metadata": {},
   "outputs": [],
   "source": []
  },
  {
   "cell_type": "markdown",
   "id": "67eb944c-75c6-4854-9705-567d1fcfca4c",
   "metadata": {},
   "source": [
    "---\n",
    "- Existe diferença entre a nota das pessoas que precisam de recurso?\n",
    "\n",
    "    - IN_SEM_RECURSO"
   ]
  },
  {
   "cell_type": "code",
   "execution_count": null,
   "id": "4038f6cf-fb2e-4998-8d2d-294f3039eea5",
   "metadata": {},
   "outputs": [],
   "source": []
  },
  {
   "cell_type": "markdown",
   "id": "f951d780-693d-47a9-a12a-6042018c7d77",
   "metadata": {},
   "source": [
    "---\n",
    "    \n",
    "- Alunos que fizeram a prova em sala particular performam melhor que o resto? \n",
    "\n",
    "    - IN_SALA_INDIVIDUAL"
   ]
  },
  {
   "cell_type": "code",
   "execution_count": null,
   "id": "4ac8915d-0200-491a-b56e-7d0aa9f13bb4",
   "metadata": {},
   "outputs": [],
   "source": []
  },
  {
   "cell_type": "markdown",
   "id": "16316dcb-a80b-43ef-9dd4-84eb018eab5a",
   "metadata": {},
   "source": [
    "---    \n",
    "- Existe diferença entre a nota dos jovens e idosos?\n",
    "\n",
    "    - IN_IDOSO"
   ]
  },
  {
   "cell_type": "code",
   "execution_count": null,
   "id": "c5348509-697c-4a1d-a945-f5888bfdfbf2",
   "metadata": {},
   "outputs": [],
   "source": []
  },
  {
   "cell_type": "markdown",
   "id": "23784b5a-cf30-4e0c-a7ec-f7c56071353c",
   "metadata": {},
   "source": [
    "---\n",
    "- Existe diferença entre as notas de quem escolheu inglês ou espanhol?\n",
    "\n",
    "    - TP_LINGUA\n",
    "    "
   ]
  },
  {
   "cell_type": "code",
   "execution_count": null,
   "id": "a5b8cf06-9925-4ff6-a51c-4d3b1b40a133",
   "metadata": {},
   "outputs": [],
   "source": []
  },
  {
   "cell_type": "markdown",
   "id": "abf3548c-ea50-4437-b5da-101d5b796194",
   "metadata": {},
   "source": [
    "---\n",
    "\n",
    "- Ter alguma deficiência impacta na nota?\n",
    "\n",
    "    - IN_BAIXA_VISAO \n",
    "    - IN_CEGUEIRA \n",
    "    - IN_SURDEZ \n",
    "    - IN_DEFICIENCIA_AUDITIVA \n",
    "    - IN_SURDO_CEGUEIRA\n",
    "    - IN_DEFICIENCIA_FISICA\n",
    "    - IN_DEFICIENCIA_MENTAL\n",
    "    - IN_DEFICIT_ATENCAO\n",
    "    - IN_DISLEXIA\n",
    "    - IN_DISCALCULIA\n",
    "    - IN_AUTISMO\n",
    "    - IN_VISAO_MONOCULAR\n",
    "    - IN_OUTRA_DEF"
   ]
  },
  {
   "cell_type": "code",
   "execution_count": null,
   "id": "1c5658ae-6330-4d15-9ce3-27f9fe9f426d",
   "metadata": {},
   "outputs": [],
   "source": []
  },
  {
   "cell_type": "markdown",
   "id": "987e6f93-e813-49d1-a04e-62f498a7b18e",
   "metadata": {},
   "source": [
    "---\n",
    "- Como as seguintes variáveis estão relacionadas?\n",
    "\n",
    "    - IN_CEGUEIRA \n",
    "    - IN_BRAILLE\n",
    "    - IN_LIBRAS\n",
    "    "
   ]
  },
  {
   "cell_type": "code",
   "execution_count": null,
   "id": "761ff5bc-f3b4-430d-8ce2-96cfc515722f",
   "metadata": {},
   "outputs": [],
   "source": []
  },
  {
   "cell_type": "markdown",
   "id": "d0c17230-1851-41a7-92e9-fa80e57ff870",
   "metadata": {},
   "source": [
    "---\n",
    "- Analise as perguntas. Você acredita que alguma delas pode te ajudar a entender os resultados das notas nas provas? \n",
    "\n",
    "```python\n",
    "['Q001', 'Q002', 'Q003', 'Q004', 'Q005', 'Q006', 'Q007', 'Q008', 'Q009',\n",
    " 'Q010', 'Q011', 'Q012', 'Q013', 'Q014', 'Q015', 'Q016', 'Q017', 'Q018',\n",
    " 'Q019', 'Q020', 'Q021', 'Q022', 'Q023', 'Q024', 'Q025']\n",
    "```"
   ]
  },
  {
   "cell_type": "code",
   "execution_count": null,
   "id": "285c1747-d116-43be-8341-3b4df20c4cb9",
   "metadata": {},
   "outputs": [],
   "source": []
  }
 ],
 "metadata": {
  "kernelspec": {
   "display_name": "venv_playground",
   "language": "python",
   "name": "venv_playground"
  },
  "language_info": {
   "codemirror_mode": {
    "name": "ipython",
    "version": 3
   },
   "file_extension": ".py",
   "mimetype": "text/x-python",
   "name": "python",
   "nbconvert_exporter": "python",
   "pygments_lexer": "ipython3",
   "version": "3.9.9"
  }
 },
 "nbformat": 4,
 "nbformat_minor": 5
}
