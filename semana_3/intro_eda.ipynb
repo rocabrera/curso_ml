{
 "cells": [
  {
   "cell_type": "code",
   "execution_count": 1,
   "id": "16149418-c3a2-4f87-80c5-47bdca088fb4",
   "metadata": {},
   "outputs": [],
   "source": [
    "import pandas as pd\n",
    "import seaborn as sns"
   ]
  },
  {
   "cell_type": "markdown",
   "id": "41bc0eee-3dd4-45ff-841a-d49e6831d831",
   "metadata": {},
   "source": [
    "Hoje vamos aprender mais sobre Pandas: \n",
    "\n",
    "- sum, min, man, etc...\n",
    "- duplicated, drop_duplicates\n",
    "- isna, dropna\n",
    "- apply, applymap\n",
    "- drop\n",
    "- rename\n",
    "- value_counts\n",
    "- groupby, agg\n",
    "\n",
    "Tools de exploração e análise \"automática\" de dados EDA:\n",
    "\n",
    "- pandas_profiling\n",
    "- sweetviz"
   ]
  },
  {
   "cell_type": "markdown",
   "id": "b061c329-3b3c-4032-9cdb-3e759e52d843",
   "metadata": {},
   "source": [
    "# **Worflow usual de EAD**"
   ]
  },
  {
   "cell_type": "markdown",
   "id": "aeeddcc4-22ad-47ef-89a3-d208b60f27ba",
   "metadata": {},
   "source": [
    "O que fazemos em uma análise exploratória?\n",
    "\n",
    "1. Criar Hipóteses.\n",
    "\n",
    "\n",
    "2. Criar/seguir um padrão:\n",
    "\n",
    "    - nome de colunas (minusculo, sem espaço em branco, etc...)\n",
    "\n",
    "\n",
    "3. Precisamos limpar os dados:\n",
    "\n",
    "    - Explorar dados faltantes.\n",
    "    - Explorar dados duplicados.\n",
    "    - Quais colunas tem tipos de dado ***object***? Eles fazem sentido?\n",
    "    - Quais colunas contém erros ***object***?\n",
    "    \n",
    "    \n",
    "4. Visualizar:\n",
    "\n",
    "    - Refutar ou validar hipóteses.\n",
    "    - Entender os dados.\n",
    "    - Encontrar possíveis problemas.\n",
    "   \n",
    "    \n",
    "Possíveis Hipóteses:\n",
    "\n",
    "- Mulheres tem uma chance maior de sobreviver?\n",
    "- Crianças tem uma chance maior de sobreviver?\n",
    "- Passageiros de classe alta tem maior chance de sobreviver?\n",
    "- Passageiros que pagam uma taxa maior tem uma maior chance de sobreviver? "
   ]
  },
  {
   "cell_type": "markdown",
   "id": "3ea77bd4-bbb0-4521-bd27-7f54dc632952",
   "metadata": {},
   "source": [
    "# **Pandas EDA**"
   ]
  },
  {
   "cell_type": "markdown",
   "id": "d4561f6c-9689-4efd-b32b-7764ee6a9293",
   "metadata": {},
   "source": [
    "Vamos padronizar os nomes das colunas"
   ]
  },
  {
   "cell_type": "code",
   "execution_count": null,
   "id": "ef656a99-c110-4d21-9023-57269f45b2ef",
   "metadata": {},
   "outputs": [],
   "source": []
  },
  {
   "cell_type": "markdown",
   "id": "4ec18d8a-28ef-4bc4-b3e7-6cbe0c164985",
   "metadata": {},
   "source": [
    "Perguntas Iniciais:\n",
    "- Quantas pessoas morreram? Quantas sobreviveram?\n",
    "- Qual a proporção de sobreviventes e mortos?\n",
    "- Qual a quantidade de pessoas de casa sexo que morreu e sobreviveu?"
   ]
  },
  {
   "cell_type": "code",
   "execution_count": null,
   "id": "0558ae02-34e7-481c-b355-83aa448f15d0",
   "metadata": {},
   "outputs": [],
   "source": []
  },
  {
   "cell_type": "markdown",
   "id": "c00b468c-709a-4350-a569-c0613c66f30d",
   "metadata": {},
   "source": [
    "---\n",
    "Perguntas Futuras:\n",
    "- Quantos passageiros há em cada faixa etária? (0-15, 15-30, 30-45, 45+)\n",
    "- Qual a distribuição de sexo dentro de cada faixa etária?\n",
    "- Qual a proporção de mortes/sobrevivência dentro de cada faixa etária?\n",
    "- Qual a proporção de mortes/sobrevivência dentro de cada faixa etária?"
   ]
  },
  {
   "cell_type": "code",
   "execution_count": null,
   "id": "a0a9b101-653e-4889-b1c0-66f5080b839c",
   "metadata": {},
   "outputs": [],
   "source": []
  },
  {
   "cell_type": "markdown",
   "id": "4e48c9b7-fbb8-4da8-affc-50f3d744e4a8",
   "metadata": {
    "tags": []
   },
   "source": [
    "# **EDA Automático** "
   ]
  },
  {
   "cell_type": "markdown",
   "id": "0d8a7f1b-377e-4519-a6dc-7b5036600306",
   "metadata": {},
   "source": [
    "<font color=\"orange\"><b>PANDAS PROFILING</b></font>\n",
    "\n",
    "```python\n",
    "import seaborn as sns\n",
    "from pandas_profiling import ProfileReport\n",
    "df = sns.load_dataset(\"titanic\")\n",
    "profile = ProfileReport(df, title=\"Pandas Profiling Report\", minimal=True)\n",
    "profile.to_file(\"pandas_profiling_example.html\")\n",
    "```"
   ]
  },
  {
   "cell_type": "markdown",
   "id": "c522faea-c49e-47b7-8273-d04a894911b1",
   "metadata": {
    "tags": []
   },
   "source": [
    "<font color=\"orange\"><b>SWEETVIZ</b></font>\n",
    "\n",
    "```python\n",
    "import seaborn as sns\n",
    "import sweetviz as sv\n",
    "\n",
    "df = sns.load_dataset(\"titanic\")\n",
    "advert_report = sv.analyze(df)\n",
    "advert_report.show_html('sweetviz_example.html')\n",
    "```"
   ]
  },
  {
   "cell_type": "markdown",
   "id": "44b0dd37-e670-4fab-a348-79def1d63379",
   "metadata": {},
   "source": [
    "<font color=\"orange\"><b>DTALE</b></font>\n",
    "\n",
    "```python\n",
    "import dtale\n",
    "import seaborn as sns\n",
    "import pandas as pd\n",
    "df = sns.load_dataset(\"titanic\")\n",
    "d = dtale.show(df)\n",
    "d.open_browser()\n",
    "```"
   ]
  }
 ],
 "metadata": {
  "kernelspec": {
   "display_name": "venv_playground",
   "language": "python",
   "name": "venv_playground"
  },
  "language_info": {
   "codemirror_mode": {
    "name": "ipython",
    "version": 3
   },
   "file_extension": ".py",
   "mimetype": "text/x-python",
   "name": "python",
   "nbconvert_exporter": "python",
   "pygments_lexer": "ipython3",
   "version": "3.9.9"
  }
 },
 "nbformat": 4,
 "nbformat_minor": 5
}
