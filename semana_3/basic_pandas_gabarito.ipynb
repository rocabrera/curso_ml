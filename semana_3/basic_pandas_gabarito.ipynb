{
 "cells": [
  {
   "cell_type": "code",
   "execution_count": 1,
   "metadata": {},
   "outputs": [],
   "source": [
    "import os\n",
    "import re\n",
    "import numpy as np\n",
    "import pandas as pd"
   ]
  },
  {
   "cell_type": "code",
   "execution_count": 2,
   "metadata": {},
   "outputs": [],
   "source": [
    "folder_path = \"data\"\n",
    "file_name   = \"preco_medicamento.csv\"\n",
    "path = os.path.join(folder_path,file_name)"
   ]
  },
  {
   "cell_type": "markdown",
   "metadata": {},
   "source": [
    "### **Ler o arquivo** "
   ]
  },
  {
   "cell_type": "markdown",
   "metadata": {},
   "source": [
    "<details><summary><b>SPOILER (Resposta para continuar o exercicio)</b></summary>\n",
    "    \n",
    "```python\n",
    "df = pd.read_csv(path, encoding=\"latin-1\", sep=\";\")\n",
    "```\n",
    "\n",
    "Obs: comando ```file``` pode trazer informações interessantes sobre o problema."
   ]
  },
  {
   "cell_type": "code",
   "execution_count": 3,
   "metadata": {},
   "outputs": [
    {
     "data": {
      "text/html": [
       "<div>\n",
       "<style scoped>\n",
       "    .dataframe tbody tr th:only-of-type {\n",
       "        vertical-align: middle;\n",
       "    }\n",
       "\n",
       "    .dataframe tbody tr th {\n",
       "        vertical-align: top;\n",
       "    }\n",
       "\n",
       "    .dataframe thead th {\n",
       "        text-align: right;\n",
       "    }\n",
       "</style>\n",
       "<table border=\"1\" class=\"dataframe\">\n",
       "  <thead>\n",
       "    <tr style=\"text-align: right;\">\n",
       "      <th></th>\n",
       "      <th>SUBSTÂNCIA</th>\n",
       "      <th>PF 17% ALC</th>\n",
       "      <th>PF 17</th>\n",
       "      <th>TIPO DE PRODUTO</th>\n",
       "      <th>COMERCIALIZAÇÃO 2019</th>\n",
       "    </tr>\n",
       "  </thead>\n",
       "  <tbody>\n",
       "    <tr>\n",
       "      <th>0</th>\n",
       "      <td>CLORIDRATO DE MEMANTINA</td>\n",
       "      <td>155,54</td>\n",
       "      <td>155,54</td>\n",
       "      <td>Similar</td>\n",
       "      <td>Sim</td>\n",
       "    </tr>\n",
       "  </tbody>\n",
       "</table>\n",
       "</div>"
      ],
      "text/plain": [
       "                SUBSTÂNCIA PF 17% ALC   PF 17 TIPO DE PRODUTO  \\\n",
       "0  CLORIDRATO DE MEMANTINA     155,54  155,54         Similar   \n",
       "\n",
       "  COMERCIALIZAÇÃO 2019  \n",
       "0                  Sim  "
      ]
     },
     "execution_count": 3,
     "metadata": {},
     "output_type": "execute_result"
    }
   ],
   "source": [
    "df = pd.read_csv(path, encoding=\"latin-1\", sep = \";\")\n",
    "df.head(1)"
   ]
  },
  {
   "cell_type": "markdown",
   "metadata": {},
   "source": [
    "### **Arrumar o Head (Opcional)** "
   ]
  },
  {
   "cell_type": "code",
   "execution_count": 4,
   "metadata": {},
   "outputs": [],
   "source": [
    "old_column_names = df.columns.copy()"
   ]
  },
  {
   "cell_type": "code",
   "execution_count": 5,
   "metadata": {},
   "outputs": [
    {
     "data": {
      "text/plain": [
       "Index(['SUBSTÂNCIA', 'PF 17% ALC', 'PF 17', 'TIPO DE PRODUTO',\n",
       "       'COMERCIALIZAÇÃO 2019'],\n",
       "      dtype='object')"
      ]
     },
     "execution_count": 5,
     "metadata": {},
     "output_type": "execute_result"
    }
   ],
   "source": [
    "old_column_names"
   ]
  },
  {
   "cell_type": "code",
   "execution_count": 6,
   "metadata": {},
   "outputs": [],
   "source": [
    "df.columns = map(str.lower, df.columns)"
   ]
  },
  {
   "cell_type": "code",
   "execution_count": 7,
   "metadata": {},
   "outputs": [],
   "source": [
    "df.columns = map(lambda x: x.replace(\" \", \"_\"),df.columns)\n",
    "df.columns = map(lambda x: x.replace(\"%\", \"\"),df.columns)"
   ]
  },
  {
   "cell_type": "markdown",
   "metadata": {},
   "source": [
    "### **Checar dataframe**"
   ]
  },
  {
   "cell_type": "markdown",
   "metadata": {},
   "source": [
    "1. Mostrar a quantidade de linhas e colunas.\n",
    "2. Mostrar o tipo de dado de cada coluna.\n",
    "3. Mostrar a quantidade de dados faltantes em cada coluna. Se houver, remover  as linhas faltantes.\n",
    "4. Checar existência de linhas duplicadas (Caso exista remover)."
   ]
  },
  {
   "cell_type": "markdown",
   "metadata": {},
   "source": [
    "**Parte 1**"
   ]
  },
  {
   "cell_type": "code",
   "execution_count": 8,
   "metadata": {},
   "outputs": [
    {
     "name": "stdout",
     "output_type": "stream",
     "text": [
      "Qtd Linhas: 24291\n",
      "Qtd Colunas: 5\n"
     ]
    }
   ],
   "source": [
    "print(f\"Qtd Linhas: {df.shape[0]}\\nQtd Colunas: {df.shape[1]}\")"
   ]
  },
  {
   "cell_type": "markdown",
   "metadata": {},
   "source": [
    "**Parte 2**"
   ]
  },
  {
   "cell_type": "code",
   "execution_count": 9,
   "metadata": {},
   "outputs": [
    {
     "data": {
      "text/plain": [
       "substância              object\n",
       "pf_17_alc               object\n",
       "pf_17                   object\n",
       "tipo_de_produto         object\n",
       "comercialização_2019    object\n",
       "dtype: object"
      ]
     },
     "execution_count": 9,
     "metadata": {},
     "output_type": "execute_result"
    }
   ],
   "source": [
    "df.dtypes"
   ]
  },
  {
   "cell_type": "markdown",
   "metadata": {},
   "source": [
    "**Parte 3**"
   ]
  },
  {
   "cell_type": "code",
   "execution_count": 10,
   "metadata": {},
   "outputs": [
    {
     "name": "stdout",
     "output_type": "stream",
     "text": [
      "substância              False\n",
      "pf_17_alc                True\n",
      "pf_17                    True\n",
      "tipo_de_produto         False\n",
      "comercialização_2019    False\n",
      "dtype: bool\n",
      "********************\n",
      "substância                0\n",
      "pf_17_alc               772\n",
      "pf_17                   772\n",
      "tipo_de_produto           0\n",
      "comercialização_2019      0\n",
      "dtype: int64\n",
      "********************\n",
      "substância                0\n",
      "pf_17_alc               772\n",
      "pf_17                   772\n",
      "tipo_de_produto           0\n",
      "comercialização_2019      0\n",
      "dtype: int64\n",
      "********************\n"
     ]
    }
   ],
   "source": [
    "#mostra se tem ou não dado faltante.\n",
    "print(df.isna().any())\n",
    "print(\"*\"*20)\n",
    "#conta a quantidade de dados faltantes.\n",
    "print(df.isna().apply(lambda x: sum(x)))\n",
    "print(\"*\"*20)\n",
    "#faz a memsa coisa mais simples.\n",
    "print(df.isna().sum(axis=0)) #axis=0 é default\n",
    "print(\"*\"*20)\n",
    "#Remove as linhas\n",
    "df.dropna(inplace = True)"
   ]
  },
  {
   "cell_type": "markdown",
   "metadata": {},
   "source": [
    "**Parte 4**"
   ]
  },
  {
   "cell_type": "code",
   "execution_count": 11,
   "metadata": {},
   "outputs": [
    {
     "name": "stdout",
     "output_type": "stream",
     "text": [
      "Existem dados faltantes.\n"
     ]
    }
   ],
   "source": [
    "cond = df.duplicated()\n",
    "if len(df[cond]):\n",
    "    print(\"Existem dados faltantes.\")\n",
    "    df.drop_duplicates(inplace=True)\n",
    "    df.reset_index(drop=True,inplace=True)\n",
    "else:\n",
    "    print(\"Não existem dados faltantes.\")"
   ]
  },
  {
   "cell_type": "markdown",
   "metadata": {},
   "source": [
    "### **Estatisticas das variáveis** "
   ]
  },
  {
   "cell_type": "markdown",
   "metadata": {},
   "source": [
    "1. Calcular média e desvio padrão para as variáveis \"PF 17% ALC\" e \"PF 17\"\n",
    "2. Na variável comercialização_2019 mapear para 1 quando for \"Sim\" e 0 quando for \"Não\". Caso seja outro valor dropar a linha.\n",
    "3. Calcular a média e desvio padrão para as variáveis \"PF 17% ALC\" e \"PF 17\""
   ]
  },
  {
   "cell_type": "markdown",
   "metadata": {},
   "source": [
    "**Parte 1**"
   ]
  },
  {
   "cell_type": "code",
   "execution_count": 12,
   "metadata": {},
   "outputs": [],
   "source": [
    "df[\"pf_17_alc\"] = df[\"pf_17_alc\"].apply(lambda x:x.replace(\",\",\".\")).astype(float)\n",
    "\n",
    "df[\"pf_17\"] = df[\"pf_17\"].apply(lambda x:x.replace(\",\",\".\")).astype(float)"
   ]
  },
  {
   "cell_type": "code",
   "execution_count": 13,
   "metadata": {},
   "outputs": [
    {
     "name": "stdout",
     "output_type": "stream",
     "text": [
      "Média:\n",
      "pf_17_alc    836.399889\n",
      "pf_17        883.130541\n",
      "dtype: float64\n",
      "\n",
      "Std\n",
      "pf_17_alc    7198.428926\n",
      "pf_17        7640.557035\n",
      "dtype: float64\n"
     ]
    },
    {
     "data": {
      "text/plain": [
       "(836.3998885807191, 7198.428925730309)"
      ]
     },
     "execution_count": 13,
     "metadata": {},
     "output_type": "execute_result"
    }
   ],
   "source": [
    "print(\"Média:\")\n",
    "print(df[[\"pf_17_alc\",\"pf_17\"]].mean())\n",
    "print(\"\\nStd\")\n",
    "print(df[[\"pf_17_alc\",\"pf_17\"]].std())\n",
    "########################################\n",
    "get_mean_std = lambda series: (series.mean(),series.std()) \n",
    "get_mean_std(df[\"pf_17_alc\"])"
   ]
  },
  {
   "cell_type": "markdown",
   "metadata": {},
   "source": [
    "**Parte 2**"
   ]
  },
  {
   "cell_type": "code",
   "execution_count": 14,
   "metadata": {},
   "outputs": [
    {
     "data": {
      "text/plain": [
       "Sim     11095\n",
       "NÃ£o     9816\n",
       "???         1\n",
       "Name: comercialização_2019, dtype: int64"
      ]
     },
     "execution_count": 14,
     "metadata": {},
     "output_type": "execute_result"
    }
   ],
   "source": [
    "df[\"comercialização_2019\"].value_counts()"
   ]
  },
  {
   "cell_type": "code",
   "execution_count": 15,
   "metadata": {},
   "outputs": [],
   "source": [
    "idx_to_remove = df[df[\"comercialização_2019\"] == \"???\"].index[0]"
   ]
  },
  {
   "cell_type": "code",
   "execution_count": 16,
   "metadata": {},
   "outputs": [
    {
     "name": "stdout",
     "output_type": "stream",
     "text": [
      "Antes: 20912\n",
      "Depois: 20911\n"
     ]
    }
   ],
   "source": [
    "print(f\"Antes: {len(df)}\")\n",
    "df.drop(idx_to_remove, inplace=True)\n",
    "df.reset_index(drop=True, inplace=True)\n",
    "print(f\"Depois: {len(df)}\")"
   ]
  },
  {
   "cell_type": "markdown",
   "metadata": {},
   "source": [
    "\n",
    "Uma das maneiras:\n",
    "```python\n",
    "cond_yes = df[\"comercialização_2019\"] == \"Sim\"\n",
    "cond_no  = df[\"comercialização_2019\"] == \"NÃ£o\"\n",
    "\n",
    "df.loc[cond_yes,\"comercialização_2019\"] = 1\n",
    "df.loc[cond_no,\"comercialização_2019\"]  = 0\n",
    "```"
   ]
  },
  {
   "cell_type": "code",
   "execution_count": 17,
   "metadata": {},
   "outputs": [],
   "source": [
    "df[\"comercialização_2019\"] = df[\"comercialização_2019\"].apply(lambda x: 1 if x == \"Sim\" else 0)"
   ]
  },
  {
   "cell_type": "code",
   "execution_count": 18,
   "metadata": {},
   "outputs": [
    {
     "data": {
      "text/plain": [
       "1    11095\n",
       "0     9816\n",
       "Name: comercialização_2019, dtype: int64"
      ]
     },
     "execution_count": 18,
     "metadata": {},
     "output_type": "execute_result"
    }
   ],
   "source": [
    "df[\"comercialização_2019\"].value_counts()"
   ]
  },
  {
   "cell_type": "markdown",
   "metadata": {},
   "source": [
    "**Parte 3**"
   ]
  },
  {
   "cell_type": "markdown",
   "metadata": {},
   "source": [
    "Melhor forma de resolver esse problema:\n",
    "\n",
    "```python \n",
    "df.groupby(by=\"comercialização_2019\").agg({\"pf_17_alc\":[\"mean\",\"std\"], \"pf_17\":[\"mean\",\"std\"]})\n",
    "```"
   ]
  }
 ],
 "metadata": {
  "kernelspec": {
   "display_name": "venv_playground",
   "language": "python",
   "name": "venv_playground"
  },
  "language_info": {
   "codemirror_mode": {
    "name": "ipython",
    "version": 3
   },
   "file_extension": ".py",
   "mimetype": "text/x-python",
   "name": "python",
   "nbconvert_exporter": "python",
   "pygments_lexer": "ipython3",
   "version": "3.9.9"
  }
 },
 "nbformat": 4,
 "nbformat_minor": 4
}
