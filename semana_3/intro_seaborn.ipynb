{
 "cells": [
  {
   "cell_type": "markdown",
   "id": "2699a7cc-cdfb-4b39-90de-8c44f5bc4e33",
   "metadata": {
    "tags": []
   },
   "source": [
    "# **Introdução ao seaborn**"
   ]
  },
  {
   "cell_type": "markdown",
   "id": "03ed28e8-ac8f-4c4c-9663-9d0632d52116",
   "metadata": {
    "tags": []
   },
   "source": [
    "## **Setup** "
   ]
  },
  {
   "cell_type": "markdown",
   "id": "589b3265-4fda-41a2-a5c2-1db30113e95f",
   "metadata": {},
   "source": [
    "Vamos agora conhecer outra biblioteca de dataviz: o seaborn.\n",
    "\n",
    "Essa biblioteca é construída usando a matplotlib, e tem como foco produzir gráficos estatísticos como por exemplo:\n",
    "\n",
    "    plots de distribuição\n",
    "    plots categóricos\n",
    "\n",
    "Vamos ver exemplos de usabilidade dos tipos de gráficos acima!"
   ]
  },
  {
   "cell_type": "code",
   "execution_count": null,
   "id": "e1630693-a59c-4b47-af6a-e5832d67e917",
   "metadata": {},
   "outputs": [],
   "source": [
    "import numpy as np\n",
    "import pandas as pd\n",
    "\n",
    "import seaborn as sns\n",
    "import matplotlib.pyplot as plt"
   ]
  },
  {
   "cell_type": "code",
   "execution_count": null,
   "id": "8eb07ff4-d601-4aaa-b422-64c069bdeb6c",
   "metadata": {},
   "outputs": [],
   "source": [
    "sns.__version__"
   ]
  },
  {
   "cell_type": "markdown",
   "id": "143b1ae7-9023-4703-a441-61fa70c1d767",
   "metadata": {},
   "source": [
    "\n",
    "Plots de distribuição\n",
    "\n",
    "Como o nome indica, são gráficos que nos auxiliam a visualizar a distribuição dos dados, ou seja, como os dados estão distribuídos nos diferentes valores que determinadas variáveis podem assumir. Aprenderemos mais sobre este conceito na aula de estatística.\n",
    "\n",
    "Para ilustrar esses gráficos, vamos utilizar alguns datasets que já vêm com o prório seaborn!\n"
   ]
  },
  {
   "cell_type": "code",
   "execution_count": null,
   "id": "018c0022-a78a-4350-b323-d74541a3e1eb",
   "metadata": {},
   "outputs": [],
   "source": []
  },
  {
   "cell_type": "markdown",
   "id": "87559c64-62a7-4f84-91b6-343a17afadf9",
   "metadata": {
    "tags": []
   },
   "source": [
    "## **Iris Dataset** "
   ]
  },
  {
   "cell_type": "markdown",
   "id": "d68b2aff-f484-4123-a4e9-cb5df4ae22f7",
   "metadata": {},
   "source": [
    "<center><img src=\"images/iris.png\" align=\"center\" width=400/></center>\n",
    "\n",
    "</br>\n",
    "\n",
    "Esta é talvez a base de dados mais conhecida na literatura para reconhecimento de padrões, do inglês *pattern recognition*. Apresentado no artigo de Fisher, é considerado um clássico na área.\n",
    "\n",
    "O conjunto de dados contém 3 classes de 50 instâncias cada, onde cada classe se refere a um tipo de planta de íris. Vamos checar isso."
   ]
  },
  {
   "cell_type": "code",
   "execution_count": null,
   "id": "edd37d17-e275-4bac-a55c-64c6ce746563",
   "metadata": {},
   "outputs": [],
   "source": []
  },
  {
   "cell_type": "code",
   "execution_count": null,
   "id": "e80f705c-531f-48df-bb56-31cf56085914",
   "metadata": {},
   "outputs": [],
   "source": []
  },
  {
   "cell_type": "markdown",
   "id": "64dd4067-875a-41f9-888f-65c632cdaaca",
   "metadata": {},
   "source": [
    "Normalmente quando vamos escolher um gráfico para visualizar nossos dados precisamos saber se é um dado categórico ou númerico. Vamos acessar o atributo ```dtypes``` do DataFrame para checar com o que estamos lidando."
   ]
  },
  {
   "cell_type": "code",
   "execution_count": null,
   "id": "6843b125-2816-474b-a7a1-ba2c06cf8b89",
   "metadata": {},
   "outputs": [],
   "source": []
  },
  {
   "cell_type": "markdown",
   "id": "e991aa2f-4c81-4976-9240-09cdedfa1085",
   "metadata": {
    "tags": []
   },
   "source": [
    "## **Histogramas** "
   ]
  },
  {
   "cell_type": "code",
   "execution_count": null,
   "id": "00ed496a-da1c-46a4-9a01-b31e34373a2d",
   "metadata": {},
   "outputs": [],
   "source": []
  },
  {
   "cell_type": "markdown",
   "id": "8d7d5e9f-5478-4fbe-9ccf-38acb7bfe24f",
   "metadata": {},
   "source": [
    "Esse gráfico mostra a distribuição dos valores dessa coluna. Normalmente, as funções da biblioteca ```seaborn``` tem um parâmetro chamado ```hue``` que recebe uma variável categórica, permitindo ver o plot selecionado para as diferentes categorias."
   ]
  },
  {
   "cell_type": "code",
   "execution_count": null,
   "id": "1faf2625-6fe9-4261-a734-2640d1d3aa45",
   "metadata": {},
   "outputs": [],
   "source": []
  },
  {
   "cell_type": "markdown",
   "id": "13f86dd9-e5b7-449f-99df-9d8711393515",
   "metadata": {},
   "source": [
    "Outro parâmetro interessante é o ```kde```, do inglês *kernel density estimation* (Vamos explicar mais dele depois)."
   ]
  },
  {
   "cell_type": "code",
   "execution_count": null,
   "id": "c13a43b5-5015-43c2-8558-a017a69dd734",
   "metadata": {},
   "outputs": [],
   "source": []
  },
  {
   "cell_type": "markdown",
   "id": "a5ec605b-038b-449b-b966-f99bef185be0",
   "metadata": {},
   "source": [
    "Além disso, normalmente também podemos especificar, o eixo (gráfico) que vamos colocar. Perceba também, que o método ```histplot``` retorna um eixo (gráfico), permitindo alterar título, label, setar limite, entre outros... conforme vimos na aula passada."
   ]
  },
  {
   "cell_type": "code",
   "execution_count": null,
   "id": "166400e6-1657-49a4-af84-a39e2a4bb871",
   "metadata": {},
   "outputs": [],
   "source": []
  },
  {
   "cell_type": "markdown",
   "id": "ee6d5431-41e6-409e-9d24-52df5d5f4154",
   "metadata": {
    "tags": []
   },
   "source": [
    "## **JointPlot** "
   ]
  },
  {
   "cell_type": "markdown",
   "id": "9692551f-e2f0-4549-88ab-f619a4928707",
   "metadata": {},
   "source": [
    "Outra coisa que pode ser interessante é entender como duas variáveis numéricas se relacionam. Vamos ver a seguir."
   ]
  },
  {
   "cell_type": "code",
   "execution_count": null,
   "id": "9ab2bde3-ec31-4358-8208-0edc91743305",
   "metadata": {},
   "outputs": [],
   "source": []
  },
  {
   "cell_type": "markdown",
   "id": "9e9e1946-4ac9-4435-9749-851528d50722",
   "metadata": {},
   "source": [
    "Assim como o método ```histplot``` também podemos utilizar parâmetros como ```hue```. "
   ]
  },
  {
   "cell_type": "code",
   "execution_count": null,
   "id": "68253c65-ab7d-45cd-8c81-8f88dc7a236a",
   "metadata": {},
   "outputs": [],
   "source": []
  },
  {
   "cell_type": "markdown",
   "id": "78507b9c-43c5-4112-b4d9-d016c7d93c41",
   "metadata": {},
   "source": [
    "Note que esse método não nos retorna um eixo de matplotlib conforme vimos no item anterior. Por isso é muito importante ver a documentação e entender o que cada objeto pode ou não fazer."
   ]
  },
  {
   "cell_type": "markdown",
   "id": "1b91a198-aeb0-4fa5-b6ab-3c3c6a739e06",
   "metadata": {
    "tags": []
   },
   "source": [
    "## **Pairplot** "
   ]
  },
  {
   "cell_type": "code",
   "execution_count": null,
   "id": "7d59872e-dcb7-47b8-9b98-c27c97d87355",
   "metadata": {},
   "outputs": [],
   "source": []
  },
  {
   "cell_type": "markdown",
   "id": "ea6eb21d-1907-4e5b-b6c1-8973f2e14df8",
   "metadata": {
    "tags": []
   },
   "source": [
    "## **Boxplot** "
   ]
  },
  {
   "cell_type": "markdown",
   "id": "bde9d7aa-20b3-47a1-8267-f0cfa3511312",
   "metadata": {},
   "source": [
    "Outro plot muito usado é o boxplot. Ele é muito interessante quando queremos entender nossos dados, mas não estamos tão interessados na distribuição em si."
   ]
  },
  {
   "cell_type": "markdown",
   "id": "5cdb7919-faae-4cef-b108-5476ab08e0c0",
   "metadata": {},
   "source": [
    "<center><img src=\"images/boxplot.png\" align=\"center\" width=400/></center>"
   ]
  },
  {
   "cell_type": "code",
   "execution_count": null,
   "id": "97b70d39-8837-48c5-8740-afd319da04e0",
   "metadata": {},
   "outputs": [],
   "source": []
  },
  {
   "cell_type": "markdown",
   "id": "a408790a-0e74-435b-b0b6-ba8eee826336",
   "metadata": {
    "tags": []
   },
   "source": [
    "#### **Boxplot vs Histogramas**\n",
    "\n",
    "Qual é mais fácil de visualizar e interpretar?"
   ]
  },
  {
   "cell_type": "code",
   "execution_count": null,
   "id": "ef40a86c-4a88-4423-90c1-ec2376bdf798",
   "metadata": {},
   "outputs": [],
   "source": []
  },
  {
   "cell_type": "markdown",
   "id": "d3e05843-3fef-4088-a5eb-460517bbd78f",
   "metadata": {},
   "source": [
    "Ambos gráficos são importantes, não conhecemos a distribuição e podemos tomar a decisão errada se não olharmos pela maior quantidade possível de formas. "
   ]
  },
  {
   "cell_type": "code",
   "execution_count": null,
   "id": "56032719-2530-4585-8e0f-304f4bd5f1e7",
   "metadata": {
    "tags": []
   },
   "outputs": [],
   "source": []
  },
  {
   "cell_type": "code",
   "execution_count": null,
   "id": "07a9db4a-4432-4320-bb7e-e2dc4e53fc8d",
   "metadata": {},
   "outputs": [],
   "source": []
  },
  {
   "cell_type": "code",
   "execution_count": null,
   "id": "4586777a-c6ee-4723-9a23-541f1a8bba19",
   "metadata": {},
   "outputs": [],
   "source": []
  },
  {
   "cell_type": "markdown",
   "id": "5afa502e-abf9-45ff-8c18-167f0379e775",
   "metadata": {
    "tags": []
   },
   "source": [
    "## **Countplot**"
   ]
  },
  {
   "cell_type": "markdown",
   "id": "17b3ca54-e137-47df-86a3-78d0d15e86b4",
   "metadata": {},
   "source": [
    "Vamos agora começar a olhar para visualizações de variáveis categóricas, para isso vamos utilizar outro dataset."
   ]
  },
  {
   "cell_type": "code",
   "execution_count": null,
   "id": "5ae4129b-636e-478c-b125-3d07315d0f7f",
   "metadata": {},
   "outputs": [],
   "source": []
  },
  {
   "cell_type": "markdown",
   "id": "e451654e-a96a-4b34-b52b-000866f1355f",
   "metadata": {},
   "source": [
    "Esse é um dataframe que contém informações sobre mesas de um restaurante e as gorjetas (tips) que as pessoas da mesa deram, juntamente com outras informações relativas ao pedido."
   ]
  },
  {
   "cell_type": "code",
   "execution_count": null,
   "id": "5ef0e7de-e76d-4210-8e86-8c56b6b6c24e",
   "metadata": {},
   "outputs": [],
   "source": []
  },
  {
   "cell_type": "markdown",
   "id": "93250a07-1f7a-44e1-9d5b-0c07be79c214",
   "metadata": {},
   "source": [
    "Parece um histograma, mas é diferente. Perceba que no eixo x temos uma variável categórica. \n",
    "\n",
    "Como dito anteriormente, muito do que aprendemos se aplica nesse caso também."
   ]
  },
  {
   "cell_type": "code",
   "execution_count": null,
   "id": "dcbf3efd-c214-4350-9175-d005fdbc9be5",
   "metadata": {},
   "outputs": [],
   "source": []
  },
  {
   "cell_type": "markdown",
   "id": "96124141-cb55-41eb-a6de-c09fa52b3aa9",
   "metadata": {
    "tags": []
   },
   "source": [
    "## **Barplot**"
   ]
  },
  {
   "cell_type": "markdown",
   "id": "68c3abd5-5975-4d21-9561-8db7a5ef99b0",
   "metadata": {},
   "source": [
    "Esse é o gráfico de barras, similar ao countplot, mas com a diferença que no eixo x teremos dados categóricos, e no eixo y algum dado numérico.\n",
    "\n",
    "O que o barplot mostra é alguma estatística descritiva (média, mediana, etc...) da variável numérica, separada pela variável categórica (como se fosse um \"hue\")"
   ]
  },
  {
   "cell_type": "code",
   "execution_count": null,
   "id": "3679b864-529c-4cd6-b4c5-8405f62ff0ee",
   "metadata": {},
   "outputs": [],
   "source": []
  },
  {
   "cell_type": "markdown",
   "id": "0cd31c8d-1fe3-46f3-876b-f526a6f0fae8",
   "metadata": {},
   "source": [
    "##  **Exercicios**"
   ]
  },
  {
   "cell_type": "markdown",
   "id": "1e0bfd4d-4f60-44c5-b887-c3e26e41ce26",
   "metadata": {},
   "source": [
    "Sua vez, selecione um dataset e utilize os métodos vistos em salasns.get_dataset_names()[:5]"
   ]
  },
  {
   "cell_type": "code",
   "execution_count": null,
   "id": "27112ef9-ea8a-47b7-9089-d613b616c2fe",
   "metadata": {},
   "outputs": [],
   "source": []
  }
 ],
 "metadata": {
  "kernelspec": {
   "display_name": "venv_playground",
   "language": "python",
   "name": "venv_playground"
  },
  "language_info": {
   "codemirror_mode": {
    "name": "ipython",
    "version": 3
   },
   "file_extension": ".py",
   "mimetype": "text/x-python",
   "name": "python",
   "nbconvert_exporter": "python",
   "pygments_lexer": "ipython3",
   "version": "3.9.9"
  }
 },
 "nbformat": 4,
 "nbformat_minor": 5
}
