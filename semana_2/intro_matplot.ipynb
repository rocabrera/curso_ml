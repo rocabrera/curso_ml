{
 "cells": [
  {
   "cell_type": "markdown",
   "id": "7bd60d6e-6a96-40dd-9581-58ffcae364d4",
   "metadata": {},
   "source": [
    "# **Introdução a visualização de dados**"
   ]
  },
  {
   "cell_type": "markdown",
   "id": "a28932f0-52c7-4548-89b0-741669d6d04c",
   "metadata": {},
   "source": [
    "Visualizção de dados é uma área da ciência de dados por si só, muitas vezes é chamada de dataviz, e é de enorme importância para que um projeto seja bem sucedido e bem comunicado!\n",
    "\n",
    "Além disso, a habilidade de visualizar os dados ajuda muito no processo de **EDA**, do inglês *exploratory data analysis*, como discutimos anteriormente, afinal, representações visuais dos dados sempre são mais simples e intuitivas de serem interpretadas!\n",
    "\n",
    "Então, os principais objetivos do dataviz são:\n",
    "\n",
    "- Auxiliar na **EDA**;\n",
    "- Auxiliar na apresentação de resultados.\n",
    "\n",
    "Vamos agora aprender algumas ferramentas de dataviz!"
   ]
  },
  {
   "cell_type": "code",
   "execution_count": null,
   "id": "8a75a18d-482d-41f3-b2ed-d70f9eeef7a8",
   "metadata": {},
   "outputs": [],
   "source": []
  },
  {
   "cell_type": "markdown",
   "id": "b6655d43-6738-4688-aa45-dec16b5445c5",
   "metadata": {},
   "source": [
    "O **matplotlib** é a biblioteca mais fundamental para a geração de figuras e gráficos em Python. Ela permite a geração de diferentes tipos de gráfico, como gráficos de linha, de barras, de pizza, de dispersão e histogramas.\n",
    "\n",
    "Além disso, a matplotlib permite personalizar os gráficos de diversas maneiras, acrescentando múltiplas fontes de dados, trocando cor, formato dos marcadores ou gerando diversos gráficos na mesma imagem.\n",
    "\n",
    "--- \n",
    "\n",
    "O gráfico escolhido depende do que quer ser mostrado/enfatizado e das variáveis disponíveis. No momento vamos focar em como fazer os gráficos simples."
   ]
  },
  {
   "cell_type": "markdown",
   "id": "0173ed3b-2aae-4850-ac79-1effd7128860",
   "metadata": {},
   "source": [
    "### **Gráfico de linha** "
   ]
  },
  {
   "cell_type": "markdown",
   "id": "2016aa2a-7737-45f6-afe7-37cfb22c7ba2",
   "metadata": {},
   "source": [
    "- explicar [canvas](https://matplotlib.org/stable/tutorials/intermediate/artists.html)"
   ]
  },
  {
   "cell_type": "code",
   "execution_count": null,
   "id": "65443227-91e6-4443-9f86-ab49daa5ab84",
   "metadata": {},
   "outputs": [],
   "source": []
  },
  {
   "cell_type": "markdown",
   "id": "6feb7a3e-9f7c-4a04-8153-bd582e4ca38b",
   "metadata": {},
   "source": [
    "- Mostrar gráfico de uma função qualquer.\n",
    "- Colocar um marker e motrar\n",
    "- Explicar plt.show"
   ]
  },
  {
   "cell_type": "code",
   "execution_count": null,
   "id": "dda77536-e0ff-431a-b8fd-37ad6b3d5cf4",
   "metadata": {},
   "outputs": [],
   "source": []
  },
  {
   "cell_type": "markdown",
   "id": "62357766-e05a-4f56-ace0-cccb9381e3ed",
   "metadata": {},
   "source": [
    "- Explicar densidade de pontos"
   ]
  },
  {
   "cell_type": "code",
   "execution_count": null,
   "id": "d73ccf1e-941c-41dc-b9e9-c577f03bb6e7",
   "metadata": {},
   "outputs": [],
   "source": []
  },
  {
   "cell_type": "markdown",
   "id": "10696219-168a-4ccd-bb77-0a35a9729dc4",
   "metadata": {},
   "source": [
    "- explicar que cada método tem os seus parâmetros.\n",
    "- explicar que podemos setar o tamanho do canvas.\n",
    "- explicar que podemos ter diferentes gráficos em um mesmo axis.\n",
    "- explicar legend."
   ]
  },
  {
   "cell_type": "code",
   "execution_count": null,
   "id": "ffb8da92-85cc-44a8-a3e7-cb85aec77597",
   "metadata": {},
   "outputs": [],
   "source": []
  },
  {
   "cell_type": "markdown",
   "id": "65928da7-45b7-4f78-86f0-da4d1ef2e371",
   "metadata": {},
   "source": [
    "- explicar diferentes axis em um mesmo canvas."
   ]
  },
  {
   "cell_type": "code",
   "execution_count": null,
   "id": "864d444f-b48b-4f53-8aec-2c50a62d74cf",
   "metadata": {},
   "outputs": [],
   "source": []
  },
  {
   "cell_type": "markdown",
   "id": "87de74ee-3dac-4cda-8aac-12973693970b",
   "metadata": {},
   "source": [
    "- explicar axis label\n",
    "- explicar title\n",
    "- explicar tight_layout\n",
    "- explicar limites dos axis (set_xlim....) "
   ]
  },
  {
   "cell_type": "code",
   "execution_count": null,
   "id": "be83ca9a-52c1-4f14-ac40-392050f45a4b",
   "metadata": {},
   "outputs": [],
   "source": []
  },
  {
   "cell_type": "markdown",
   "id": "9666a6c5-5553-49a3-8f2f-818351da8394",
   "metadata": {
    "tags": []
   },
   "source": [
    "\n",
    "## **Exercicios** "
   ]
  },
  {
   "cell_type": "markdown",
   "id": "f712d8a9-330f-4964-8f62-8d5c1f9de0da",
   "metadata": {
    "tags": []
   },
   "source": [
    "#### 1-)\n",
    "\n",
    "Reproduza o seguinte gráfico (arquivo: exercise1.png).\n",
    "\n",
    "<center><img src=\"images/exercise1.png\" align=\"center\" width=600/></center>\n",
    "\n",
    "</br>\n",
    "\n",
    "**Dicas** \n",
    "- use a função da biblioteca numpy chamada tanh para o cálculo do gráfico da tangente hiberbólica.\n",
    "- A função relu é definida como f(x) = y, para todo x > 0."
   ]
  },
  {
   "cell_type": "markdown",
   "id": "e905f973-c882-4b56-b07f-0f2c78f88ffd",
   "metadata": {
    "tags": []
   },
   "source": [
    "#### 2-)\n",
    "\n",
    "Reproduza o seguinte gráfico (arquivo: exercise2.png):.\n",
    "\n",
    "<center><img src=\"images/exercise2.png\" align=\"center\" width=600/></center>\n",
    "\n",
    "</br>\n",
    "\n",
    "**Dicas** \n",
    "- A função da sigmoid é $f(x) = \\frac{1}{1 + e^{-x}}$ .\n",
    "- Perceba que as retas em laranja são \"outros\" plots . "
   ]
  },
  {
   "cell_type": "markdown",
   "id": "64f48523-3087-4bd8-9a71-215ef158efb1",
   "metadata": {
    "tags": []
   },
   "source": [
    "---\n",
    "#### 3-)\n",
    "Leia o arquivo ```historical_stocks.csv``` folder **data_exercise** e reproduza o seguinte gráfico (arquivo: exercise3.png)::\n",
    "\n",
    "\n",
    "<center><img src=\"images/exercise3.png\" align=\"center\" width=600/></center>\n",
    "\n",
    "</br>\n",
    "\n",
    "**Dicas** \n",
    "- Será que é tão trabalhoso? Tente fazer uma função.\n",
    "\n",
    " "
   ]
  }
 ],
 "metadata": {
  "kernelspec": {
   "display_name": "venv_stone824",
   "language": "python",
   "name": "venv_stone824"
  },
  "language_info": {
   "codemirror_mode": {
    "name": "ipython",
    "version": 3
   },
   "file_extension": ".py",
   "mimetype": "text/x-python",
   "name": "python",
   "nbconvert_exporter": "python",
   "pygments_lexer": "ipython3",
   "version": "3.7.11"
  }
 },
 "nbformat": 4,
 "nbformat_minor": 5
}
