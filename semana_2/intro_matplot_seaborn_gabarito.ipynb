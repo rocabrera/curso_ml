{
 "cells": [
  {
   "cell_type": "markdown",
   "id": "7bd60d6e-6a96-40dd-9581-58ffcae364d4",
   "metadata": {},
   "source": [
    "# **Introdução a visualização de dados**"
   ]
  },
  {
   "cell_type": "markdown",
   "id": "a28932f0-52c7-4548-89b0-741669d6d04c",
   "metadata": {},
   "source": [
    "Visualizção de dados é uma área da ciência de dados por si só, muitas vezes é chamada de dataviz, e é de enorme importância para que um projeto seja bem sucedido e bem comunicado!\n",
    "\n",
    "Além disso, a habilidade de visualizar os dados ajuda muito no processo de EDA, do inglês *exploratory data analysis*, como discutimos anteriormente, afinal, representações visuais dos dados sempre são mais simples e intuitivas de serem interpretadas!\n",
    "\n",
    "Então, os principais objetivos do dataviz são:\n",
    "\n",
    "    Auxiliar na EDA;\n",
    "    Auxiliar na apresentação de resultados.\n",
    "\n",
    "Vamos agora aprender algumas ferramentas de dataviz!"
   ]
  },
  {
   "cell_type": "code",
   "execution_count": 1,
   "id": "8a75a18d-482d-41f3-b2ed-d70f9eeef7a8",
   "metadata": {},
   "outputs": [],
   "source": [
    "import numpy as np\n",
    "import seaborn as sns\n",
    "import matplotlib.pyplot as plt"
   ]
  },
  {
   "cell_type": "markdown",
   "id": "b6655d43-6738-4688-aa45-dec16b5445c5",
   "metadata": {},
   "source": [
    "O **matplotlib** é a biblioteca mais fundamental para a geração de figuras e gráficos em Python. Ela permite a geração de diferentes tipos de gráfico, como gráficos de linha, de barras, de pizza, de dispersão e histogramas.\n",
    "\n",
    "Além disso, a matplotlib permite personalizar os gráficos de diversas maneiras, acrescentando múltiplas fontes de dados, trocando cor, formato dos marcadores ou gerando diversos gráficos na mesma imagem.\n",
    "\n",
    "--- \n",
    "\n",
    "O gráfico escolhido depende do que quer ser mostrado/enfatizado e das variáveis disponíveis. No momento vamos focar em como fazer os gráficos simples."
   ]
  },
  {
   "cell_type": "markdown",
   "id": "0173ed3b-2aae-4850-ac79-1effd7128860",
   "metadata": {},
   "source": [
    "### **Gráfico de linha** "
   ]
  },
  {
   "cell_type": "markdown",
   "id": "2016aa2a-7737-45f6-afe7-37cfb22c7ba2",
   "metadata": {},
   "source": [
    "- explicar [canvas](https://matplotlib.org/stable/tutorials/intermediate/artists.html)"
   ]
  },
  {
   "cell_type": "code",
   "execution_count": null,
   "id": "65443227-91e6-4443-9f86-ab49daa5ab84",
   "metadata": {},
   "outputs": [],
   "source": [
    "fig, ax = plt.subplots()"
   ]
  },
  {
   "cell_type": "markdown",
   "id": "6feb7a3e-9f7c-4a04-8153-bd582e4ca38b",
   "metadata": {},
   "source": [
    "- Mostrar gráfico de uma função qualquer.\n",
    "- Colocar um marker e motrar\n",
    "- Explicar plt.show"
   ]
  },
  {
   "cell_type": "code",
   "execution_count": null,
   "id": "dda77536-e0ff-431a-b8fd-37ad6b3d5cf4",
   "metadata": {},
   "outputs": [],
   "source": [
    "fig, ax = plt.subplots()\n",
    "\n",
    "# plot da função x^2, com x de 1 a 5\n",
    "pontos_x = [1, 2, 3, 4, 5]\n",
    "# y = x^2\n",
    "pontos_y = [1, 4, 9, 16, 25]\n",
    "\n",
    "\n",
    "# função que faz o plot dos pontos\n",
    "# argumentos: x, y, marcador (opcional)\n",
    "f = ax.plot(pontos_x, pontos_y, marker=\"o\")"
   ]
  },
  {
   "cell_type": "markdown",
   "id": "62357766-e05a-4f56-ace0-cccb9381e3ed",
   "metadata": {},
   "source": [
    "- Explicar densidade de pontos"
   ]
  },
  {
   "cell_type": "code",
   "execution_count": null,
   "id": "d73ccf1e-941c-41dc-b9e9-c577f03bb6e7",
   "metadata": {},
   "outputs": [],
   "source": [
    "fig, ax = plt.subplots()\n",
    "\n",
    "# array com 20 pontos igualmente espaçados entre 1 e 5\n",
    "pontos_x = [i for i in range(100)]\n",
    "\n",
    "# y = x^2\n",
    "pontos_y = [i**2 for i in pontos_x]\n",
    "\n",
    "ax.plot(pontos_x, pontos_y, marker=\"o\")\n",
    "plt.show()"
   ]
  },
  {
   "cell_type": "markdown",
   "id": "10696219-168a-4ccd-bb77-0a35a9729dc4",
   "metadata": {},
   "source": [
    "- explicar que cada método tem os seus parâmetros\n",
    "- explicar que podemos setar o tamanho do canvas\n",
    "- explicar que podemos ter diferentes gráficos em um mesmo axis\n",
    "- explicar legend"
   ]
  },
  {
   "cell_type": "code",
   "execution_count": null,
   "id": "ffb8da92-85cc-44a8-a3e7-cb85aec77597",
   "metadata": {},
   "outputs": [],
   "source": [
    "fig, ax = plt.subplots(figsize=(12,4))\n",
    "\n",
    "# array com 20 pontos igualmente espaçados entre 1 e 5\n",
    "pontos_x = [i for i in range(100)]\n",
    "# y = x^2\n",
    "pontos_y = [i**2 for i in pontos_x]\n",
    "ax.plot(pontos_x, pontos_y, linestyle=\"--\", color=\"green\", linewidth=2.5, label=\"ola\")\n",
    "\n",
    "pontos_y2 = [4*i**2 + 2*i - 1000 for i in pontos_x]\n",
    "ax.plot(pontos_x, pontos_y2, linestyle=\"-\", color=\"red\", linewidth=1.5, label=\"limao\")\n",
    "\n",
    "plt.legend()\n",
    "plt.show()"
   ]
  },
  {
   "cell_type": "markdown",
   "id": "65928da7-45b7-4f78-86f0-da4d1ef2e371",
   "metadata": {},
   "source": [
    "- explicar diferentes axis em um mesmo canvas"
   ]
  },
  {
   "cell_type": "code",
   "execution_count": null,
   "id": "2c56cc14-96d2-4745-8200-3693321a7746",
   "metadata": {},
   "outputs": [],
   "source": [
    "fig, ax = plt.subplots(1,2, figsize=(12,4))\n",
    "\n",
    "# array com 20 pontos igualmente espaçados entre 1 e 5\n",
    "pontos_x = [i for i in range(100)]\n",
    "\n",
    "# y = x^2\n",
    "pontos_y = [i**2 for i in range(100)]\n",
    "\n",
    "ax[1].plot(pontos_x, pontos_y, linestyle=\"--\", color=\"green\", linewidth=2.5)\n",
    "plt.show()"
   ]
  },
  {
   "cell_type": "code",
   "execution_count": null,
   "id": "ff4b0b1f-3790-43a6-b4b6-1dcf5b0a2a7f",
   "metadata": {},
   "outputs": [],
   "source": [
    "fig, ax = plt.subplots(2,2, figsize=(12,4))\n",
    "\n",
    "# array com 20 pontos igualmente espaçados entre 1 e 5\n",
    "pontos_x = [i for i in range(100)]\n",
    "# y = x^2\n",
    "pontos_y = [i**2 for i in range(100)]\n",
    "\n",
    "ax[1,0].plot(pontos_x, pontos_y, linestyle=\"--\", color=\"green\", linewidth=2.5)\n",
    "ax[0,1].plot(pontos_x, pontos_y, linestyle=\":\", color=\"red\", linewidth=5.5)\n",
    "\n",
    "plt.show()"
   ]
  },
  {
   "cell_type": "markdown",
   "id": "87de74ee-3dac-4cda-8aac-12973693970b",
   "metadata": {},
   "source": [
    "- explicar axis label\n",
    "- explicar title\n",
    "- explicar tight_layout\n",
    "- explicar limites dos axis (set_xlim....) "
   ]
  },
  {
   "cell_type": "code",
   "execution_count": 2,
   "id": "4f934879-7042-4dfb-b482-c454f6fa0ac3",
   "metadata": {},
   "outputs": [
    {
     "data": {
      "image/png": "[encoded data removed]",
      "text/plain": [
       "<Figure size 864x288 with 4 Axes>"
      ]
     },
     "metadata": {
      "needs_background": "light"
     },
     "output_type": "display_data"
    }
   ],
   "source": [
    "fig, ax = plt.subplots(2,2, figsize=(12,4))\n",
    "\n",
    "# array com 20 pontos igualmente espaçados entre 1 e 5\n",
    "pontos_x = [i for i in range(100)]\n",
    "# y = x^2\n",
    "pontos_y = [i**2 for i in range(100)]\n",
    "\n",
    "ax[1,0].plot(pontos_x, pontos_y, linestyle=\"--\", color=\"green\", linewidth=2.5)\n",
    "ax[0,1].plot(pontos_x, pontos_y, linestyle=\":\", color=\"red\", linewidth=5.5)\n",
    "\n",
    "ax[0,1].set_xlabel(\"teste2\")\n",
    "ax[1,0].set_xlabel(\"teste1\")\n",
    "\n",
    "ax[0,1].set_ylabel(\"testey2\")\n",
    "ax[1,0].set_ylabel(\"testey1\")\n",
    "\n",
    "# ax[0,1].set_title(\"title2\")\n",
    "# ax[1,0].set_title(\"title1\")\n",
    "\n",
    "plt.suptitle(\"Supertitulo\")\n",
    "# plt.tight_layout()\n",
    "plt.show()"
   ]
  },
  {
   "cell_type": "markdown",
   "id": "9666a6c5-5553-49a3-8f2f-818351da8394",
   "metadata": {},
   "source": [
    "\n",
    "## **Exercicios** "
   ]
  },
  {
   "cell_type": "markdown",
   "id": "f712d8a9-330f-4964-8f62-8d5c1f9de0da",
   "metadata": {
    "tags": []
   },
   "source": [
    "#### 1-)\n",
    "\n",
    "Reproduza o seguinte gráfico.\n",
    "\n",
    "<center><img src=\"images/exercise1.png\" align=\"center\" width=600/></center>\n",
    "\n",
    "</br>\n",
    "\n",
    "**Dicas** \n",
    "- use a função da biblioteca numpy chamada tanh para o cálculo do gráfico da tangente hiberbólica.\n",
    "- A função relu é definida como f(x) = y, para todo x > 0."
   ]
  },
  {
   "cell_type": "markdown",
   "id": "7eb24b66-5028-4502-874e-ad870b911f9c",
   "metadata": {
    "jp-MarkdownHeadingCollapsed": true,
    "tags": []
   },
   "source": [
    "Resposta\n",
    "```python\n",
    "fig, axs = plt.subplots(1,2, figsize=(12,6))\n",
    "\n",
    "# array com 20 pontos igualmente espaçados entre 1 e 5\n",
    "x = [i for i in range(-100, 100)]\n",
    "# y = x^2\n",
    "relu = [i if i>0 else 0 for i in x]\n",
    "\n",
    "tang_hiberbolica = [np.tanh(i) for i in x]\n",
    "\n",
    "axs[0].plot(x, relu, linestyle=\"--\", color=\"green\", linewidth=1)\n",
    "axs[0].set_xlabel(\"x\")\n",
    "axs[0].set_ylabel(\"y\")\n",
    "axs[0].set_title(\"Função de ativação Relu\")\n",
    "\n",
    "\n",
    "x = [i for i in range(-100, 100)]\n",
    "# y = x^2\n",
    "relu = [i if i>0 else 0 for i in x]\n",
    "axs[1].plot(x, tang_hiberbolica, linestyle=\"--\", color=\"red\", linewidth=1)\n",
    "axs[1].set_xlabel(\"x\",fontsize=16)\n",
    "axs[1].set_ylabel(\"y\",fontsize=16)\n",
    "axs[1].set_title(\"Função de ativação Tangente hiberbólica\")\n",
    "axs[1].set_xlim([-10,10])\n",
    "\n",
    "plt.suptitle(\"Funções de ativação\", fontsize=20)\n",
    "plt.tight_layout()\n",
    "\n",
    "plt.show()\n",
    "```"
   ]
  },
  {
   "cell_type": "markdown",
   "id": "64f48523-3087-4bd8-9a71-215ef158efb1",
   "metadata": {},
   "source": [
    "---\n",
    "#### 3-)\n",
    "Leia o arquivo ```historical_stocks.csv``` folder **data_exercise** e reproduza o seguinte gráfico:\n",
    "\n",
    "\n",
    "<center><img src=\"images/exercise3.png\" align=\"center\" width=600/></center>\n",
    "\n",
    "</br>\n",
    "\n",
    "**Dicas** \n",
    "- Será que é tão trabalhoso? Tente fazer uma função.\n",
    "\n",
    " "
   ]
  },
  {
   "cell_type": "markdown",
   "id": "4c96198e-0a22-4455-9410-5891f1e16fff",
   "metadata": {},
   "source": [
    "Resposta: \n",
    "\n",
    "```python\n",
    "import pandas as pd\n",
    "\n",
    "df = pd.read_csv(\"data_exercise/historical_stocks.csv\")\n",
    "\n",
    "fig, axs = plt.subplots(4,2, figsize=(14,10))\n",
    "\n",
    "for ax, stock in zip(axs.flatten(), df.columns):\n",
    "    ax.plot(df.loc[:,stock], color=\"black\")\n",
    "    ax.set_title(stock, fontsize=18)\n",
    "    ax.set_xlabel(\"x\")\n",
    "    ax.set_ylabel(\"y\")\n",
    "\n",
    "plt.suptitle(\"Ações da bolsa\")\n",
    "plt.tight_layout()\n",
    "plt.savefig('exercise3.png', facecolor='w')\n",
    "plt.show()\n",
    "```"
   ]
  },
  {
   "cell_type": "markdown",
   "id": "a4952b5d-1cf4-4692-8486-2ae35108f4c9",
   "metadata": {},
   "source": [
    "2 - Leia o arquivo na pasta **data_exercise** chamado ```historical_stocks.csv``` e faça a seguinte imagem:"
   ]
  },
  {
   "cell_type": "code",
   "execution_count": null,
   "id": "cf319f94-23fe-4dbe-9f3d-432f4d999f36",
   "metadata": {},
   "outputs": [],
   "source": [
    "import pandas as pd"
   ]
  },
  {
   "cell_type": "code",
   "execution_count": null,
   "id": "36f0f1f9-da1f-4887-8885-cf69d00d5917",
   "metadata": {},
   "outputs": [],
   "source": [
    "df = pd.read_csv(\"data_exercise/historical_stocks.csv\")"
   ]
  },
  {
   "cell_type": "code",
   "execution_count": null,
   "id": "ec8914d3-ca7c-428e-8517-e440ff4d7bca",
   "metadata": {},
   "outputs": [],
   "source": [
    "len(df.columns)\n",
    "    "
   ]
  },
  {
   "cell_type": "code",
   "execution_count": null,
   "id": "25be4dc2-9042-4a3f-a412-d96f594b34a3",
   "metadata": {},
   "outputs": [],
   "source": [
    "fig, axs = plt.subplots(4,2, figsize=(12,6))\n"
   ]
  }
 ],
 "metadata": {
  "kernelspec": {
   "display_name": "venv_playground",
   "language": "python",
   "name": "venv_playground"
  },
  "language_info": {
   "codemirror_mode": {
    "name": "ipython",
    "version": 3
   },
   "file_extension": ".py",
   "mimetype": "text/x-python",
   "name": "python",
   "nbconvert_exporter": "python",
   "pygments_lexer": "ipython3",
   "version": "3.9.9"
  }
 },
 "nbformat": 4,
 "nbformat_minor": 5
}
